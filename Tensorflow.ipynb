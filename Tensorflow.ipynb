{
  "nbformat": 4,
  "nbformat_minor": 0,
  "metadata": {
    "colab": {
      "name": "Tensorflow.ipynb",
      "version": "0.3.2",
      "views": {},
      "default_view": {},
      "provenance": []
    },
    "kernelspec": {
      "name": "python3",
      "display_name": "Python 3"
    }
  },
  "cells": [
    {
      "metadata": {
        "id": "sSn__yNg68-L",
        "colab_type": "text"
      },
      "cell_type": "markdown",
      "source": [
        "# Constants and Sessions"
      ]
    },
    {
      "metadata": {
        "id": "XWlJwuEehi6c",
        "colab_type": "code",
        "colab": {
          "autoexec": {
            "startup": false,
            "wait_interval": 0
          }
        }
      },
      "cell_type": "code",
      "source": [
        "import tensorflow as tf"
      ],
      "execution_count": 0,
      "outputs": []
    },
    {
      "metadata": {
        "id": "q8H36mD2hokk",
        "colab_type": "code",
        "colab": {
          "autoexec": {
            "startup": false,
            "wait_interval": 0
          }
        }
      },
      "cell_type": "code",
      "source": [
        "a1 = tf.constant([4,3,2,1])\n",
        "a2 = tf.constant([1,3,4,7])"
      ],
      "execution_count": 0,
      "outputs": []
    },
    {
      "metadata": {
        "id": "UfmpS5aThuBK",
        "colab_type": "code",
        "colab": {
          "autoexec": {
            "startup": false,
            "wait_interval": 0
          }
        }
      },
      "cell_type": "code",
      "source": [
        "res = tf.multiply(a1, a2)"
      ],
      "execution_count": 0,
      "outputs": []
    },
    {
      "metadata": {
        "id": "bra5PNN7h_9R",
        "colab_type": "code",
        "colab": {
          "autoexec": {
            "startup": false,
            "wait_interval": 0
          }
        }
      },
      "cell_type": "code",
      "source": [
        "sess = tf.Session()"
      ],
      "execution_count": 0,
      "outputs": []
    },
    {
      "metadata": {
        "id": "fpnO9SXdiC7x",
        "colab_type": "code",
        "colab": {
          "autoexec": {
            "startup": false,
            "wait_interval": 0
          },
          "base_uri": "https://localhost:8080/",
          "height": 34
        },
        "outputId": "58d6ddb9-a93b-4bd6-dce9-a468b4a34b19",
        "executionInfo": {
          "status": "ok",
          "timestamp": 1525930277849,
          "user_tz": -330,
          "elapsed": 1028,
          "user": {
            "displayName": "Praveen Ganeshan",
            "photoUrl": "//lh6.googleusercontent.com/-QmspgRZUp3M/AAAAAAAAAAI/AAAAAAAAAN0/JZIoVZouLiM/s50-c-k-no/photo.jpg",
            "userId": "115281149458293297578"
          }
        }
      },
      "cell_type": "code",
      "source": [
        "print(sess.run(res))"
      ],
      "execution_count": 6,
      "outputs": [
        {
          "output_type": "stream",
          "text": [
            "[4 9 8 7]\n"
          ],
          "name": "stdout"
        }
      ]
    },
    {
      "metadata": {
        "id": "HDjBYdNtiFyR",
        "colab_type": "code",
        "colab": {
          "autoexec": {
            "startup": false,
            "wait_interval": 0
          }
        }
      },
      "cell_type": "code",
      "source": [
        "sess.close()"
      ],
      "execution_count": 0,
      "outputs": []
    },
    {
      "metadata": {
        "id": "WjVESVBP7EXJ",
        "colab_type": "text"
      },
      "cell_type": "markdown",
      "source": [
        "# Handling Session Efficiently"
      ]
    },
    {
      "metadata": {
        "id": "2xFo8ai2iRrL",
        "colab_type": "code",
        "colab": {
          "autoexec": {
            "startup": false,
            "wait_interval": 0
          },
          "base_uri": "https://localhost:8080/",
          "height": 34
        },
        "outputId": "72ae39a1-c6fd-4010-dd79-081b1bc9e6cf",
        "executionInfo": {
          "status": "ok",
          "timestamp": 1525930381470,
          "user_tz": -330,
          "elapsed": 515,
          "user": {
            "displayName": "Praveen Ganeshan",
            "photoUrl": "//lh6.googleusercontent.com/-QmspgRZUp3M/AAAAAAAAAAI/AAAAAAAAAN0/JZIoVZouLiM/s50-c-k-no/photo.jpg",
            "userId": "115281149458293297578"
          }
        }
      },
      "cell_type": "code",
      "source": [
        "with tf.Session() as sess:\n",
        "  finalOutput = sess.run(res)\n",
        "  print(finalOutput)\n"
      ],
      "execution_count": 8,
      "outputs": [
        {
          "output_type": "stream",
          "text": [
            "[4 9 8 7]\n"
          ],
          "name": "stdout"
        }
      ]
    },
    {
      "metadata": {
        "id": "PIdr9xgsjMis",
        "colab_type": "text"
      },
      "cell_type": "markdown",
      "source": [
        "# Constants Structure\n",
        "\n",
        "Constants are created using the **constant()** function.\n",
        "\n",
        "constant(**value**, ***dtype***=None, ***shape***=None, ***name***='Const', ***verify_shape***=False)\n",
        "\n",
        "\n",
        "1.   value - Can take any assigned value\n",
        "2.   dtype - Data Type (float / integer)\n",
        "3.   shape - this is optional , it takes the dimensions\n",
        "4.   name - can assign any name to the constant\n",
        "5.   verify_shape - another optional parameter that verifies the dimension of the constant.\n"
      ]
    },
    {
      "metadata": {
        "id": "TUnkVcL5jGqQ",
        "colab_type": "code",
        "colab": {
          "autoexec": {
            "startup": false,
            "wait_interval": 0
          }
        }
      },
      "cell_type": "code",
      "source": [
        "x = tf.constant(42, name=\"a\", dtype=tf.float32)"
      ],
      "execution_count": 0,
      "outputs": []
    },
    {
      "metadata": {
        "id": "gD6dmo1ukJIo",
        "colab_type": "text"
      },
      "cell_type": "markdown",
      "source": [
        "# Variables\n",
        "\n",
        "In TensorFlow all the variables are in-memory buffers that have tensors. These tensors require initialization to be consumed in the data flow graph.\n",
        "\n",
        "\n",
        "1.   Variables become a part of the graph by calling the **variable()** construct.\n",
        "2.   They are used to keep and update the parameters used in the models.\n"
      ]
    },
    {
      "metadata": {
        "id": "0o29rykyko6t",
        "colab_type": "code",
        "colab": {
          "autoexec": {
            "startup": false,
            "wait_interval": 0
          }
        }
      },
      "cell_type": "code",
      "source": [
        "a = tf.Variable(tf.zeros([5]), name=\"a\")\n",
        "z = tf.Variable(tf.add(x,a), trainable=False)"
      ],
      "execution_count": 0,
      "outputs": []
    },
    {
      "metadata": {
        "id": "7tpYX9INk-U_",
        "colab_type": "text"
      },
      "cell_type": "markdown",
      "source": [
        "# Placeholders\n",
        "\n",
        "Placeholders are values that are initially unassigned but get initialized when the session is invoked.\n",
        "\n",
        "\n",
        "*   The main use of placeholders is they allow the creation of operations and the computational graph sans needing to provide the data before that.\n",
        "*   The required data can be added during the actual runtime from any external sources.\n",
        "\n",
        "placeholder(**dtype**, ***shape***=None, ***name***=None)\n",
        "\n"
      ]
    },
    {
      "metadata": {
        "id": "dCGbyTW2nUmd",
        "colab_type": "text"
      },
      "cell_type": "markdown",
      "source": [
        "# HandOn for Tensor matrix operation\n",
        "\n",
        "Using numpy initialize two matrix with values **[1,3,4],[3,5,3],[4,5,3]** and **[2,5,7],[3,6,8],[2,6,9]** as **matrix1** and **matrix2** respectively"
      ]
    },
    {
      "metadata": {
        "id": "9uu6_61KnUDu",
        "colab_type": "code",
        "colab": {
          "autoexec": {
            "startup": false,
            "wait_interval": 0
          }
        }
      },
      "cell_type": "code",
      "source": [
        "import numpy as np\n",
        "\n",
        "matrix1 = np.array([[1,3,4],[3,5,3],[4,5,3]])\n",
        "matrix2 = np.array([[2,5,7],[3,6,8],[2,6,9]])"
      ],
      "execution_count": 0,
      "outputs": []
    },
    {
      "metadata": {
        "id": "OH19DbCJn5N1",
        "colab_type": "text"
      },
      "cell_type": "markdown",
      "source": [
        "covert **matrix1** and **matrix2** to tensorflow object and call them as **tf_mat1** and **tf_mat2**, make sure to specify datatype as \"**float64**\""
      ]
    },
    {
      "metadata": {
        "id": "43ZWCFdon4If",
        "colab_type": "code",
        "colab": {
          "autoexec": {
            "startup": false,
            "wait_interval": 0
          }
        }
      },
      "cell_type": "code",
      "source": [
        "tf_mat1 = tf.constant(matrix1,dtype=tf.float64)\n",
        "tf_mat2 = tf.constant(matrix2,dtype=tf.float64)"
      ],
      "execution_count": 0,
      "outputs": []
    },
    {
      "metadata": {
        "id": "Unw9t3lLwIvQ",
        "colab_type": "text"
      },
      "cell_type": "markdown",
      "source": [
        "initilise tensorflow variables **a** and **b** with matrix **tf_mat1** and **tf_mat2** respectively. Also **initialize all the variables** before performing the operation.(using** initialize_all_variables()**)"
      ]
    },
    {
      "metadata": {
        "id": "SzbavKiowigt",
        "colab_type": "code",
        "colab": {
          "autoexec": {
            "startup": false,
            "wait_interval": 0
          }
        }
      },
      "cell_type": "code",
      "source": [
        "a = tf.Variable(tf_mat1)\n",
        "b = tf.Variable(tf_mat2)\n",
        "init = tf.global_variables_initializer() # warning comes when using initialize_all_variables"
      ],
      "execution_count": 0,
      "outputs": []
    },
    {
      "metadata": {
        "id": "EDYFxL2hxN_k",
        "colab_type": "text"
      },
      "cell_type": "markdown",
      "source": [
        "Perform elementwise **matrix multiplication** on **a**, b **bold text** and assign it to **final_mat1** variable"
      ]
    },
    {
      "metadata": {
        "id": "xDed1XsZxSWk",
        "colab_type": "code",
        "colab": {
          "autoexec": {
            "startup": false,
            "wait_interval": 0
          }
        }
      },
      "cell_type": "code",
      "source": [
        "final_mat1 = tf.multiply(a,b)\n",
        "determinant1 = tf.matrix_determinant(final_mat1)\n"
      ],
      "execution_count": 0,
      "outputs": []
    },
    {
      "metadata": {
        "id": "P9NQXVXAyXRZ",
        "colab_type": "text"
      },
      "cell_type": "markdown",
      "source": [
        "Perform **dot product** on matrix** a**, and transpose of** b **"
      ]
    },
    {
      "metadata": {
        "id": "fqh_ksOUyc7I",
        "colab_type": "code",
        "colab": {
          "autoexec": {
            "startup": false,
            "wait_interval": 0
          }
        }
      },
      "cell_type": "code",
      "source": [
        "b_inv = tf.transpose(b)\n",
        "final_mat2 = tf.matmul(a,b_inv)\n",
        "determinant2 = tf.matrix_determinant(final_mat2)"
      ],
      "execution_count": 0,
      "outputs": []
    },
    {
      "metadata": {
        "id": "FkTBNVZ4y5B3",
        "colab_type": "text"
      },
      "cell_type": "markdown",
      "source": [
        "Final Exceution tensorflow using session"
      ]
    },
    {
      "metadata": {
        "id": "W2eD44sVy-57",
        "colab_type": "code",
        "colab": {
          "autoexec": {
            "startup": false,
            "wait_interval": 0
          },
          "base_uri": "https://localhost:8080/",
          "height": 170
        },
        "outputId": "5329f110-e3f9-4808-b7bf-d70c0293e1e0",
        "executionInfo": {
          "status": "ok",
          "timestamp": 1525934936004,
          "user_tz": -330,
          "elapsed": 851,
          "user": {
            "displayName": "Praveen Ganeshan",
            "photoUrl": "//lh6.googleusercontent.com/-QmspgRZUp3M/AAAAAAAAAAI/AAAAAAAAAN0/JZIoVZouLiM/s50-c-k-no/photo.jpg",
            "userId": "115281149458293297578"
          }
        }
      },
      "cell_type": "code",
      "source": [
        "with tf.Session() as sess:\n",
        "    sess.run(init)\n",
        "    print(\"elementwise matrix multiplication \", sess.run(final_mat1))\n",
        "    print(\"dot product \", sess.run(final_mat2))\n",
        "    print(\"determinant1 %f\\n\" % sess.run(determinant1))\n",
        "    print(\"determinant2 %f\" % sess.run(determinant2))    "
      ],
      "execution_count": 22,
      "outputs": [
        {
          "output_type": "stream",
          "text": [
            "elementwise matrix multiplication  [[ 2. 15. 28.]\n",
            " [ 9. 30. 24.]\n",
            " [ 8. 30. 27.]]\n",
            "dot product  [[45. 53. 56.]\n",
            " [52. 63. 63.]\n",
            " [54. 66. 65.]]\n",
            "determinant1 255.000000\n",
            "\n",
            "determinant2 11.000000\n"
          ],
          "name": "stdout"
        }
      ]
    },
    {
      "metadata": {
        "id": "dDI_Dh7b60Go",
        "colab_type": "text"
      },
      "cell_type": "markdown",
      "source": [
        "# Tensor Parameters\n",
        "Any tensor can be identified with the help of the following three parameters:\n",
        "\n",
        "\n",
        "*   **Rank**: This specifies the number of dimensions of the tensor.\n",
        "*   **Shape**: The number of rows and columns in a tensor.\n",
        "*   **Type**: The datatype that is carried by the tensor.\n",
        "\n",
        "Tensors can be built using NumPy arrays and can be converted into a tensor object."
      ]
    },
    {
      "metadata": {
        "id": "dK2cOBCw8YcB",
        "colab_type": "text"
      },
      "cell_type": "markdown",
      "source": [
        "# Tensors convertion from NumPy arrays\n",
        "\n",
        "### 1D tensors can be built in the following manner:"
      ]
    },
    {
      "metadata": {
        "id": "J2UPEn1N79IL",
        "colab_type": "code",
        "colab": {
          "autoexec": {
            "startup": false,
            "wait_interval": 0
          },
          "base_uri": "https://localhost:8080/",
          "height": 34
        },
        "outputId": "76dc4886-0acd-4f6f-9c5c-b0c05f9ac08a",
        "executionInfo": {
          "status": "ok",
          "timestamp": 1525937119436,
          "user_tz": -330,
          "elapsed": 885,
          "user": {
            "displayName": "Praveen Ganeshan",
            "photoUrl": "//lh6.googleusercontent.com/-QmspgRZUp3M/AAAAAAAAAAI/AAAAAAAAAN0/JZIoVZouLiM/s50-c-k-no/photo.jpg",
            "userId": "115281149458293297578"
          }
        }
      },
      "cell_type": "code",
      "source": [
        "tensor_1d = np.array([1,2,3,4,5])\n",
        "\n",
        "print (tensor_1d)\n"
      ],
      "execution_count": 25,
      "outputs": [
        {
          "output_type": "stream",
          "text": [
            "[1 2 3 4 5]\n"
          ],
          "name": "stdout"
        }
      ]
    },
    {
      "metadata": {
        "id": "wiNn7kci8awS",
        "colab_type": "text"
      },
      "cell_type": "markdown",
      "source": [
        "### Getting the Dimensions:"
      ]
    },
    {
      "metadata": {
        "id": "abK3wDSn8K3X",
        "colab_type": "code",
        "colab": {
          "autoexec": {
            "startup": false,
            "wait_interval": 0
          },
          "base_uri": "https://localhost:8080/",
          "height": 34
        },
        "outputId": "35e6360e-7465-4a10-c0bd-8d1b49e02ddb",
        "executionInfo": {
          "status": "ok",
          "timestamp": 1525937133473,
          "user_tz": -330,
          "elapsed": 841,
          "user": {
            "displayName": "Praveen Ganeshan",
            "photoUrl": "//lh6.googleusercontent.com/-QmspgRZUp3M/AAAAAAAAAAI/AAAAAAAAAN0/JZIoVZouLiM/s50-c-k-no/photo.jpg",
            "userId": "115281149458293297578"
          }
        }
      },
      "cell_type": "code",
      "source": [
        "print (tensor_1d.ndim)"
      ],
      "execution_count": 26,
      "outputs": [
        {
          "output_type": "stream",
          "text": [
            "1\n"
          ],
          "name": "stdout"
        }
      ]
    },
    {
      "metadata": {
        "id": "3c4yFAtU8fev",
        "colab_type": "text"
      },
      "cell_type": "markdown",
      "source": [
        "### Getting the Shape:"
      ]
    },
    {
      "metadata": {
        "id": "uSvWHrUK8N7z",
        "colab_type": "code",
        "colab": {
          "autoexec": {
            "startup": false,
            "wait_interval": 0
          },
          "base_uri": "https://localhost:8080/",
          "height": 34
        },
        "outputId": "4c46bcbf-9a8a-41aa-efc9-1b59e9dcc29d",
        "executionInfo": {
          "status": "ok",
          "timestamp": 1525937144204,
          "user_tz": -330,
          "elapsed": 872,
          "user": {
            "displayName": "Praveen Ganeshan",
            "photoUrl": "//lh6.googleusercontent.com/-QmspgRZUp3M/AAAAAAAAAAI/AAAAAAAAAN0/JZIoVZouLiM/s50-c-k-no/photo.jpg",
            "userId": "115281149458293297578"
          }
        }
      },
      "cell_type": "code",
      "source": [
        "print (tensor_1d.shape)"
      ],
      "execution_count": 27,
      "outputs": [
        {
          "output_type": "stream",
          "text": [
            "(5,)\n"
          ],
          "name": "stdout"
        }
      ]
    },
    {
      "metadata": {
        "id": "OWcU_fwx8qxE",
        "colab_type": "text"
      },
      "cell_type": "markdown",
      "source": [
        "### Getting the Data Type"
      ]
    },
    {
      "metadata": {
        "id": "9niLFNgc8UXR",
        "colab_type": "code",
        "colab": {
          "autoexec": {
            "startup": false,
            "wait_interval": 0
          },
          "base_uri": "https://localhost:8080/",
          "height": 34
        },
        "outputId": "bdbe6eb7-bd23-483e-e1c3-b287549dd708",
        "executionInfo": {
          "status": "ok",
          "timestamp": 1525937164651,
          "user_tz": -330,
          "elapsed": 857,
          "user": {
            "displayName": "Praveen Ganeshan",
            "photoUrl": "//lh6.googleusercontent.com/-QmspgRZUp3M/AAAAAAAAAAI/AAAAAAAAAN0/JZIoVZouLiM/s50-c-k-no/photo.jpg",
            "userId": "115281149458293297578"
          }
        }
      },
      "cell_type": "code",
      "source": [
        "print (tensor_1d.dtype)"
      ],
      "execution_count": 28,
      "outputs": [
        {
          "output_type": "stream",
          "text": [
            "int64\n"
          ],
          "name": "stdout"
        }
      ]
    },
    {
      "metadata": {
        "id": "NUMmPPub8zyH",
        "colab_type": "text"
      },
      "cell_type": "markdown",
      "source": [
        "### Convert to Tensors 1D\n",
        "\n",
        "Any NumPy array can be converted to a tensor in the following way."
      ]
    },
    {
      "metadata": {
        "id": "x7TiDXiA832-",
        "colab_type": "code",
        "colab": {
          "autoexec": {
            "startup": false,
            "wait_interval": 0
          },
          "base_uri": "https://localhost:8080/",
          "height": 68
        },
        "outputId": "abff0a64-8fb9-4d9d-b0be-dc392a165733",
        "executionInfo": {
          "status": "ok",
          "timestamp": 1525937372357,
          "user_tz": -330,
          "elapsed": 1759,
          "user": {
            "displayName": "Praveen Ganeshan",
            "photoUrl": "//lh6.googleusercontent.com/-QmspgRZUp3M/AAAAAAAAAAI/AAAAAAAAAN0/JZIoVZouLiM/s50-c-k-no/photo.jpg",
            "userId": "115281149458293297578"
          }
        }
      },
      "cell_type": "code",
      "source": [
        "tensor1d = tf.convert_to_tensor(tensor_1d, dtype=tf.int64)\n",
        "\n",
        "with tf.Session() as session:\n",
        "    print(session.run(tensor1d))\n",
        "    print(session.run(tensor1d[0]))\n",
        "    print(session.run(tensor1d[1]))"
      ],
      "execution_count": 30,
      "outputs": [
        {
          "output_type": "stream",
          "text": [
            "[1 2 3 4 5]\n",
            "1\n",
            "2\n"
          ],
          "name": "stdout"
        }
      ]
    },
    {
      "metadata": {
        "id": "PWleWZW49K4f",
        "colab_type": "text"
      },
      "cell_type": "markdown",
      "source": [
        "### 2D Tensors\n",
        "\n",
        "Creating a 2d array"
      ]
    },
    {
      "metadata": {
        "id": "4ILpBoVq9Mol",
        "colab_type": "code",
        "colab": {
          "autoexec": {
            "startup": false,
            "wait_interval": 0
          },
          "base_uri": "https://localhost:8080/",
          "height": 85
        },
        "outputId": "d9279ee5-3cde-40f4-90cf-13de7323f46f",
        "executionInfo": {
          "status": "ok",
          "timestamp": 1525937434690,
          "user_tz": -330,
          "elapsed": 824,
          "user": {
            "displayName": "Praveen Ganeshan",
            "photoUrl": "//lh6.googleusercontent.com/-QmspgRZUp3M/AAAAAAAAAAI/AAAAAAAAAN0/JZIoVZouLiM/s50-c-k-no/photo.jpg",
            "userId": "115281149458293297578"
          }
        }
      },
      "cell_type": "code",
      "source": [
        "array_2d_1 = np.array(np.arange(16).reshape(4,4), dtype='int32')\n",
        "print(array_2d_1)"
      ],
      "execution_count": 31,
      "outputs": [
        {
          "output_type": "stream",
          "text": [
            "[[ 0  1  2  3]\n",
            " [ 4  5  6  7]\n",
            " [ 8  9 10 11]\n",
            " [12 13 14 15]]\n"
          ],
          "name": "stdout"
        }
      ]
    },
    {
      "metadata": {
        "id": "nFGL71kN9YcC",
        "colab_type": "text"
      },
      "cell_type": "markdown",
      "source": [
        "### Attributes of Array\n",
        "\n",
        "The array has two dimensions."
      ]
    },
    {
      "metadata": {
        "id": "GG9S5ctm9X_E",
        "colab_type": "code",
        "colab": {
          "autoexec": {
            "startup": false,
            "wait_interval": 0
          },
          "base_uri": "https://localhost:8080/",
          "height": 34
        },
        "outputId": "0d735fc2-cb39-40f5-ce77-ae11d8ac2836",
        "executionInfo": {
          "status": "ok",
          "timestamp": 1525937562309,
          "user_tz": -330,
          "elapsed": 1566,
          "user": {
            "displayName": "Praveen Ganeshan",
            "photoUrl": "//lh6.googleusercontent.com/-QmspgRZUp3M/AAAAAAAAAAI/AAAAAAAAAN0/JZIoVZouLiM/s50-c-k-no/photo.jpg",
            "userId": "115281149458293297578"
          }
        }
      },
      "cell_type": "code",
      "source": [
        "print(\"dimensions, rows and columns,The datatype\",array_2d_1.ndim,array_2d_1.shape,array_2d_1.dtype)"
      ],
      "execution_count": 32,
      "outputs": [
        {
          "output_type": "stream",
          "text": [
            "dimensions, rows and columns,The datatype 2 (4, 4) int32\n"
          ],
          "name": "stdout"
        }
      ]
    },
    {
      "metadata": {
        "id": "sMPHJLV99_G7",
        "colab_type": "text"
      },
      "cell_type": "markdown",
      "source": [
        "### Converting to Tensors 2D\n",
        "\n",
        "Converting the 2d array to rank 2 tensor"
      ]
    },
    {
      "metadata": {
        "id": "LB5DWYqi-F2i",
        "colab_type": "code",
        "colab": {
          "autoexec": {
            "startup": false,
            "wait_interval": 0
          },
          "base_uri": "https://localhost:8080/",
          "height": 85
        },
        "outputId": "7b3e0cb0-14d3-434c-d9df-a5a093cd995d",
        "executionInfo": {
          "status": "ok",
          "timestamp": 1525937634690,
          "user_tz": -330,
          "elapsed": 839,
          "user": {
            "displayName": "Praveen Ganeshan",
            "photoUrl": "//lh6.googleusercontent.com/-QmspgRZUp3M/AAAAAAAAAAI/AAAAAAAAAN0/JZIoVZouLiM/s50-c-k-no/photo.jpg",
            "userId": "115281149458293297578"
          }
        }
      },
      "cell_type": "code",
      "source": [
        "tensor_2d_1 = tf.convert_to_tensor(array_2d_1)\n",
        "\n",
        "\n",
        "with tf.Session() as session:\n",
        "    print (session.run(tensor_2d_1))"
      ],
      "execution_count": 33,
      "outputs": [
        {
          "output_type": "stream",
          "text": [
            "[[ 0  1  2  3]\n",
            " [ 4  5  6  7]\n",
            " [ 8  9 10 11]\n",
            " [12 13 14 15]]\n"
          ],
          "name": "stdout"
        }
      ]
    },
    {
      "metadata": {
        "id": "y8saTL0N-MPH",
        "colab_type": "text"
      },
      "cell_type": "markdown",
      "source": [
        "# Matrix Operations with Tensors\n",
        "\n",
        "## Matrix Addition\n",
        "\n",
        "### Initializing the Array"
      ]
    },
    {
      "metadata": {
        "id": "vNrlL_r8-qWM",
        "colab_type": "code",
        "colab": {
          "autoexec": {
            "startup": false,
            "wait_interval": 0
          },
          "base_uri": "https://localhost:8080/",
          "height": 153
        },
        "outputId": "74277d28-72dd-49a8-d9a8-e20843779453",
        "executionInfo": {
          "status": "ok",
          "timestamp": 1525937935234,
          "user_tz": -330,
          "elapsed": 854,
          "user": {
            "displayName": "Praveen Ganeshan",
            "photoUrl": "//lh6.googleusercontent.com/-QmspgRZUp3M/AAAAAAAAAAI/AAAAAAAAAN0/JZIoVZouLiM/s50-c-k-no/photo.jpg",
            "userId": "115281149458293297578"
          }
        }
      },
      "cell_type": "code",
      "source": [
        "array_2d_1 = np.array(np.arange(16).reshape(4,4), dtype='int32')\n",
        "array_2d_2 = np.array(np.arange(16,32).reshape(4,4), dtype='int32')\n",
        "print(array_2d_1)\n",
        "print(array_2d_2)"
      ],
      "execution_count": 38,
      "outputs": [
        {
          "output_type": "stream",
          "text": [
            "[[ 0  1  2  3]\n",
            " [ 4  5  6  7]\n",
            " [ 8  9 10 11]\n",
            " [12 13 14 15]]\n",
            "[[16 17 18 19]\n",
            " [20 21 22 23]\n",
            " [24 25 26 27]\n",
            " [28 29 30 31]]\n"
          ],
          "name": "stdout"
        }
      ]
    },
    {
      "metadata": {
        "id": "b05ZrlcT-25w",
        "colab_type": "text"
      },
      "cell_type": "markdown",
      "source": [
        "### Converting to Tensors"
      ]
    },
    {
      "metadata": {
        "id": "C2-Ih9jy-7u3",
        "colab_type": "code",
        "colab": {
          "autoexec": {
            "startup": false,
            "wait_interval": 0
          }
        }
      },
      "cell_type": "code",
      "source": [
        "tensor_2d_1 = tf.convert_to_tensor(array_2d_1)\n",
        "tensor_2d_2 = tf.convert_to_tensor(array_2d_2)"
      ],
      "execution_count": 0,
      "outputs": []
    },
    {
      "metadata": {
        "id": "WAKeBKbr_Ahj",
        "colab_type": "text"
      },
      "cell_type": "markdown",
      "source": [
        "### Matrix Operation"
      ]
    },
    {
      "metadata": {
        "id": "wskszIE0_CJ7",
        "colab_type": "code",
        "colab": {
          "autoexec": {
            "startup": false,
            "wait_interval": 0
          }
        }
      },
      "cell_type": "code",
      "source": [
        "mat_add = tf.add(tensor_2d_1, tensor_2d_2)"
      ],
      "execution_count": 0,
      "outputs": []
    },
    {
      "metadata": {
        "id": "rNWlBBtQ_FPE",
        "colab_type": "text"
      },
      "cell_type": "markdown",
      "source": [
        "### Executing the Session"
      ]
    },
    {
      "metadata": {
        "id": "Lm3aF791_Hsx",
        "colab_type": "code",
        "colab": {
          "autoexec": {
            "startup": false,
            "wait_interval": 0
          },
          "base_uri": "https://localhost:8080/",
          "height": 85
        },
        "outputId": "06a55059-aafa-4de5-f4ea-254168e1dcae",
        "executionInfo": {
          "status": "ok",
          "timestamp": 1525937906276,
          "user_tz": -330,
          "elapsed": 1138,
          "user": {
            "displayName": "Praveen Ganeshan",
            "photoUrl": "//lh6.googleusercontent.com/-QmspgRZUp3M/AAAAAAAAAAI/AAAAAAAAAN0/JZIoVZouLiM/s50-c-k-no/photo.jpg",
            "userId": "115281149458293297578"
          }
        }
      },
      "cell_type": "code",
      "source": [
        "with tf.Session() as session:\n",
        "    print (session.run(mat_add))"
      ],
      "execution_count": 37,
      "outputs": [
        {
          "output_type": "stream",
          "text": [
            "[[16 18 20 22]\n",
            " [24 26 28 30]\n",
            " [32 34 36 38]\n",
            " [40 42 44 46]]\n"
          ],
          "name": "stdout"
        }
      ]
    },
    {
      "metadata": {
        "id": "IreMln3K_WTA",
        "colab_type": "text"
      },
      "cell_type": "markdown",
      "source": [
        "## Matrix Multiplication\n",
        "\n",
        "### Initializing the Array"
      ]
    },
    {
      "metadata": {
        "id": "lUbIFiua_l-Q",
        "colab_type": "code",
        "colab": {
          "autoexec": {
            "startup": false,
            "wait_interval": 0
          }
        }
      },
      "cell_type": "code",
      "source": [
        "array_2d_1 = np.array(np.arange(16).reshape(4,4), dtype='int32')\n",
        "array_2d_2 = np.array(np.arange(16,32).reshape(4,4), dtype='int32')"
      ],
      "execution_count": 0,
      "outputs": []
    },
    {
      "metadata": {
        "id": "9Lz6bHDX_qDH",
        "colab_type": "text"
      },
      "cell_type": "markdown",
      "source": [
        "### Converting to Tensors"
      ]
    },
    {
      "metadata": {
        "id": "X6SCVJpR_pa3",
        "colab_type": "code",
        "colab": {
          "autoexec": {
            "startup": false,
            "wait_interval": 0
          }
        }
      },
      "cell_type": "code",
      "source": [
        "tensor_2d_1 = tf.convert_to_tensor(array_2d_1)\n",
        "tensor_2d_2 = tf.convert_to_tensor(array_2d_2)"
      ],
      "execution_count": 0,
      "outputs": []
    },
    {
      "metadata": {
        "id": "8mn2zEU0_uud",
        "colab_type": "text"
      },
      "cell_type": "markdown",
      "source": [
        "### Matrix Operation"
      ]
    },
    {
      "metadata": {
        "id": "OLo54lO2_vLb",
        "colab_type": "code",
        "colab": {
          "autoexec": {
            "startup": false,
            "wait_interval": 0
          }
        }
      },
      "cell_type": "code",
      "source": [
        "mat_mul = tf.matmul(tensor_2d_1, tensor_2d_2)"
      ],
      "execution_count": 0,
      "outputs": []
    },
    {
      "metadata": {
        "id": "v8AqxGEM_1gS",
        "colab_type": "text"
      },
      "cell_type": "markdown",
      "source": [
        "### Executing the Session"
      ]
    },
    {
      "metadata": {
        "id": "iuI61pV7_4UT",
        "colab_type": "code",
        "colab": {
          "autoexec": {
            "startup": false,
            "wait_interval": 0
          },
          "base_uri": "https://localhost:8080/",
          "height": 85
        },
        "outputId": "f0f31085-03e9-47dd-c195-de576100858f",
        "executionInfo": {
          "status": "ok",
          "timestamp": 1525938102367,
          "user_tz": -330,
          "elapsed": 814,
          "user": {
            "displayName": "Praveen Ganeshan",
            "photoUrl": "//lh6.googleusercontent.com/-QmspgRZUp3M/AAAAAAAAAAI/AAAAAAAAAN0/JZIoVZouLiM/s50-c-k-no/photo.jpg",
            "userId": "115281149458293297578"
          }
        }
      },
      "cell_type": "code",
      "source": [
        "with tf.Session() as session:\n",
        "    print (session.run(mat_mul))"
      ],
      "execution_count": 42,
      "outputs": [
        {
          "output_type": "stream",
          "text": [
            "[[ 152  158  164  170]\n",
            " [ 504  526  548  570]\n",
            " [ 856  894  932  970]\n",
            " [1208 1262 1316 1370]]\n"
          ],
          "name": "stdout"
        }
      ]
    },
    {
      "metadata": {
        "id": "ZHRIiVz3ALmM",
        "colab_type": "text"
      },
      "cell_type": "markdown",
      "source": [
        "## Determinant of a Matrix\n",
        "\n",
        "### Initializing the Array"
      ]
    },
    {
      "metadata": {
        "id": "638EcQiKAPKY",
        "colab_type": "code",
        "colab": {
          "autoexec": {
            "startup": false,
            "wait_interval": 0
          }
        }
      },
      "cell_type": "code",
      "source": [
        "array_2d_1 = np.array(np.arange(16).reshape(4,4), dtype='float64')"
      ],
      "execution_count": 0,
      "outputs": []
    },
    {
      "metadata": {
        "id": "zfLDx82kARdA",
        "colab_type": "text"
      },
      "cell_type": "markdown",
      "source": [
        "### Converting to Tensors"
      ]
    },
    {
      "metadata": {
        "id": "X4r6dF3SAT0G",
        "colab_type": "code",
        "colab": {
          "autoexec": {
            "startup": false,
            "wait_interval": 0
          }
        }
      },
      "cell_type": "code",
      "source": [
        "tensor_2d_1 = tf.convert_to_tensor(array_2d_1)"
      ],
      "execution_count": 0,
      "outputs": []
    },
    {
      "metadata": {
        "id": "B1O08_FeAWVB",
        "colab_type": "text"
      },
      "cell_type": "markdown",
      "source": [
        "### Matrix Operation"
      ]
    },
    {
      "metadata": {
        "id": "a3ci25BLAWsp",
        "colab_type": "code",
        "colab": {
          "autoexec": {
            "startup": false,
            "wait_interval": 0
          }
        }
      },
      "cell_type": "code",
      "source": [
        "mat_det = tf.matrix_determinant(tensor_2d_1)"
      ],
      "execution_count": 0,
      "outputs": []
    },
    {
      "metadata": {
        "id": "ljN2NRWnAy6_",
        "colab_type": "text"
      },
      "cell_type": "markdown",
      "source": [
        "### Executing the Session"
      ]
    },
    {
      "metadata": {
        "id": "ZSrFQ_VkAwRP",
        "colab_type": "code",
        "colab": {
          "autoexec": {
            "startup": false,
            "wait_interval": 0
          },
          "base_uri": "https://localhost:8080/",
          "height": 34
        },
        "outputId": "56a6e983-c1a4-4d75-ca17-2d5de33ce40e",
        "executionInfo": {
          "status": "ok",
          "timestamp": 1525938389606,
          "user_tz": -330,
          "elapsed": 1064,
          "user": {
            "displayName": "Praveen Ganeshan",
            "photoUrl": "//lh6.googleusercontent.com/-QmspgRZUp3M/AAAAAAAAAAI/AAAAAAAAAN0/JZIoVZouLiM/s50-c-k-no/photo.jpg",
            "userId": "115281149458293297578"
          }
        }
      },
      "cell_type": "code",
      "source": [
        "with tf.Session() as session:\n",
        "    print (session.run(mat_det))"
      ],
      "execution_count": 53,
      "outputs": [
        {
          "output_type": "stream",
          "text": [
            "-2.9582283945787796e-30\n"
          ],
          "name": "stdout"
        }
      ]
    },
    {
      "metadata": {
        "id": "0K6nYSRDI4yh",
        "colab_type": "text"
      },
      "cell_type": "markdown",
      "source": [
        "# Linear Regression Model\n",
        "\n",
        "## Model Building Steps\n",
        "\n",
        "\n",
        "*   Define the relationship between **x** and **y** .\n",
        "*   Generate random data points points.\n",
        "*   Define a cost function that calculates the error between the actual and predicted values\n",
        "*   Optimize the cost function using gradient descent algorithm.\n",
        "*   Iterate this optimization process till the values converge.\n",
        "\n",
        "## Data Creation\n",
        "\n",
        "### Initializing the number of points and the dependent and independent variables."
      ]
    },
    {
      "metadata": {
        "id": "S1wcRyxHJsFV",
        "colab_type": "code",
        "colab": {
          "autoexec": {
            "startup": false,
            "wait_interval": 0
          }
        }
      },
      "cell_type": "code",
      "source": [
        "numPts = 100\n",
        "x = []\n",
        "y = []"
      ],
      "execution_count": 0,
      "outputs": []
    },
    {
      "metadata": {
        "id": "rLpNaonEJvFm",
        "colab_type": "text"
      },
      "cell_type": "markdown",
      "source": [
        "### Assigning the values for a and b ."
      ]
    },
    {
      "metadata": {
        "id": "kM5T9OjgJwr7",
        "colab_type": "code",
        "colab": {
          "autoexec": {
            "startup": false,
            "wait_interval": 0
          }
        }
      },
      "cell_type": "code",
      "source": [
        "a = 0.45\n",
        "b = 0.60"
      ],
      "execution_count": 0,
      "outputs": []
    },
    {
      "metadata": {
        "id": "MYwSnEvoJ1hz",
        "colab_type": "text"
      },
      "cell_type": "markdown",
      "source": [
        "**y=0.45∗x+0.60**\n",
        "\n",
        "Finally, after gradient descent, the model should also converge to the above values of **a **and **b**.\n",
        "\n",
        "## Generating Values\n",
        "The below code is used to generate random points for xx and yy\n",
        "\n"
      ]
    },
    {
      "metadata": {
        "id": "VGxxQng9JJAB",
        "colab_type": "code",
        "colab": {
          "autoexec": {
            "startup": false,
            "wait_interval": 0
          }
        }
      },
      "cell_type": "code",
      "source": [
        "for i in range(numPts):\n",
        "    xtemp = np.random.normal(0.0,0.5)\n",
        "    ytemp = a*xtemp + b +np.random.normal(0.0,0.1)\n",
        "    x.append([xtemp])\n",
        "    y.append([ytemp])"
      ],
      "execution_count": 0,
      "outputs": []
    },
    {
      "metadata": {
        "id": "hSoFkqWfKZL1",
        "colab_type": "text"
      },
      "cell_type": "markdown",
      "source": [
        "## Initializing the Variables\n",
        "\n",
        "*   The objective here is to implement a Machine Learning algorithm to predict using TensorFlow which must predict **y** given **x**.\n",
        "*   The linear regression model should converge to an optimal aa and bb that minimizes the cost function.\n",
        "\n",
        "### Initializing arbitrary values for A and setting b to zero."
      ]
    },
    {
      "metadata": {
        "id": "8qUKf79UKxHE",
        "colab_type": "code",
        "colab": {
          "autoexec": {
            "startup": false,
            "wait_interval": 0
          }
        }
      },
      "cell_type": "code",
      "source": [
        "A = tf.Variable(tf.random_uniform([1], -1.0, 1.0))\n",
        "b = tf.Variable(tf.zeros([1]))"
      ],
      "execution_count": 0,
      "outputs": []
    },
    {
      "metadata": {
        "id": "mvi-ftEgK06B",
        "colab_type": "text"
      },
      "cell_type": "markdown",
      "source": [
        "### Creating a relationship between xx and yy"
      ]
    },
    {
      "metadata": {
        "id": "POagnswyK3g6",
        "colab_type": "code",
        "colab": {
          "autoexec": {
            "startup": false,
            "wait_interval": 0
          }
        }
      },
      "cell_type": "code",
      "source": [
        "yPred = tf.add(tf.multiply(A, x), b)"
      ],
      "execution_count": 0,
      "outputs": []
    },
    {
      "metadata": {
        "id": "MXKIvjUILB0F",
        "colab_type": "text"
      },
      "cell_type": "markdown",
      "source": [
        "### Cost Func and Grad Desc\n",
        "\n",
        "The below code is used to set the learning rate. It can be set to any number between 0 and 1."
      ]
    },
    {
      "metadata": {
        "id": "NffAWgC6LILe",
        "colab_type": "code",
        "colab": {
          "autoexec": {
            "startup": false,
            "wait_interval": 0
          }
        }
      },
      "cell_type": "code",
      "source": [
        "learningRate = 0.25"
      ],
      "execution_count": 0,
      "outputs": []
    },
    {
      "metadata": {
        "id": "xuPjQdFULJv9",
        "colab_type": "text"
      },
      "cell_type": "markdown",
      "source": [
        "Below the cost function is defined. The optimization is done using gradient descent. Finally, the model is trained to minimize the cost function."
      ]
    },
    {
      "metadata": {
        "id": "wDMsBDIjLMck",
        "colab_type": "code",
        "colab": {
          "autoexec": {
            "startup": false,
            "wait_interval": 0
          }
        }
      },
      "cell_type": "code",
      "source": [
        "cost_function = tf.reduce_mean(tf.square(yPred - y))\n",
        "optimizer = tf.train.GradientDescentOptimizer(learningRate)\n",
        "train = optimizer.minimize(cost_function)"
      ],
      "execution_count": 0,
      "outputs": []
    },
    {
      "metadata": {
        "id": "UlfoLXh-LR16",
        "colab_type": "text"
      },
      "cell_type": "markdown",
      "source": [
        "### Testing the Model"
      ]
    },
    {
      "metadata": {
        "id": "fZ4vIn4mLmGq",
        "colab_type": "code",
        "colab": {
          "autoexec": {
            "startup": false,
            "wait_interval": 0
          }
        }
      },
      "cell_type": "code",
      "source": [
        "NumIter = 50\n",
        "model = tf.initialize_all_variables()\n",
        "\n",
        "with tf.Session() as session:\n",
        "        session.run(model)\n",
        "\n",
        "        for step in range(0,NumIter):\n",
        "            session.run(train)\n",
        "        ModelA = session.run(A)\n",
        "        ModelB = session.run(b)"
      ],
      "execution_count": 0,
      "outputs": []
    },
    {
      "metadata": {
        "id": "lxAmveAjSt0d",
        "colab_type": "text"
      },
      "cell_type": "markdown",
      "source": [
        "# Hands on Linear regression\n",
        "\n",
        "Given a vector of input and output data, you need to find the linear relationship between these two data which is in the form\n",
        "**y=w∗x+b**\n",
        "\n",
        "Using numpy initialise training input data **trainX** with values **[4.4,7.2,3.712,6.42,4.168,8.79,7.88,7.59,2.167,7.042,10.71,5.33,9.97,5.64,9.27,3.1,3.9]**\n",
        "\n",
        "**trainY** with values **[2.28644, 3.25412, 2.0486672, 2.984552, 2.2062608, 3.803624 ,3.489128, 3.388904 ,1.5147152, 3.1995152, 4.467176, 2.607848 ,4.211432, 2.714984, 3.969512, 1.83716, 2.11364]**\n"
      ]
    },
    {
      "metadata": {
        "id": "8b2g8qHZTune",
        "colab_type": "code",
        "colab": {
          "autoexec": {
            "startup": false,
            "wait_interval": 0
          }
        }
      },
      "cell_type": "code",
      "source": [
        "import numpy.random as rand\n",
        "\n",
        "trainX = np.array([4.4,7.2,3.712,6.42,4.168,8.79,7.88,7.59,2.167,7.042,10.71,5.33,9.97,5.64,9.27,3.1,3.9])\n",
        "                         \n",
        "trainY = np.array([2.28644, 3.25412, 2.0486672, 2.984552, 2.2062608, 3.803624 ,3.489128, 3.388904 ,1.5147152, 3.1995152, 4.467176, 2.607848 ,4.211432, 2.714984, 3.969512, 1.83716, 2.11364])\n",
        "\n",
        "num_samples = trainX.shape[0]"
      ],
      "execution_count": 0,
      "outputs": []
    },
    {
      "metadata": {
        "id": "VnAt_nIoUXR4",
        "colab_type": "text"
      },
      "cell_type": "markdown",
      "source": [
        "Define placeholders for input and output data as **X** and **Y** . Let them be of data type **float32**"
      ]
    },
    {
      "metadata": {
        "id": "iyPWYzghUcN2",
        "colab_type": "code",
        "colab": {
          "autoexec": {
            "startup": false,
            "wait_interval": 0
          }
        }
      },
      "cell_type": "code",
      "source": [
        "X = tf.constant(trainX,dtype=tf.float32)\n",
        "Y = tf.constant(trainY,dtype=tf.float32)"
      ],
      "execution_count": 0,
      "outputs": []
    },
    {
      "metadata": {
        "id": "c44qxA9vUbtD",
        "colab_type": "text"
      },
      "cell_type": "markdown",
      "source": [
        "Since this is a linear regression problem the output will be in the form of  **w * trainX + b**\n",
        "\n",
        "Initialse** w** and **b** with random values using **rand.randn()** function. Make sure you declare them as **tensorflow variables**"
      ]
    },
    {
      "metadata": {
        "id": "RNWeBfEWUzHa",
        "colab_type": "code",
        "colab": {
          "autoexec": {
            "startup": false,
            "wait_interval": 0
          }
        }
      },
      "cell_type": "code",
      "source": [
        "w = tf.Variable(np.array(rand.randn(1)))\n",
        "b =  tf.Variable(np.array(rand.randn(1)))"
      ],
      "execution_count": 0,
      "outputs": []
    },
    {
      "metadata": {
        "id": "enH4pQqmlh6r",
        "colab_type": "text"
      },
      "cell_type": "markdown",
      "source": [
        "implement  **X * W + b** using appropriate tensorflow functions to predict the output **Y**.\n",
        "\n",
        "Train the model using gradient descent to minimize the cost. Initialize the number of iterations and learning rate\n",
        "\n",
        "**TIP**: start with small learning rate and large iteration."
      ]
    },
    {
      "metadata": {
        "id": "9Oxunhyaf3wR",
        "colab_type": "code",
        "colab": {
          "autoexec": {
            "startup": false,
            "wait_interval": 0
          }
        }
      },
      "cell_type": "code",
      "source": [
        "num_iter = 10000 \n",
        "learning_rate = 0.01\n",
        "\n",
        "\n",
        "pred = tf.add(tf.multiply(w,trainX),b)\n",
        "cost = tf.reduce_mean(tf.square(pred - trainY))\n",
        "\n",
        "optimizer = tf.train.GradientDescentOptimizer(learning_rate)\n",
        "train = optimizer.minimize(cost)\n"
      ],
      "execution_count": 0,
      "outputs": []
    },
    {
      "metadata": {
        "id": "Eo-xtFoKl1tz",
        "colab_type": "text"
      },
      "cell_type": "markdown",
      "source": [
        "Execute the below piece of code."
      ]
    },
    {
      "metadata": {
        "id": "3b8VVRJJgiNh",
        "colab_type": "code",
        "colab": {
          "autoexec": {
            "startup": false,
            "wait_interval": 0
          },
          "base_uri": "https://localhost:8080/",
          "height": 51
        },
        "outputId": "e6d5b7ca-8313-4c65-ffcc-c56a334d2519",
        "executionInfo": {
          "status": "ok",
          "timestamp": 1525947924929,
          "user_tz": -330,
          "elapsed": 4673,
          "user": {
            "displayName": "Praveen Ganeshan",
            "photoUrl": "//lh6.googleusercontent.com/-QmspgRZUp3M/AAAAAAAAAAI/AAAAAAAAAN0/JZIoVZouLiM/s50-c-k-no/photo.jpg",
            "userId": "115281149458293297578"
          }
        }
      },
      "cell_type": "code",
      "source": [
        "model = tf.global_variables_initializer()\n",
        "with tf.Session() as session:\n",
        "    session.run(model)\n",
        "    for i in range(num_iter):\n",
        "        session.run(train, feed_dict={X: trainX , Y: trainY})\n",
        "    w = session.run(w)\n",
        "    b = session.run(b)\n",
        "    print( w)\n",
        "    print( b)"
      ],
      "execution_count": 85,
      "outputs": [
        {
          "output_type": "stream",
          "text": [
            "[0.3456]\n",
            "[0.7658]\n"
          ],
          "name": "stdout"
        }
      ]
    },
    {
      "metadata": {
        "id": "w1JyS10onq0i",
        "colab_type": "text"
      },
      "cell_type": "markdown",
      "source": [
        "# Logistic Regression\n",
        "\n",
        "## Steps\n",
        "\n",
        "*   The weights and bias values are initialized to arbitrary values.\n",
        "*  Based on the values, the output is calculated. The actual value of the output is compared to the calculated value. The error value is used to adjust the weights and biases.\n",
        "*  This process is repeated till the values converge and the error is minimized.\n",
        "\n",
        "\n",
        "\n",
        "\n"
      ]
    }
  ]
}
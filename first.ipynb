{
 "cells": [
  {
   "cell_type": "code",
   "execution_count": 1,
   "metadata": {},
   "outputs": [
    {
     "data": {
      "text/plain": [
       "'D:\\\\POC\\\\python\\\\first'"
      ]
     },
     "execution_count": 1,
     "metadata": {},
     "output_type": "execute_result"
    }
   ],
   "source": [
    "%pwd"
   ]
  },
  {
   "cell_type": "code",
   "execution_count": 2,
   "metadata": {},
   "outputs": [],
   "source": [
    "%pwd?"
   ]
  },
  {
   "cell_type": "code",
   "execution_count": 3,
   "metadata": {},
   "outputs": [],
   "source": [
    "%timeit "
   ]
  },
  {
   "cell_type": "code",
   "execution_count": 2,
   "metadata": {},
   "outputs": [],
   "source": [
    "s='Welcome to Jupyter Notebooks!!!'"
   ]
  },
  {
   "cell_type": "code",
   "execution_count": 3,
   "metadata": {},
   "outputs": [
    {
     "data": {
      "text/plain": [
       "'Welcome to Jupyter Notebooks!!!'"
      ]
     },
     "execution_count": 3,
     "metadata": {},
     "output_type": "execute_result"
    }
   ],
   "source": [
    "s"
   ]
  },
  {
   "cell_type": "code",
   "execution_count": 7,
   "metadata": {},
   "outputs": [
    {
     "data": {
      "text/plain": [
       "31"
      ]
     },
     "execution_count": 7,
     "metadata": {},
     "output_type": "execute_result"
    }
   ],
   "source": [
    "len(s)"
   ]
  },
  {
   "cell_type": "code",
   "execution_count": 6,
   "metadata": {},
   "outputs": [
    {
     "data": {
      "text/plain": [
       "'Jupyter Notebooks'"
      ]
     },
     "execution_count": 6,
     "metadata": {},
     "output_type": "execute_result"
    }
   ],
   "source": [
    "s[11:28]"
   ]
  },
  {
   "cell_type": "code",
   "execution_count": 8,
   "metadata": {},
   "outputs": [
    {
     "data": {
      "text/plain": [
       "10"
      ]
     },
     "execution_count": 8,
     "metadata": {},
     "output_type": "execute_result"
    }
   ],
   "source": [
    "vowels=['a','e','i','o','u','A','E','I','O','U']\n",
    "sum(1 for chars in s if chars in vowels)"
   ]
  },
  {
   "cell_type": "code",
   "execution_count": 11,
   "metadata": {},
   "outputs": [
    {
     "data": {
      "text/plain": [
       "['Jupyter', 'Notebooks!!!']"
      ]
     },
     "execution_count": 11,
     "metadata": {},
     "output_type": "execute_result"
    }
   ],
   "source": [
    "char_s=('J','N')\n",
    "[word for word in s.split() if word.startswith(char_s)]"
   ]
  },
  {
   "cell_type": "code",
   "execution_count": 4,
   "metadata": {},
   "outputs": [],
   "source": [
    "fruits = ['apple', 'mango', 'kiwi', 'watermelon', 'pear']"
   ]
  },
  {
   "cell_type": "code",
   "execution_count": 5,
   "metadata": {},
   "outputs": [
    {
     "name": "stdout",
     "output_type": "stream",
     "text": [
      "5\n"
     ]
    }
   ],
   "source": [
    "print(len(fruits))"
   ]
  },
  {
   "cell_type": "code",
   "execution_count": 6,
   "metadata": {},
   "outputs": [
    {
     "name": "stdout",
     "output_type": "stream",
     "text": [
      "['apple', 'mango', 'kiwi', 'watermelon', 'pear']\n"
     ]
    }
   ],
   "source": [
    "print(fruits)"
   ]
  },
  {
   "cell_type": "code",
   "execution_count": 7,
   "metadata": {},
   "outputs": [],
   "source": [
    "fruits_len=[len(i) for i in fruits]"
   ]
  },
  {
   "cell_type": "code",
   "execution_count": 8,
   "metadata": {},
   "outputs": [
    {
     "name": "stdout",
     "output_type": "stream",
     "text": [
      "[5, 5, 4, 10, 4]\n"
     ]
    }
   ],
   "source": [
    "print(fruits_len)"
   ]
  },
  {
   "cell_type": "code",
   "execution_count": 9,
   "metadata": {},
   "outputs": [],
   "source": [
    "fruits_mp=[x for x in fruits if x.startswith('m')==True or x.startswith('p')==True ]"
   ]
  },
  {
   "cell_type": "code",
   "execution_count": 37,
   "metadata": {},
   "outputs": [
    {
     "name": "stdout",
     "output_type": "stream",
     "text": [
      "['mango', 'pear']\n"
     ]
    }
   ],
   "source": [
    "print(fruits_mp)"
   ]
  },
  {
   "cell_type": "code",
   "execution_count": 52,
   "metadata": {},
   "outputs": [
    {
     "data": {
      "text/plain": [
       "'%pwd'"
      ]
     },
     "execution_count": 52,
     "metadata": {},
     "output_type": "execute_result"
    }
   ],
   "source": [
    "_i1"
   ]
  },
  {
   "cell_type": "code",
   "execution_count": 53,
   "metadata": {},
   "outputs": [
    {
     "data": {
      "text/plain": [
       "'%pwd?'"
      ]
     },
     "execution_count": 53,
     "metadata": {},
     "output_type": "execute_result"
    }
   ],
   "source": [
    "_i2"
   ]
  },
  {
   "cell_type": "code",
   "execution_count": 54,
   "metadata": {},
   "outputs": [
    {
     "data": {
      "text/plain": [
       "'%timeit '"
      ]
     },
     "execution_count": 54,
     "metadata": {},
     "output_type": "execute_result"
    }
   ],
   "source": [
    "_i3"
   ]
  },
  {
   "cell_type": "code",
   "execution_count": 55,
   "metadata": {},
   "outputs": [
    {
     "data": {
      "text/plain": [
       "'D:\\\\POC\\\\python\\\\first'"
      ]
     },
     "execution_count": 55,
     "metadata": {},
     "output_type": "execute_result"
    }
   ],
   "source": [
    "_1"
   ]
  },
  {
   "cell_type": "code",
   "execution_count": 57,
   "metadata": {},
   "outputs": [
    {
     "name": "stdout",
     "output_type": "stream",
     "text": [
      "%pwd\n",
      "%pwd?\n",
      "%timeit\n",
      "fruits = ['apple', 'mango', 'kiwi', 'watermelon', 'pear']\n",
      "print(len(fruits))\n",
      "print(fruits)\n",
      "fruits_len=[len(i) for i in fruits]\n",
      "print(fruits_len)\n",
      "fruits_mp=[x for x in fruits if x.startswith('m')==True or x.startswith('p')==True ]\n",
      "print(fruits_mp)\n",
      "%save sample_script.py 6-13\n",
      "%more sample_script.py\n",
      "%run sample_script.py\n",
      "%save sample_script.py 4-10\n",
      "%more sample_script.py\n",
      "%run sample_script.py\n",
      "###TEST\n",
      "import numpy as np\n",
      "x = np.array([5, 8, \n",
      "\n",
      "              9, 10, \n",
      "\n",
      "              11]) # using 'array' method\n",
      "type(x)   # Displays type of array 'x'\n",
      "x\n",
      "y = np.array([[6, 9, 5], \n",
      "\n",
      "              [10, 82, 34]])  \n",
      "\n",
      "print(y)\n",
      "print(y.ndim, y.shape, y.size, y.dtype, y.itemsize, y.nbytes)\n",
      "z = np.array([[6, 9, 5],\n",
      "\n",
      "              [10, 82, 34]], \n",
      "\n",
      "             dtype='float64')  \n",
      "\n",
      "print(z)\n",
      "\n",
      "print(z.dtype)\n",
      "n = [5, 10, 15, 20, 25]\n",
      "array_x=np.array(n)\n",
      "print(type(array_x))\n",
      "print(array_x.dtype)\n",
      "print(array_x.ndim,array_x.shape,array_x.size)\n",
      "n2 = [[-1, -2, -3, -4], [-2,-4, -6, -8]]\n",
      "array_y=np.array(n2)\n",
      "print(array_x.dtype)\n",
      "print(type(array_x))\n",
      "print(array_y.ndim,array_y.shape,array_y.size,array_y.dtype,array_y.itemsize)\n",
      " - _i1\n",
      " - _i1\n",
      "print(fruits_mp)\n",
      "- _i1\n",
      "-_i1\n",
      "- _i1\n",
      "- _1\n",
      " - %hist\n",
      " %hist\n",
      "_i1\n",
      "_i2\n",
      "_i3\n",
      "_1\n",
      "_2\n",
      "_3\n",
      "_4\n",
      "_2\n",
      "_i1\n",
      "_i2\n",
      "_i3\n",
      "_1\n",
      "_2\n",
      "%hist\n"
     ]
    }
   ],
   "source": [
    "%hist"
   ]
  },
  {
   "cell_type": "code",
   "execution_count": 14,
   "metadata": {},
   "outputs": [
    {
     "name": "stdout",
     "output_type": "stream",
     "text": [
      "File `sample_script.py` exists. Overwrite (y/[N])?  y\n",
      "The following commands were written to file `sample_script.py`:\n",
      "fruits = ['apple', 'mango', 'kiwi', 'watermelon', 'pear']\n",
      "print(len(fruits))\n",
      "print(fruits)\n",
      "fruits_len=[len(i) for i in fruits]\n",
      "print(fruits_len)\n",
      "fruits_mp=[x for x in fruits if x.startswith('m')==True or x.startswith('p')==True ]\n",
      "print(fruits_mp)\n"
     ]
    }
   ],
   "source": [
    "%save sample_script.py 4-10\n"
   ]
  },
  {
   "cell_type": "code",
   "execution_count": 15,
   "metadata": {},
   "outputs": [],
   "source": [
    "%more sample_script.py"
   ]
  },
  {
   "cell_type": "code",
   "execution_count": 16,
   "metadata": {},
   "outputs": [
    {
     "name": "stdout",
     "output_type": "stream",
     "text": [
      "5\n",
      "['apple', 'mango', 'kiwi', 'watermelon', 'pear']\n",
      "[5, 5, 4, 10, 4]\n",
      "['mango', 'pear']\n"
     ]
    }
   ],
   "source": [
    "%run sample_script.py"
   ]
  },
  {
   "cell_type": "markdown",
   "metadata": {},
   "source": [
    "# Test\n",
    "1. one\n",
    "2. two\n",
    "### TEST\n",
    "- one\n",
    "- two\n",
    "* three\n",
    "* four\n"
   ]
  },
  {
   "cell_type": "code",
   "execution_count": 15,
   "metadata": {},
   "outputs": [],
   "source": [
    "import numpy as np"
   ]
  },
  {
   "cell_type": "code",
   "execution_count": 19,
   "metadata": {},
   "outputs": [],
   "source": [
    "x = np.array([5, 8, \n",
    "\n",
    "              9, 10, \n",
    "\n",
    "              11]) # using 'array' method"
   ]
  },
  {
   "cell_type": "code",
   "execution_count": 20,
   "metadata": {},
   "outputs": [
    {
     "data": {
      "text/plain": [
       "numpy.ndarray"
      ]
     },
     "execution_count": 20,
     "metadata": {},
     "output_type": "execute_result"
    }
   ],
   "source": [
    "type(x)   # Displays type of array 'x'"
   ]
  },
  {
   "cell_type": "code",
   "execution_count": 21,
   "metadata": {},
   "outputs": [
    {
     "data": {
      "text/plain": [
       "array([ 5,  8,  9, 10, 11])"
      ]
     },
     "execution_count": 21,
     "metadata": {},
     "output_type": "execute_result"
    }
   ],
   "source": [
    "x"
   ]
  },
  {
   "cell_type": "code",
   "execution_count": 22,
   "metadata": {},
   "outputs": [
    {
     "name": "stdout",
     "output_type": "stream",
     "text": [
      "[[ 6  9  5]\n",
      " [10 82 34]]\n"
     ]
    }
   ],
   "source": [
    "y = np.array([[6, 9, 5], \n",
    "\n",
    "              [10, 82, 34]])  \n",
    "\n",
    "print(y)\n"
   ]
  },
  {
   "cell_type": "code",
   "execution_count": 23,
   "metadata": {},
   "outputs": [
    {
     "name": "stdout",
     "output_type": "stream",
     "text": [
      "2 (2, 3) 6 int32 4 24\n"
     ]
    }
   ],
   "source": [
    "print(y.ndim, y.shape, y.size, y.dtype, y.itemsize, y.nbytes)"
   ]
  },
  {
   "cell_type": "code",
   "execution_count": 24,
   "metadata": {},
   "outputs": [
    {
     "name": "stdout",
     "output_type": "stream",
     "text": [
      "[[ 6.  9.  5.]\n",
      " [10. 82. 34.]]\n",
      "float64\n"
     ]
    }
   ],
   "source": [
    "z = np.array([[6, 9, 5],\n",
    "\n",
    "              [10, 82, 34]], \n",
    "\n",
    "             dtype='float64')  \n",
    "\n",
    "print(z)\n",
    "\n",
    "print(z.dtype)"
   ]
  },
  {
   "cell_type": "code",
   "execution_count": 25,
   "metadata": {},
   "outputs": [],
   "source": [
    "n = [5, 10, 15, 20, 25]"
   ]
  },
  {
   "cell_type": "code",
   "execution_count": 26,
   "metadata": {},
   "outputs": [],
   "source": [
    "array_x=np.array(n)"
   ]
  },
  {
   "cell_type": "code",
   "execution_count": 27,
   "metadata": {},
   "outputs": [
    {
     "name": "stdout",
     "output_type": "stream",
     "text": [
      "<class 'numpy.ndarray'>\n"
     ]
    }
   ],
   "source": [
    "print(type(array_x))"
   ]
  },
  {
   "cell_type": "code",
   "execution_count": 28,
   "metadata": {},
   "outputs": [
    {
     "name": "stdout",
     "output_type": "stream",
     "text": [
      "int32\n"
     ]
    }
   ],
   "source": [
    "print(array_x.dtype)"
   ]
  },
  {
   "cell_type": "code",
   "execution_count": 29,
   "metadata": {},
   "outputs": [
    {
     "name": "stdout",
     "output_type": "stream",
     "text": [
      "1 (5,) 5\n"
     ]
    }
   ],
   "source": [
    "print(array_x.ndim,array_x.shape,array_x.size)"
   ]
  },
  {
   "cell_type": "code",
   "execution_count": 30,
   "metadata": {},
   "outputs": [],
   "source": [
    "n2 = [[-1, -2, -3, -4], [-2,-4, -6, -8]]"
   ]
  },
  {
   "cell_type": "code",
   "execution_count": 31,
   "metadata": {},
   "outputs": [],
   "source": [
    "array_y=np.array(n2)"
   ]
  },
  {
   "cell_type": "code",
   "execution_count": 33,
   "metadata": {},
   "outputs": [
    {
     "name": "stdout",
     "output_type": "stream",
     "text": [
      "<class 'numpy.ndarray'>\n"
     ]
    }
   ],
   "source": [
    "print(type(array_x))"
   ]
  },
  {
   "cell_type": "code",
   "execution_count": 32,
   "metadata": {},
   "outputs": [
    {
     "name": "stdout",
     "output_type": "stream",
     "text": [
      "int32\n"
     ]
    }
   ],
   "source": [
    "print(array_x.dtype)"
   ]
  },
  {
   "cell_type": "code",
   "execution_count": 34,
   "metadata": {},
   "outputs": [
    {
     "name": "stdout",
     "output_type": "stream",
     "text": [
      "2 (2, 4) 8 int32 4\n"
     ]
    }
   ],
   "source": [
    "print(array_y.ndim,array_y.shape,array_y.size,array_y.dtype,array_y.itemsize)"
   ]
  },
  {
   "cell_type": "code",
   "execution_count": 58,
   "metadata": {},
   "outputs": [
    {
     "data": {
      "text/plain": [
       "(numpy.ndarray, 3, (2, 3, 2))"
      ]
     },
     "execution_count": 58,
     "metadata": {},
     "output_type": "execute_result"
    }
   ],
   "source": [
    "a = [[[4.1, 2.5], [1.1, 2.3], [9.1, 2.5]], \n",
    "\n",
    "     [[8.6, 9.9],[3.6, 4.3], [6.6, 0.3]]]\n",
    "\n",
    "xx = np.array(a, dtype='float64')\n",
    "\n",
    "type(xx), xx.ndim, xx.shape\n"
   ]
  },
  {
   "cell_type": "code",
   "execution_count": 59,
   "metadata": {},
   "outputs": [
    {
     "name": "stdout",
     "output_type": "stream",
     "text": [
      "[[0. 0. 0. 0.]\n",
      " [0. 0. 0. 0.]]\n"
     ]
    }
   ],
   "source": [
    "xxx = np.zeros(shape=(2,4))\n",
    "\n",
    "print(xxx)"
   ]
  },
  {
   "cell_type": "code",
   "execution_count": 60,
   "metadata": {},
   "outputs": [
    {
     "name": "stdout",
     "output_type": "stream",
     "text": [
      "[[10.5 10.5 10.5]\n",
      " [10.5 10.5 10.5]]\n"
     ]
    }
   ],
   "source": [
    "yy = np.full(shape=(2,3), fill_value=10.5)\n",
    "\n",
    "print(yy)\n"
   ]
  },
  {
   "cell_type": "code",
   "execution_count": 61,
   "metadata": {},
   "outputs": [
    {
     "name": "stdout",
     "output_type": "stream",
     "text": [
      "[ 3.   5.5  8.  10.5 13. ]\n"
     ]
    }
   ],
   "source": [
    "b=np.arange(3, 15, 2.5) # 2.5 is step\n",
    "print(b)"
   ]
  },
  {
   "cell_type": "code",
   "execution_count": 62,
   "metadata": {},
   "outputs": [
    {
     "name": "stdout",
     "output_type": "stream",
     "text": [
      "[ 3.  6.  9. 12. 15.]\n"
     ]
    }
   ],
   "source": [
    "c = np.linspace(3, 15, 5) # 5 is size of array 'y'\n",
    "\n",
    "print(c)"
   ]
  },
  {
   "cell_type": "code",
   "execution_count": 63,
   "metadata": {},
   "outputs": [
    {
     "name": "stdout",
     "output_type": "stream",
     "text": [
      "[0.54340494 0.27836939]\n"
     ]
    }
   ],
   "source": [
    "np.random.seed(100) # setting seed\n",
    "\n",
    "d = np.random.rand(2) # 2 random numbers between 0 and 1\n",
    "\n",
    "print(d)"
   ]
  },
  {
   "cell_type": "code",
   "execution_count": 64,
   "metadata": {},
   "outputs": [
    {
     "name": "stdout",
     "output_type": "stream",
     "text": [
      "[18 34 13]\n"
     ]
    }
   ],
   "source": [
    "np.random.seed(100) # setting seed\n",
    "\n",
    "e = np.random.randint(10, 50, 3) # 3 random integers between 10 and 50\n",
    "\n",
    "print(e)\n"
   ]
  },
  {
   "cell_type": "code",
   "execution_count": 65,
   "metadata": {},
   "outputs": [
    {
     "name": "stdout",
     "output_type": "stream",
     "text": [
      "[-1.74976547  0.3426804   1.1530358 ]\n"
     ]
    }
   ],
   "source": [
    "np.random.seed(100)\n",
    "\n",
    "f = np.random.randn(3) # Standard normal distribution\n",
    "\n",
    "print(f)"
   ]
  },
  {
   "cell_type": "code",
   "execution_count": 66,
   "metadata": {},
   "outputs": [
    {
     "name": "stdout",
     "output_type": "stream",
     "text": [
      "[ 5.62558632 10.85670101 12.88258951]\n"
     ]
    }
   ],
   "source": [
    "np.random.seed(100)\n",
    "\n",
    "g = 10 + 2.5*np.random.randn(3) # normal distribution with mean 10 and sd 2\n",
    "\n",
    "print(g)"
   ]
  },
  {
   "cell_type": "code",
   "execution_count": 12,
   "metadata": {},
   "outputs": [],
   "source": [
    "from io import StringIO"
   ]
  },
  {
   "cell_type": "code",
   "execution_count": 13,
   "metadata": {},
   "outputs": [],
   "source": [
    "stream = StringIO('''88.25 93.45 72.60 90.90\n",
    "\n",
    "72.3 78.85 92.15 65.75\n",
    "\n",
    "90.5 92.45 89.25 94.50\n",
    "\n",
    "''')"
   ]
  },
  {
   "cell_type": "code",
   "execution_count": 17,
   "metadata": {},
   "outputs": [
    {
     "name": "stdout",
     "output_type": "stream",
     "text": [
      "[[88.25 93.45 72.6  90.9 ]\n",
      " [72.3  78.85 92.15 65.75]\n",
      " [90.5  92.45 89.25 94.5 ]]\n",
      "2 (3, 4)\n"
     ]
    }
   ],
   "source": [
    "data = np.loadtxt(stream,delimiter=' ')\n",
    "\n",
    "print(data)\n",
    "\n",
    "print(data.ndim, data.shape)"
   ]
  },
  {
   "cell_type": "code",
   "execution_count": 18,
   "metadata": {},
   "outputs": [
    {
     "name": "stdout",
     "output_type": "stream",
     "text": [
      "(2, 2)\n"
     ]
    }
   ],
   "source": [
    "print(np.array(([1, 2], (3,4))).shape)"
   ]
  },
  {
   "cell_type": "code",
   "execution_count": 19,
   "metadata": {},
   "outputs": [
    {
     "name": "stdout",
     "output_type": "stream",
     "text": [
      "[[1. 0.]\n",
      " [0. 1.]]\n"
     ]
    }
   ],
   "source": [
    " \n",
    "print(np.eye(2))"
   ]
  },
  {
   "cell_type": "code",
   "execution_count": 22,
   "metadata": {},
   "outputs": [],
   "source": [
    "x1=np.array([[[-1,1],[-2,2]],[[-3, 3], [-4, 4]]])"
   ]
  },
  {
   "cell_type": "code",
   "execution_count": 23,
   "metadata": {},
   "outputs": [
    {
     "name": "stdout",
     "output_type": "stream",
     "text": [
      "3 (2, 2, 2) 8\n"
     ]
    }
   ],
   "source": [
    "print(x1.ndim,x1.shape,x1.size)"
   ]
  },
  {
   "cell_type": "code",
   "execution_count": 27,
   "metadata": {},
   "outputs": [],
   "source": [
    "x2 = np.full(shape=(3,2,2), fill_value=1)"
   ]
  },
  {
   "cell_type": "code",
   "execution_count": 28,
   "metadata": {},
   "outputs": [],
   "source": [
    "x3 = np.eye(4)"
   ]
  },
  {
   "cell_type": "code",
   "execution_count": 29,
   "metadata": {},
   "outputs": [
    {
     "name": "stdout",
     "output_type": "stream",
     "text": [
      "[[[1 1]\n",
      "  [1 1]]\n",
      "\n",
      " [[1 1]\n",
      "  [1 1]]\n",
      "\n",
      " [[1 1]\n",
      "  [1 1]]]\n",
      "[[1. 0. 0. 0.]\n",
      " [0. 1. 0. 0.]\n",
      " [0. 0. 1. 0.]\n",
      " [0. 0. 0. 1.]]\n"
     ]
    }
   ],
   "source": [
    "print(x2)\n",
    "print(x3)"
   ]
  },
  {
   "cell_type": "code",
   "execution_count": 35,
   "metadata": {},
   "outputs": [],
   "source": [
    "np.random.seed(100)\n",
    "x4 =  np.random.rand(24).reshape((3, 4, 2))"
   ]
  },
  {
   "cell_type": "code",
   "execution_count": 36,
   "metadata": {},
   "outputs": [
    {
     "name": "stdout",
     "output_type": "stream",
     "text": [
      "[[[0.54340494 0.27836939]\n",
      "  [0.42451759 0.84477613]\n",
      "  [0.00471886 0.12156912]\n",
      "  [0.67074908 0.82585276]]\n",
      "\n",
      " [[0.13670659 0.57509333]\n",
      "  [0.89132195 0.20920212]\n",
      "  [0.18532822 0.10837689]\n",
      "  [0.21969749 0.97862378]]\n",
      "\n",
      " [[0.81168315 0.17194101]\n",
      "  [0.81622475 0.27407375]\n",
      "  [0.43170418 0.94002982]\n",
      "  [0.81764938 0.33611195]]]\n"
     ]
    }
   ],
   "source": [
    "print(x4)"
   ]
  },
  {
   "cell_type": "code",
   "execution_count": 37,
   "metadata": {},
   "outputs": [
    {
     "name": "stdout",
     "output_type": "stream",
     "text": [
      "[3.90466094 2.20420438 9.04745415 8.85401294 4.37030215 2.89391065\n",
      " 5.46129673 7.3427055  6.82750086 8.40389031 4.18440485 5.13919004\n",
      " 5.55599902 1.39195751 3.10911924 7.04113503 6.8761119  3.86013268\n",
      " 7.97405567 0.77345793]\n"
     ]
    }
   ],
   "source": [
    "x5 = 5+2.5*np.random.randn(20)\n",
    "print(x5)"
   ]
  },
  {
   "cell_type": "code",
   "execution_count": 38,
   "metadata": {},
   "outputs": [
    {
     "name": "stdout",
     "output_type": "stream",
     "text": [
      "[ 0  2  4  6  8 10 12 14 16 18 20 22 24 26 28 30 32 34 36 38]\n"
     ]
    }
   ],
   "source": [
    "x6=np.arange(0,40,2)\n",
    "print(x6)"
   ]
  },
  {
   "cell_type": "code",
   "execution_count": 39,
   "metadata": {},
   "outputs": [
    {
     "name": "stdout",
     "output_type": "stream",
     "text": [
      "[10.         10.34482759 10.68965517 11.03448276 11.37931034 11.72413793\n",
      " 12.06896552 12.4137931  12.75862069 13.10344828 13.44827586 13.79310345\n",
      " 14.13793103 14.48275862 14.82758621 15.17241379 15.51724138 15.86206897\n",
      " 16.20689655 16.55172414 16.89655172 17.24137931 17.5862069  17.93103448\n",
      " 18.27586207 18.62068966 18.96551724 19.31034483 19.65517241 20.        ]\n"
     ]
    }
   ],
   "source": [
    "x7=np.linspace(10,20,30)\n",
    "print(x7)"
   ]
  },
  {
   "cell_type": "code",
   "execution_count": 41,
   "metadata": {},
   "outputs": [
    {
     "name": "stdout",
     "output_type": "stream",
     "text": [
      "[18 34 77 97 89 58 20 62]\n",
      "\n"
     ]
    }
   ],
   "source": [
    "np.random.seed(100)\n",
    "\n",
    "x8 = np.random.randint(10, 100, 8)\n",
    "print(x8, end='\\n\\n')\n"
   ]
  },
  {
   "cell_type": "code",
   "execution_count": 42,
   "metadata": {},
   "outputs": [
    {
     "name": "stdout",
     "output_type": "stream",
     "text": [
      "[[18 34 77 97]\n",
      " [89 58 20 62]]\n",
      "\n"
     ]
    }
   ],
   "source": [
    "y2 = x8.reshape(2,4)\n",
    "\n",
    "print(y2, end='\\n\\n')\n"
   ]
  },
  {
   "cell_type": "code",
   "execution_count": 43,
   "metadata": {},
   "outputs": [
    {
     "name": "stdout",
     "output_type": "stream",
     "text": [
      "[[[18 34]\n",
      "  [77 97]]\n",
      "\n",
      " [[89 58]\n",
      "  [20 62]]] \n",
      "\n",
      "\n"
     ]
    }
   ],
   "source": [
    "z2 = x8.reshape(2,2,2)\n",
    "\n",
    "print(z2, '\\n\\n')"
   ]
  },
  {
   "cell_type": "code",
   "execution_count": 44,
   "metadata": {},
   "outputs": [],
   "source": [
    "x9= np.array([[-1, 1], [-3, 3]])\n",
    "y3 = np.array([[-2, 2], [-4, 4]])"
   ]
  },
  {
   "cell_type": "code",
   "execution_count": 46,
   "metadata": {},
   "outputs": [
    {
     "data": {
      "text/plain": [
       "array([[-1,  1],\n",
       "       [-3,  3],\n",
       "       [-2,  2],\n",
       "       [-4,  4]])"
      ]
     },
     "execution_count": 46,
     "metadata": {},
     "output_type": "execute_result"
    }
   ],
   "source": [
    "np.vstack((x9,y3))"
   ]
  },
  {
   "cell_type": "code",
   "execution_count": 47,
   "metadata": {},
   "outputs": [],
   "source": [
    "x10 = np.array([[-1, 1], [-3, 3]])\n",
    "\n",
    "y4 = np.array([[-2, 2], [-4, 4]])\n",
    "\n",
    "z3 = np.array([[-5, 5], [-6, 6]])"
   ]
  },
  {
   "cell_type": "code",
   "execution_count": 48,
   "metadata": {},
   "outputs": [
    {
     "data": {
      "text/plain": [
       "array([[-1,  1, -2,  2, -5,  5],\n",
       "       [-3,  3, -4,  4, -6,  6]])"
      ]
     },
     "execution_count": 48,
     "metadata": {},
     "output_type": "execute_result"
    }
   ],
   "source": [
    "np.hstack((x10,y4,z3))"
   ]
  },
  {
   "cell_type": "code",
   "execution_count": 51,
   "metadata": {},
   "outputs": [
    {
     "name": "stdout",
     "output_type": "stream",
     "text": [
      "[[ 0  1  2  3  4]\n",
      " [ 5  6  7  8  9]\n",
      " [10 11 12 13 14]\n",
      " [15 16 17 18 19]\n",
      " [20 21 22 23 24]\n",
      " [25 26 27 28 29]]\n",
      "\n",
      "[[ 0  1  2  3  4]\n",
      " [ 5  6  7  8  9]\n",
      " [10 11 12 13 14]]\n",
      "\n",
      "[[15 16 17 18 19]\n",
      " [20 21 22 23 24]\n",
      " [25 26 27 28 29]]\n"
     ]
    }
   ],
   "source": [
    "x = np.arange(30).reshape(6, 5)\n",
    "print(x,end='\\n\\n')\n",
    "\n",
    "\n",
    "res = np.vsplit(x, 2)\n",
    "\n",
    "print(res[0], end='\\n\\n')\n",
    "\n",
    "print(res[1])\n"
   ]
  },
  {
   "cell_type": "code",
   "execution_count": 52,
   "metadata": {},
   "outputs": [
    {
     "name": "stdout",
     "output_type": "stream",
     "text": [
      "[[ 0  1  2  3  4]\n",
      " [ 5  6  7  8  9]\n",
      " [10 11 12 13 14]\n",
      " [15 16 17 18 19]\n",
      " [20 21 22 23 24]\n",
      " [25 26 27 28 29]]\n",
      "\n",
      "[[0 1 2 3 4]\n",
      " [5 6 7 8 9]]\n",
      "\n",
      "[[10 11 12 13 14]\n",
      " [15 16 17 18 19]\n",
      " [20 21 22 23 24]]\n",
      "\n",
      "[[25 26 27 28 29]]\n"
     ]
    }
   ],
   "source": [
    "x = np.arange(30).reshape(6, 5)\n",
    "\n",
    "print(x,end='\\n\\n')\n",
    "\n",
    "res = np.vsplit(x, (2, 5))\n",
    "\n",
    "print(res[0], end='\\n\\n')\n",
    "\n",
    "print(res[1], end='\\n\\n')\n",
    "\n",
    "print(res[2])"
   ]
  },
  {
   "cell_type": "code",
   "execution_count": 53,
   "metadata": {},
   "outputs": [
    {
     "name": "stdout",
     "output_type": "stream",
     "text": [
      "[[0 1 2 3 4]\n",
      " [5 6 7 8 9]]\n",
      "\n",
      "[[0 1]\n",
      " [5 6]]\n",
      "\n",
      "[[2 3]\n",
      " [7 8]]\n",
      "\n",
      "[[4]\n",
      " [9]]\n"
     ]
    }
   ],
   "source": [
    "x = np.arange(10).reshape(2, 5)\n",
    "print(x,end='\\n\\n')\n",
    "\n",
    "\n",
    "res = np.hsplit(x, (2,4))\n",
    "\n",
    "print(res[0], end='\\n\\n')\n",
    "\n",
    "print(res[1], end='\\n\\n')\n",
    "\n",
    "print(res[2])\n"
   ]
  },
  {
   "cell_type": "code",
   "execution_count": 55,
   "metadata": {},
   "outputs": [
    {
     "name": "stdout",
     "output_type": "stream",
     "text": [
      "[[0 1 2]\n",
      " [3 4 5]]\n",
      "[[0 1]\n",
      " [3 4]]\n"
     ]
    }
   ],
   "source": [
    "x = np.arange(6).reshape(2,3)\n",
    "print(x)\n",
    "y = np.hsplit(x,(2,))\n",
    "print(y[0])"
   ]
  },
  {
   "cell_type": "code",
   "execution_count": 56,
   "metadata": {},
   "outputs": [
    {
     "name": "stdout",
     "output_type": "stream",
     "text": [
      "(20,)\n"
     ]
    }
   ],
   "source": [
    "x=np.arange(20)\n",
    "print(x.shape)"
   ]
  },
  {
   "cell_type": "code",
   "execution_count": 62,
   "metadata": {},
   "outputs": [
    {
     "name": "stdout",
     "output_type": "stream",
     "text": [
      "[ 0  1  2  3  4  5  6  7  8  9 10 11 12 13 14 15 16 17 18 19]\n",
      "\n",
      "[[ 0  1  2  3  4  5  6  7  8  9]\n",
      " [10 11 12 13 14 15 16 17 18 19]]\n",
      "\n"
     ]
    },
    {
     "data": {
      "text/plain": [
       "[array([[ 0,  1,  2,  3,  4],\n",
       "        [10, 11, 12, 13, 14]]), array([[ 5,  6,  7,  8,  9],\n",
       "        [15, 16, 17, 18, 19]])]"
      ]
     },
     "execution_count": 62,
     "metadata": {},
     "output_type": "execute_result"
    }
   ],
   "source": [
    "y=x.reshape((2, 10))\n",
    "print(x,end='\\n\\n')\n",
    "print(y,end='\\n\\n')\n",
    "np.hsplit(y,2)"
   ]
  },
  {
   "cell_type": "code",
   "execution_count": 63,
   "metadata": {},
   "outputs": [
    {
     "name": "stdout",
     "output_type": "stream",
     "text": [
      "[[ 0  1  2  3  4]\n",
      " [ 5  6  7  8  9]\n",
      " [10 11 12 13 14]\n",
      " [15 16 17 18 19]]\n"
     ]
    }
   ],
   "source": [
    "z=x.reshape((4, 5))\n",
    "print(z)"
   ]
  },
  {
   "cell_type": "code",
   "execution_count": 64,
   "metadata": {},
   "outputs": [
    {
     "data": {
      "text/plain": [
       "[array([[0, 1, 2, 3, 4],\n",
       "        [5, 6, 7, 8, 9]]), array([[10, 11, 12, 13, 14],\n",
       "        [15, 16, 17, 18, 19]])]"
      ]
     },
     "execution_count": 64,
     "metadata": {},
     "output_type": "execute_result"
    }
   ],
   "source": [
    "np.vsplit(z,2)"
   ]
  },
  {
   "cell_type": "code",
   "execution_count": 68,
   "metadata": {},
   "outputs": [
    {
     "name": "stdout",
     "output_type": "stream",
     "text": [
      "[ 3  6  9 12]\n"
     ]
    }
   ],
   "source": [
    "x=np.arange(3,15,3)\n",
    "print(x)"
   ]
  },
  {
   "cell_type": "code",
   "execution_count": 69,
   "metadata": {},
   "outputs": [
    {
     "name": "stdout",
     "output_type": "stream",
     "text": [
      "[[ 3  6]\n",
      " [ 9 12]]\n"
     ]
    }
   ],
   "source": [
    "p=x.reshape(2,2)\n",
    "print(p)"
   ]
  },
  {
   "cell_type": "code",
   "execution_count": 70,
   "metadata": {},
   "outputs": [
    {
     "name": "stdout",
     "output_type": "stream",
     "text": [
      "[15 18 21 24 27 30]\n"
     ]
    }
   ],
   "source": [
    "x=np.arange(15,33,3)\n",
    "print(x)"
   ]
  },
  {
   "cell_type": "code",
   "execution_count": 71,
   "metadata": {},
   "outputs": [
    {
     "name": "stdout",
     "output_type": "stream",
     "text": [
      "[[15 18 21]\n",
      " [24 27 30]]\n"
     ]
    }
   ],
   "source": [
    "q=x.reshape(2,3)\n",
    "print(q)"
   ]
  },
  {
   "cell_type": "code",
   "execution_count": 74,
   "metadata": {},
   "outputs": [
    {
     "data": {
      "text/plain": [
       "array([[ 3,  6, 15, 18, 21],\n",
       "       [ 9, 12, 24, 27, 30]])"
      ]
     },
     "execution_count": 74,
     "metadata": {},
     "output_type": "execute_result"
    }
   ],
   "source": [
    "np.hstack((p,q))"
   ]
  },
  {
   "cell_type": "code",
   "execution_count": null,
   "metadata": {},
   "outputs": [],
   "source": []
  }
 ],
 "metadata": {
  "kernelspec": {
   "display_name": "Python 3",
   "language": "python",
   "name": "python3"
  },
  "language_info": {
   "codemirror_mode": {
    "name": "ipython",
    "version": 3
   },
   "file_extension": ".py",
   "mimetype": "text/x-python",
   "name": "python",
   "nbconvert_exporter": "python",
   "pygments_lexer": "ipython3",
   "version": "3.5.4"
  }
 },
 "nbformat": 4,
 "nbformat_minor": 2
}

{
  "nbformat": 4,
  "nbformat_minor": 0,
  "metadata": {
    "colab": {
      "name": "NLP.ipynb",
      "version": "0.3.2",
      "views": {},
      "default_view": {},
      "provenance": [],
      "toc_visible": true
    },
    "kernelspec": {
      "name": "python3",
      "display_name": "Python 3"
    }
  },
  "cells": [
    {
      "metadata": {
        "id": "ccaizFSsqajO",
        "colab_type": "text"
      },
      "cell_type": "markdown",
      "source": [
        "# NLP - Natural Language Processing\n",
        "\n",
        "Humans communicate in natural languages such as **English, German, Japanese** and so on.\n",
        "\n",
        "On the other hand, a Computer communicates in **Machine Language**, which has a defined set of rules.\n",
        "\n",
        "As a reason, a computer cannot communicate with humans in an effective way\n",
        "\n",
        "Natural Language Processing helps in increasing computer intelligence to understand human languages as spoken and to respond."
      ]
    },
    {
      "metadata": {
        "id": "m05ERuoVqsqW",
        "colab_type": "text"
      },
      "cell_type": "markdown",
      "source": [
        "# Why NLP?\n",
        "\n",
        "NLP techniques are capable of processing and extracting meaningful insights, from huge unstructured data available online.\n",
        "\n",
        "It can automate **translating text** from one language to other.\n",
        "\n",
        "These techniques can be used for performing **sentiment analysis**.\n",
        "\n",
        "It helps in building applications that** interact with humans as humans do**.\n",
        "\n",
        "Also, NLP can help in automating** Text Classification,** **Spam Filtering**, and more."
      ]
    },
    {
      "metadata": {
        "id": "q-FxiEHTq-VO",
        "colab_type": "text"
      },
      "cell_type": "markdown",
      "source": [
        "# nltk\n",
        "\n",
        "**nltk** is a popular Python framework used for developing Python programs to work with human language data.\n",
        "\n",
        "Key features of nltk:\n",
        "\n",
        "It provides access to over** 50 text corpora** and other lexical resources.\n",
        "\n",
        "It is a suite of **text processing tools**.\n",
        "\n",
        "It is **free** to use and **Open source.**\n",
        "\n",
        "It is available for **Windows, Mac OS X, and Linux.**"
      ]
    },
    {
      "metadata": {
        "id": "gsTxbvSVrYuJ",
        "colab_type": "text"
      },
      "cell_type": "markdown",
      "source": [
        "# Installing nltk\n",
        "\n",
        "Having Python installed is the prerequisite for nltk.\n",
        "\n",
        "Once Python is installed, nltk can be installed, automatically, using the shown command.\n",
        "\n",
        "**pip install nltk**\n",
        "\n",
        "Once the installation is done, it can be verified by opening the Python terminal and typing below command.\n",
        "\n",
        "**>>> import nltk**\n",
        "\n",
        "If no error occurs by running the above command, then this indicates successful installation of nltk."
      ]
    },
    {
      "metadata": {
        "id": "4wivbWZcrmce",
        "colab_type": "text"
      },
      "cell_type": "markdown",
      "source": [
        "# Basic Understanding of nltk\n",
        "\n"
      ]
    },
    {
      "metadata": {
        "id": "pDZycut0si0_",
        "colab_type": "text"
      },
      "cell_type": "markdown",
      "source": [
        "## sent_tokenize\n",
        "\n",
        "Now let's understand by performing simple tasks in the next couple of slides.\n",
        "\n",
        "Splitting a sample text into a list of sentences.\n",
        "\n",
        "**sent_tokenize** function generates sentences from the given text."
      ]
    },
    {
      "metadata": {
        "id": "p0Do1Fq8iDGP",
        "colab_type": "code",
        "colab": {
          "autoexec": {
            "startup": false,
            "wait_interval": 0
          },
          "base_uri": "https://localhost:8080/",
          "height": 51
        },
        "outputId": "1a912393-0d2e-4347-e299-50051e2600d2",
        "executionInfo": {
          "status": "ok",
          "timestamp": 1527051048413,
          "user_tz": -330,
          "elapsed": 2714,
          "user": {
            "displayName": "Praveen Ganeshan",
            "photoUrl": "//lh6.googleusercontent.com/-QmspgRZUp3M/AAAAAAAAAAI/AAAAAAAAAN0/JZIoVZouLiM/s50-c-k-no/photo.jpg",
            "userId": "115281149458293297578"
          }
        }
      },
      "cell_type": "code",
      "source": [
        "import nltk\n",
        "nltk.download('punkt')\n",
        "text = \"Python is an interpreted high-level programming language for general-purpose programming. Created by Guido van Rossum and first released in 1991.\""
      ],
      "execution_count": 1,
      "outputs": [
        {
          "output_type": "stream",
          "text": [
            "[nltk_data] Downloading package punkt to /content/nltk_data...\n",
            "[nltk_data]   Unzipping tokenizers/punkt.zip.\n"
          ],
          "name": "stdout"
        }
      ]
    },
    {
      "metadata": {
        "id": "3Tzocc2ar5PB",
        "colab_type": "code",
        "colab": {
          "autoexec": {
            "startup": false,
            "wait_interval": 0
          },
          "base_uri": "https://localhost:8080/",
          "height": 34
        },
        "outputId": "3a2be14c-8343-4922-c4f4-2ee239757583",
        "executionInfo": {
          "status": "ok",
          "timestamp": 1527051053360,
          "user_tz": -330,
          "elapsed": 1019,
          "user": {
            "displayName": "Praveen Ganeshan",
            "photoUrl": "//lh6.googleusercontent.com/-QmspgRZUp3M/AAAAAAAAAAI/AAAAAAAAAN0/JZIoVZouLiM/s50-c-k-no/photo.jpg",
            "userId": "115281149458293297578"
          }
        }
      },
      "cell_type": "code",
      "source": [
        "sentences = nltk.sent_tokenize(text)\n",
        "len(sentences)"
      ],
      "execution_count": 2,
      "outputs": [
        {
          "output_type": "execute_result",
          "data": {
            "text/plain": [
              "2"
            ]
          },
          "metadata": {
            "tags": []
          },
          "execution_count": 2
        }
      ]
    },
    {
      "metadata": {
        "id": "CVfi4K1fsp17",
        "colab_type": "text"
      },
      "cell_type": "markdown",
      "source": [
        "## word_tokenizer\n",
        "\n",
        "Splitting a sample text into words using **word_tokenizer** function"
      ]
    },
    {
      "metadata": {
        "id": "7Vrms72qsSYB",
        "colab_type": "code",
        "colab": {
          "autoexec": {
            "startup": false,
            "wait_interval": 0
          },
          "base_uri": "https://localhost:8080/",
          "height": 34
        },
        "outputId": "0a71b764-bdfb-4345-dad6-7524d23bd152",
        "executionInfo": {
          "status": "ok",
          "timestamp": 1527051054231,
          "user_tz": -330,
          "elapsed": 783,
          "user": {
            "displayName": "Praveen Ganeshan",
            "photoUrl": "//lh6.googleusercontent.com/-QmspgRZUp3M/AAAAAAAAAAI/AAAAAAAAAN0/JZIoVZouLiM/s50-c-k-no/photo.jpg",
            "userId": "115281149458293297578"
          }
        }
      },
      "cell_type": "code",
      "source": [
        "words = nltk.word_tokenize(text)\n",
        "len(words)"
      ],
      "execution_count": 3,
      "outputs": [
        {
          "output_type": "execute_result",
          "data": {
            "text/plain": [
              "22"
            ]
          },
          "metadata": {
            "tags": []
          },
          "execution_count": 3
        }
      ]
    },
    {
      "metadata": {
        "id": "3IR_roMks9Ft",
        "colab_type": "text"
      },
      "cell_type": "markdown",
      "source": [
        "The expression **words[:5]** displays first five words of list words"
      ]
    },
    {
      "metadata": {
        "id": "LcNyLuqSs4OX",
        "colab_type": "code",
        "colab": {
          "autoexec": {
            "startup": false,
            "wait_interval": 0
          },
          "base_uri": "https://localhost:8080/",
          "height": 34
        },
        "outputId": "d50e66a6-ad8a-4f1a-95cd-ead04c35d27f",
        "executionInfo": {
          "status": "ok",
          "timestamp": 1527051055638,
          "user_tz": -330,
          "elapsed": 1237,
          "user": {
            "displayName": "Praveen Ganeshan",
            "photoUrl": "//lh6.googleusercontent.com/-QmspgRZUp3M/AAAAAAAAAAI/AAAAAAAAAN0/JZIoVZouLiM/s50-c-k-no/photo.jpg",
            "userId": "115281149458293297578"
          }
        }
      },
      "cell_type": "code",
      "source": [
        "words[:5]"
      ],
      "execution_count": 4,
      "outputs": [
        {
          "output_type": "execute_result",
          "data": {
            "text/plain": [
              "['Python', 'is', 'an', 'interpreted', 'high-level']"
            ]
          },
          "metadata": {
            "tags": []
          },
          "execution_count": 4
        }
      ]
    },
    {
      "metadata": {
        "id": "YlHVG7J4tAy_",
        "colab_type": "text"
      },
      "cell_type": "markdown",
      "source": [
        "## FreqDis\n",
        "Determining the frequency of words present in sample text using **FreqDist** function.\n",
        "\n",
        "The expression **wordfreq.most_common(2)** displays two highly frequent words with their respective frequency count."
      ]
    },
    {
      "metadata": {
        "id": "BgtJ9TkStT9I",
        "colab_type": "code",
        "colab": {
          "autoexec": {
            "startup": false,
            "wait_interval": 0
          },
          "base_uri": "https://localhost:8080/",
          "height": 34
        },
        "outputId": "7fda692b-2fe2-426d-bf3e-d2a71201612c",
        "executionInfo": {
          "status": "ok",
          "timestamp": 1527051056703,
          "user_tz": -330,
          "elapsed": 998,
          "user": {
            "displayName": "Praveen Ganeshan",
            "photoUrl": "//lh6.googleusercontent.com/-QmspgRZUp3M/AAAAAAAAAAI/AAAAAAAAAN0/JZIoVZouLiM/s50-c-k-no/photo.jpg",
            "userId": "115281149458293297578"
          }
        }
      },
      "cell_type": "code",
      "source": [
        "wordfreq=nltk.FreqDist(words)\n",
        "wordfreq.most_common(2)"
      ],
      "execution_count": 5,
      "outputs": [
        {
          "output_type": "execute_result",
          "data": {
            "text/plain": [
              "[('programming', 2), ('.', 2)]"
            ]
          },
          "metadata": {
            "tags": []
          },
          "execution_count": 5
        }
      ]
    },
    {
      "metadata": {
        "id": "SFgkPsnDvgM_",
        "colab_type": "text"
      },
      "cell_type": "markdown",
      "source": [
        "## Downloading NLTK Book collection\n",
        "\n",
        "In this course, you will be coordinating with several texts curated by NLTK authors.\n",
        "\n",
        "These texts are available in collection **book** of **nltk**.\n",
        "\n",
        "They can be downloaded by running the following command in Python interpreter, after importing nltk successfully."
      ]
    },
    {
      "metadata": {
        "id": "LbWvtoZhvfh_",
        "colab_type": "code",
        "colab": {
          "autoexec": {
            "startup": false,
            "wait_interval": 0
          },
          "base_uri": "https://localhost:8080/",
          "height": 1683
        },
        "outputId": "a9a19d3e-2ac6-4bbf-c8cd-0baa8a66d092",
        "executionInfo": {
          "status": "ok",
          "timestamp": 1527051071671,
          "user_tz": -330,
          "elapsed": 14921,
          "user": {
            "displayName": "Praveen Ganeshan",
            "photoUrl": "//lh6.googleusercontent.com/-QmspgRZUp3M/AAAAAAAAAAI/AAAAAAAAAN0/JZIoVZouLiM/s50-c-k-no/photo.jpg",
            "userId": "115281149458293297578"
          }
        }
      },
      "cell_type": "code",
      "source": [
        "nltk.download('book')"
      ],
      "execution_count": 6,
      "outputs": [
        {
          "output_type": "stream",
          "text": [
            "[nltk_data] Downloading collection 'book'\n",
            "[nltk_data]    | \n",
            "[nltk_data]    | Downloading package abc to /content/nltk_data...\n",
            "[nltk_data]    |   Unzipping corpora/abc.zip.\n",
            "[nltk_data]    | Downloading package brown to /content/nltk_data...\n",
            "[nltk_data]    |   Unzipping corpora/brown.zip.\n",
            "[nltk_data]    | Downloading package chat80 to /content/nltk_data...\n",
            "[nltk_data]    |   Unzipping corpora/chat80.zip.\n",
            "[nltk_data]    | Downloading package cmudict to /content/nltk_data...\n",
            "[nltk_data]    |   Unzipping corpora/cmudict.zip.\n",
            "[nltk_data]    | Downloading package conll2000 to\n",
            "[nltk_data]    |     /content/nltk_data...\n",
            "[nltk_data]    |   Unzipping corpora/conll2000.zip.\n",
            "[nltk_data]    | Downloading package conll2002 to\n",
            "[nltk_data]    |     /content/nltk_data...\n",
            "[nltk_data]    |   Unzipping corpora/conll2002.zip.\n",
            "[nltk_data]    | Downloading package dependency_treebank to\n",
            "[nltk_data]    |     /content/nltk_data...\n",
            "[nltk_data]    |   Unzipping corpora/dependency_treebank.zip.\n",
            "[nltk_data]    | Downloading package genesis to /content/nltk_data...\n",
            "[nltk_data]    |   Unzipping corpora/genesis.zip.\n",
            "[nltk_data]    | Downloading package gutenberg to\n",
            "[nltk_data]    |     /content/nltk_data...\n",
            "[nltk_data]    |   Unzipping corpora/gutenberg.zip.\n",
            "[nltk_data]    | Downloading package ieer to /content/nltk_data...\n",
            "[nltk_data]    |   Unzipping corpora/ieer.zip.\n",
            "[nltk_data]    | Downloading package inaugural to\n",
            "[nltk_data]    |     /content/nltk_data...\n",
            "[nltk_data]    |   Unzipping corpora/inaugural.zip.\n",
            "[nltk_data]    | Downloading package movie_reviews to\n",
            "[nltk_data]    |     /content/nltk_data...\n",
            "[nltk_data]    |   Unzipping corpora/movie_reviews.zip.\n",
            "[nltk_data]    | Downloading package nps_chat to /content/nltk_data...\n",
            "[nltk_data]    |   Unzipping corpora/nps_chat.zip.\n",
            "[nltk_data]    | Downloading package names to /content/nltk_data...\n",
            "[nltk_data]    |   Unzipping corpora/names.zip.\n",
            "[nltk_data]    | Downloading package ppattach to /content/nltk_data...\n",
            "[nltk_data]    |   Unzipping corpora/ppattach.zip.\n",
            "[nltk_data]    | Downloading package reuters to /content/nltk_data...\n",
            "[nltk_data]    | Downloading package senseval to /content/nltk_data...\n",
            "[nltk_data]    |   Unzipping corpora/senseval.zip.\n",
            "[nltk_data]    | Downloading package state_union to\n",
            "[nltk_data]    |     /content/nltk_data...\n",
            "[nltk_data]    |   Unzipping corpora/state_union.zip.\n",
            "[nltk_data]    | Downloading package stopwords to\n",
            "[nltk_data]    |     /content/nltk_data...\n",
            "[nltk_data]    |   Unzipping corpora/stopwords.zip.\n",
            "[nltk_data]    | Downloading package swadesh to /content/nltk_data...\n",
            "[nltk_data]    |   Unzipping corpora/swadesh.zip.\n",
            "[nltk_data]    | Downloading package timit to /content/nltk_data...\n",
            "[nltk_data]    |   Unzipping corpora/timit.zip.\n",
            "[nltk_data]    | Downloading package treebank to /content/nltk_data...\n",
            "[nltk_data]    |   Unzipping corpora/treebank.zip.\n",
            "[nltk_data]    | Downloading package toolbox to /content/nltk_data...\n",
            "[nltk_data]    |   Unzipping corpora/toolbox.zip.\n",
            "[nltk_data]    | Downloading package udhr to /content/nltk_data...\n",
            "[nltk_data]    |   Unzipping corpora/udhr.zip.\n",
            "[nltk_data]    | Downloading package udhr2 to /content/nltk_data...\n",
            "[nltk_data]    |   Unzipping corpora/udhr2.zip.\n",
            "[nltk_data]    | Downloading package unicode_samples to\n",
            "[nltk_data]    |     /content/nltk_data...\n",
            "[nltk_data]    |   Unzipping corpora/unicode_samples.zip.\n",
            "[nltk_data]    | Downloading package webtext to /content/nltk_data...\n",
            "[nltk_data]    |   Unzipping corpora/webtext.zip.\n",
            "[nltk_data]    | Downloading package wordnet to /content/nltk_data...\n",
            "[nltk_data]    |   Unzipping corpora/wordnet.zip.\n",
            "[nltk_data]    | Downloading package wordnet_ic to\n",
            "[nltk_data]    |     /content/nltk_data...\n",
            "[nltk_data]    |   Unzipping corpora/wordnet_ic.zip.\n",
            "[nltk_data]    | Downloading package words to /content/nltk_data...\n",
            "[nltk_data]    |   Unzipping corpora/words.zip.\n",
            "[nltk_data]    | Downloading package maxent_treebank_pos_tagger to\n",
            "[nltk_data]    |     /content/nltk_data...\n",
            "[nltk_data]    |   Unzipping taggers/maxent_treebank_pos_tagger.zip.\n",
            "[nltk_data]    | Downloading package maxent_ne_chunker to\n",
            "[nltk_data]    |     /content/nltk_data...\n",
            "[nltk_data]    |   Unzipping chunkers/maxent_ne_chunker.zip.\n",
            "[nltk_data]    | Downloading package universal_tagset to\n",
            "[nltk_data]    |     /content/nltk_data...\n",
            "[nltk_data]    |   Unzipping taggers/universal_tagset.zip.\n",
            "[nltk_data]    | Downloading package punkt to /content/nltk_data...\n",
            "[nltk_data]    |   Package punkt is already up-to-date!\n",
            "[nltk_data]    | Downloading package book_grammars to\n",
            "[nltk_data]    |     /content/nltk_data...\n",
            "[nltk_data]    |   Unzipping grammars/book_grammars.zip.\n",
            "[nltk_data]    | Downloading package city_database to\n",
            "[nltk_data]    |     /content/nltk_data...\n",
            "[nltk_data]    |   Unzipping corpora/city_database.zip.\n",
            "[nltk_data]    | Downloading package tagsets to /content/nltk_data...\n",
            "[nltk_data]    |   Unzipping help/tagsets.zip.\n",
            "[nltk_data]    | Downloading package panlex_swadesh to\n",
            "[nltk_data]    |     /content/nltk_data...\n",
            "[nltk_data]    | Downloading package averaged_perceptron_tagger to\n",
            "[nltk_data]    |     /content/nltk_data...\n",
            "[nltk_data]    |   Unzipping taggers/averaged_perceptron_tagger.zip.\n",
            "[nltk_data]    | \n",
            "[nltk_data]  Done downloading collection book\n"
          ],
          "name": "stdout"
        },
        {
          "output_type": "execute_result",
          "data": {
            "text/plain": [
              "True"
            ]
          },
          "metadata": {
            "tags": []
          },
          "execution_count": 6
        }
      ]
    },
    {
      "metadata": {
        "id": "_2vq2N9Pvw3o",
        "colab_type": "text"
      },
      "cell_type": "markdown",
      "source": [
        "## Importing Items of 'book'\n",
        "\n",
        "The command loads nine texts and nine sentences, from the collection book"
      ]
    },
    {
      "metadata": {
        "id": "OCJS_KSEvJdz",
        "colab_type": "code",
        "colab": {
          "autoexec": {
            "startup": false,
            "wait_interval": 0
          },
          "base_uri": "https://localhost:8080/",
          "height": 238
        },
        "outputId": "9efe9b33-f76c-445c-d289-f9191a22a6bc",
        "executionInfo": {
          "status": "ok",
          "timestamp": 1527051082456,
          "user_tz": -330,
          "elapsed": 10740,
          "user": {
            "displayName": "Praveen Ganeshan",
            "photoUrl": "//lh6.googleusercontent.com/-QmspgRZUp3M/AAAAAAAAAAI/AAAAAAAAAN0/JZIoVZouLiM/s50-c-k-no/photo.jpg",
            "userId": "115281149458293297578"
          }
        }
      },
      "cell_type": "code",
      "source": [
        "from nltk.book import *"
      ],
      "execution_count": 7,
      "outputs": [
        {
          "output_type": "stream",
          "text": [
            "*** Introductory Examples for the NLTK Book ***\n",
            "Loading text1, ..., text9 and sent1, ..., sent9\n",
            "Type the name of the text or sentence to view it.\n",
            "Type: 'texts()' or 'sents()' to list the materials.\n",
            "text1: Moby Dick by Herman Melville 1851\n",
            "text2: Sense and Sensibility by Jane Austen 1811\n",
            "text3: The Book of Genesis\n",
            "text4: Inaugural Address Corpus\n",
            "text5: Chat Corpus\n",
            "text6: Monty Python and the Holy Grail\n",
            "text7: Wall Street Journal\n",
            "text8: Personals Corpus\n",
            "text9: The Man Who Was Thursday by G . K . Chesterton 1908\n"
          ],
          "name": "stdout"
        }
      ]
    },
    {
      "metadata": {
        "id": "_qcQoOWRwD0u",
        "colab_type": "text"
      },
      "cell_type": "markdown",
      "source": [
        "## Searching Text\n",
        "\n",
        "There are multiple ways of searching for a pattern in a text.\n",
        "\n",
        "The example shown below searches for words starting with **tri**, and ending with **r**"
      ]
    },
    {
      "metadata": {
        "id": "XXbv0zQHwQWy",
        "colab_type": "code",
        "colab": {
          "autoexec": {
            "startup": false,
            "wait_interval": 0
          },
          "base_uri": "https://localhost:8080/",
          "height": 34
        },
        "outputId": "47317f03-df36-4179-96a5-a32f6ad74457",
        "executionInfo": {
          "status": "ok",
          "timestamp": 1527051083314,
          "user_tz": -330,
          "elapsed": 828,
          "user": {
            "displayName": "Praveen Ganeshan",
            "photoUrl": "//lh6.googleusercontent.com/-QmspgRZUp3M/AAAAAAAAAAI/AAAAAAAAAN0/JZIoVZouLiM/s50-c-k-no/photo.jpg",
            "userId": "115281149458293297578"
          }
        }
      },
      "cell_type": "code",
      "source": [
        "text1.findall(\"<tri.*r>\")"
      ],
      "execution_count": 8,
      "outputs": [
        {
          "output_type": "stream",
          "text": [
            "triangular; triangular; triangular; triangular\n"
          ],
          "name": "stdout"
        }
      ]
    },
    {
      "metadata": {
        "id": "3nqpL_hAwjuQ",
        "colab_type": "text"
      },
      "cell_type": "markdown",
      "source": [
        "# Basic Tasks with Text\n",
        "\n",
        "In this topic, you will understand how to perform the following activities, using text1 as input text.\n",
        "\n",
        "Total Word Count\n",
        "\n",
        "Unique Word Count\n",
        "\n",
        "Transforming Words\n",
        "\n",
        "Word Coverage\n",
        "\n",
        "Filtering Words\n",
        "\n",
        "Frequency Distribution"
      ]
    },
    {
      "metadata": {
        "id": "uwJN56UUw7R3",
        "colab_type": "text"
      },
      "cell_type": "markdown",
      "source": [
        "## Determining Total Word Count\n",
        "\n",
        "The text1, imported from nltk.book is an object of nltk.text.Text class.\n",
        "\n",
        "from nltk.book import * **bold text**"
      ]
    },
    {
      "metadata": {
        "id": "aveMzUnywy9S",
        "colab_type": "code",
        "colab": {
          "autoexec": {
            "startup": false,
            "wait_interval": 0
          },
          "base_uri": "https://localhost:8080/",
          "height": 34
        },
        "outputId": "cecda710-b521-496f-9b5a-8c167ed71198",
        "executionInfo": {
          "status": "ok",
          "timestamp": 1527051084163,
          "user_tz": -330,
          "elapsed": 766,
          "user": {
            "displayName": "Praveen Ganeshan",
            "photoUrl": "//lh6.googleusercontent.com/-QmspgRZUp3M/AAAAAAAAAAI/AAAAAAAAAN0/JZIoVZouLiM/s50-c-k-no/photo.jpg",
            "userId": "115281149458293297578"
          }
        }
      },
      "cell_type": "code",
      "source": [
        "type(text1)"
      ],
      "execution_count": 9,
      "outputs": [
        {
          "output_type": "execute_result",
          "data": {
            "text/plain": [
              "nltk.text.Text"
            ]
          },
          "metadata": {
            "tags": []
          },
          "execution_count": 9
        }
      ]
    },
    {
      "metadata": {
        "id": "e_Rg-bSmxFjJ",
        "colab_type": "text"
      },
      "cell_type": "markdown",
      "source": [
        "**Total number** of words in **text1** is determined using **len**."
      ]
    },
    {
      "metadata": {
        "id": "Ea48_Zb6xD4C",
        "colab_type": "code",
        "colab": {
          "autoexec": {
            "startup": false,
            "wait_interval": 0
          },
          "base_uri": "https://localhost:8080/",
          "height": 34
        },
        "outputId": "da74caba-3607-4e70-9a53-356694b23589",
        "executionInfo": {
          "status": "ok",
          "timestamp": 1527051085205,
          "user_tz": -330,
          "elapsed": 973,
          "user": {
            "displayName": "Praveen Ganeshan",
            "photoUrl": "//lh6.googleusercontent.com/-QmspgRZUp3M/AAAAAAAAAAI/AAAAAAAAAN0/JZIoVZouLiM/s50-c-k-no/photo.jpg",
            "userId": "115281149458293297578"
          }
        }
      },
      "cell_type": "code",
      "source": [
        "n_words=len(text1)\n",
        "n_words"
      ],
      "execution_count": 10,
      "outputs": [
        {
          "output_type": "execute_result",
          "data": {
            "text/plain": [
              "260819"
            ]
          },
          "metadata": {
            "tags": []
          },
          "execution_count": 10
        }
      ]
    },
    {
      "metadata": {
        "id": "r8xv4UrAxN14",
        "colab_type": "text"
      },
      "cell_type": "markdown",
      "source": [
        "## Determining Unique Word Count\n",
        "\n",
        "A **unique** number of words in **text1** is determined using **set** and **len** methods"
      ]
    },
    {
      "metadata": {
        "id": "WyaCrTzMxWdc",
        "colab_type": "code",
        "colab": {
          "autoexec": {
            "startup": false,
            "wait_interval": 0
          },
          "base_uri": "https://localhost:8080/",
          "height": 34
        },
        "outputId": "42547c2c-05ca-441d-d7e0-d42daed5f5e2",
        "executionInfo": {
          "status": "ok",
          "timestamp": 1527051086206,
          "user_tz": -330,
          "elapsed": 915,
          "user": {
            "displayName": "Praveen Ganeshan",
            "photoUrl": "//lh6.googleusercontent.com/-QmspgRZUp3M/AAAAAAAAAAI/AAAAAAAAAN0/JZIoVZouLiM/s50-c-k-no/photo.jpg",
            "userId": "115281149458293297578"
          }
        }
      },
      "cell_type": "code",
      "source": [
        "n_unique_words=len(set(text1))\n",
        "n_unique_words"
      ],
      "execution_count": 11,
      "outputs": [
        {
          "output_type": "execute_result",
          "data": {
            "text/plain": [
              "19317"
            ]
          },
          "metadata": {
            "tags": []
          },
          "execution_count": 11
        }
      ]
    },
    {
      "metadata": {
        "id": "Y6gPUbd_xblK",
        "colab_type": "text"
      },
      "cell_type": "markdown",
      "source": [
        "## Transforming Words\n",
        "\n",
        "It is possible to apply a function to any number of words and transform them.\n",
        "\n",
        "Now let's transform every word of **text1** to lowercase and determine **unique words** once again.\n",
        "\n",
        "A difference of **2086** can be found from **n_unique_words**"
      ]
    },
    {
      "metadata": {
        "id": "VkocQLRsxv1n",
        "colab_type": "code",
        "colab": {
          "autoexec": {
            "startup": false,
            "wait_interval": 0
          },
          "base_uri": "https://localhost:8080/",
          "height": 34
        },
        "outputId": "5cfb64bf-e94b-4134-b1ce-5ac92088e529",
        "executionInfo": {
          "status": "ok",
          "timestamp": 1527051087223,
          "user_tz": -330,
          "elapsed": 976,
          "user": {
            "displayName": "Praveen Ganeshan",
            "photoUrl": "//lh6.googleusercontent.com/-QmspgRZUp3M/AAAAAAAAAAI/AAAAAAAAAN0/JZIoVZouLiM/s50-c-k-no/photo.jpg",
            "userId": "115281149458293297578"
          }
        }
      },
      "cell_type": "code",
      "source": [
        "text1_lcw = [ word.lower() for word in set(text1) ]\n",
        "n_unique_words_lc = len(set(text1_lcw))\n",
        "n_unique_words_lc"
      ],
      "execution_count": 12,
      "outputs": [
        {
          "output_type": "execute_result",
          "data": {
            "text/plain": [
              "17231"
            ]
          },
          "metadata": {
            "tags": []
          },
          "execution_count": 12
        }
      ]
    },
    {
      "metadata": {
        "id": "gxvuunS0yGOm",
        "colab_type": "text"
      },
      "cell_type": "markdown",
      "source": [
        "## Determining Word Coverage\n",
        "\n",
        "**Word Coverage**: Word Coverage refers to an average number of times a word is occurring in the text.\n",
        "\n",
        "The following examples determine Word Coverage of raw and transformed text1."
      ]
    },
    {
      "metadata": {
        "id": "8Nt9L5xxyM6n",
        "colab_type": "code",
        "colab": {
          "autoexec": {
            "startup": false,
            "wait_interval": 0
          },
          "base_uri": "https://localhost:8080/",
          "height": 34
        },
        "outputId": "8ecadcf8-f50e-43ea-9574-94908668d80d",
        "executionInfo": {
          "status": "ok",
          "timestamp": 1527051088061,
          "user_tz": -330,
          "elapsed": 758,
          "user": {
            "displayName": "Praveen Ganeshan",
            "photoUrl": "//lh6.googleusercontent.com/-QmspgRZUp3M/AAAAAAAAAAI/AAAAAAAAAN0/JZIoVZouLiM/s50-c-k-no/photo.jpg",
            "userId": "115281149458293297578"
          }
        }
      },
      "cell_type": "code",
      "source": [
        "word_coverage1 = n_words / n_unique_words\n",
        "word_coverage1"
      ],
      "execution_count": 13,
      "outputs": [
        {
          "output_type": "execute_result",
          "data": {
            "text/plain": [
              "13.502044830977896"
            ]
          },
          "metadata": {
            "tags": []
          },
          "execution_count": 13
        }
      ]
    },
    {
      "metadata": {
        "id": "fDdd1gCCypBG",
        "colab_type": "text"
      },
      "cell_type": "markdown",
      "source": [
        "On average, a single word in text1 is repeated** 13.5** times."
      ]
    },
    {
      "metadata": {
        "id": "7llGLtgEysed",
        "colab_type": "code",
        "colab": {
          "autoexec": {
            "startup": false,
            "wait_interval": 0
          },
          "base_uri": "https://localhost:8080/",
          "height": 34
        },
        "outputId": "026d604f-d49a-4d51-f1e7-8d12be463373",
        "executionInfo": {
          "status": "ok",
          "timestamp": 1527051089070,
          "user_tz": -330,
          "elapsed": 937,
          "user": {
            "displayName": "Praveen Ganeshan",
            "photoUrl": "//lh6.googleusercontent.com/-QmspgRZUp3M/AAAAAAAAAAI/AAAAAAAAAN0/JZIoVZouLiM/s50-c-k-no/photo.jpg",
            "userId": "115281149458293297578"
          }
        }
      },
      "cell_type": "code",
      "source": [
        "word_coverage2 = n_words / n_unique_words_lc\n",
        "word_coverage2"
      ],
      "execution_count": 14,
      "outputs": [
        {
          "output_type": "execute_result",
          "data": {
            "text/plain": [
              "15.136614241773549"
            ]
          },
          "metadata": {
            "tags": []
          },
          "execution_count": 14
        }
      ]
    },
    {
      "metadata": {
        "id": "uwd3fWoqy43L",
        "colab_type": "text"
      },
      "cell_type": "markdown",
      "source": [
        "## Filtering Words\n",
        "\n",
        "Now let's see how to filter words based on specific criteria.\n",
        "\n",
        "The following example filters words having characters more than **17**."
      ]
    },
    {
      "metadata": {
        "id": "owOqTNSYy9u6",
        "colab_type": "code",
        "colab": {
          "autoexec": {
            "startup": false,
            "wait_interval": 0
          },
          "base_uri": "https://localhost:8080/",
          "height": 34
        },
        "outputId": "c71b3dc4-6c66-4f31-c164-1e8b75283cc2",
        "executionInfo": {
          "status": "ok",
          "timestamp": 1527051089871,
          "user_tz": -330,
          "elapsed": 749,
          "user": {
            "displayName": "Praveen Ganeshan",
            "photoUrl": "//lh6.googleusercontent.com/-QmspgRZUp3M/AAAAAAAAAAI/AAAAAAAAAN0/JZIoVZouLiM/s50-c-k-no/photo.jpg",
            "userId": "115281149458293297578"
          }
        }
      },
      "cell_type": "code",
      "source": [
        "big_words = [word for word in set(text1) if len(word) > 17 ]\n",
        "big_words"
      ],
      "execution_count": 15,
      "outputs": [
        {
          "output_type": "execute_result",
          "data": {
            "text/plain": [
              "['uninterpenetratingly', 'characteristically']"
            ]
          },
          "metadata": {
            "tags": []
          },
          "execution_count": 15
        }
      ]
    },
    {
      "metadata": {
        "id": "KD2YB5QrzIY7",
        "colab_type": "text"
      },
      "cell_type": "markdown",
      "source": [
        "Now let's see one more example which filters words having the prefix **Sun**"
      ]
    },
    {
      "metadata": {
        "id": "ujPtxLDMzJk_",
        "colab_type": "code",
        "colab": {
          "autoexec": {
            "startup": false,
            "wait_interval": 0
          },
          "base_uri": "https://localhost:8080/",
          "height": 34
        },
        "outputId": "9aa0255e-c438-4501-94ca-1237a5e7f179",
        "executionInfo": {
          "status": "ok",
          "timestamp": 1527051090750,
          "user_tz": -330,
          "elapsed": 800,
          "user": {
            "displayName": "Praveen Ganeshan",
            "photoUrl": "//lh6.googleusercontent.com/-QmspgRZUp3M/AAAAAAAAAAI/AAAAAAAAAN0/JZIoVZouLiM/s50-c-k-no/photo.jpg",
            "userId": "115281149458293297578"
          }
        }
      },
      "cell_type": "code",
      "source": [
        "sun_words = [word for word in set(text1) if word.startswith('Sun') ]\n",
        "sun_words"
      ],
      "execution_count": 16,
      "outputs": [
        {
          "output_type": "execute_result",
          "data": {
            "text/plain": [
              "['Sunday', 'Sunda', 'Sunset']"
            ]
          },
          "metadata": {
            "tags": []
          },
          "execution_count": 16
        }
      ]
    },
    {
      "metadata": {
        "id": "Wd167enJzRB9",
        "colab_type": "text"
      },
      "cell_type": "markdown",
      "source": [
        "The above example is **case-sensitive**. It doesn't filter the words starting with **lowercase s** and followed by un."
      ]
    },
    {
      "metadata": {
        "id": "NhbdWW3WzXTI",
        "colab_type": "text"
      },
      "cell_type": "markdown",
      "source": [
        "## Frequency Distribution\n",
        "\n",
        "**FreqDist** functionality of **nltk** can be used to determine the frequency of all words, present in an input text.\n",
        "\n",
        "The following example, determines frequency distribution of **text1** and further displays the frequency of word **Sunday**."
      ]
    },
    {
      "metadata": {
        "id": "Oi-gqPt9zoag",
        "colab_type": "code",
        "colab": {
          "autoexec": {
            "startup": false,
            "wait_interval": 0
          },
          "base_uri": "https://localhost:8080/",
          "height": 34
        },
        "outputId": "3a043193-46cf-41d3-9ad5-83d878ecf20c",
        "executionInfo": {
          "status": "ok",
          "timestamp": 1527051091796,
          "user_tz": -330,
          "elapsed": 968,
          "user": {
            "displayName": "Praveen Ganeshan",
            "photoUrl": "//lh6.googleusercontent.com/-QmspgRZUp3M/AAAAAAAAAAI/AAAAAAAAAN0/JZIoVZouLiM/s50-c-k-no/photo.jpg",
            "userId": "115281149458293297578"
          }
        }
      },
      "cell_type": "code",
      "source": [
        "text1_freq = nltk.FreqDist(text1)\n",
        "text1_freq['Sunday']"
      ],
      "execution_count": 17,
      "outputs": [
        {
          "output_type": "execute_result",
          "data": {
            "text/plain": [
              "7"
            ]
          },
          "metadata": {
            "tags": []
          },
          "execution_count": 17
        }
      ]
    },
    {
      "metadata": {
        "id": "oK6eddP30JG_",
        "colab_type": "text"
      },
      "cell_type": "markdown",
      "source": [
        "Now let's identify three frequent words from **text1_freq** distribution using **most_common** method."
      ]
    },
    {
      "metadata": {
        "id": "3qi4MGBd0NKz",
        "colab_type": "code",
        "colab": {
          "autoexec": {
            "startup": false,
            "wait_interval": 0
          },
          "base_uri": "https://localhost:8080/",
          "height": 34
        },
        "outputId": "c89da5de-afc8-40db-d481-1aa3bc212cc6",
        "executionInfo": {
          "status": "ok",
          "timestamp": 1527051092685,
          "user_tz": -330,
          "elapsed": 794,
          "user": {
            "displayName": "Praveen Ganeshan",
            "photoUrl": "//lh6.googleusercontent.com/-QmspgRZUp3M/AAAAAAAAAAI/AAAAAAAAAN0/JZIoVZouLiM/s50-c-k-no/photo.jpg",
            "userId": "115281149458293297578"
          }
        }
      },
      "cell_type": "code",
      "source": [
        "top3_text1 = text1_freq.most_common(3)\n",
        "top3_text1"
      ],
      "execution_count": 18,
      "outputs": [
        {
          "output_type": "execute_result",
          "data": {
            "text/plain": [
              "[(',', 18713), ('the', 13721), ('.', 6862)]"
            ]
          },
          "metadata": {
            "tags": []
          },
          "execution_count": 18
        }
      ]
    },
    {
      "metadata": {
        "id": "6-fE1hq_0UFr",
        "colab_type": "text"
      },
      "cell_type": "markdown",
      "source": [
        "The output says the three most frequent words are **, **, **the**, and** .**\n",
        "\n",
        "It may be weird for few of you.\n",
        "\n",
        "In general, you would be interested in finding frequent words which are not common in usage and specific to input text.\n",
        "\n",
        "Filter words having all characters and of larger length.\n",
        "\n",
        "Determine frequency distribution of the filtered words.\n",
        "\n",
        "Identify the three most common words."
      ]
    },
    {
      "metadata": {
        "id": "BrhdELbr0aho",
        "colab_type": "code",
        "colab": {
          "autoexec": {
            "startup": false,
            "wait_interval": 0
          },
          "base_uri": "https://localhost:8080/",
          "height": 34
        },
        "outputId": "a2df1373-8edb-4851-b3d3-d9d3bf6f06d4",
        "executionInfo": {
          "status": "ok",
          "timestamp": 1527051093510,
          "user_tz": -330,
          "elapsed": 784,
          "user": {
            "displayName": "Praveen Ganeshan",
            "photoUrl": "//lh6.googleusercontent.com/-QmspgRZUp3M/AAAAAAAAAAI/AAAAAAAAAN0/JZIoVZouLiM/s50-c-k-no/photo.jpg",
            "userId": "115281149458293297578"
          }
        }
      },
      "cell_type": "code",
      "source": [
        "large_uncommon_words = [word for word in text1 if word.isalpha() and len(word) > 7 ]\n",
        "text1_uncommon_freq = nltk.FreqDist(large_uncommon_words)\n",
        "text1_uncommon_freq.most_common(3)"
      ],
      "execution_count": 19,
      "outputs": [
        {
          "output_type": "execute_result",
          "data": {
            "text/plain": [
              "[('Queequeg', 252), ('Starbuck', 196), ('something', 119)]"
            ]
          },
          "metadata": {
            "tags": []
          },
          "execution_count": 19
        }
      ]
    },
    {
      "metadata": {
        "id": "B83f8f_m0-ZB",
        "colab_type": "text"
      },
      "cell_type": "markdown",
      "source": [
        "**Queequeg**, **Starbuck** and **something** are the top three words, based on the chosen criteria."
      ]
    },
    {
      "metadata": {
        "id": "x9rxD_671AyB",
        "colab_type": "text"
      },
      "cell_type": "markdown",
      "source": [
        "# HandsOn"
      ]
    },
    {
      "metadata": {
        "id": "q7jEf3lM2ryd",
        "colab_type": "text"
      },
      "cell_type": "markdown",
      "source": [
        "No. of words in **text6** and store the result in variable **n** and **print n**.\n",
        "\n",
        "No. of unique words in **text6** and store the result in variable** u** and** print u**.\n",
        "\n",
        "Determine the word coverage of **text6** with obtained n and u. Store the result in variable **wc** and print **wc**."
      ]
    },
    {
      "metadata": {
        "id": "BM-UeUIo2eh-",
        "colab_type": "code",
        "colab": {
          "autoexec": {
            "startup": false,
            "wait_interval": 0
          },
          "base_uri": "https://localhost:8080/",
          "height": 68
        },
        "outputId": "6b3a03c1-aba0-4be8-cc4b-be75743a56f9",
        "executionInfo": {
          "status": "ok",
          "timestamp": 1527051094370,
          "user_tz": -330,
          "elapsed": 790,
          "user": {
            "displayName": "Praveen Ganeshan",
            "photoUrl": "//lh6.googleusercontent.com/-QmspgRZUp3M/AAAAAAAAAAI/AAAAAAAAAN0/JZIoVZouLiM/s50-c-k-no/photo.jpg",
            "userId": "115281149458293297578"
          }
        }
      },
      "cell_type": "code",
      "source": [
        "n=len(text6)\n",
        "print(n)\n",
        "u=len(set(text6))\n",
        "print(u)\n",
        "wc=n/u\n",
        "print(wc)"
      ],
      "execution_count": 20,
      "outputs": [
        {
          "output_type": "stream",
          "text": [
            "16967\n",
            "2166\n",
            "7.833333333333333\n"
          ],
          "name": "stdout"
        }
      ]
    },
    {
      "metadata": {
        "id": "aepsuVMn21L9",
        "colab_type": "text"
      },
      "cell_type": "markdown",
      "source": [
        "Filter the number of words ending with **ise** from the set of **unique** words of **text6**.\n",
        "\n",
        "Store the result in variable **ise_ending_words** and **print ise_ending_words**"
      ]
    },
    {
      "metadata": {
        "id": "WCiNmqgh3e-0",
        "colab_type": "code",
        "colab": {
          "autoexec": {
            "startup": false,
            "wait_interval": 0
          },
          "base_uri": "https://localhost:8080/",
          "height": 34
        },
        "outputId": "3d93cbc8-de8a-4c4d-9a01-aa945199e9c8",
        "executionInfo": {
          "status": "ok",
          "timestamp": 1527051096556,
          "user_tz": -330,
          "elapsed": 2110,
          "user": {
            "displayName": "Praveen Ganeshan",
            "photoUrl": "//lh6.googleusercontent.com/-QmspgRZUp3M/AAAAAAAAAAI/AAAAAAAAAN0/JZIoVZouLiM/s50-c-k-no/photo.jpg",
            "userId": "115281149458293297578"
          }
        }
      },
      "cell_type": "code",
      "source": [
        "ise_ending_words=len([word for word in set(text6) if word.endswith('ise')])\n",
        "print(ise_ending_words)"
      ],
      "execution_count": 21,
      "outputs": [
        {
          "output_type": "stream",
          "text": [
            "4\n"
          ],
          "name": "stdout"
        }
      ]
    },
    {
      "metadata": {
        "id": "wtw2ZfEH3wZm",
        "colab_type": "text"
      },
      "cell_type": "markdown",
      "source": [
        "Filter the words containing **z** from the set of **unique** words of **text6**. \n",
        "\n",
        "Store the result in variable **contains_z**. **print** the number of words present in **contains_z**."
      ]
    },
    {
      "metadata": {
        "id": "DS4eGeHR5YIO",
        "colab_type": "code",
        "colab": {
          "autoexec": {
            "startup": false,
            "wait_interval": 0
          },
          "base_uri": "https://localhost:8080/",
          "height": 34
        },
        "outputId": "9386791a-99a1-4db5-c2d8-f9ed9114c4b4",
        "executionInfo": {
          "status": "ok",
          "timestamp": 1527051097424,
          "user_tz": -330,
          "elapsed": 752,
          "user": {
            "displayName": "Praveen Ganeshan",
            "photoUrl": "//lh6.googleusercontent.com/-QmspgRZUp3M/AAAAAAAAAAI/AAAAAAAAAN0/JZIoVZouLiM/s50-c-k-no/photo.jpg",
            "userId": "115281149458293297578"
          }
        }
      },
      "cell_type": "code",
      "source": [
        "contains_z=[word for word in set(text6) if 'z' in word]\n",
        "print(len(contains_z))"
      ],
      "execution_count": 22,
      "outputs": [
        {
          "output_type": "stream",
          "text": [
            "8\n"
          ],
          "name": "stdout"
        }
      ]
    },
    {
      "metadata": {
        "id": "7ZZRdDBW6bdI",
        "colab_type": "text"
      },
      "cell_type": "markdown",
      "source": [
        "Filter the words containing **pt** from the set of **unique** words of **text6**. \n",
        "\n",
        "Store the result in variable **contains_pt**. **print** the number of words present in **contains_pt**."
      ]
    },
    {
      "metadata": {
        "id": "5XWGocJE6ivW",
        "colab_type": "code",
        "colab": {
          "autoexec": {
            "startup": false,
            "wait_interval": 0
          },
          "base_uri": "https://localhost:8080/",
          "height": 34
        },
        "outputId": "11a0ab34-79de-4336-fa51-b4faf59dfa29",
        "executionInfo": {
          "status": "ok",
          "timestamp": 1527051098264,
          "user_tz": -330,
          "elapsed": 748,
          "user": {
            "displayName": "Praveen Ganeshan",
            "photoUrl": "//lh6.googleusercontent.com/-QmspgRZUp3M/AAAAAAAAAAI/AAAAAAAAAN0/JZIoVZouLiM/s50-c-k-no/photo.jpg",
            "userId": "115281149458293297578"
          }
        }
      },
      "cell_type": "code",
      "source": [
        "contains_pt=[word for word in set(text6) if 'pt' in word]\n",
        "print(len(contains_pt))"
      ],
      "execution_count": 23,
      "outputs": [
        {
          "output_type": "stream",
          "text": [
            "11\n"
          ],
          "name": "stdout"
        }
      ]
    },
    {
      "metadata": {
        "id": "o_za_Snu6xex",
        "colab_type": "text"
      },
      "cell_type": "markdown",
      "source": [
        "Filter those words from the complete set of **text6**, having** first letter in upper case** and all **other letters in lower case**. \n",
        "\n",
        "Store the result in variable **title_words**. **print** the number of words present in **title_words**"
      ]
    },
    {
      "metadata": {
        "id": "5-H1wb6K7IB8",
        "colab_type": "code",
        "colab": {
          "autoexec": {
            "startup": false,
            "wait_interval": 0
          },
          "base_uri": "https://localhost:8080/",
          "height": 34
        },
        "outputId": "e416eec1-770b-4b38-c0a0-ce4bb6ff3149",
        "executionInfo": {
          "status": "ok",
          "timestamp": 1527051099069,
          "user_tz": -330,
          "elapsed": 757,
          "user": {
            "displayName": "Praveen Ganeshan",
            "photoUrl": "//lh6.googleusercontent.com/-QmspgRZUp3M/AAAAAAAAAAI/AAAAAAAAAN0/JZIoVZouLiM/s50-c-k-no/photo.jpg",
            "userId": "115281149458293297578"
          }
        }
      },
      "cell_type": "code",
      "source": [
        "title_words=[word for word in text6 if word.istitle()] #title=text6.findall(\"<[A-Z][a-z]*>\")\n",
        "print(len(title_words))"
      ],
      "execution_count": 24,
      "outputs": [
        {
          "output_type": "stream",
          "text": [
            "2672\n"
          ],
          "name": "stdout"
        }
      ]
    },
    {
      "metadata": {
        "id": "VTKPOzZOhXsU",
        "colab_type": "text"
      },
      "cell_type": "markdown",
      "source": [
        "Determine the frequency distribution of all words in **text6** and determine the **5** frequently occurring words. \n",
        "\n",
        "Store the result in variable **top5_words**. Print second most frequent title word from **top5_words**"
      ]
    },
    {
      "metadata": {
        "id": "YwQKSYVUhrPg",
        "colab_type": "code",
        "colab": {
          "autoexec": {
            "startup": false,
            "wait_interval": 0
          },
          "base_uri": "https://localhost:8080/",
          "height": 51
        },
        "outputId": "bedf3de0-9fdb-41f8-d99e-db562529f3d1",
        "executionInfo": {
          "status": "ok",
          "timestamp": 1527051100119,
          "user_tz": -330,
          "elapsed": 982,
          "user": {
            "displayName": "Praveen Ganeshan",
            "photoUrl": "//lh6.googleusercontent.com/-QmspgRZUp3M/AAAAAAAAAAI/AAAAAAAAAN0/JZIoVZouLiM/s50-c-k-no/photo.jpg",
            "userId": "115281149458293297578"
          }
        }
      },
      "cell_type": "code",
      "source": [
        "freq=nltk.FreqDist([word for word in text6 if word.istitle()])\n",
        "top5_words=freq.most_common(5) \n",
        "print(top5_words)\n",
        "print(top5_words[1][0])"
      ],
      "execution_count": 25,
      "outputs": [
        {
          "output_type": "stream",
          "text": [
            "[('I', 255), ('Oh', 110), ('No', 76), ('What', 65), ('You', 61)]\n",
            "Oh\n"
          ],
          "name": "stdout"
        }
      ]
    },
    {
      "metadata": {
        "id": "jgmqptjxk6Mc",
        "colab_type": "text"
      },
      "cell_type": "markdown",
      "source": [
        "What is the frequency of word '**ARTHUR**' in text collection **text6**"
      ]
    },
    {
      "metadata": {
        "id": "JFFUOTg2k0tu",
        "colab_type": "code",
        "colab": {
          "autoexec": {
            "startup": false,
            "wait_interval": 0
          },
          "base_uri": "https://localhost:8080/",
          "height": 34
        },
        "outputId": "43e8368d-c618-4a25-cfca-9e67f634bff4",
        "executionInfo": {
          "status": "ok",
          "timestamp": 1527051101041,
          "user_tz": -330,
          "elapsed": 824,
          "user": {
            "displayName": "Praveen Ganeshan",
            "photoUrl": "//lh6.googleusercontent.com/-QmspgRZUp3M/AAAAAAAAAAI/AAAAAAAAAN0/JZIoVZouLiM/s50-c-k-no/photo.jpg",
            "userId": "115281149458293297578"
          }
        }
      },
      "cell_type": "code",
      "source": [
        "freq_word=nltk.FreqDist(text6)\n",
        "freq_word['ARTHUR']\n",
        "225/16967"
      ],
      "execution_count": 26,
      "outputs": [
        {
          "output_type": "execute_result",
          "data": {
            "text/plain": [
              "0.013261036128956209"
            ]
          },
          "metadata": {
            "tags": []
          },
          "execution_count": 26
        }
      ]
    },
    {
      "metadata": {
        "id": "spitLqrzlbTF",
        "colab_type": "text"
      },
      "cell_type": "markdown",
      "source": [
        "Count the number of words in text collection, **text6**, ending with **ship**"
      ]
    },
    {
      "metadata": {
        "id": "gffenaCNld-u",
        "colab_type": "code",
        "colab": {
          "autoexec": {
            "startup": false,
            "wait_interval": 0
          },
          "base_uri": "https://localhost:8080/",
          "height": 34
        },
        "outputId": "3b654d0d-5ecb-4731-fa63-304703e1cdbd",
        "executionInfo": {
          "status": "ok",
          "timestamp": 1527051102452,
          "user_tz": -330,
          "elapsed": 1305,
          "user": {
            "displayName": "Praveen Ganeshan",
            "photoUrl": "//lh6.googleusercontent.com/-QmspgRZUp3M/AAAAAAAAAAI/AAAAAAAAAN0/JZIoVZouLiM/s50-c-k-no/photo.jpg",
            "userId": "115281149458293297578"
          }
        }
      },
      "cell_type": "code",
      "source": [
        "ends_ship=[word for word in set(text6) if word.endswith('ship')]\n",
        "print(len(ends_ship))"
      ],
      "execution_count": 27,
      "outputs": [
        {
          "output_type": "stream",
          "text": [
            "1\n"
          ],
          "name": "stdout"
        }
      ]
    },
    {
      "metadata": {
        "id": "ygg-VU3glySe",
        "colab_type": "text"
      },
      "cell_type": "markdown",
      "source": [
        "What is **range of length of words** present in text collection **text6**"
      ]
    },
    {
      "metadata": {
        "id": "hzVRB0dDl3Kr",
        "colab_type": "code",
        "colab": {
          "autoexec": {
            "startup": false,
            "wait_interval": 0
          },
          "base_uri": "https://localhost:8080/",
          "height": 34
        },
        "outputId": "5ecbeb80-3171-43f9-cfd3-4b676a9c2b72",
        "executionInfo": {
          "status": "ok",
          "timestamp": 1527051103269,
          "user_tz": -330,
          "elapsed": 769,
          "user": {
            "displayName": "Praveen Ganeshan",
            "photoUrl": "//lh6.googleusercontent.com/-QmspgRZUp3M/AAAAAAAAAAI/AAAAAAAAAN0/JZIoVZouLiM/s50-c-k-no/photo.jpg",
            "userId": "115281149458293297578"
          }
        }
      },
      "cell_type": "code",
      "source": [
        "word_6=[len(word) for word in text6]\n",
        "print(min(word_6),max(word_6))"
      ],
      "execution_count": 28,
      "outputs": [
        {
          "output_type": "stream",
          "text": [
            "1 13\n"
          ],
          "name": "stdout"
        }
      ]
    },
    {
      "metadata": {
        "id": "sEjcvBEqherb",
        "colab_type": "text"
      },
      "cell_type": "markdown",
      "source": [
        "# Working with text copora"
      ]
    },
    {
      "metadata": {
        "id": "NIptlA0hpuAr",
        "colab_type": "text"
      },
      "cell_type": "markdown",
      "source": [
        "## Text Corpora\n",
        "\n",
        " Will work with larger text collections known as **Text Corpora** or **Text Corpus**"
      ]
    },
    {
      "metadata": {
        "id": "GDJ_fZzLqHVX",
        "colab_type": "text"
      },
      "cell_type": "markdown",
      "source": [
        "## Popular Text Corpora\n",
        "\n",
        "Two popular **Text Corpora** available from **nltk**, which are:\n",
        "\n",
        "**Genesis**: It is a collection of few words across multiple languages.\n",
        "\n",
        "**Brown**: It is the first electronic corpus of one million English words.\n",
        "\n",
        "Other Corpus in **nltk**\n",
        "\n",
        "**Gutenberg** : Collections from Project Gutenberg\n",
        "\n",
        "**Inaugural** : Collection of U.S Presidents inaugural speeches"
      ]
    },
    {
      "metadata": {
        "id": "UNKMS1Skqchc",
        "colab_type": "text"
      },
      "cell_type": "markdown",
      "source": [
        "## Popular Text Corpora\n",
        "\n",
        "**stopwords** : Collection of stop words.\n",
        "\n",
        "**reuters** : Collection of news articles.\n",
        "\n",
        "**cmudict** : Collection of CMU Dictionary words.\n",
        "\n",
        "**movie_reviews** : Collection of Movie Reviews.\n",
        "\n",
        "**np_chat** : Collection of chat text.\n",
        "\n",
        "**names** : Collection of names associated with males and females.\n",
        "\n",
        "**state_union** : Collection of state union address.\n",
        "\n",
        "**wordnet** : Collection of all lexical entries.\n",
        "\n",
        "**words** : Collection of words in Wordlist corpus."
      ]
    },
    {
      "metadata": {
        "id": "Gpgjjbt8qqgu",
        "colab_type": "text"
      },
      "cell_type": "markdown",
      "source": [
        "## Accessing Text Corpora\n",
        "\n",
        "imports **genesis** text corpus"
      ]
    },
    {
      "metadata": {
        "id": "csLlF09Cqb-a",
        "colab_type": "code",
        "colab": {
          "autoexec": {
            "startup": false,
            "wait_interval": 0
          }
        }
      },
      "cell_type": "code",
      "source": [
        "from nltk.corpus import genesis"
      ],
      "execution_count": 0,
      "outputs": []
    },
    {
      "metadata": {
        "id": "c31--f5nq6if",
        "colab_type": "text"
      },
      "cell_type": "markdown",
      "source": [
        "Various text collections available under **genesis** text corpus are viewed by **fileids** method."
      ]
    },
    {
      "metadata": {
        "id": "bYIXkkvEq8pN",
        "colab_type": "code",
        "colab": {
          "autoexec": {
            "startup": false,
            "wait_interval": 0
          },
          "base_uri": "https://localhost:8080/",
          "height": 153
        },
        "outputId": "da23a61f-4b25-4dec-af52-bb663462fb2d",
        "executionInfo": {
          "status": "ok",
          "timestamp": 1527051104937,
          "user_tz": -330,
          "elapsed": 763,
          "user": {
            "displayName": "Praveen Ganeshan",
            "photoUrl": "//lh6.googleusercontent.com/-QmspgRZUp3M/AAAAAAAAAAI/AAAAAAAAAN0/JZIoVZouLiM/s50-c-k-no/photo.jpg",
            "userId": "115281149458293297578"
          }
        }
      },
      "cell_type": "code",
      "source": [
        "genesis.fileids()"
      ],
      "execution_count": 30,
      "outputs": [
        {
          "output_type": "execute_result",
          "data": {
            "text/plain": [
              "['english-kjv.txt',\n",
              " 'english-web.txt',\n",
              " 'finnish.txt',\n",
              " 'french.txt',\n",
              " 'german.txt',\n",
              " 'lolcat.txt',\n",
              " 'portuguese.txt',\n",
              " 'swedish.txt']"
            ]
          },
          "metadata": {
            "tags": []
          },
          "execution_count": 30
        }
      ]
    },
    {
      "metadata": {
        "id": "qgdfLg_JrE0Z",
        "colab_type": "text"
      },
      "cell_type": "markdown",
      "source": [
        "## Working with a Text Corpus\n",
        "\n",
        "The following example determines the **average word length** and **average sentence length** of each text collection present in **genesis corpus**."
      ]
    },
    {
      "metadata": {
        "id": "Mi88sp1OrEf5",
        "colab_type": "code",
        "colab": {
          "autoexec": {
            "startup": false,
            "wait_interval": 0
          },
          "base_uri": "https://localhost:8080/",
          "height": 153
        },
        "outputId": "8f3685ba-1e72-4e3b-ea2a-7e11677e94b2",
        "executionInfo": {
          "status": "ok",
          "timestamp": 1527051106887,
          "user_tz": -330,
          "elapsed": 1869,
          "user": {
            "displayName": "Praveen Ganeshan",
            "photoUrl": "//lh6.googleusercontent.com/-QmspgRZUp3M/AAAAAAAAAAI/AAAAAAAAAN0/JZIoVZouLiM/s50-c-k-no/photo.jpg",
            "userId": "115281149458293297578"
          }
        }
      },
      "cell_type": "code",
      "source": [
        "for fileid in genesis.fileids():\n",
        "  n_chars = len(genesis.raw(fileid))\n",
        "  n_words = len(genesis.words(fileid))\n",
        "  n_sents = len(genesis.sents(fileid))\n",
        "  print(int(n_chars/n_words), int(n_words/n_sents), fileid)"
      ],
      "execution_count": 31,
      "outputs": [
        {
          "output_type": "stream",
          "text": [
            "4 30 english-kjv.txt\n",
            "4 19 english-web.txt\n",
            "5 15 finnish.txt\n",
            "4 23 french.txt\n",
            "4 23 german.txt\n",
            "4 20 lolcat.txt\n",
            "4 27 portuguese.txt\n",
            "4 30 swedish.txt\n"
          ],
          "name": "stdout"
        }
      ]
    },
    {
      "metadata": {
        "id": "fRi0r9b6rkJX",
        "colab_type": "text"
      },
      "cell_type": "markdown",
      "source": [
        "The methods **raw**, **words** and **sents** used in code determine the** total number of characters, words, and sentences** present in a specific text collection.\n",
        "\n",
        "Text collection** finnish.txt** has **different average word length**."
      ]
    },
    {
      "metadata": {
        "id": "2wcR6B7sr-eL",
        "colab_type": "text"
      },
      "cell_type": "markdown",
      "source": [
        "## Text Corpus Structure\n",
        "\n",
        "A text corpus is organized into any of the following **four** structures.\n",
        "\n",
        "**Isolated** - Holds Individual text collections.\n",
        "\n",
        "**Categorized** - Each text collection tagged to a category.\n",
        "\n",
        "**Overlapping** - Each text collection tagged to one or more categories, and\n",
        "\n",
        "**Temporal** - Each text collection tagged to a period, date, time, etc."
      ]
    },
    {
      "metadata": {
        "id": "ZdfvTwsnsMfG",
        "colab_type": "text"
      },
      "cell_type": "markdown",
      "source": [
        "### Isolated Text Corpus\n",
        "\n",
        "**genesis** text corpus has **eight** text collections, which are isolated in structure."
      ]
    },
    {
      "metadata": {
        "id": "JaRdIlBrsXTG",
        "colab_type": "text"
      },
      "cell_type": "markdown",
      "source": [
        "### Categorized Text Corpus\n",
        "\n",
        "Each text collection is tagged to a specific category or genre.\n",
        "\n",
        "E.g.: **Brown** text corpus contains **500** collections, which are categorized into** 15 genres**."
      ]
    },
    {
      "metadata": {
        "id": "7fTegkz3sljs",
        "colab_type": "text"
      },
      "cell_type": "markdown",
      "source": [
        "### Overlapping Text Corpus\n",
        "\n",
        "Each collection is categorized into one or more genre.\n",
        "\n",
        "E.g.: **Reuters** corpus contains **10788** collections, which are tagged to **90 genre**."
      ]
    },
    {
      "metadata": {
        "id": "veuNFCyksvuE",
        "colab_type": "text"
      },
      "cell_type": "markdown",
      "source": [
        "### Temporal Text Corpus\n",
        "\n",
        "Each text collection is tagged to a period of time.\n",
        "\n",
        "E.g.: **inaugural** corpus contain text collections corresponding to U.S inaugural presidential speeches, gathered over a period of time."
      ]
    },
    {
      "metadata": {
        "id": "qSVblcDRs5XK",
        "colab_type": "text"
      },
      "cell_type": "markdown",
      "source": [
        "## Loading User Specific Corpus\n",
        "\n",
        "Now let's see how to convert your collection of text files into a text corpus.\n",
        "\n",
        "Suppose, you have three files **c1.txt**, **c2.txt** and **c3.txt** in **/usr/home/dict** path.\n",
        "\n",
        "Creation of corpus wordlists corpus is shown in the following example."
      ]
    },
    {
      "metadata": {
        "id": "RQaKZV_ztJEI",
        "colab_type": "code",
        "colab": {
          "autoexec": {
            "startup": false,
            "wait_interval": 0
          },
          "base_uri": "https://localhost:8080/",
          "height": 34
        },
        "outputId": "bd5f9587-9141-44d4-902f-e5a271ab7885",
        "executionInfo": {
          "status": "ok",
          "timestamp": 1527051107604,
          "user_tz": -330,
          "elapsed": 698,
          "user": {
            "displayName": "Praveen Ganeshan",
            "photoUrl": "//lh6.googleusercontent.com/-QmspgRZUp3M/AAAAAAAAAAI/AAAAAAAAAN0/JZIoVZouLiM/s50-c-k-no/photo.jpg",
            "userId": "115281149458293297578"
          }
        }
      },
      "cell_type": "code",
      "source": [
        "from nltk.corpus import PlaintextCorpusReader\n",
        "corpus_root = '/usr/share/dict'\n",
        "wordlists = PlaintextCorpusReader(corpus_root, '.*')\n",
        "wordlists.fileids()"
      ],
      "execution_count": 32,
      "outputs": [
        {
          "output_type": "execute_result",
          "data": {
            "text/plain": [
              "[]"
            ]
          },
          "metadata": {
            "tags": []
          },
          "execution_count": 32
        }
      ]
    },
    {
      "metadata": {
        "id": "OP_QGTEotoKl",
        "colab_type": "text"
      },
      "cell_type": "markdown",
      "source": [
        "## HandsOn\n",
        "\n",
        "Compute the **Word coverage** of all fileids associated with text corpus **gutenberg**.\n",
        "\n",
        "Display the **word coverage** for each fileid in a separate line. \n",
        "\n",
        "A sample output is shown below for reference.\n",
        "\n",
        "3.4567899 file1.txt\n",
        "\n",
        "4.6787387 file2.txt"
      ]
    },
    {
      "metadata": {
        "id": "XYqWocFnuOgv",
        "colab_type": "code",
        "colab": {
          "autoexec": {
            "startup": false,
            "wait_interval": 0
          }
        }
      },
      "cell_type": "code",
      "source": [
        "from nltk.corpus import gutenberg"
      ],
      "execution_count": 0,
      "outputs": []
    },
    {
      "metadata": {
        "id": "yaamW33ML8Yh",
        "colab_type": "code",
        "colab": {
          "autoexec": {
            "startup": false,
            "wait_interval": 0
          },
          "base_uri": "https://localhost:8080/",
          "height": 323
        },
        "outputId": "910947b1-79ad-49bc-d3c8-97385c62c33c",
        "executionInfo": {
          "status": "ok",
          "timestamp": 1527051116817,
          "user_tz": -330,
          "elapsed": 8324,
          "user": {
            "displayName": "Praveen Ganeshan",
            "photoUrl": "//lh6.googleusercontent.com/-QmspgRZUp3M/AAAAAAAAAAI/AAAAAAAAAN0/JZIoVZouLiM/s50-c-k-no/photo.jpg",
            "userId": "115281149458293297578"
          }
        }
      },
      "cell_type": "code",
      "source": [
        "for fileid in gutenberg.fileids():  \n",
        "  nword=len(gutenberg.words(fileid))\n",
        "  nuniq=len(set(gutenberg.words(fileid)))\n",
        "  print(\"%.7f\"%(nword/nuniq),fileid)"
      ],
      "execution_count": 34,
      "outputs": [
        {
          "output_type": "stream",
          "text": [
            "24.6353860 austen-emma.txt\n",
            "16.0096217 austen-persuasion.txt\n",
            "20.7194497 austen-sense.txt\n",
            "73.4006827 bible-kjv.txt\n",
            "4.5901099 blake-poems.txt\n",
            "12.5708145 bryant-stories.txt\n",
            "10.7500000 burgess-busterbrown.txt\n",
            "11.3096817 carroll-alice.txt\n",
            "10.8411758 chesterton-ball.txt\n",
            "10.3702856 chesterton-brown.txt\n",
            "10.1679154 chesterton-thursday.txt\n",
            "21.9600751 edgeworth-parents.txt\n",
            "13.5020448 melville-moby_dick.txt\n",
            "9.0061390 milton-paradise.txt\n",
            "7.2564607 shakespeare-caesar.txt\n",
            "6.8588214 shakespeare-hamlet.txt\n",
            "5.7605178 shakespeare-macbeth.txt\n",
            "10.8090586 whitman-leaves.txt\n"
          ],
          "name": "stdout"
        }
      ]
    },
    {
      "metadata": {
        "id": "wTwzt6B2NZ-y",
        "colab_type": "text"
      },
      "cell_type": "markdown",
      "source": [
        "**Average word length** in each fileids of **gutenberg**."
      ]
    },
    {
      "metadata": {
        "id": "dRCjpQm4uW-V",
        "colab_type": "code",
        "colab": {
          "autoexec": {
            "startup": false,
            "wait_interval": 0
          },
          "base_uri": "https://localhost:8080/",
          "height": 323
        },
        "outputId": "bdb755a9-ec77-4978-a688-58a684ecc328",
        "executionInfo": {
          "status": "ok",
          "timestamp": 1527051121128,
          "user_tz": -330,
          "elapsed": 4290,
          "user": {
            "displayName": "Praveen Ganeshan",
            "photoUrl": "//lh6.googleusercontent.com/-QmspgRZUp3M/AAAAAAAAAAI/AAAAAAAAAN0/JZIoVZouLiM/s50-c-k-no/photo.jpg",
            "userId": "115281149458293297578"
          }
        }
      },
      "cell_type": "code",
      "source": [
        "for fileid in gutenberg.fileids():\n",
        "  nchar=len(gutenberg.raw(fileid))\n",
        "  nword=len(gutenberg.words(fileid))\n",
        "  print(\"%.7f\"%(nchar/nword),fileid)"
      ],
      "execution_count": 35,
      "outputs": [
        {
          "output_type": "stream",
          "text": [
            "4.6099092 austen-emma.txt\n",
            "4.7497937 austen-persuasion.txt\n",
            "4.7537860 austen-sense.txt\n",
            "4.2868816 bible-kjv.txt\n",
            "4.5670338 blake-poems.txt\n",
            "4.4893004 bryant-stories.txt\n",
            "4.4646417 burgess-busterbrown.txt\n",
            "4.2332161 carroll-alice.txt\n",
            "4.7161739 chesterton-ball.txt\n",
            "4.7247830 chesterton-brown.txt\n",
            "4.6309942 chesterton-thursday.txt\n",
            "4.4391184 edgeworth-parents.txt\n",
            "4.7657188 melville-moby_dick.txt\n",
            "4.8357346 milton-paradise.txt\n",
            "4.3475400 shakespeare-caesar.txt\n",
            "4.3597698 shakespeare-hamlet.txt\n",
            "4.3366897 shakespeare-macbeth.txt\n",
            "4.5919501 whitman-leaves.txt\n"
          ],
          "name": "stdout"
        }
      ]
    },
    {
      "metadata": {
        "id": "Tk5rV2L4vsA9",
        "colab_type": "text"
      },
      "cell_type": "markdown",
      "source": [
        "Obtain all words present in fileid **austen-sense.txt** of **gutenberg** corpus. \n",
        "\n",
        "Store the result in variable **aus_words**.\n",
        "\n",
        "Filter those words from **aus_words** which contain only **alphabets**. Store the result in variable **aus_words_alpha**.\n",
        "\n",
        "Filter those words from **aus_words_alpha** which have** length greater than 4** and also contains** atleast one z character**. Store the result in **aus_words_gt4_z**\n",
        "\n",
        "print the length of variable **aus_words_gt4_z**"
      ]
    },
    {
      "metadata": {
        "id": "auGyocOlN5GC",
        "colab_type": "code",
        "colab": {
          "autoexec": {
            "startup": false,
            "wait_interval": 0
          },
          "base_uri": "https://localhost:8080/",
          "height": 34
        },
        "outputId": "cf76568f-0e93-45ad-b073-e63471d9db42",
        "executionInfo": {
          "status": "ok",
          "timestamp": 1527051121917,
          "user_tz": -330,
          "elapsed": 764,
          "user": {
            "displayName": "Praveen Ganeshan",
            "photoUrl": "//lh6.googleusercontent.com/-QmspgRZUp3M/AAAAAAAAAAI/AAAAAAAAAN0/JZIoVZouLiM/s50-c-k-no/photo.jpg",
            "userId": "115281149458293297578"
          }
        }
      },
      "cell_type": "code",
      "source": [
        "aus_words=gutenberg.words('austen-sense.txt')\n",
        "aus_words_alpha=[word for word in aus_words if word.isalpha()]\n",
        "aus_words_gt4_z=[word for word in aus_words_alpha if (len(word)>4) & ('z' in word)]\n",
        "print(len(aus_words_gt4_z))"
      ],
      "execution_count": 36,
      "outputs": [
        {
          "output_type": "stream",
          "text": [
            "51\n"
          ],
          "name": "stdout"
        }
      ]
    },
    {
      "metadata": {
        "id": "gS9sAw4sQ2zm",
        "colab_type": "text"
      },
      "cell_type": "markdown",
      "source": [
        "Convert each word in **aus_words_alpha** to **lowercase** and determine the** set of unique words**. Store the result in **aus_unique_words**.\n",
        "\n",
        "Obtain all words from corpus words. Store the result in **engcorpus_words**.\n",
        "\n",
        "Convert each word in **engcorpus_words** to** lowercase** and determine the** set of unique words**. Store the result in **engcorpus_unique_words**.\n",
        "\n",
        "Find the words which are in **aus_words_alpha** and **not in engcorpus_unique_words**. Store the result in **unusual_words** variable. \n",
        "\n",
        "***Hint***: Make use of **difference** method used for sets.\n",
        "\n",
        "Print the length of **unusual_words**"
      ]
    },
    {
      "metadata": {
        "id": "NDoCYDlSSk6b",
        "colab_type": "code",
        "colab": {
          "autoexec": {
            "startup": false,
            "wait_interval": 0
          },
          "base_uri": "https://localhost:8080/",
          "height": 34
        },
        "outputId": "b2204a0e-1b0f-4c48-f9bf-f03b2be1240d",
        "executionInfo": {
          "status": "ok",
          "timestamp": 1527051122772,
          "user_tz": -330,
          "elapsed": 766,
          "user": {
            "displayName": "Praveen Ganeshan",
            "photoUrl": "//lh6.googleusercontent.com/-QmspgRZUp3M/AAAAAAAAAAI/AAAAAAAAAN0/JZIoVZouLiM/s50-c-k-no/photo.jpg",
            "userId": "115281149458293297578"
          }
        }
      },
      "cell_type": "code",
      "source": [
        "aus_unique_words = set([word.lower() for word in set(aus_words_alpha) ])\n",
        "engcorpus_words=nltk.corpus.words.words()\n",
        "engcorpus_unique_words=set([word.lower() for word in set(engcorpus_words) ])\n",
        "unusual_words=aus_unique_words.difference(engcorpus_unique_words)\n",
        "print(len(unusual_words))"
      ],
      "execution_count": 37,
      "outputs": [
        {
          "output_type": "stream",
          "text": [
            "1601\n"
          ],
          "name": "stdout"
        }
      ]
    },
    {
      "metadata": {
        "id": "7w7H1mTvepG5",
        "colab_type": "text"
      },
      "cell_type": "markdown",
      "source": [
        "# Conditional Frequency Distributions\n",
        "\n",
        "**FreqDist** function computes the frequency of each item in a list.\n",
        "\n",
        "While computing a frequency distribution, you observe occurrence count of an event."
      ]
    },
    {
      "metadata": {
        "id": "aZ2ZQrWzqlLj",
        "colab_type": "code",
        "colab": {
          "autoexec": {
            "startup": false,
            "wait_interval": 0
          },
          "base_uri": "https://localhost:8080/",
          "height": 34
        },
        "outputId": "8da54c32-bfab-4ecf-d704-76c9c1cae731",
        "executionInfo": {
          "status": "ok",
          "timestamp": 1527051123802,
          "user_tz": -330,
          "elapsed": 952,
          "user": {
            "displayName": "Praveen Ganeshan",
            "photoUrl": "//lh6.googleusercontent.com/-QmspgRZUp3M/AAAAAAAAAAI/AAAAAAAAAN0/JZIoVZouLiM/s50-c-k-no/photo.jpg",
            "userId": "115281149458293297578"
          }
        }
      },
      "cell_type": "code",
      "source": [
        "items = ['apple', 'apple', 'kiwi', 'cabbage', 'cabbage', 'potato']\n",
        "nltk.FreqDist(items)"
      ],
      "execution_count": 38,
      "outputs": [
        {
          "output_type": "execute_result",
          "data": {
            "text/plain": [
              "FreqDist({'apple': 2, 'cabbage': 2, 'kiwi': 1, 'potato': 1})"
            ]
          },
          "metadata": {
            "tags": []
          },
          "execution_count": 38
        }
      ]
    },
    {
      "metadata": {
        "id": "mq2Q79VOq_gw",
        "colab_type": "text"
      },
      "cell_type": "markdown",
      "source": [
        "A **Conditional Frequency** is a collection of frequency distributions, computed based on a condition.\n",
        "\n",
        "For computing a conditional frequency, you have to attach a condition to every occurrence of an event.\n",
        "\n",
        "Let's consider the following list for computing Conditional Frequency."
      ]
    },
    {
      "metadata": {
        "id": "rw1m7H0GrDHZ",
        "colab_type": "code",
        "colab": {
          "autoexec": {
            "startup": false,
            "wait_interval": 0
          }
        }
      },
      "cell_type": "code",
      "source": [
        "c_items = [('F','apple'), ('F','apple'), ('F','kiwi'), ('V','cabbage'), ('V','cabbage'), ('V','potato') ]"
      ],
      "execution_count": 0,
      "outputs": []
    },
    {
      "metadata": {
        "id": "BbedMzLwrGMO",
        "colab_type": "text"
      },
      "cell_type": "markdown",
      "source": [
        "## Computing Conditional Frequency\n",
        "Each item is grouped either as a fruit **F** or a vegetable** V**\n",
        "\n",
        "**ConditionalFreqDist** function of **nltk** is used to compute Conditional Frequency Distribution (CDF)."
      ]
    },
    {
      "metadata": {
        "id": "uR3aHU3JrF7L",
        "colab_type": "code",
        "colab": {
          "autoexec": {
            "startup": false,
            "wait_interval": 0
          },
          "base_uri": "https://localhost:8080/",
          "height": 34
        },
        "outputId": "f587b12e-fa17-4940-f9e4-203c001870fc",
        "executionInfo": {
          "status": "ok",
          "timestamp": 1527051125555,
          "user_tz": -330,
          "elapsed": 778,
          "user": {
            "displayName": "Praveen Ganeshan",
            "photoUrl": "//lh6.googleusercontent.com/-QmspgRZUp3M/AAAAAAAAAAI/AAAAAAAAAN0/JZIoVZouLiM/s50-c-k-no/photo.jpg",
            "userId": "115281149458293297578"
          }
        }
      },
      "cell_type": "code",
      "source": [
        "cfd = nltk.ConditionalFreqDist(c_items)\n",
        "cfd.conditions()"
      ],
      "execution_count": 40,
      "outputs": [
        {
          "output_type": "execute_result",
          "data": {
            "text/plain": [
              "['F', 'V']"
            ]
          },
          "metadata": {
            "tags": []
          },
          "execution_count": 40
        }
      ]
    },
    {
      "metadata": {
        "id": "kV-agC2Srm_l",
        "colab_type": "code",
        "colab": {
          "autoexec": {
            "startup": false,
            "wait_interval": 0
          },
          "base_uri": "https://localhost:8080/",
          "height": 34
        },
        "outputId": "299289db-5e0a-4e01-b5d4-9d33c95ef490",
        "executionInfo": {
          "status": "ok",
          "timestamp": 1527051126390,
          "user_tz": -330,
          "elapsed": 773,
          "user": {
            "displayName": "Praveen Ganeshan",
            "photoUrl": "//lh6.googleusercontent.com/-QmspgRZUp3M/AAAAAAAAAAI/AAAAAAAAAN0/JZIoVZouLiM/s50-c-k-no/photo.jpg",
            "userId": "115281149458293297578"
          }
        }
      },
      "cell_type": "code",
      "source": [
        "cfd['F']"
      ],
      "execution_count": 41,
      "outputs": [
        {
          "output_type": "execute_result",
          "data": {
            "text/plain": [
              "FreqDist({'apple': 2, 'kiwi': 1})"
            ]
          },
          "metadata": {
            "tags": []
          },
          "execution_count": 41
        }
      ]
    },
    {
      "metadata": {
        "id": "9WXKguXQrpin",
        "colab_type": "code",
        "colab": {
          "autoexec": {
            "startup": false,
            "wait_interval": 0
          },
          "base_uri": "https://localhost:8080/",
          "height": 34
        },
        "outputId": "4cb18f86-5317-42c7-cded-c9a3b592cb95",
        "executionInfo": {
          "status": "ok",
          "timestamp": 1527051127408,
          "user_tz": -330,
          "elapsed": 947,
          "user": {
            "displayName": "Praveen Ganeshan",
            "photoUrl": "//lh6.googleusercontent.com/-QmspgRZUp3M/AAAAAAAAAAI/AAAAAAAAAN0/JZIoVZouLiM/s50-c-k-no/photo.jpg",
            "userId": "115281149458293297578"
          }
        }
      },
      "cell_type": "code",
      "source": [
        "cfd['V']"
      ],
      "execution_count": 42,
      "outputs": [
        {
          "output_type": "execute_result",
          "data": {
            "text/plain": [
              "FreqDist({'cabbage': 2, 'potato': 1})"
            ]
          },
          "metadata": {
            "tags": []
          },
          "execution_count": 42
        }
      ]
    },
    {
      "metadata": {
        "id": "4j0nQk24r0E2",
        "colab_type": "code",
        "colab": {
          "autoexec": {
            "startup": false,
            "wait_interval": 0
          },
          "base_uri": "https://localhost:8080/",
          "height": 68
        },
        "outputId": "01281db2-55af-403b-ba4d-6f3f49e48faa",
        "executionInfo": {
          "status": "ok",
          "timestamp": 1527051128305,
          "user_tz": -330,
          "elapsed": 839,
          "user": {
            "displayName": "Praveen Ganeshan",
            "photoUrl": "//lh6.googleusercontent.com/-QmspgRZUp3M/AAAAAAAAAAI/AAAAAAAAAN0/JZIoVZouLiM/s50-c-k-no/photo.jpg",
            "userId": "115281149458293297578"
          }
        }
      },
      "cell_type": "code",
      "source": [
        "cfd.tabulate()"
      ],
      "execution_count": 43,
      "outputs": [
        {
          "output_type": "stream",
          "text": [
            "    apple cabbage    kiwi  potato \n",
            "F       2       0       1       0 \n",
            "V       0       2       0       1 \n"
          ],
          "name": "stdout"
        }
      ]
    },
    {
      "metadata": {
        "id": "bZG4WAaur4QB",
        "colab_type": "code",
        "colab": {
          "autoexec": {
            "startup": false,
            "wait_interval": 0
          },
          "base_uri": "https://localhost:8080/",
          "height": 389
        },
        "outputId": "9bc08094-208e-488d-9d3d-59a70a666e76",
        "executionInfo": {
          "status": "ok",
          "timestamp": 1527051129645,
          "user_tz": -330,
          "elapsed": 1287,
          "user": {
            "displayName": "Praveen Ganeshan",
            "photoUrl": "//lh6.googleusercontent.com/-QmspgRZUp3M/AAAAAAAAAAI/AAAAAAAAAN0/JZIoVZouLiM/s50-c-k-no/photo.jpg",
            "userId": "115281149458293297578"
          }
        }
      },
      "cell_type": "code",
      "source": [
        "cfd.plot()"
      ],
      "execution_count": 44,
      "outputs": [
        {
          "output_type": "display_data",
          "data": {
            "image/png": "[encoded data removed]",
            "text/plain": [
              "<matplotlib.figure.Figure at 0x7ff42dcc4b38>"
            ]
          },
          "metadata": {
            "tags": []
          }
        }
      ]
    },
    {
      "metadata": {
        "id": "5sqZ48W9sJfu",
        "colab_type": "text"
      },
      "cell_type": "markdown",
      "source": [
        "## Counting Words by Genre\n",
        "\n",
        "Now let's determine the frequency of words, of a particular genre, in **brown** corpus\n"
      ]
    },
    {
      "metadata": {
        "id": "Nd5jFWU7sTf0",
        "colab_type": "code",
        "colab": {
          "autoexec": {
            "startup": false,
            "wait_interval": 0
          }
        }
      },
      "cell_type": "code",
      "source": [
        "from nltk.corpus import brown\n",
        "cfd = nltk.ConditionalFreqDist([ \n",
        "(genre, word) \n",
        "for genre in brown.categories() \n",
        "for word in brown.words(categories=genre) ])"
      ],
      "execution_count": 0,
      "outputs": []
    },
    {
      "metadata": {
        "id": "tNli0gFjsjW3",
        "colab_type": "text"
      },
      "cell_type": "markdown",
      "source": [
        "The conditions applied can be viewed as shown below."
      ]
    },
    {
      "metadata": {
        "id": "kZtIAtBZskHE",
        "colab_type": "code",
        "colab": {
          "autoexec": {
            "startup": false,
            "wait_interval": 0
          },
          "base_uri": "https://localhost:8080/",
          "height": 272
        },
        "outputId": "6b74332f-3422-4586-e241-b7c27e16d19c",
        "executionInfo": {
          "status": "ok",
          "timestamp": 1527051136896,
          "user_tz": -330,
          "elapsed": 780,
          "user": {
            "displayName": "Praveen Ganeshan",
            "photoUrl": "//lh6.googleusercontent.com/-QmspgRZUp3M/AAAAAAAAAAI/AAAAAAAAAN0/JZIoVZouLiM/s50-c-k-no/photo.jpg",
            "userId": "115281149458293297578"
          }
        }
      },
      "cell_type": "code",
      "source": [
        "cfd.conditions()"
      ],
      "execution_count": 46,
      "outputs": [
        {
          "output_type": "execute_result",
          "data": {
            "text/plain": [
              "['adventure',\n",
              " 'belles_lettres',\n",
              " 'editorial',\n",
              " 'fiction',\n",
              " 'government',\n",
              " 'hobbies',\n",
              " 'humor',\n",
              " 'learned',\n",
              " 'lore',\n",
              " 'mystery',\n",
              " 'news',\n",
              " 'religion',\n",
              " 'reviews',\n",
              " 'romance',\n",
              " 'science_fiction']"
            ]
          },
          "metadata": {
            "tags": []
          },
          "execution_count": 46
        }
      ]
    },
    {
      "metadata": {
        "id": "EcmCOZ-UspuG",
        "colab_type": "text"
      },
      "cell_type": "markdown",
      "source": [
        "## Viewing Word Count\n",
        "\n",
        "Once after computing conditional frequency distribution, **tabulate** method is used for viewing the count along with arguments **conditions** and **samples**."
      ]
    },
    {
      "metadata": {
        "id": "1WmrqMUntP1e",
        "colab_type": "code",
        "colab": {
          "autoexec": {
            "startup": false,
            "wait_interval": 0
          },
          "base_uri": "https://localhost:8080/",
          "height": 85
        },
        "outputId": "7228f9d6-1d1f-41df-ccfd-e24c3c7bfab8",
        "executionInfo": {
          "status": "ok",
          "timestamp": 1527051137762,
          "user_tz": -330,
          "elapsed": 786,
          "user": {
            "displayName": "Praveen Ganeshan",
            "photoUrl": "//lh6.googleusercontent.com/-QmspgRZUp3M/AAAAAAAAAAI/AAAAAAAAAN0/JZIoVZouLiM/s50-c-k-no/photo.jpg",
            "userId": "115281149458293297578"
          }
        }
      },
      "cell_type": "code",
      "source": [
        "cfd.tabulate(conditions=['government', 'humor', 'reviews'], samples=['leadership', 'worship', 'hardship'])"
      ],
      "execution_count": 47,
      "outputs": [
        {
          "output_type": "stream",
          "text": [
            "           leadership    worship   hardship \n",
            "government         12          3          2 \n",
            "     humor          1          0          0 \n",
            "   reviews         14          1          2 \n"
          ],
          "name": "stdout"
        }
      ]
    },
    {
      "metadata": {
        "id": "a0MVXe4xtcmC",
        "colab_type": "text"
      },
      "cell_type": "markdown",
      "source": [
        "## Viewing Cumulative Word Count\n",
        "\n",
        "The cumulative count for different conditions is found by setting cumulative argument value to True."
      ]
    },
    {
      "metadata": {
        "id": "Ni_EPby6ti8T",
        "colab_type": "code",
        "colab": {
          "autoexec": {
            "startup": false,
            "wait_interval": 0
          },
          "base_uri": "https://localhost:8080/",
          "height": 85
        },
        "outputId": "bfa611d5-bfe3-4ce9-fa32-a4d9c6cc6143",
        "executionInfo": {
          "status": "ok",
          "timestamp": 1527051139383,
          "user_tz": -330,
          "elapsed": 1540,
          "user": {
            "displayName": "Praveen Ganeshan",
            "photoUrl": "//lh6.googleusercontent.com/-QmspgRZUp3M/AAAAAAAAAAI/AAAAAAAAAN0/JZIoVZouLiM/s50-c-k-no/photo.jpg",
            "userId": "115281149458293297578"
          }
        }
      },
      "cell_type": "code",
      "source": [
        "cfd.tabulate(conditions=['government', 'humor', 'reviews'], samples=['leadership', 'worship', 'hardship'], cumulative = True)"
      ],
      "execution_count": 48,
      "outputs": [
        {
          "output_type": "stream",
          "text": [
            "           leadership    worship   hardship \n",
            "government         12         15         17 \n",
            "     humor          1          1          1 \n",
            "   reviews         14         15         17 \n"
          ],
          "name": "stdout"
        }
      ]
    },
    {
      "metadata": {
        "id": "FcKt7TSntrio",
        "colab_type": "text"
      },
      "cell_type": "markdown",
      "source": [
        "## Accessing Individual Frequency Distributions\n",
        "\n",
        "From the obtained conditional frequency distribution, you can access individual frequency distributions.\n",
        "\n",
        "The below example extracts frequency distribution of words present in** news genre** of **brown** corpus."
      ]
    },
    {
      "metadata": {
        "id": "YF_xTq7utwuK",
        "colab_type": "code",
        "colab": {
          "autoexec": {
            "startup": false,
            "wait_interval": 0
          },
          "base_uri": "https://localhost:8080/",
          "height": 34
        },
        "outputId": "592ea822-74f9-4000-b396-684bf28c7cff",
        "executionInfo": {
          "status": "ok",
          "timestamp": 1527051140217,
          "user_tz": -330,
          "elapsed": 766,
          "user": {
            "displayName": "Praveen Ganeshan",
            "photoUrl": "//lh6.googleusercontent.com/-QmspgRZUp3M/AAAAAAAAAAI/AAAAAAAAAN0/JZIoVZouLiM/s50-c-k-no/photo.jpg",
            "userId": "115281149458293297578"
          }
        }
      },
      "cell_type": "code",
      "source": [
        "news_fd = cfd['news']\n",
        "news_fd.most_common(3)"
      ],
      "execution_count": 49,
      "outputs": [
        {
          "output_type": "execute_result",
          "data": {
            "text/plain": [
              "[('the', 5580), (',', 5188), ('.', 4030)]"
            ]
          },
          "metadata": {
            "tags": []
          },
          "execution_count": 49
        }
      ]
    },
    {
      "metadata": {
        "id": "npSlU0x6t5MN",
        "colab_type": "code",
        "colab": {
          "autoexec": {
            "startup": false,
            "wait_interval": 0
          },
          "base_uri": "https://localhost:8080/",
          "height": 34
        },
        "outputId": "03fcd5ea-2609-4740-e153-69fee718c638",
        "executionInfo": {
          "status": "ok",
          "timestamp": 1527051141152,
          "user_tz": -330,
          "elapsed": 797,
          "user": {
            "displayName": "Praveen Ganeshan",
            "photoUrl": "//lh6.googleusercontent.com/-QmspgRZUp3M/AAAAAAAAAAI/AAAAAAAAAN0/JZIoVZouLiM/s50-c-k-no/photo.jpg",
            "userId": "115281149458293297578"
          }
        }
      },
      "cell_type": "code",
      "source": [
        "news_fd['the']"
      ],
      "execution_count": 50,
      "outputs": [
        {
          "output_type": "execute_result",
          "data": {
            "text/plain": [
              "5580"
            ]
          },
          "metadata": {
            "tags": []
          },
          "execution_count": 50
        }
      ]
    },
    {
      "metadata": {
        "id": "ZZdpej5ut-4C",
        "colab_type": "text"
      },
      "cell_type": "markdown",
      "source": [
        "## Comparing Frequency Distributions\n",
        "\n",
        "Now let's see another example, which computes the frequency of last character appearing in all names associated with **males** and **females** respectively and compares them.\n",
        "\n",
        "The text corpus names contain two files** male.txt **and **female.txt**."
      ]
    },
    {
      "metadata": {
        "id": "DNnEf-2Zt94O",
        "colab_type": "code",
        "colab": {
          "autoexec": {
            "startup": false,
            "wait_interval": 0
          }
        }
      },
      "cell_type": "code",
      "source": [
        "from nltk.corpus import names\n",
        "nt = [(fid.split('.')[0], name[-1])    for fid in names.fileids() \n",
        "  for name in names.words(fid) ]"
      ],
      "execution_count": 0,
      "outputs": []
    },
    {
      "metadata": {
        "id": "KfR7AZxbuTkp",
        "colab_type": "code",
        "colab": {
          "autoexec": {
            "startup": false,
            "wait_interval": 0
          },
          "base_uri": "https://localhost:8080/",
          "height": 34
        },
        "outputId": "853acfe8-1674-4a5d-b53c-c9cf4742f222",
        "executionInfo": {
          "status": "ok",
          "timestamp": 1527051143201,
          "user_tz": -330,
          "elapsed": 772,
          "user": {
            "displayName": "Praveen Ganeshan",
            "photoUrl": "//lh6.googleusercontent.com/-QmspgRZUp3M/AAAAAAAAAAI/AAAAAAAAAN0/JZIoVZouLiM/s50-c-k-no/photo.jpg",
            "userId": "115281149458293297578"
          }
        }
      },
      "cell_type": "code",
      "source": [
        "cfd2 = nltk.ConditionalFreqDist(nt)\n",
        "cfd2['female'] > cfd2['male']"
      ],
      "execution_count": 52,
      "outputs": [
        {
          "output_type": "execute_result",
          "data": {
            "text/plain": [
              "True"
            ]
          },
          "metadata": {
            "tags": []
          },
          "execution_count": 52
        }
      ]
    },
    {
      "metadata": {
        "id": "d6egDi9lubxw",
        "colab_type": "text"
      },
      "cell_type": "markdown",
      "source": [
        "The expression **cfd2['female'] > cfd2['male']** checks if the last characters in females occur more frequently than the last characters in males."
      ]
    },
    {
      "metadata": {
        "id": "Bejw08cRv56o",
        "colab_type": "text"
      },
      "cell_type": "markdown",
      "source": [
        "The following code snippet displays frequency **count** of characters **a** and **e** in **females** and **males**, respectively."
      ]
    },
    {
      "metadata": {
        "id": "5tWsEsCeuW9j",
        "colab_type": "code",
        "colab": {
          "autoexec": {
            "startup": false,
            "wait_interval": 0
          },
          "base_uri": "https://localhost:8080/",
          "height": 68
        },
        "outputId": "1c50380f-8ff9-41f8-f903-f5a7fce92c5e",
        "executionInfo": {
          "status": "ok",
          "timestamp": 1527051144344,
          "user_tz": -330,
          "elapsed": 989,
          "user": {
            "displayName": "Praveen Ganeshan",
            "photoUrl": "//lh6.googleusercontent.com/-QmspgRZUp3M/AAAAAAAAAAI/AAAAAAAAAN0/JZIoVZouLiM/s50-c-k-no/photo.jpg",
            "userId": "115281149458293297578"
          }
        }
      },
      "cell_type": "code",
      "source": [
        "cfd2.tabulate(samples=['a', 'e'])"
      ],
      "execution_count": 53,
      "outputs": [
        {
          "output_type": "stream",
          "text": [
            "          a    e \n",
            "female 1773 1432 \n",
            "  male   29  468 \n"
          ],
          "name": "stdout"
        }
      ]
    },
    {
      "metadata": {
        "id": "EvQSPcMMwD2B",
        "colab_type": "text"
      },
      "cell_type": "markdown",
      "source": [
        "## HandsOn\n",
        "\n",
        "**Import brown corpus**\n",
        "\n",
        "Determine the frequency of **all words** (converted into **lower case**) occurring in different **genre** of brown corpus. Store the result in **brown_cfd**.\n",
        "\n",
        "***Hint***: Compute the condition frequency with condition being **genre** and event being **word**.\n",
        "\n",
        "Print the frequency of modal words **['can', 'could', 'may', 'might', 'must', 'will']**, in text collections associated with genre** news, religion and romance**, in form a of a **table**.\n",
        "\n",
        "***Hint*** : Make use of **tabulate** method associated with a conditional frequency distribution."
      ]
    },
    {
      "metadata": {
        "id": "vokrCATXzJri",
        "colab_type": "code",
        "colab": {
          "autoexec": {
            "startup": false,
            "wait_interval": 0
          }
        }
      },
      "cell_type": "code",
      "source": [
        "from nltk.corpus import brown\n",
        "brown_cfd=nltk.ConditionalFreqDist([ \n",
        "(genre, word.lower()) \n",
        "for genre in brown.categories() \n",
        "for word in brown.words(categories=genre) ])"
      ],
      "execution_count": 0,
      "outputs": []
    },
    {
      "metadata": {
        "id": "TqL5-ykzz5RG",
        "colab_type": "code",
        "colab": {
          "autoexec": {
            "startup": false,
            "wait_interval": 0
          },
          "base_uri": "https://localhost:8080/",
          "height": 85
        },
        "outputId": "40113e17-53a0-4cb7-a5dc-36be068de348",
        "executionInfo": {
          "status": "ok",
          "timestamp": 1527051151370,
          "user_tz": -330,
          "elapsed": 826,
          "user": {
            "displayName": "Praveen Ganeshan",
            "photoUrl": "//lh6.googleusercontent.com/-QmspgRZUp3M/AAAAAAAAAAI/AAAAAAAAAN0/JZIoVZouLiM/s50-c-k-no/photo.jpg",
            "userId": "115281149458293297578"
          }
        }
      },
      "cell_type": "code",
      "source": [
        "brown_cfd.tabulate(conditions=['news','religion', 'romance'], samples=['can', 'could', 'may', 'might', 'must', 'will'])"
      ],
      "execution_count": 55,
      "outputs": [
        {
          "output_type": "stream",
          "text": [
            "           can could   may might  must  will \n",
            "    news    94    87    93    38    53   389 \n",
            "religion    84    59    79    12    54    72 \n",
            " romance    79   195    11    51    46    49 \n"
          ],
          "name": "stdout"
        }
      ]
    },
    {
      "metadata": {
        "id": "ejoH6FHt14XD",
        "colab_type": "text"
      },
      "cell_type": "markdown",
      "source": [
        "**Import inaugural corpus**\n",
        "\n",
        "For each of the inaugural **address text** available in the corpus, perform the following.\n",
        "\n",
        "Convert **all words** into **lower case**.\n",
        "\n",
        "Then determine the number of words starting with **america or citizen**.\n",
        "\n",
        "***Hint*** : Compute conditional frequency distribution, where condition is the year in which the** inaugural address** was delivered and event is either** america or citizen**. Store the conditional frequency distribution in variable **ac_cfd**.\n",
        "\n",
        "Print the frequency of words** ['america', 'citizen']** in year **[1841, 1993]**.\n",
        "\n",
        "***Hint***: Make use of **tabulate** method associated with a conditional frequency distribution."
      ]
    },
    {
      "metadata": {
        "id": "ly0Qtb94towf",
        "colab_type": "code",
        "colab": {
          "autoexec": {
            "startup": false,
            "wait_interval": 0
          }
        }
      },
      "cell_type": "code",
      "source": [
        "from nltk.corpus import inaugural\n",
        "ac_cfd=nltk.ConditionalFreqDist([(fileid[:4],target )\n",
        "                                for fileid in inaugural.fileids()\n",
        "                                for w in inaugural.words(fileid)\n",
        "                                for target in ['america', 'citizen']\n",
        "                                if w.lower().startswith(target)])\n"
      ],
      "execution_count": 0,
      "outputs": []
    },
    {
      "metadata": {
        "id": "_6WPM-Xe6cT0",
        "colab_type": "code",
        "colab": {
          "autoexec": {
            "startup": false,
            "wait_interval": 0
          },
          "base_uri": "https://localhost:8080/",
          "height": 68
        },
        "outputId": "e3fefff9-f32a-48c7-8878-db82043a107e",
        "executionInfo": {
          "status": "ok",
          "timestamp": 1527051153123,
          "user_tz": -330,
          "elapsed": 840,
          "user": {
            "displayName": "Praveen Ganeshan",
            "photoUrl": "//lh6.googleusercontent.com/-QmspgRZUp3M/AAAAAAAAAAI/AAAAAAAAAN0/JZIoVZouLiM/s50-c-k-no/photo.jpg",
            "userId": "115281149458293297578"
          }
        }
      },
      "cell_type": "code",
      "source": [
        "ac_cfd.tabulate(conditions=['1841', '1993'],samples=['america','citizen'])"
      ],
      "execution_count": 57,
      "outputs": [
        {
          "output_type": "stream",
          "text": [
            "     america citizen \n",
            "1841       7      38 \n",
            "1993      33       2 \n"
          ],
          "name": "stdout"
        }
      ]
    },
    {
      "metadata": {
        "id": "aQ06SXYzwkFW",
        "colab_type": "text"
      },
      "cell_type": "markdown",
      "source": [
        "## Other HandsOn\n",
        "\n",
        "How many times do the words **tonnes** and **year** occur in text collections, grouped into genre **sugar**? Consider **reuters** corpus."
      ]
    },
    {
      "metadata": {
        "id": "YFNx94hr1dsp",
        "colab_type": "code",
        "colab": {
          "autoexec": {
            "startup": false,
            "wait_interval": 0
          }
        }
      },
      "cell_type": "code",
      "source": [
        "from nltk.corpus import reuters\n",
        "rcdf=nltk.ConditionalFreqDist((genre,w) for genre in reuters.categories() for w in reuters.words(categories=genre))"
      ],
      "execution_count": 0,
      "outputs": []
    },
    {
      "metadata": {
        "id": "KMf3-a8x2d0d",
        "colab_type": "code",
        "colab": {
          "autoexec": {
            "startup": false,
            "wait_interval": 0
          },
          "base_uri": "https://localhost:8080/",
          "height": 51
        },
        "outputId": "2ce5fcc6-5faa-4e13-b2f8-1168536cadfb",
        "executionInfo": {
          "status": "ok",
          "timestamp": 1527051166189,
          "user_tz": -330,
          "elapsed": 751,
          "user": {
            "displayName": "Praveen Ganeshan",
            "photoUrl": "//lh6.googleusercontent.com/-QmspgRZUp3M/AAAAAAAAAAI/AAAAAAAAAN0/JZIoVZouLiM/s50-c-k-no/photo.jpg",
            "userId": "115281149458293297578"
          }
        }
      },
      "cell_type": "code",
      "source": [
        "rcdf.tabulate(conditions=['sugar'],samples=['tonnes','year'])"
      ],
      "execution_count": 59,
      "outputs": [
        {
          "output_type": "stream",
          "text": [
            "      tonnes   year \n",
            "sugar    355    196 \n"
          ],
          "name": "stdout"
        }
      ]
    },
    {
      "metadata": {
        "id": "iFNcK2HJ4cWm",
        "colab_type": "text"
      },
      "cell_type": "markdown",
      "source": [
        "How many times do the words **lead** and **smelter** occur in text collections, grouped into genre **zinc**? Consider **reuters** corpus."
      ]
    },
    {
      "metadata": {
        "id": "pgDYte1D4isx",
        "colab_type": "code",
        "colab": {
          "autoexec": {
            "startup": false,
            "wait_interval": 0
          },
          "base_uri": "https://localhost:8080/",
          "height": 51
        },
        "outputId": "25d116ac-34e0-4823-988a-4251c36cf168",
        "executionInfo": {
          "status": "ok",
          "timestamp": 1527051167018,
          "user_tz": -330,
          "elapsed": 762,
          "user": {
            "displayName": "Praveen Ganeshan",
            "photoUrl": "//lh6.googleusercontent.com/-QmspgRZUp3M/AAAAAAAAAAI/AAAAAAAAAN0/JZIoVZouLiM/s50-c-k-no/photo.jpg",
            "userId": "115281149458293297578"
          }
        }
      },
      "cell_type": "code",
      "source": [
        "rcdf.tabulate(conditions=['zinc'],samples=['lead','smelter'])"
      ],
      "execution_count": 60,
      "outputs": [
        {
          "output_type": "stream",
          "text": [
            "        lead smelter \n",
            "zinc      40      33 \n"
          ],
          "name": "stdout"
        }
      ]
    },
    {
      "metadata": {
        "id": "yS8rHixX4swo",
        "colab_type": "text"
      },
      "cell_type": "markdown",
      "source": [
        "How many times do the word **zinc** occur in text collections, grouped into genre '**zinc**'? Consider **reuters** corpus."
      ]
    },
    {
      "metadata": {
        "id": "xU9yoMMM4v-0",
        "colab_type": "code",
        "colab": {
          "autoexec": {
            "startup": false,
            "wait_interval": 0
          },
          "base_uri": "https://localhost:8080/",
          "height": 51
        },
        "outputId": "d0cbe027-18e2-4f05-b7cd-83c737f315ba",
        "executionInfo": {
          "status": "ok",
          "timestamp": 1527051167971,
          "user_tz": -330,
          "elapsed": 880,
          "user": {
            "displayName": "Praveen Ganeshan",
            "photoUrl": "//lh6.googleusercontent.com/-QmspgRZUp3M/AAAAAAAAAAI/AAAAAAAAAN0/JZIoVZouLiM/s50-c-k-no/photo.jpg",
            "userId": "115281149458293297578"
          }
        }
      },
      "cell_type": "code",
      "source": [
        "rcdf.tabulate(conditions=['zinc'],samples=['zinc'])"
      ],
      "execution_count": 61,
      "outputs": [
        {
          "output_type": "stream",
          "text": [
            "     zinc \n",
            "zinc   70 \n"
          ],
          "name": "stdout"
        }
      ]
    },
    {
      "metadata": {
        "id": "EphJRnNx7wnW",
        "colab_type": "text"
      },
      "cell_type": "markdown",
      "source": [
        "# Raw Text Processing\n",
        "\n",
        "For most of the NLTK studies that you carry out, data is **not readily available** in the form of a text corpus.\n",
        "\n",
        "Also, raw text data from a different source can be obtained, processed and used for doing NLTK studies.\n",
        "\n",
        "Some of the processing steps that you perform are\n",
        "\n",
        "\n",
        "*  Tokenization\n",
        "*  Stemming\n",
        "\n",
        "\n",
        "\n",
        "\n"
      ]
    },
    {
      "metadata": {
        "id": "4kVTwCWT8xNy",
        "colab_type": "text"
      },
      "cell_type": "markdown",
      "source": [
        "## Reading a Text File\n",
        "\n",
        "In this topic, you will understand how data is read from different external sources.\n",
        "\n",
        "The following example reads content from a text file, available at **Project Gutenberg site**."
      ]
    },
    {
      "metadata": {
        "id": "ijl8J7hp8-Wq",
        "colab_type": "code",
        "colab": {
          "autoexec": {
            "startup": false,
            "wait_interval": 0
          }
        }
      },
      "cell_type": "code",
      "source": [
        "from urllib import request\n",
        "url = \"http://www.gutenberg.org/files/2554/2554-0.txt\"\n",
        "content1 = request.urlopen(url).read()"
      ],
      "execution_count": 0,
      "outputs": []
    },
    {
      "metadata": {
        "id": "55EcPRaT9POy",
        "colab_type": "text"
      },
      "cell_type": "markdown",
      "source": [
        "## Reading a HTML file\n",
        "The following example reads content from a news article available over the web.\n",
        "\n",
        "**Beautifulsoup** module is used for scrapping the required text from the webpage."
      ]
    },
    {
      "metadata": {
        "id": "7We6Krqx9YSt",
        "colab_type": "code",
        "colab": {
          "autoexec": {
            "startup": false,
            "wait_interval": 0
          }
        }
      },
      "cell_type": "code",
      "source": [
        "from urllib import request\n",
        "url = \"http://www.bbc.com/news/health-42802191\"\n",
        "html_content = request.urlopen(url).read()"
      ],
      "execution_count": 0,
      "outputs": []
    },
    {
      "metadata": {
        "id": "N2-nLugE9l_R",
        "colab_type": "code",
        "colab": {
          "autoexec": {
            "startup": false,
            "wait_interval": 0
          }
        }
      },
      "cell_type": "code",
      "source": [
        "from bs4 import BeautifulSoup\n",
        "soup = BeautifulSoup(html_content, 'html.parser')"
      ],
      "execution_count": 0,
      "outputs": []
    },
    {
      "metadata": {
        "id": "fMXhXTyP94rv",
        "colab_type": "code",
        "colab": {
          "autoexec": {
            "startup": false,
            "wait_interval": 0
          }
        }
      },
      "cell_type": "code",
      "source": [
        "inner_body = soup.find_all('div', attrs={'class':'story-body__inner'})\n",
        "\n",
        "inner_text = [elm.text for elm in inner_body[0].find_all(['h1', 'h2', 'p', 'li']) ]\n",
        " \n",
        "text_content2 = '\\n'.join(inner_text)\n",
        "\n",
        "#print(text_content2)"
      ],
      "execution_count": 0,
      "outputs": []
    },
    {
      "metadata": {
        "id": "-YHyG-IB-dxO",
        "colab_type": "text"
      },
      "cell_type": "markdown",
      "source": [
        "**find_all** method returns all inner elements of div element, having class attribute value as **story-body__inner**."
      ]
    },
    {
      "metadata": {
        "id": "hKT0YIvw-oDl",
        "colab_type": "text"
      },
      "cell_type": "markdown",
      "source": [
        "## Reading from Other Sources\n",
        "\n",
        "You can also read text from some other text resources such as **RSS feeds, FTP repositories, local text files, etc**.\n",
        "\n",
        "It is also possible to read a text in binary format, from sources like **Microsoft Word** and **PDF**.\n",
        "\n",
        "Third party libraries such as **pywin32**, **pypdf** are required for accessing Microsoft Word or PDF documents.\n"
      ]
    },
    {
      "metadata": {
        "id": "QfcEepPo_Lth",
        "colab_type": "text"
      },
      "cell_type": "markdown",
      "source": [
        "## Tokenization\n",
        "\n",
        "**Tokenization** is a step in which a text is broken down into words and punctuation.\n",
        "\n",
        "The simplest way of tokenizing is by using **word_tokenize** method.\n",
        "\n",
        "The below example tokenizes text read from **Project Gutenberg**."
      ]
    },
    {
      "metadata": {
        "id": "sxY2tEP3_88t",
        "colab_type": "code",
        "colab": {
          "autoexec": {
            "startup": false,
            "wait_interval": 0
          },
          "base_uri": "https://localhost:8080/",
          "height": 34
        },
        "outputId": "06081e64-49c9-45d2-d2cf-d3786b40af43",
        "executionInfo": {
          "status": "ok",
          "timestamp": 1527051176707,
          "user_tz": -330,
          "elapsed": 2668,
          "user": {
            "displayName": "Praveen Ganeshan",
            "photoUrl": "//lh6.googleusercontent.com/-QmspgRZUp3M/AAAAAAAAAAI/AAAAAAAAAN0/JZIoVZouLiM/s50-c-k-no/photo.jpg",
            "userId": "115281149458293297578"
          }
        }
      },
      "cell_type": "code",
      "source": [
        "text_content1 = content1.decode('unicode_escape')  # Converts bytes to unicode\n",
        "tokens1 = nltk.word_tokenize(text_content1)\n",
        "tokens1[3:8]"
      ],
      "execution_count": 66,
      "outputs": [
        {
          "output_type": "execute_result",
          "data": {
            "text/plain": [
              "['Project', 'Gutenberg', 'EBook', 'of', 'Crime']"
            ]
          },
          "metadata": {
            "tags": []
          },
          "execution_count": 66
        }
      ]
    },
    {
      "metadata": {
        "id": "ivyXSu9tAez2",
        "colab_type": "text"
      },
      "cell_type": "markdown",
      "source": [
        "The following example tokenizes text scrapped from the **HTML page**."
      ]
    },
    {
      "metadata": {
        "id": "9T18J2o-AiPe",
        "colab_type": "code",
        "colab": {
          "autoexec": {
            "startup": false,
            "wait_interval": 0
          },
          "base_uri": "https://localhost:8080/",
          "height": 34
        },
        "outputId": "7ac0ffc7-fc7b-41d0-e456-14aa3ea49db3",
        "executionInfo": {
          "status": "ok",
          "timestamp": 1527051179298,
          "user_tz": -330,
          "elapsed": 2392,
          "user": {
            "displayName": "Praveen Ganeshan",
            "photoUrl": "//lh6.googleusercontent.com/-QmspgRZUp3M/AAAAAAAAAAI/AAAAAAAAAN0/JZIoVZouLiM/s50-c-k-no/photo.jpg",
            "userId": "115281149458293297578"
          }
        }
      },
      "cell_type": "code",
      "source": [
        " tokens2 = nltk.word_tokenize(text_content2)\n",
        " tokens2[:5] "
      ],
      "execution_count": 67,
      "outputs": [
        {
          "output_type": "execute_result",
          "data": {
            "text/plain": [
              "['Smokers', 'need', 'to', 'quit', 'cigarettes']"
            ]
          },
          "metadata": {
            "tags": []
          },
          "execution_count": 67
        }
      ]
    },
    {
      "metadata": {
        "id": "s3vsFxdeAq41",
        "colab_type": "code",
        "colab": {
          "autoexec": {
            "startup": false,
            "wait_interval": 0
          },
          "base_uri": "https://localhost:8080/",
          "height": 34
        },
        "outputId": "dbe57297-d5a2-4e89-b5d7-98d22b6cb473",
        "executionInfo": {
          "status": "ok",
          "timestamp": 1527051180184,
          "user_tz": -330,
          "elapsed": 755,
          "user": {
            "displayName": "Praveen Ganeshan",
            "photoUrl": "//lh6.googleusercontent.com/-QmspgRZUp3M/AAAAAAAAAAI/AAAAAAAAAN0/JZIoVZouLiM/s50-c-k-no/photo.jpg",
            "userId": "115281149458293297578"
          }
        }
      },
      "cell_type": "code",
      "source": [
        "len(tokens2)"
      ],
      "execution_count": 68,
      "outputs": [
        {
          "output_type": "execute_result",
          "data": {
            "text/plain": [
              "751"
            ]
          },
          "metadata": {
            "tags": []
          },
          "execution_count": 68
        }
      ]
    },
    {
      "metadata": {
        "id": "DcgT079OAxka",
        "colab_type": "text"
      },
      "cell_type": "markdown",
      "source": [
        "## Regular Expressions for Tokenization\n",
        "\n",
        "Regular expressions can also be utilized to split the text into tokens.\n",
        "\n",
        "The below example splits the entire text **text_content2** with regular expression **\\w+**"
      ]
    },
    {
      "metadata": {
        "id": "b8veCoDcA6Zl",
        "colab_type": "code",
        "colab": {
          "autoexec": {
            "startup": false,
            "wait_interval": 0
          },
          "base_uri": "https://localhost:8080/",
          "height": 34
        },
        "outputId": "417f9743-7cc2-4116-cfc4-51cc89973cc8",
        "executionInfo": {
          "status": "ok",
          "timestamp": 1527051181176,
          "user_tz": -330,
          "elapsed": 821,
          "user": {
            "displayName": "Praveen Ganeshan",
            "photoUrl": "//lh6.googleusercontent.com/-QmspgRZUp3M/AAAAAAAAAAI/AAAAAAAAAN0/JZIoVZouLiM/s50-c-k-no/photo.jpg",
            "userId": "115281149458293297578"
          }
        }
      },
      "cell_type": "code",
      "source": [
        "import re\n",
        "tokens2_2 = re.findall(r'\\w+', text_content2)\n",
        "len(tokens2_2)"
      ],
      "execution_count": 69,
      "outputs": [
        {
          "output_type": "execute_result",
          "data": {
            "text/plain": [
              "668"
            ]
          },
          "metadata": {
            "tags": []
          },
          "execution_count": 69
        }
      ]
    },
    {
      "metadata": {
        "id": "__bxdlGEBRPJ",
        "colab_type": "text"
      },
      "cell_type": "markdown",
      "source": [
        "**nltk** contains the function **regexp_tokenize**, which can be used similarly to** re.findall** and produce the tokens."
      ]
    },
    {
      "metadata": {
        "id": "8F7vu4c5BZyw",
        "colab_type": "code",
        "colab": {
          "autoexec": {
            "startup": false,
            "wait_interval": 0
          },
          "base_uri": "https://localhost:8080/",
          "height": 34
        },
        "outputId": "30152ae1-bf14-464f-d86e-c3ebe2755b39",
        "executionInfo": {
          "status": "ok",
          "timestamp": 1527051182081,
          "user_tz": -330,
          "elapsed": 770,
          "user": {
            "displayName": "Praveen Ganeshan",
            "photoUrl": "//lh6.googleusercontent.com/-QmspgRZUp3M/AAAAAAAAAAI/AAAAAAAAAN0/JZIoVZouLiM/s50-c-k-no/photo.jpg",
            "userId": "115281149458293297578"
          }
        }
      },
      "cell_type": "code",
      "source": [
        "pattern = r'\\w+'\n",
        "tokens2_3 = nltk.regexp_tokenize(text_content2, pattern)\n",
        "len(tokens2_3)"
      ],
      "execution_count": 70,
      "outputs": [
        {
          "output_type": "execute_result",
          "data": {
            "text/plain": [
              "668"
            ]
          },
          "metadata": {
            "tags": []
          },
          "execution_count": 70
        }
      ]
    },
    {
      "metadata": {
        "id": "EqJdXVXjbwBv",
        "colab_type": "text"
      },
      "cell_type": "markdown",
      "source": [
        "## Creation of NLTK text\n",
        "\n",
        "Using the obtained list of tokens, an object of NLTK text can be created as shown below."
      ]
    },
    {
      "metadata": {
        "id": "-1n2vv9OcDnA",
        "colab_type": "code",
        "colab": {
          "autoexec": {
            "startup": false,
            "wait_interval": 0
          },
          "base_uri": "https://localhost:8080/",
          "height": 34
        },
        "outputId": "e4740751-b94d-47c0-bea9-0c0ccbdee2ba",
        "executionInfo": {
          "status": "ok",
          "timestamp": 1527051183224,
          "user_tz": -330,
          "elapsed": 764,
          "user": {
            "displayName": "Praveen Ganeshan",
            "photoUrl": "//lh6.googleusercontent.com/-QmspgRZUp3M/AAAAAAAAAAI/AAAAAAAAAN0/JZIoVZouLiM/s50-c-k-no/photo.jpg",
            "userId": "115281149458293297578"
          }
        }
      },
      "cell_type": "code",
      "source": [
        "input_text2 = nltk.Text(tokens2)\n",
        "type(input_text2)"
      ],
      "execution_count": 71,
      "outputs": [
        {
          "output_type": "execute_result",
          "data": {
            "text/plain": [
              "nltk.text.Text"
            ]
          },
          "metadata": {
            "tags": []
          },
          "execution_count": 71
        }
      ]
    },
    {
      "metadata": {
        "id": "HsRWVywFcNkq",
        "colab_type": "text"
      },
      "cell_type": "markdown",
      "source": [
        "Thus obtained text can be used for further linguistic processing."
      ]
    },
    {
      "metadata": {
        "id": "YkuizTUVcbGS",
        "colab_type": "text"
      },
      "cell_type": "markdown",
      "source": [
        "## HandsOn\n",
        "\n",
        "Read the html content from the url link **'https://en.wikipedia.org/wiki/Python_(programming_language)'**. Store the content in variable **html_content**.\n",
        "\n",
        "Create a **BeautifulSoup** object with **html_content** and **html.parser.** Store the result in variable **soup**.\n",
        "\n",
        "Find the **number of reference links** present in soup object. Store the result in variable** n_links.**\n",
        "\n",
        "***Hint*** : Make use of **find_all** method and look of a tags.\n",
        "\n",
        "print **n_links**."
      ]
    },
    {
      "metadata": {
        "id": "dqp9SXc7d_Kw",
        "colab_type": "code",
        "colab": {
          "autoexec": {
            "startup": false,
            "wait_interval": 0
          }
        }
      },
      "cell_type": "code",
      "source": [
        "from urllib import request\n",
        "url = \"https://en.wikipedia.org/wiki/Python_(programming_language)\"\n",
        "html_content = request.urlopen(url).read()"
      ],
      "execution_count": 0,
      "outputs": []
    },
    {
      "metadata": {
        "id": "gI5HKPtIeS3P",
        "colab_type": "code",
        "colab": {
          "autoexec": {
            "startup": false,
            "wait_interval": 0
          }
        }
      },
      "cell_type": "code",
      "source": [
        "from bs4 import BeautifulSoup\n",
        "soup = BeautifulSoup(html_content, 'html.parser')"
      ],
      "execution_count": 0,
      "outputs": []
    },
    {
      "metadata": {
        "id": "Aasdxj67edhn",
        "colab_type": "code",
        "colab": {
          "autoexec": {
            "startup": false,
            "wait_interval": 0
          },
          "base_uri": "https://localhost:8080/",
          "height": 34
        },
        "outputId": "15909e4b-913b-4667-fbe0-2cb429e86121",
        "executionInfo": {
          "status": "ok",
          "timestamp": 1527051186564,
          "user_tz": -330,
          "elapsed": 967,
          "user": {
            "displayName": "Praveen Ganeshan",
            "photoUrl": "//lh6.googleusercontent.com/-QmspgRZUp3M/AAAAAAAAAAI/AAAAAAAAAN0/JZIoVZouLiM/s50-c-k-no/photo.jpg",
            "userId": "115281149458293297578"
          }
        }
      },
      "cell_type": "code",
      "source": [
        "n_links = len(soup.find_all('a')) #len(soup.find_all('a',href=True))\n",
        "print(n_links)"
      ],
      "execution_count": 74,
      "outputs": [
        {
          "output_type": "stream",
          "text": [
            "1483\n"
          ],
          "name": "stdout"
        }
      ]
    },
    {
      "metadata": {
        "id": "tZ4FBzMIhFIR",
        "colab_type": "text"
      },
      "cell_type": "markdown",
      "source": [
        "Find the **table** from **soup** object, having **class attribute** value **wikitable**. Store the result in variable **table**.\n",
        "\n",
        "***Hint***: Make use of **find** method associated with soup object.\n",
        "\n",
        "Find **all rows** of table. Store the result in **rows**.\n",
        "\n",
        "***Hint***: Make use of **find_all** method on table and look for **tr** tags.\n",
        "\n",
        "**Ignore the first row** of rows, with expression **rows = rows[1:]**\n",
        "\n",
        "For every row perform the following tasks.\n",
        "\n",
        "Find** all columns** associated with a row.\n",
        "\n",
        "***Hint***: Make use of **find_all** on each row and look for **td** tags.\n",
        "\n",
        "Select **only the column** from the obtained **list of columns**.\n",
        "\n",
        "print the** text associated** with **first column**.\n",
        "\n",
        "***Hint***: Make use of **get_text** method on the obatined column."
      ]
    },
    {
      "metadata": {
        "id": "I1YKp94VhpzV",
        "colab_type": "code",
        "colab": {
          "autoexec": {
            "startup": false,
            "wait_interval": 0
          },
          "base_uri": "https://localhost:8080/",
          "height": 238
        },
        "outputId": "2879679c-7c69-41b3-a45a-7bf2e4fc260c",
        "executionInfo": {
          "status": "ok",
          "timestamp": 1527051188268,
          "user_tz": -330,
          "elapsed": 1567,
          "user": {
            "displayName": "Praveen Ganeshan",
            "photoUrl": "//lh6.googleusercontent.com/-QmspgRZUp3M/AAAAAAAAAAI/AAAAAAAAAN0/JZIoVZouLiM/s50-c-k-no/photo.jpg",
            "userId": "115281149458293297578"
          }
        }
      },
      "cell_type": "code",
      "source": [
        "table=soup.find('table',attrs={'class':'wikitable'})\n",
        "rows=table.find_all('tr')\n",
        "rows=rows[1:]\n",
        "for row in rows:\n",
        "  columns=row.find_all('td')\n",
        "  print(columns[0].get_text())\n"
      ],
      "execution_count": 75,
      "outputs": [
        {
          "output_type": "stream",
          "text": [
            "bool\n",
            "bytearray\n",
            "bytes\n",
            "complex\n",
            "dict\n",
            "ellipsis\n",
            "float\n",
            "frozenset\n",
            "int\n",
            "list\n",
            "set\n",
            "str\n",
            "tuple\n"
          ],
          "name": "stdout"
        }
      ]
    },
    {
      "metadata": {
        "id": "Kzom05lPr0CL",
        "colab_type": "text"
      },
      "cell_type": "markdown",
      "source": [
        "## Other HandsOn"
      ]
    },
    {
      "metadata": {
        "id": "WUQxU3rEwkBN",
        "colab_type": "code",
        "colab": {
          "autoexec": {
            "startup": false,
            "wait_interval": 0
          },
          "base_uri": "https://localhost:8080/",
          "height": 34
        },
        "outputId": "ab2628ed-9dc1-401e-9d8d-4834b305eacb",
        "executionInfo": {
          "status": "ok",
          "timestamp": 1527051189893,
          "user_tz": -330,
          "elapsed": 1484,
          "user": {
            "displayName": "Praveen Ganeshan",
            "photoUrl": "//lh6.googleusercontent.com/-QmspgRZUp3M/AAAAAAAAAAI/AAAAAAAAAN0/JZIoVZouLiM/s50-c-k-no/photo.jpg",
            "userId": "115281149458293297578"
          }
        }
      },
      "cell_type": "code",
      "source": [
        "nltk.word_tokenize('Python is cool!!!')"
      ],
      "execution_count": 76,
      "outputs": [
        {
          "output_type": "execute_result",
          "data": {
            "text/plain": [
              "['Python', 'is', 'cool', '!', '!', '!']"
            ]
          },
          "metadata": {
            "tags": []
          },
          "execution_count": 76
        }
      ]
    },
    {
      "metadata": {
        "id": "3L4XwekGw7te",
        "colab_type": "code",
        "colab": {
          "autoexec": {
            "startup": false,
            "wait_interval": 0
          },
          "base_uri": "https://localhost:8080/",
          "height": 34
        },
        "outputId": "3429bf0a-d55c-4a7a-9d80-59837cefb9f7",
        "executionInfo": {
          "status": "ok",
          "timestamp": 1527051190860,
          "user_tz": -330,
          "elapsed": 795,
          "user": {
            "displayName": "Praveen Ganeshan",
            "photoUrl": "//lh6.googleusercontent.com/-QmspgRZUp3M/AAAAAAAAAAI/AAAAAAAAAN0/JZIoVZouLiM/s50-c-k-no/photo.jpg",
            "userId": "115281149458293297578"
          }
        }
      },
      "cell_type": "code",
      "source": [
        "nltk.regexp_tokenize('Python is cool!!!',r'\\w+' )"
      ],
      "execution_count": 77,
      "outputs": [
        {
          "output_type": "execute_result",
          "data": {
            "text/plain": [
              "['Python', 'is', 'cool']"
            ]
          },
          "metadata": {
            "tags": []
          },
          "execution_count": 77
        }
      ]
    },
    {
      "metadata": {
        "id": "ez00XPPixKW2",
        "colab_type": "code",
        "colab": {
          "autoexec": {
            "startup": false,
            "wait_interval": 0
          },
          "base_uri": "https://localhost:8080/",
          "height": 34
        },
        "outputId": "a99ff707-2f1e-49e3-a321-f7b1aaea9ea9",
        "executionInfo": {
          "status": "ok",
          "timestamp": 1527051191803,
          "user_tz": -330,
          "elapsed": 827,
          "user": {
            "displayName": "Praveen Ganeshan",
            "photoUrl": "//lh6.googleusercontent.com/-QmspgRZUp3M/AAAAAAAAAAI/AAAAAAAAAN0/JZIoVZouLiM/s50-c-k-no/photo.jpg",
            "userId": "115281149458293297578"
          }
        }
      },
      "cell_type": "code",
      "source": [
        "s = 'Python is cool!!!'\n",
        "print(re.findall(r'\\s\\w+\\b', s))"
      ],
      "execution_count": 78,
      "outputs": [
        {
          "output_type": "stream",
          "text": [
            "[' is', ' cool']\n"
          ],
          "name": "stdout"
        }
      ]
    },
    {
      "metadata": {
        "id": "0MxdJ6vw2OzG",
        "colab_type": "text"
      },
      "cell_type": "markdown",
      "source": [
        "# Bigrams\n",
        "\n",
        "Bigrams represent **a set of two consecutive words** appearing in a text.\n",
        "\n",
        "**bigrams** function is called on tokenized words, as shown in the following example, to obtain bigrams."
      ]
    },
    {
      "metadata": {
        "id": "hzuyergb2Zve",
        "colab_type": "code",
        "colab": {
          "autoexec": {
            "startup": false,
            "wait_interval": 0
          },
          "base_uri": "https://localhost:8080/",
          "height": 102
        },
        "outputId": "e89a47bf-d61d-4bc7-fc62-555c98217acd",
        "executionInfo": {
          "status": "ok",
          "timestamp": 1527051193063,
          "user_tz": -330,
          "elapsed": 1109,
          "user": {
            "displayName": "Praveen Ganeshan",
            "photoUrl": "//lh6.googleusercontent.com/-QmspgRZUp3M/AAAAAAAAAAI/AAAAAAAAAN0/JZIoVZouLiM/s50-c-k-no/photo.jpg",
            "userId": "115281149458293297578"
          }
        }
      },
      "cell_type": "code",
      "source": [
        "import nltk\n",
        "s = 'Python is an awesome language.'\n",
        "tokens = nltk.word_tokenize(s)\n",
        "list(nltk.bigrams(tokens))"
      ],
      "execution_count": 79,
      "outputs": [
        {
          "output_type": "execute_result",
          "data": {
            "text/plain": [
              "[('Python', 'is'),\n",
              " ('is', 'an'),\n",
              " ('an', 'awesome'),\n",
              " ('awesome', 'language'),\n",
              " ('language', '.')]"
            ]
          },
          "metadata": {
            "tags": []
          },
          "execution_count": 79
        }
      ]
    },
    {
      "metadata": {
        "id": "97sVz3RQ2nhg",
        "colab_type": "text"
      },
      "cell_type": "markdown",
      "source": [
        "## Computing Frequent Bigrams\n",
        "\n",
        "Now let's find out **three frequently** occurring bigrams, present in **english-kjv** collection of **genesis** corpus.\n",
        "\n",
        "Let's consider only those bigrams, whose **words** are having a **length** greater than **5**."
      ]
    },
    {
      "metadata": {
        "id": "AyMEvxb-20Q3",
        "colab_type": "code",
        "colab": {
          "autoexec": {
            "startup": false,
            "wait_interval": 0
          }
        }
      },
      "cell_type": "code",
      "source": [
        "eng_tokens = genesis.words('english-kjv.txt')\n",
        "eng_bigrams = nltk.bigrams(eng_tokens)\n",
        "filtered_bigrams = [ (w1, w2) for w1, w2 in eng_bigrams if len(w1) >=5 and len(w2) >= 5 ]"
      ],
      "execution_count": 0,
      "outputs": []
    },
    {
      "metadata": {
        "id": "K3HEpNjm3Bg-",
        "colab_type": "text"
      },
      "cell_type": "markdown",
      "source": [
        "After computing bi-grams, the following code computes frequency distribution and displays three most frequent bigrams."
      ]
    },
    {
      "metadata": {
        "id": "pEyWh70f3CyA",
        "colab_type": "code",
        "colab": {
          "autoexec": {
            "startup": false,
            "wait_interval": 0
          },
          "base_uri": "https://localhost:8080/",
          "height": 34
        },
        "outputId": "269f520d-e521-4dc9-dbb6-d8bc92e78dfb",
        "executionInfo": {
          "status": "ok",
          "timestamp": 1527051195290,
          "user_tz": -330,
          "elapsed": 760,
          "user": {
            "displayName": "Praveen Ganeshan",
            "photoUrl": "//lh6.googleusercontent.com/-QmspgRZUp3M/AAAAAAAAAAI/AAAAAAAAAN0/JZIoVZouLiM/s50-c-k-no/photo.jpg",
            "userId": "115281149458293297578"
          }
        }
      },
      "cell_type": "code",
      "source": [
        "eng_bifreq = nltk.FreqDist(filtered_bigrams)\n",
        "eng_bifreq.most_common(3)"
      ],
      "execution_count": 81,
      "outputs": [
        {
          "output_type": "execute_result",
          "data": {
            "text/plain": [
              "[(('their', 'father'), 19), (('lived', 'after'), 16), (('seven', 'years'), 15)]"
            ]
          },
          "metadata": {
            "tags": []
          },
          "execution_count": 81
        }
      ]
    },
    {
      "metadata": {
        "id": "2d_AQf8K3MWA",
        "colab_type": "text"
      },
      "cell_type": "markdown",
      "source": [
        "## Determining Frequent After Words\n",
        "\n",
        "Now let's see an example which determines the **two most frequent words** occurring after living are determined."
      ]
    },
    {
      "metadata": {
        "id": "3fS_ayTz3SWT",
        "colab_type": "code",
        "colab": {
          "autoexec": {
            "startup": false,
            "wait_interval": 0
          },
          "base_uri": "https://localhost:8080/",
          "height": 34
        },
        "outputId": "6358a842-44b4-4fd5-8959-bd4d571b7cf9",
        "executionInfo": {
          "status": "ok",
          "timestamp": 1527051196077,
          "user_tz": -330,
          "elapsed": 660,
          "user": {
            "displayName": "Praveen Ganeshan",
            "photoUrl": "//lh6.googleusercontent.com/-QmspgRZUp3M/AAAAAAAAAAI/AAAAAAAAAN0/JZIoVZouLiM/s50-c-k-no/photo.jpg",
            "userId": "115281149458293297578"
          }
        }
      },
      "cell_type": "code",
      "source": [
        "from nltk.corpus import genesis\n",
        "eng_tokens = genesis.words('english-kjv.txt')\n",
        "eng_bigrams = nltk.bigrams(eng_tokens)\n",
        "eng_cfd = nltk.ConditionalFreqDist(eng_bigrams)\n",
        "eng_cfd['living'].most_common(2)"
      ],
      "execution_count": 82,
      "outputs": [
        {
          "output_type": "execute_result",
          "data": {
            "text/plain": [
              "[('creature', 7), ('thing', 4)]"
            ]
          },
          "metadata": {
            "tags": []
          },
          "execution_count": 82
        }
      ]
    },
    {
      "metadata": {
        "id": "UhJ6amEt3jiM",
        "colab_type": "text"
      },
      "cell_type": "markdown",
      "source": [
        "## Generating Frequent Next Word\n",
        "\n",
        "Now let's define a function named **generate**, which returns words occurring frequently after a given word.\n",
        "\n",
        "After defining the function **generate**, it is called with **eng_cfd** and **living** parameters.\n",
        "\n",
        "The output shows a word which occurs most frequently next to **living** is **creature**.\n",
        "\n",
        "Similarly **that** occurs more frequently after **creature** and so on."
      ]
    },
    {
      "metadata": {
        "id": "IYVNO74Q3iz4",
        "colab_type": "code",
        "colab": {
          "autoexec": {
            "startup": false,
            "wait_interval": 0
          },
          "base_uri": "https://localhost:8080/",
          "height": 34
        },
        "outputId": "5587bd7f-ac4d-4da6-bb64-61c99b5e47d8",
        "executionInfo": {
          "status": "ok",
          "timestamp": 1527051197000,
          "user_tz": -330,
          "elapsed": 787,
          "user": {
            "displayName": "Praveen Ganeshan",
            "photoUrl": "//lh6.googleusercontent.com/-QmspgRZUp3M/AAAAAAAAAAI/AAAAAAAAAN0/JZIoVZouLiM/s50-c-k-no/photo.jpg",
            "userId": "115281149458293297578"
          }
        }
      },
      "cell_type": "code",
      "source": [
        "def generate(cfd, word, n=5):\n",
        "  n_words = []\n",
        "  for i in range(n):\n",
        "    n_words.append(word)\n",
        "    word = cfd[word].max()\n",
        "  return n_words\n",
        "generate(eng_cfd, 'living')    "
      ],
      "execution_count": 83,
      "outputs": [
        {
          "output_type": "execute_result",
          "data": {
            "text/plain": [
              "['living', 'creature', 'that', 'he', 'said']"
            ]
          },
          "metadata": {
            "tags": []
          },
          "execution_count": 83
        }
      ]
    },
    {
      "metadata": {
        "id": "9l-dsily4v6T",
        "colab_type": "text"
      },
      "cell_type": "markdown",
      "source": [
        "# Trigrams\n",
        "\n",
        "Similar to **Bigrams**, **Trigrams** refers to **set of all three consecutive words** appearing in text."
      ]
    },
    {
      "metadata": {
        "id": "Hv0jJPb23-ZT",
        "colab_type": "code",
        "colab": {
          "autoexec": {
            "startup": false,
            "wait_interval": 0
          },
          "base_uri": "https://localhost:8080/",
          "height": 85
        },
        "outputId": "3dc9d257-b8f4-4bee-bb14-2d4ebedb434e",
        "executionInfo": {
          "status": "ok",
          "timestamp": 1527051197882,
          "user_tz": -330,
          "elapsed": 755,
          "user": {
            "displayName": "Praveen Ganeshan",
            "photoUrl": "//lh6.googleusercontent.com/-QmspgRZUp3M/AAAAAAAAAAI/AAAAAAAAAN0/JZIoVZouLiM/s50-c-k-no/photo.jpg",
            "userId": "115281149458293297578"
          }
        }
      },
      "cell_type": "code",
      "source": [
        "s = 'Python is an awesome language.'\n",
        "tokens = nltk.word_tokenize(s)\n",
        "list(nltk.trigrams(tokens))"
      ],
      "execution_count": 84,
      "outputs": [
        {
          "output_type": "execute_result",
          "data": {
            "text/plain": [
              "[('Python', 'is', 'an'),\n",
              " ('is', 'an', 'awesome'),\n",
              " ('an', 'awesome', 'language'),\n",
              " ('awesome', 'language', '.')]"
            ]
          },
          "metadata": {
            "tags": []
          },
          "execution_count": 84
        }
      ]
    },
    {
      "metadata": {
        "id": "7qrdaIUZ5CQS",
        "colab_type": "text"
      },
      "cell_type": "markdown",
      "source": [
        "# ngrams\n",
        "\n",
        "**nltk** also provides the function **ngrams**. It can be used to determine **a set of all possible n consecutive words** appearing in a text.\n",
        "\n",
        "The following example displays **a list of four consecutive words** appearing in the text **s**."
      ]
    },
    {
      "metadata": {
        "id": "tdSE_wJa5Mkh",
        "colab_type": "code",
        "colab": {
          "autoexec": {
            "startup": false,
            "wait_interval": 0
          },
          "base_uri": "https://localhost:8080/",
          "height": 68
        },
        "outputId": "34903cfa-30b7-44f5-e6e0-b7ad3baa3ef5",
        "executionInfo": {
          "status": "ok",
          "timestamp": 1527051198885,
          "user_tz": -330,
          "elapsed": 804,
          "user": {
            "displayName": "Praveen Ganeshan",
            "photoUrl": "//lh6.googleusercontent.com/-QmspgRZUp3M/AAAAAAAAAAI/AAAAAAAAAN0/JZIoVZouLiM/s50-c-k-no/photo.jpg",
            "userId": "115281149458293297578"
          }
        }
      },
      "cell_type": "code",
      "source": [
        "list(nltk.ngrams(tokens, 4))"
      ],
      "execution_count": 85,
      "outputs": [
        {
          "output_type": "execute_result",
          "data": {
            "text/plain": [
              "[('Python', 'is', 'an', 'awesome'),\n",
              " ('is', 'an', 'awesome', 'language'),\n",
              " ('an', 'awesome', 'language', '.')]"
            ]
          },
          "metadata": {
            "tags": []
          },
          "execution_count": 85
        }
      ]
    },
    {
      "metadata": {
        "id": "t0CQoEmb5UdE",
        "colab_type": "text"
      },
      "cell_type": "markdown",
      "source": [
        "# Collocations\n",
        "\n",
        "A collocation is a pair of **words that occur together, very often**.\n",
        "\n",
        "For example, **red wine** is a collocation.\n",
        "\n",
        "One characteristic of a **collocation** is that the words in it cannot be substituted with words having similar senses.\n",
        "\n",
        "For example, the combination **maroon wine** sounds **odd**."
      ]
    },
    {
      "metadata": {
        "id": "PpawQcVt5nuY",
        "colab_type": "text"
      },
      "cell_type": "markdown",
      "source": [
        "## Generating Collocations\n",
        "\n",
        "Now let's see how to generate collocations from text with the following example."
      ]
    },
    {
      "metadata": {
        "id": "5hMO966t5rOa",
        "colab_type": "code",
        "colab": {
          "autoexec": {
            "startup": false,
            "wait_interval": 0
          },
          "base_uri": "https://localhost:8080/",
          "height": 85
        },
        "outputId": "623f285f-c4e6-45ca-8149-2e5bde14ee5c",
        "executionInfo": {
          "status": "ok",
          "timestamp": 1527051200026,
          "user_tz": -330,
          "elapsed": 822,
          "user": {
            "displayName": "Praveen Ganeshan",
            "photoUrl": "//lh6.googleusercontent.com/-QmspgRZUp3M/AAAAAAAAAAI/AAAAAAAAAN0/JZIoVZouLiM/s50-c-k-no/photo.jpg",
            "userId": "115281149458293297578"
          }
        }
      },
      "cell_type": "code",
      "source": [
        "from nltk.corpus import genesis\n",
        "tokens = genesis.words('english-kjv.txt')\n",
        "gen_text = nltk.Text(tokens)\n",
        "gen_text.collocations()"
      ],
      "execution_count": 86,
      "outputs": [
        {
          "output_type": "stream",
          "text": [
            "said unto; pray thee; thou shalt; thou hast; thy seed; years old;\n",
            "spake unto; thou art; LORD God; every living; God hath; begat sons;\n",
            "seven years; shalt thou; little ones; living creature; creeping thing;\n",
            "savoury meat; thirty years; every beast\n"
          ],
          "name": "stdout"
        }
      ]
    },
    {
      "metadata": {
        "id": "n3JqWfkM6Bju",
        "colab_type": "text"
      },
      "cell_type": "markdown",
      "source": [
        "## HandsOn\n",
        "\n",
        "Import text corpus **brown**\n",
        "\n",
        "Extract the list of words associated with text collections belonging to **news** genre. Store the result in variable **news_words**.\n",
        "\n",
        "Convert each word of list **news_words** into lower **case** and store the result in **lc_news_words**.\n",
        "\n",
        "Compute **length** of each **word** present in list **lc_news_words** and store the result in list **len_news_words**\n",
        "\n",
        "Compute **bigrams** of list **len_news_words**. Store the result in variable **news_len_bigrams**.\n",
        "\n",
        "Compute the conditional frequency of **news_len_bigrams**, where condition and event refers to **length of a words**. Store the result in **cfd_news**\n",
        "\n",
        "Determine the frequency of **6-letter** words appearing **next** to a** 4-letter** word."
      ]
    },
    {
      "metadata": {
        "id": "j5HtschD7ZWQ",
        "colab_type": "code",
        "colab": {
          "autoexec": {
            "startup": false,
            "wait_interval": 0
          },
          "base_uri": "https://localhost:8080/",
          "height": 51
        },
        "outputId": "26f47ec0-eca9-4a47-fda3-6938434f3f8c",
        "executionInfo": {
          "status": "ok",
          "timestamp": 1527051201537,
          "user_tz": -330,
          "elapsed": 1280,
          "user": {
            "displayName": "Praveen Ganeshan",
            "photoUrl": "//lh6.googleusercontent.com/-QmspgRZUp3M/AAAAAAAAAAI/AAAAAAAAAN0/JZIoVZouLiM/s50-c-k-no/photo.jpg",
            "userId": "115281149458293297578"
          }
        }
      },
      "cell_type": "code",
      "source": [
        "from nltk.corpus import brown\n",
        "news_words=brown.words(categories='news')\n",
        "lc_news_words=[word.lower() for word in news_words]\n",
        "len_news_words=[len(w) for w in lc_news_words]\n",
        "news_len_bigrams=nltk.bigrams(len_news_words)\n",
        "cfd_news=nltk.ConditionalFreqDist(news_len_bigrams)\n",
        "cfd_news.tabulate(conditions=[4],samples=[6])"
      ],
      "execution_count": 87,
      "outputs": [
        {
          "output_type": "stream",
          "text": [
            "     6 \n",
            "4 1084 \n"
          ],
          "name": "stdout"
        }
      ]
    },
    {
      "metadata": {
        "id": "oyCf2rUKo8_a",
        "colab_type": "text"
      },
      "cell_type": "markdown",
      "source": [
        "Compute **bigrams** of list **lc_news_words** and store in variable** lc_news_bigrams**.\n",
        "\n",
        "From **lc_news_bigrams** filter those bigrams, whose both words contain **only alphabet** characters. Store the result in **lc_news_alpha_bigrams**.\n",
        "\n",
        "Extract the list of words associated with corpus **stopwords**. Store the result in **stop_words**.\n",
        "\n",
        "Convert each word of list **stop_words** into **lower case** and store the result in **lc_stop_words**.\n",
        "\n",
        "**Filter** only those bigrams from **lc_news_alpha_bigrams**, whose words are **not part of lc_stop_words**. Store the result in **lc_news_alpha_nonstop_bigrams**.\n",
        "\n",
        "Print the **total number** of filtered bigrams."
      ]
    },
    {
      "metadata": {
        "id": "JYEOYxeh4Uh0",
        "colab_type": "code",
        "colab": {
          "autoexec": {
            "startup": false,
            "wait_interval": 0
          },
          "base_uri": "https://localhost:8080/",
          "height": 34
        },
        "outputId": "0afcb851-605b-4725-b9b0-54dd764d668e",
        "executionInfo": {
          "status": "ok",
          "timestamp": 1527051209213,
          "user_tz": -330,
          "elapsed": 6678,
          "user": {
            "displayName": "Praveen Ganeshan",
            "photoUrl": "//lh6.googleusercontent.com/-QmspgRZUp3M/AAAAAAAAAAI/AAAAAAAAAN0/JZIoVZouLiM/s50-c-k-no/photo.jpg",
            "userId": "115281149458293297578"
          }
        }
      },
      "cell_type": "code",
      "source": [
        "lc_news_bigrams=nltk.bigrams(lc_news_words)\n",
        "lc_news_alpha_bigrams=[(w1,w2) for w1,w2 in lc_news_bigrams if (w1.isalpha()) & (w2.isalpha())]\n",
        "from nltk.corpus import stopwords\n",
        "stop_words = stopwords.words()\n",
        "lc_stop_words=[word.lower() for word in stop_words]\n",
        "lc_news_alpha_nonstop_bigrams=[(w1,w2) for w1,w2 in lc_news_alpha_bigrams if (w1 not in lc_stop_words) & (w2 not in lc_stop_words)]\n",
        "print(len(lc_news_alpha_nonstop_bigrams))"
      ],
      "execution_count": 88,
      "outputs": [
        {
          "output_type": "stream",
          "text": [
            "17132\n"
          ],
          "name": "stdout"
        }
      ]
    },
    {
      "metadata": {
        "id": "tKkPh7z-_l_s",
        "colab_type": "text"
      },
      "cell_type": "markdown",
      "source": [
        "## Other HandsOn\n",
        "\n",
        "How many **trigrams** are possible from the sentence **Python is cool!!!**"
      ]
    },
    {
      "metadata": {
        "id": "1Vjrz_-8_rBW",
        "colab_type": "code",
        "colab": {
          "autoexec": {
            "startup": false,
            "wait_interval": 0
          },
          "base_uri": "https://localhost:8080/",
          "height": 34
        },
        "outputId": "1dd0ec43-d01a-4350-9208-b4d02e83972e",
        "executionInfo": {
          "status": "ok",
          "timestamp": 1527051210030,
          "user_tz": -330,
          "elapsed": 788,
          "user": {
            "displayName": "Praveen Ganeshan",
            "photoUrl": "//lh6.googleusercontent.com/-QmspgRZUp3M/AAAAAAAAAAI/AAAAAAAAAN0/JZIoVZouLiM/s50-c-k-no/photo.jpg",
            "userId": "115281149458293297578"
          }
        }
      },
      "cell_type": "code",
      "source": [
        "s=\"Python is cool!!!\"\n",
        "token=nltk.word_tokenize(s)\n",
        "print(list(nltk.trigrams(token)))"
      ],
      "execution_count": 89,
      "outputs": [
        {
          "output_type": "stream",
          "text": [
            "[('Python', 'is', 'cool'), ('is', 'cool', '!'), ('cool', '!', '!'), ('!', '!', '!')]\n"
          ],
          "name": "stdout"
        }
      ]
    },
    {
      "metadata": {
        "id": "fQGappJfCOJo",
        "colab_type": "text"
      },
      "cell_type": "markdown",
      "source": [
        "What is the frequency of bigram **('HEAD', 'KNIGHT')** in text collection **text6**"
      ]
    },
    {
      "metadata": {
        "id": "yZNkF9zGCSCc",
        "colab_type": "code",
        "colab": {
          "autoexec": {
            "startup": false,
            "wait_interval": 0
          },
          "base_uri": "https://localhost:8080/",
          "height": 34
        },
        "outputId": "766df5d7-2a9b-4e26-ba87-0a704dd86b79",
        "executionInfo": {
          "status": "ok",
          "timestamp": 1527051210981,
          "user_tz": -330,
          "elapsed": 767,
          "user": {
            "displayName": "Praveen Ganeshan",
            "photoUrl": "//lh6.googleusercontent.com/-QmspgRZUp3M/AAAAAAAAAAI/AAAAAAAAAN0/JZIoVZouLiM/s50-c-k-no/photo.jpg",
            "userId": "115281149458293297578"
          }
        }
      },
      "cell_type": "code",
      "source": [
        "cdf=nltk.ConditionalFreqDist(nltk.bigrams(text6))\n",
        "cdf['HEAD']['KNIGHT']"
      ],
      "execution_count": 90,
      "outputs": [
        {
          "output_type": "execute_result",
          "data": {
            "text/plain": [
              "29"
            ]
          },
          "metadata": {
            "tags": []
          },
          "execution_count": 90
        }
      ]
    },
    {
      "metadata": {
        "id": "8CiIgzV4GQjz",
        "colab_type": "text"
      },
      "cell_type": "markdown",
      "source": [
        "What is the frequency of bigram **('King', 'Arthur')** in text collection **text6**"
      ]
    },
    {
      "metadata": {
        "id": "5otHULZoGaEd",
        "colab_type": "code",
        "colab": {
          "autoexec": {
            "startup": false,
            "wait_interval": 0
          },
          "base_uri": "https://localhost:8080/",
          "height": 34
        },
        "outputId": "05f72020-0d21-4f0f-c1b8-aa31d93d5165",
        "executionInfo": {
          "status": "ok",
          "timestamp": 1527051212036,
          "user_tz": -330,
          "elapsed": 859,
          "user": {
            "displayName": "Praveen Ganeshan",
            "photoUrl": "//lh6.googleusercontent.com/-QmspgRZUp3M/AAAAAAAAAAI/AAAAAAAAAN0/JZIoVZouLiM/s50-c-k-no/photo.jpg",
            "userId": "115281149458293297578"
          }
        }
      },
      "cell_type": "code",
      "source": [
        "cdf['King']['Arthur']"
      ],
      "execution_count": 91,
      "outputs": [
        {
          "output_type": "execute_result",
          "data": {
            "text/plain": [
              "16"
            ]
          },
          "metadata": {
            "tags": []
          },
          "execution_count": 91
        }
      ]
    },
    {
      "metadata": {
        "id": "1x2LfIS_Giz7",
        "colab_type": "text"
      },
      "cell_type": "markdown",
      "source": [
        "Which of the following word occurs frequently after the word **Holy** in text collection **text6**?"
      ]
    },
    {
      "metadata": {
        "id": "F30qBhBdGibw",
        "colab_type": "code",
        "colab": {
          "autoexec": {
            "startup": false,
            "wait_interval": 0
          },
          "base_uri": "https://localhost:8080/",
          "height": 34
        },
        "outputId": "4b0cd14e-7d63-40b7-ebcc-fb3c2ae14bb2",
        "executionInfo": {
          "status": "ok",
          "timestamp": 1527051213028,
          "user_tz": -330,
          "elapsed": 835,
          "user": {
            "displayName": "Praveen Ganeshan",
            "photoUrl": "//lh6.googleusercontent.com/-QmspgRZUp3M/AAAAAAAAAAI/AAAAAAAAAN0/JZIoVZouLiM/s50-c-k-no/photo.jpg",
            "userId": "115281149458293297578"
          }
        }
      },
      "cell_type": "code",
      "source": [
        "cdf['Holy']"
      ],
      "execution_count": 92,
      "outputs": [
        {
          "output_type": "execute_result",
          "data": {
            "text/plain": [
              "FreqDist({'Grail': 19, 'Hand': 4, 'Pin': 1})"
            ]
          },
          "metadata": {
            "tags": []
          },
          "execution_count": 92
        }
      ]
    },
    {
      "metadata": {
        "id": "hLfgfIVCGyS4",
        "colab_type": "text"
      },
      "cell_type": "markdown",
      "source": [
        "# Stemming\n",
        "\n",
        "**Stemming** is a process of stripping affixes from words.\n",
        "\n",
        "More often, you **normalize** text by converting all the words into **lowercase**. This will treat both words **The** and **the** as **same**.\n",
        "\n",
        "With stemming, the words **playing**, **played** and **play** will be treated as **single** word, i.e. **play**."
      ]
    },
    {
      "metadata": {
        "id": "YGhBvFHHHgYj",
        "colab_type": "text"
      },
      "cell_type": "markdown",
      "source": [
        "## Stemmers in nltk\n",
        "\n",
        "**nltk** comes with few stemmers.\n",
        "\n",
        "The two widely used stemmers are **Porter** and **Lancaster** stemmers.\n",
        "\n",
        "These stemmers have their own rules for string affixes.\n",
        "\n",
        "The following example demonstrates stemming of word **builders** using **PorterStemmer**."
      ]
    },
    {
      "metadata": {
        "id": "2aUcrUxVHxSx",
        "colab_type": "code",
        "colab": {
          "autoexec": {
            "startup": false,
            "wait_interval": 0
          },
          "base_uri": "https://localhost:8080/",
          "height": 34
        },
        "outputId": "2a9de62f-1ad4-4265-bf7c-539757dcd496",
        "executionInfo": {
          "status": "ok",
          "timestamp": 1527051214313,
          "user_tz": -330,
          "elapsed": 1035,
          "user": {
            "displayName": "Praveen Ganeshan",
            "photoUrl": "//lh6.googleusercontent.com/-QmspgRZUp3M/AAAAAAAAAAI/AAAAAAAAAN0/JZIoVZouLiM/s50-c-k-no/photo.jpg",
            "userId": "115281149458293297578"
          }
        }
      },
      "cell_type": "code",
      "source": [
        "from nltk import PorterStemmer\n",
        "porter = nltk.PorterStemmer()\n",
        "porter.stem('builders')"
      ],
      "execution_count": 93,
      "outputs": [
        {
          "output_type": "execute_result",
          "data": {
            "text/plain": [
              "'builder'"
            ]
          },
          "metadata": {
            "tags": []
          },
          "execution_count": 93
        }
      ]
    },
    {
      "metadata": {
        "id": "Xh3zZYCjH6Co",
        "colab_type": "text"
      },
      "cell_type": "markdown",
      "source": [
        "Now let's see how to use **LancasterStemmer** and stem the word **builders**"
      ]
    },
    {
      "metadata": {
        "id": "KCWBE7ToH_8P",
        "colab_type": "code",
        "colab": {
          "autoexec": {
            "startup": false,
            "wait_interval": 0
          },
          "base_uri": "https://localhost:8080/",
          "height": 34
        },
        "outputId": "19c6b161-c0bc-4a9f-809d-897a8788c63c",
        "executionInfo": {
          "status": "ok",
          "timestamp": 1527051215286,
          "user_tz": -330,
          "elapsed": 781,
          "user": {
            "displayName": "Praveen Ganeshan",
            "photoUrl": "//lh6.googleusercontent.com/-QmspgRZUp3M/AAAAAAAAAAI/AAAAAAAAAN0/JZIoVZouLiM/s50-c-k-no/photo.jpg",
            "userId": "115281149458293297578"
          }
        }
      },
      "cell_type": "code",
      "source": [
        "from nltk import LancasterStemmer\n",
        "lancaster = LancasterStemmer()\n",
        "lancaster.stem('builders')"
      ],
      "execution_count": 94,
      "outputs": [
        {
          "output_type": "execute_result",
          "data": {
            "text/plain": [
              "'build'"
            ]
          },
          "metadata": {
            "tags": []
          },
          "execution_count": 94
        }
      ]
    },
    {
      "metadata": {
        "id": "oHOno5xPIHrl",
        "colab_type": "text"
      },
      "cell_type": "markdown",
      "source": [
        "Lancaster Stemmer returns **build** whereas Porter Stemmer returns **builder**"
      ]
    },
    {
      "metadata": {
        "id": "ftQ5nyVIGivy",
        "colab_type": "text"
      },
      "cell_type": "markdown",
      "source": [
        "## Normalizing with Stemming\n",
        "\n",
        "Let's consider the text collection, **text1**.\n",
        "\n",
        "Let's first determine the **number of unique words** present in original **text1**.\n",
        "\n",
        "Then normalize the text by converting **all the words** into** lower case** and again determine the **number of unique words**."
      ]
    },
    {
      "metadata": {
        "id": "9SxzsT23Gw_p",
        "colab_type": "code",
        "colab": {
          "autoexec": {
            "startup": false,
            "wait_interval": 0
          },
          "base_uri": "https://localhost:8080/",
          "height": 34
        },
        "outputId": "603cbe17-c716-4bd2-eb5d-36c2a13ed578",
        "executionInfo": {
          "status": "ok",
          "timestamp": 1527051216313,
          "user_tz": -330,
          "elapsed": 824,
          "user": {
            "displayName": "Praveen Ganeshan",
            "photoUrl": "//lh6.googleusercontent.com/-QmspgRZUp3M/AAAAAAAAAAI/AAAAAAAAAN0/JZIoVZouLiM/s50-c-k-no/photo.jpg",
            "userId": "115281149458293297578"
          }
        }
      },
      "cell_type": "code",
      "source": [
        "from nltk.book import *\n",
        "len(set(text1))"
      ],
      "execution_count": 95,
      "outputs": [
        {
          "output_type": "execute_result",
          "data": {
            "text/plain": [
              "19317"
            ]
          },
          "metadata": {
            "tags": []
          },
          "execution_count": 95
        }
      ]
    },
    {
      "metadata": {
        "id": "bUtpspbGG7sd",
        "colab_type": "code",
        "colab": {
          "autoexec": {
            "startup": false,
            "wait_interval": 0
          },
          "base_uri": "https://localhost:8080/",
          "height": 34
        },
        "outputId": "7e5932f7-a442-4f0d-8190-892bf88e6035",
        "executionInfo": {
          "status": "ok",
          "timestamp": 1527051218679,
          "user_tz": -330,
          "elapsed": 2062,
          "user": {
            "displayName": "Praveen Ganeshan",
            "photoUrl": "//lh6.googleusercontent.com/-QmspgRZUp3M/AAAAAAAAAAI/AAAAAAAAAN0/JZIoVZouLiM/s50-c-k-no/photo.jpg",
            "userId": "115281149458293297578"
          }
        }
      },
      "cell_type": "code",
      "source": [
        "lc_words = [ word.lower() for word in text1] \n",
        "len(set(lc_words))"
      ],
      "execution_count": 96,
      "outputs": [
        {
          "output_type": "execute_result",
          "data": {
            "text/plain": [
              "17231"
            ]
          },
          "metadata": {
            "tags": []
          },
          "execution_count": 96
        }
      ]
    },
    {
      "metadata": {
        "id": "D0WlXRxQIPpH",
        "colab_type": "text"
      },
      "cell_type": "markdown",
      "source": [
        "Now let's further normalize **text1** with **Porter Stemmer**."
      ]
    },
    {
      "metadata": {
        "id": "PxbYSafKISAC",
        "colab_type": "code",
        "colab": {
          "autoexec": {
            "startup": false,
            "wait_interval": 0
          },
          "base_uri": "https://localhost:8080/",
          "height": 34
        },
        "outputId": "b059be66-70da-4959-a59d-12b6defee18e",
        "executionInfo": {
          "status": "ok",
          "timestamp": 1527051220324,
          "user_tz": -330,
          "elapsed": 1259,
          "user": {
            "displayName": "Praveen Ganeshan",
            "photoUrl": "//lh6.googleusercontent.com/-QmspgRZUp3M/AAAAAAAAAAI/AAAAAAAAAN0/JZIoVZouLiM/s50-c-k-no/photo.jpg",
            "userId": "115281149458293297578"
          }
        }
      },
      "cell_type": "code",
      "source": [
        "from nltk import PorterStemmer\n",
        "porter = PorterStemmer()\n",
        "p_stem_words = [porter.stem(word) for word in set(lc_words) ]\n",
        "len(set(p_stem_words))"
      ],
      "execution_count": 97,
      "outputs": [
        {
          "output_type": "execute_result",
          "data": {
            "text/plain": [
              "10927"
            ]
          },
          "metadata": {
            "tags": []
          },
          "execution_count": 97
        }
      ]
    },
    {
      "metadata": {
        "id": "MC4F4O2UI_K1",
        "colab_type": "text"
      },
      "cell_type": "markdown",
      "source": [
        "The above output shows that, after normalising with **Porter Stemmer**, the **text1** collection has **10927** unique words."
      ]
    },
    {
      "metadata": {
        "id": "EG7ISE8DJCaE",
        "colab_type": "text"
      },
      "cell_type": "markdown",
      "source": [
        "Now let's normalise with** Lancaster stemmer** and determine the unique words of** text1**."
      ]
    },
    {
      "metadata": {
        "id": "2h_X-Yb4JG-C",
        "colab_type": "code",
        "colab": {
          "autoexec": {
            "startup": false,
            "wait_interval": 0
          },
          "base_uri": "https://localhost:8080/",
          "height": 34
        },
        "outputId": "8c8061a2-dc18-4bb4-dac6-3fc547c57691",
        "executionInfo": {
          "status": "ok",
          "timestamp": 1527051221403,
          "user_tz": -330,
          "elapsed": 903,
          "user": {
            "displayName": "Praveen Ganeshan",
            "photoUrl": "//lh6.googleusercontent.com/-QmspgRZUp3M/AAAAAAAAAAI/AAAAAAAAAN0/JZIoVZouLiM/s50-c-k-no/photo.jpg",
            "userId": "115281149458293297578"
          }
        }
      },
      "cell_type": "code",
      "source": [
        "from nltk import LancasterStemmer\n",
        "lancaster = LancasterStemmer()\n",
        "l_stem_words = [lancaster.stem(word) for word in set(lc_words) ]\n",
        "len(set(l_stem_words))"
      ],
      "execution_count": 98,
      "outputs": [
        {
          "output_type": "execute_result",
          "data": {
            "text/plain": [
              "9036"
            ]
          },
          "metadata": {
            "tags": []
          },
          "execution_count": 98
        }
      ]
    },
    {
      "metadata": {
        "id": "yCa7bfPzJRLf",
        "colab_type": "text"
      },
      "cell_type": "markdown",
      "source": [
        "Applying Lancaster Stemmer to **text1** collection resulted in **9036** words."
      ]
    },
    {
      "metadata": {
        "id": "2iaFwXyrJTl8",
        "colab_type": "text"
      },
      "cell_type": "markdown",
      "source": [
        "## Understanding Lemma\n",
        "\n",
        "**Lemma** is a lexical entry in a lexical resource such as **word dictionary**.\n",
        "\n",
        "You can find multiple Lemma's with the same spelling. These are known as **homonyms**.\n",
        "\n",
        "For example, consider the two Lemma's listed below, which are **homonyms**.\n",
        "\n",
        "1. saw [verb] - Past tense of see\n",
        "2. saw [noun] - Cutting instrument"
      ]
    },
    {
      "metadata": {
        "id": "gbzTTetXJkxf",
        "colab_type": "text"
      },
      "cell_type": "markdown",
      "source": [
        "## Lemmatization\n",
        "\n",
        "**nltk** comes with **WordNetLemmatizer**. This lemmatizer removes affixes only if the resulting word is found in lexical resource, **Wordnet**."
      ]
    },
    {
      "metadata": {
        "id": "iK2WrfBPJyIV",
        "colab_type": "code",
        "colab": {
          "autoexec": {
            "startup": false,
            "wait_interval": 0
          },
          "base_uri": "https://localhost:8080/",
          "height": 34
        },
        "outputId": "29f930c0-0a51-4daf-c82c-f2482dcb72cb",
        "executionInfo": {
          "status": "ok",
          "timestamp": 1527051225633,
          "user_tz": -330,
          "elapsed": 3781,
          "user": {
            "displayName": "Praveen Ganeshan",
            "photoUrl": "//lh6.googleusercontent.com/-QmspgRZUp3M/AAAAAAAAAAI/AAAAAAAAAN0/JZIoVZouLiM/s50-c-k-no/photo.jpg",
            "userId": "115281149458293297578"
          }
        }
      },
      "cell_type": "code",
      "source": [
        "wnl = nltk.WordNetLemmatizer()\n",
        "wnl_stem_words = [wnl.lemmatize(word) for word in set(lc_words) ]\n",
        "len(set(wnl_stem_words))"
      ],
      "execution_count": 99,
      "outputs": [
        {
          "output_type": "execute_result",
          "data": {
            "text/plain": [
              "15168"
            ]
          },
          "metadata": {
            "tags": []
          },
          "execution_count": 99
        }
      ]
    },
    {
      "metadata": {
        "id": "xM5zvREqKEGt",
        "colab_type": "text"
      },
      "cell_type": "markdown",
      "source": [
        "**WordNetLemmatizer** is majorly used to build a vocabulary of words, which are **valid Lemmas**."
      ]
    },
    {
      "metadata": {
        "id": "dGyC3krEKIll",
        "colab_type": "text"
      },
      "cell_type": "markdown",
      "source": [
        "## HandsOn\n",
        "\n",
        "Import text corpus **brown**\n",
        "\n",
        "Extract the list of words associated with text collections belonging to **humor** genre. Store the result in variable **humor_words**.\n",
        "\n",
        "Convert each word of list **humor_words** into **lower case** and store the result in **lc_humor_words**.\n",
        "\n",
        "Find the list of **unique** words present in **lc_humor_words**. Store the result in **lc_humor_uniq_words**.\n",
        "\n",
        "Import corpus **words**\n",
        "\n",
        "Extract the** list of words** associated with corpus **words**. Store the result in variable **wordlist_words**.\n",
        "\n",
        "Find the list of **unique** words present in **wordlist_words**. Store the result in **wordlist_uniq_words**.\n",
        "\n",
        "**Print** the number of unique words present in **lc_humor_uniq_words**.\n",
        "\n",
        "**Print** the number of unique words present in **wordlist_uniq_words**."
      ]
    },
    {
      "metadata": {
        "id": "Cu2RE0RoN8Ec",
        "colab_type": "code",
        "colab": {
          "autoexec": {
            "startup": false,
            "wait_interval": 0
          },
          "base_uri": "https://localhost:8080/",
          "height": 51
        },
        "outputId": "fdd9a48f-ca24-4878-dece-8e8d3eab288d",
        "executionInfo": {
          "status": "ok",
          "timestamp": 1527051226824,
          "user_tz": -330,
          "elapsed": 1098,
          "user": {
            "displayName": "Praveen Ganeshan",
            "photoUrl": "//lh6.googleusercontent.com/-QmspgRZUp3M/AAAAAAAAAAI/AAAAAAAAAN0/JZIoVZouLiM/s50-c-k-no/photo.jpg",
            "userId": "115281149458293297578"
          }
        }
      },
      "cell_type": "code",
      "source": [
        "from nltk.corpus import brown\n",
        "humor_words=brown.words(categories='humor')\n",
        "lc_humor_words = [word.lower() for word in humor_words] \n",
        "lc_humor_uniq_words=set(lc_humor_words)\n",
        "from nltk.corpus import words\n",
        "wordlist_words=words.words()\n",
        "wordlist_uniq_words=set(wordlist_words)\n",
        "print(len(lc_humor_uniq_words))\n",
        "print(len(wordlist_uniq_words))"
      ],
      "execution_count": 100,
      "outputs": [
        {
          "output_type": "stream",
          "text": [
            "4755\n",
            "235892\n"
          ],
          "name": "stdout"
        }
      ]
    },
    {
      "metadata": {
        "id": "57FiZUvIPCJi",
        "colab_type": "text"
      },
      "cell_type": "markdown",
      "source": [
        "Create an instance of **PorterStemmer** named,  **porter**.\n",
        "\n",
        "Create an instance of **LancasterStemmer** named, **lancaster**.\n",
        "\n",
        "Stem each word present in **lc_humor_uniq_words** with **porter** instance and store the result in list **p_stemmed**\n",
        "\n",
        "Stem each word present in **lc_humor_uniq_words** with **lancaster** instance and store the result in list **l_stemmed**`\n",
        "\n",
        "Filter those stemmed words from **p_stemmed**, which are also present in **wordlist_uniq_words**. Store the result in **p_stemmed_in_wordlist**.\n",
        "\n",
        "Filter those stemmed words from **l_stemmed**, which are also present in **wordlist_uniq_words**. Store the result in **l_stemmed_in_wordlist**.\n",
        "\n",
        "**Print** the number of filtered words in **p_stemmed_in_wordlist**.\n",
        "\n",
        "**Print** the number of filtered words in **l_stemmed_in_wordlist**."
      ]
    },
    {
      "metadata": {
        "id": "wfsUKuwDPUoq",
        "colab_type": "code",
        "colab": {
          "autoexec": {
            "startup": false,
            "wait_interval": 0
          },
          "base_uri": "https://localhost:8080/",
          "height": 51
        },
        "outputId": "b53d232c-ab41-4636-ea28-570e440be9a1",
        "executionInfo": {
          "status": "ok",
          "timestamp": 1527051228002,
          "user_tz": -330,
          "elapsed": 969,
          "user": {
            "displayName": "Praveen Ganeshan",
            "photoUrl": "//lh6.googleusercontent.com/-QmspgRZUp3M/AAAAAAAAAAI/AAAAAAAAAN0/JZIoVZouLiM/s50-c-k-no/photo.jpg",
            "userId": "115281149458293297578"
          }
        }
      },
      "cell_type": "code",
      "source": [
        "from nltk import PorterStemmer\n",
        "porter = PorterStemmer()\n",
        "from nltk import LancasterStemmer\n",
        "lancaster = LancasterStemmer()\n",
        "p_stemmed=[porter.stem(word) for word in  lc_humor_uniq_words ]\n",
        "l_stemmed=[lancaster.stem(word) for word in  lc_humor_uniq_words ]\n",
        "p_stemmed_in_wordlist=[word for word in p_stemmed if word in wordlist_uniq_words ]\n",
        "l_stemmed_in_wordlist=[word for word in l_stemmed if word in wordlist_uniq_words ]\n",
        "print(len(p_stemmed_in_wordlist))\n",
        "print(len(l_stemmed_in_wordlist))"
      ],
      "execution_count": 101,
      "outputs": [
        {
          "output_type": "stream",
          "text": [
            "2802\n",
            "2704\n"
          ],
          "name": "stdout"
        }
      ]
    },
    {
      "metadata": {
        "id": "EhV5NaLeQYdq",
        "colab_type": "text"
      },
      "cell_type": "markdown",
      "source": [
        "Filter those words from **lc_humor_uniq_words** which have **same length** as it's corresponding **stemmed word**, present in **p_stemmed** and aslo contain **atleat one different** character from the corresponding stemmed word. Store the result in list **p_stemmed_diff**.\n",
        "\n",
        "Filter those words from **lc_humor_uniq_words** which have** same length** as it's corresponding **stemmed word**, present in **l_stemmed** and aslo contain** atleat one different** character from the corresponding stemmed word. Store the result in list **l_stemmed_diff**.\n",
        "\n",
        "Print the number of words present in **p_stemmed_diff**.\n",
        "\n",
        "Print the number of words present in **l_stemmed_diff**."
      ]
    },
    {
      "metadata": {
        "id": "bZzc3eSyQuR7",
        "colab_type": "code",
        "colab": {
          "autoexec": {
            "startup": false,
            "wait_interval": 0
          },
          "base_uri": "https://localhost:8080/",
          "height": 51
        },
        "outputId": "258dc256-f559-4fa5-a720-70b1c7e9129f",
        "executionInfo": {
          "status": "ok",
          "timestamp": 1527051229514,
          "user_tz": -330,
          "elapsed": 1312,
          "user": {
            "displayName": "Praveen Ganeshan",
            "photoUrl": "//lh6.googleusercontent.com/-QmspgRZUp3M/AAAAAAAAAAI/AAAAAAAAAN0/JZIoVZouLiM/s50-c-k-no/photo.jpg",
            "userId": "115281149458293297578"
          }
        }
      },
      "cell_type": "code",
      "source": [
        "p_stemmed_diff=[word for word in lc_humor_uniq_words if (len(word)==len(porter.stem(word))) & (word!=porter.stem(word)) ]\n",
        "l_stemmed_diff=[word for word in lc_humor_uniq_words if (len(word)==len(lancaster.stem(word))) & (word!=lancaster.stem(word)) ]\n",
        "print(len(p_stemmed_diff))\n",
        "print(len(l_stemmed_diff))"
      ],
      "execution_count": 102,
      "outputs": [
        {
          "output_type": "stream",
          "text": [
            "257\n",
            "3\n"
          ],
          "name": "stdout"
        }
      ]
    },
    {
      "metadata": {
        "id": "c7Dq1UDG_tJG",
        "colab_type": "text"
      },
      "cell_type": "markdown",
      "source": [
        "What is the output of **lying** in **Lancaster** stem"
      ]
    },
    {
      "metadata": {
        "id": "8dfNuNVrf4yw",
        "colab_type": "code",
        "colab": {
          "autoexec": {
            "startup": false,
            "wait_interval": 0
          },
          "base_uri": "https://localhost:8080/",
          "height": 34
        },
        "outputId": "36056b1f-3809-4c6e-efea-90e46fe40410",
        "executionInfo": {
          "status": "ok",
          "timestamp": 1527051230629,
          "user_tz": -330,
          "elapsed": 884,
          "user": {
            "displayName": "Praveen Ganeshan",
            "photoUrl": "//lh6.googleusercontent.com/-QmspgRZUp3M/AAAAAAAAAAI/AAAAAAAAAN0/JZIoVZouLiM/s50-c-k-no/photo.jpg",
            "userId": "115281149458293297578"
          }
        }
      },
      "cell_type": "code",
      "source": [
        "lancaster = nltk.LancasterStemmer()\n",
        "print(lancaster.stem('lying'))"
      ],
      "execution_count": 103,
      "outputs": [
        {
          "output_type": "stream",
          "text": [
            "lying\n"
          ],
          "name": "stdout"
        }
      ]
    },
    {
      "metadata": {
        "id": "U5r5Xv2bARAr",
        "colab_type": "text"
      },
      "cell_type": "markdown",
      "source": [
        "What is the output of **ceremony** in **Porter** stem"
      ]
    },
    {
      "metadata": {
        "id": "83r8dz0eAP5K",
        "colab_type": "code",
        "colab": {
          "autoexec": {
            "startup": false,
            "wait_interval": 0
          },
          "base_uri": "https://localhost:8080/",
          "height": 34
        },
        "outputId": "4910f68d-3122-4829-fb42-ba203c8573f6",
        "executionInfo": {
          "status": "ok",
          "timestamp": 1527051231816,
          "user_tz": -330,
          "elapsed": 966,
          "user": {
            "displayName": "Praveen Ganeshan",
            "photoUrl": "//lh6.googleusercontent.com/-QmspgRZUp3M/AAAAAAAAAAI/AAAAAAAAAN0/JZIoVZouLiM/s50-c-k-no/photo.jpg",
            "userId": "115281149458293297578"
          }
        }
      },
      "cell_type": "code",
      "source": [
        "porter = nltk.PorterStemmer()\n",
        "print(porter.stem('ceremony'))"
      ],
      "execution_count": 104,
      "outputs": [
        {
          "output_type": "stream",
          "text": [
            "ceremoni\n"
          ],
          "name": "stdout"
        }
      ]
    },
    {
      "metadata": {
        "id": "CKCN8p5RArT6",
        "colab_type": "text"
      },
      "cell_type": "markdown",
      "source": [
        "What is the output of **women** in **Lancaster** stem"
      ]
    },
    {
      "metadata": {
        "id": "5A4zzbIxAsH0",
        "colab_type": "code",
        "colab": {
          "autoexec": {
            "startup": false,
            "wait_interval": 0
          },
          "base_uri": "https://localhost:8080/",
          "height": 34
        },
        "outputId": "48ab49f3-bfae-4ce1-fb80-c737526e914b",
        "executionInfo": {
          "status": "ok",
          "timestamp": 1527051233359,
          "user_tz": -330,
          "elapsed": 883,
          "user": {
            "displayName": "Praveen Ganeshan",
            "photoUrl": "//lh6.googleusercontent.com/-QmspgRZUp3M/AAAAAAAAAAI/AAAAAAAAAN0/JZIoVZouLiM/s50-c-k-no/photo.jpg",
            "userId": "115281149458293297578"
          }
        }
      },
      "cell_type": "code",
      "source": [
        "lancaster = nltk.LancasterStemmer()\n",
        "print(lancaster.stem('women'))"
      ],
      "execution_count": 105,
      "outputs": [
        {
          "output_type": "stream",
          "text": [
            "wom\n"
          ],
          "name": "stdout"
        }
      ]
    },
    {
      "metadata": {
        "id": "LmayntA3BEZt",
        "colab_type": "text"
      },
      "cell_type": "markdown",
      "source": [
        "What is the output of **women** in **wordnetlemmatizer**"
      ]
    },
    {
      "metadata": {
        "id": "sn-Kgg3fBBUp",
        "colab_type": "code",
        "colab": {
          "autoexec": {
            "startup": false,
            "wait_interval": 0
          },
          "base_uri": "https://localhost:8080/",
          "height": 34
        },
        "outputId": "83c771bb-64fd-4d34-c8bc-eaaa681ede59",
        "executionInfo": {
          "status": "ok",
          "timestamp": 1527051234380,
          "user_tz": -330,
          "elapsed": 740,
          "user": {
            "displayName": "Praveen Ganeshan",
            "photoUrl": "//lh6.googleusercontent.com/-QmspgRZUp3M/AAAAAAAAAAI/AAAAAAAAAN0/JZIoVZouLiM/s50-c-k-no/photo.jpg",
            "userId": "115281149458293297578"
          }
        }
      },
      "cell_type": "code",
      "source": [
        "wnl = nltk.WordNetLemmatizer()\n",
        "print(wnl.lemmatize('women'))"
      ],
      "execution_count": 106,
      "outputs": [
        {
          "output_type": "stream",
          "text": [
            "woman\n"
          ],
          "name": "stdout"
        }
      ]
    },
    {
      "metadata": {
        "id": "HRrrsssBDdA7",
        "colab_type": "text"
      },
      "cell_type": "markdown",
      "source": [
        "# POS Tagging\n",
        "\n",
        "The method of **categorizing words** into their parts of speech and then labeling them respectively is called **POS Tagging**.\n",
        "\n",
        "A **POS Tagger** processes a sequence of words and tags a part of speech to each word.\n",
        "\n",
        "**pos_tag** is the simplest tagger available in **nltk**.\n",
        "\n",
        "The below example shows usage of **pos_tag**."
      ]
    },
    {
      "metadata": {
        "id": "4knR0_kdD6NN",
        "colab_type": "code",
        "colab": {
          "autoexec": {
            "startup": false,
            "wait_interval": 0
          },
          "base_uri": "https://localhost:8080/",
          "height": 34
        },
        "outputId": "7f57ec77-aab2-41b3-99ad-9d4229411912",
        "executionInfo": {
          "status": "ok",
          "timestamp": 1527051235632,
          "user_tz": -330,
          "elapsed": 1169,
          "user": {
            "displayName": "Praveen Ganeshan",
            "photoUrl": "//lh6.googleusercontent.com/-QmspgRZUp3M/AAAAAAAAAAI/AAAAAAAAAN0/JZIoVZouLiM/s50-c-k-no/photo.jpg",
            "userId": "115281149458293297578"
          }
        }
      },
      "cell_type": "code",
      "source": [
        "import nltk\n",
        "text = 'Python is awesome.'\n",
        "words = nltk.word_tokenize(text)\n",
        "nltk.pos_tag(words)"
      ],
      "execution_count": 107,
      "outputs": [
        {
          "output_type": "execute_result",
          "data": {
            "text/plain": [
              "[('Python', 'NNP'), ('is', 'VBZ'), ('awesome', 'JJ'), ('.', '.')]"
            ]
          },
          "metadata": {
            "tags": []
          },
          "execution_count": 107
        }
      ]
    },
    {
      "metadata": {
        "id": "ByhxlhBjEK7E",
        "colab_type": "text"
      },
      "cell_type": "markdown",
      "source": [
        "The words **Python**, **is** and **awesome** are tagged to **Proper Noun (NNP)**, **Present Tense Verb (VB)**, and **adjective (JJ)** respectively.\n",
        "\n",
        "You can read more about the pos tags with the below help command\n",
        "\n",
        "**nltk.help.upenn_tagset()**\n",
        "\n",
        "To know about a specific tag like **JJ**, use the below-shown expression"
      ]
    },
    {
      "metadata": {
        "id": "oNGX5oJiEbfi",
        "colab_type": "code",
        "colab": {
          "autoexec": {
            "startup": false,
            "wait_interval": 0
          },
          "base_uri": "https://localhost:8080/",
          "height": 85
        },
        "outputId": "59ad70a9-e2e4-4410-fa0c-155b0e1fec97",
        "executionInfo": {
          "status": "ok",
          "timestamp": 1527051236642,
          "user_tz": -330,
          "elapsed": 925,
          "user": {
            "displayName": "Praveen Ganeshan",
            "photoUrl": "//lh6.googleusercontent.com/-QmspgRZUp3M/AAAAAAAAAAI/AAAAAAAAAN0/JZIoVZouLiM/s50-c-k-no/photo.jpg",
            "userId": "115281149458293297578"
          }
        }
      },
      "cell_type": "code",
      "source": [
        "nltk.help.upenn_tagset('JJ')"
      ],
      "execution_count": 108,
      "outputs": [
        {
          "output_type": "stream",
          "text": [
            "JJ: adjective or numeral, ordinal\n",
            "    third ill-mannered pre-war regrettable oiled calamitous first separable\n",
            "    ectoplasmic battery-powered participatory fourth still-to-be-named\n",
            "    multilingual multi-disciplinary ...\n"
          ],
          "name": "stdout"
        }
      ]
    },
    {
      "metadata": {
        "id": "jpqQcIpxEjkG",
        "colab_type": "text"
      },
      "cell_type": "markdown",
      "source": [
        "## Tagging Text\n",
        "\n",
        "Constructing a list of tagged words from a string is possible.\n",
        "\n",
        "A tagged word or token is represented in a **tuple**, having the **word** and the **tag**.\n",
        "\n",
        "In the input text, each word and tag are separated by** /**."
      ]
    },
    {
      "metadata": {
        "id": "STsbB8CfEvej",
        "colab_type": "code",
        "colab": {
          "autoexec": {
            "startup": false,
            "wait_interval": 0
          },
          "base_uri": "https://localhost:8080/",
          "height": 34
        },
        "outputId": "a1f6eec1-75f2-4356-9571-e6e0219a60d1",
        "executionInfo": {
          "status": "ok",
          "timestamp": 1527051237625,
          "user_tz": -330,
          "elapsed": 887,
          "user": {
            "displayName": "Praveen Ganeshan",
            "photoUrl": "//lh6.googleusercontent.com/-QmspgRZUp3M/AAAAAAAAAAI/AAAAAAAAAN0/JZIoVZouLiM/s50-c-k-no/photo.jpg",
            "userId": "115281149458293297578"
          }
        }
      },
      "cell_type": "code",
      "source": [
        "text = 'Python/NN is/VB awesome/JJ ./.'\n",
        "[ nltk.tag.str2tuple(word) for word in text.split() ]"
      ],
      "execution_count": 109,
      "outputs": [
        {
          "output_type": "execute_result",
          "data": {
            "text/plain": [
              "[('Python', 'NN'), ('is', 'VB'), ('awesome', 'JJ'), ('.', '.')]"
            ]
          },
          "metadata": {
            "tags": []
          },
          "execution_count": 109
        }
      ]
    },
    {
      "metadata": {
        "id": "bZs2vTlNFGnJ",
        "colab_type": "text"
      },
      "cell_type": "markdown",
      "source": [
        "## Tagged Corpora\n",
        "\n",
        "Many of the text corpus available in nltk, are already tagged to their respective parts of speech.\n",
        "\n",
        "**tagged_words** method can be used to obtain tagged words of a corpus.\n",
        "\n",
        "The following example fetches tagged words of **brown** corpus and displays few."
      ]
    },
    {
      "metadata": {
        "id": "FeDxPTDEFQ3n",
        "colab_type": "code",
        "colab": {
          "autoexec": {
            "startup": false,
            "wait_interval": 0
          },
          "base_uri": "https://localhost:8080/",
          "height": 34
        },
        "outputId": "811fae28-d6fa-4e18-c9e2-00c21c7910ff",
        "executionInfo": {
          "status": "ok",
          "timestamp": 1527051238450,
          "user_tz": -330,
          "elapsed": 764,
          "user": {
            "displayName": "Praveen Ganeshan",
            "photoUrl": "//lh6.googleusercontent.com/-QmspgRZUp3M/AAAAAAAAAAI/AAAAAAAAAN0/JZIoVZouLiM/s50-c-k-no/photo.jpg",
            "userId": "115281149458293297578"
          }
        }
      },
      "cell_type": "code",
      "source": [
        "from nltk.corpus import brown\n",
        "brown_tagged = brown.tagged_words()\n",
        "brown_tagged[:3]"
      ],
      "execution_count": 110,
      "outputs": [
        {
          "output_type": "execute_result",
          "data": {
            "text/plain": [
              "[('The', 'AT'), ('Fulton', 'NP-TL'), ('County', 'NN-TL')]"
            ]
          },
          "metadata": {
            "tags": []
          },
          "execution_count": 110
        }
      ]
    },
    {
      "metadata": {
        "id": "SiIHjUAjFg4G",
        "colab_type": "text"
      },
      "cell_type": "markdown",
      "source": [
        "## DefaultTagger\n",
        "\n",
        "**DefaultTagger** assigns a** specified tag to every word or token** of given text.\n",
        "\n",
        "An example of tagging **NN** tag to **all words of a sentence**, is shown below."
      ]
    },
    {
      "metadata": {
        "id": "5nkVsYp-F5rc",
        "colab_type": "code",
        "colab": {
          "autoexec": {
            "startup": false,
            "wait_interval": 0
          },
          "base_uri": "https://localhost:8080/",
          "height": 34
        },
        "outputId": "3786d22e-e494-4fa3-9758-ba7c4ae9970d",
        "executionInfo": {
          "status": "ok",
          "timestamp": 1527051239274,
          "user_tz": -330,
          "elapsed": 745,
          "user": {
            "displayName": "Praveen Ganeshan",
            "photoUrl": "//lh6.googleusercontent.com/-QmspgRZUp3M/AAAAAAAAAAI/AAAAAAAAAN0/JZIoVZouLiM/s50-c-k-no/photo.jpg",
            "userId": "115281149458293297578"
          }
        }
      },
      "cell_type": "code",
      "source": [
        "import nltk\n",
        "text = 'Python is awesome.'\n",
        "words = nltk.word_tokenize(text)\n",
        "default_tagger = nltk.DefaultTagger('NN')\n",
        "default_tagger.tag(words)"
      ],
      "execution_count": 111,
      "outputs": [
        {
          "output_type": "execute_result",
          "data": {
            "text/plain": [
              "[('Python', 'NN'), ('is', 'NN'), ('awesome', 'NN'), ('.', 'NN')]"
            ]
          },
          "metadata": {
            "tags": []
          },
          "execution_count": 111
        }
      ]
    },
    {
      "metadata": {
        "id": "_hYEBgzmGElK",
        "colab_type": "text"
      },
      "cell_type": "markdown",
      "source": [
        "## Lookup Tagger\n",
        "\n",
        "ou can define a** custom tagger** and use it to tag words present in any text.\n",
        "\n",
        "The below-shown example defines a dictionary **defined_tags**, with three words and their respective tags."
      ]
    },
    {
      "metadata": {
        "id": "2lKyGwxaGPwD",
        "colab_type": "code",
        "colab": {
          "autoexec": {
            "startup": false,
            "wait_interval": 0
          }
        }
      },
      "cell_type": "code",
      "source": [
        "import nltk\n",
        "text = 'Python is awesome.'\n",
        "words = nltk.word_tokenize(text)\n",
        "defined_tags = {'is':'BEZ', 'over':'IN', 'who': 'WPS'}"
      ],
      "execution_count": 0,
      "outputs": []
    },
    {
      "metadata": {
        "id": "DoLZQrOcGhWO",
        "colab_type": "text"
      },
      "cell_type": "markdown",
      "source": [
        "The example further defines a **UnigramTagger** with the defined dictionary and uses it to predict tags of words in **text**."
      ]
    },
    {
      "metadata": {
        "id": "itdzYE61GWc0",
        "colab_type": "code",
        "colab": {
          "autoexec": {
            "startup": false,
            "wait_interval": 0
          },
          "base_uri": "https://localhost:8080/",
          "height": 34
        },
        "outputId": "ea923f83-a9eb-4f2d-c95c-7cc82d84c5a4",
        "executionInfo": {
          "status": "ok",
          "timestamp": 1527051240932,
          "user_tz": -330,
          "elapsed": 792,
          "user": {
            "displayName": "Praveen Ganeshan",
            "photoUrl": "//lh6.googleusercontent.com/-QmspgRZUp3M/AAAAAAAAAAI/AAAAAAAAAN0/JZIoVZouLiM/s50-c-k-no/photo.jpg",
            "userId": "115281149458293297578"
          }
        }
      },
      "cell_type": "code",
      "source": [
        "baseline_tagger = nltk.UnigramTagger(model=defined_tags)\n",
        "baseline_tagger.tag(words)"
      ],
      "execution_count": 113,
      "outputs": [
        {
          "output_type": "execute_result",
          "data": {
            "text/plain": [
              "[('Python', None), ('is', 'BEZ'), ('awesome', None), ('.', None)]"
            ]
          },
          "metadata": {
            "tags": []
          },
          "execution_count": 113
        }
      ]
    },
    {
      "metadata": {
        "id": "PPnQOTVNGuIy",
        "colab_type": "text"
      },
      "cell_type": "markdown",
      "source": [
        "Since the words **Python** and **awesome** are not found in **defined_tags** dictionary, they are tagged to **None**."
      ]
    },
    {
      "metadata": {
        "id": "Qbf1ilnFG0YK",
        "colab_type": "text"
      },
      "cell_type": "markdown",
      "source": [
        "## Unigram Tagger\n",
        "\n",
        "**UnigramTagger** provides you the flexibility to create your taggers.\n",
        "\n",
        "Unigram taggers are built based on statistical information. i.e., they tag each word or token to most likely tag for that particular word.\n",
        "\n",
        "You can build a unigram tagger through a process known as **training**.\n",
        "\n",
        "Then use the tagger to tag words in a test set and evaluate the performance.\n",
        "\n",
        "Let's consider the tagged sentences of **brown** corpus collections, associated with **government** genre.\n",
        "\n",
        "Let's also compute the training set size, i.e., **80%**."
      ]
    },
    {
      "metadata": {
        "id": "QLk7j7YTIFLb",
        "colab_type": "code",
        "colab": {
          "autoexec": {
            "startup": false,
            "wait_interval": 0
          },
          "base_uri": "https://localhost:8080/",
          "height": 34
        },
        "outputId": "21d40ae7-abb8-4304-e138-e22a236c416c",
        "executionInfo": {
          "status": "ok",
          "timestamp": 1527051242037,
          "user_tz": -330,
          "elapsed": 940,
          "user": {
            "displayName": "Praveen Ganeshan",
            "photoUrl": "//lh6.googleusercontent.com/-QmspgRZUp3M/AAAAAAAAAAI/AAAAAAAAAN0/JZIoVZouLiM/s50-c-k-no/photo.jpg",
            "userId": "115281149458293297578"
          }
        }
      },
      "cell_type": "code",
      "source": [
        "from nltk.corpus import brown\n",
        "brown_tagged_sents = brown.tagged_sents(categories='government')\n",
        "brown_sents = brown.sents(categories='government')\n",
        "len(brown_sents)"
      ],
      "execution_count": 114,
      "outputs": [
        {
          "output_type": "execute_result",
          "data": {
            "text/plain": [
              "3032"
            ]
          },
          "metadata": {
            "tags": []
          },
          "execution_count": 114
        }
      ]
    },
    {
      "metadata": {
        "id": "XZNSkRM-ISHV",
        "colab_type": "code",
        "colab": {
          "autoexec": {
            "startup": false,
            "wait_interval": 0
          },
          "base_uri": "https://localhost:8080/",
          "height": 34
        },
        "outputId": "fed82149-6b4c-42f8-8ae8-4892eac2a976",
        "executionInfo": {
          "status": "ok",
          "timestamp": 1527051242860,
          "user_tz": -330,
          "elapsed": 755,
          "user": {
            "displayName": "Praveen Ganeshan",
            "photoUrl": "//lh6.googleusercontent.com/-QmspgRZUp3M/AAAAAAAAAAI/AAAAAAAAAN0/JZIoVZouLiM/s50-c-k-no/photo.jpg",
            "userId": "115281149458293297578"
          }
        }
      },
      "cell_type": "code",
      "source": [
        "train_size = int(len(brown_sents)*0.8)\n",
        "train_size"
      ],
      "execution_count": 115,
      "outputs": [
        {
          "output_type": "execute_result",
          "data": {
            "text/plain": [
              "2425"
            ]
          },
          "metadata": {
            "tags": []
          },
          "execution_count": 115
        }
      ]
    },
    {
      "metadata": {
        "id": "AN5c_ggwIav4",
        "colab_type": "code",
        "colab": {
          "autoexec": {
            "startup": false,
            "wait_interval": 0
          },
          "base_uri": "https://localhost:8080/",
          "height": 34
        },
        "outputId": "11480e6a-1595-488b-9a17-6422a9fad62a",
        "executionInfo": {
          "status": "ok",
          "timestamp": 1527051246222,
          "user_tz": -330,
          "elapsed": 3180,
          "user": {
            "displayName": "Praveen Ganeshan",
            "photoUrl": "//lh6.googleusercontent.com/-QmspgRZUp3M/AAAAAAAAAAI/AAAAAAAAAN0/JZIoVZouLiM/s50-c-k-no/photo.jpg",
            "userId": "115281149458293297578"
          }
        }
      },
      "cell_type": "code",
      "source": [
        "train_sents = brown_tagged_sents[:train_size]\n",
        "test_sents = brown_tagged_sents[train_size:]\n",
        "unigram_tagger = nltk.UnigramTagger(train_sents)\n",
        "unigram_tagger.evaluate(test_sents)"
      ],
      "execution_count": 116,
      "outputs": [
        {
          "output_type": "execute_result",
          "data": {
            "text/plain": [
              "0.7799495586380832"
            ]
          },
          "metadata": {
            "tags": []
          },
          "execution_count": 116
        }
      ]
    },
    {
      "metadata": {
        "id": "-VGxuCRVIk8I",
        "colab_type": "text"
      },
      "cell_type": "markdown",
      "source": [
        "**unigram_tagger** is built by passing trained tagged sentences as argument to **UnigramTagger**.\n",
        "\n",
        "The built **unigram_tagger** is further evaluated with test sentences.\n",
        "\n",
        "The following code snippet shows tagging words of a sentence, taken from the test set."
      ]
    },
    {
      "metadata": {
        "id": "1xvyhLXbIyUf",
        "colab_type": "code",
        "colab": {
          "autoexec": {
            "startup": false,
            "wait_interval": 0
          },
          "base_uri": "https://localhost:8080/",
          "height": 425
        },
        "outputId": "7a4865da-63b0-4789-c600-610924fb532b",
        "executionInfo": {
          "status": "ok",
          "timestamp": 1527051248249,
          "user_tz": -330,
          "elapsed": 1469,
          "user": {
            "displayName": "Praveen Ganeshan",
            "photoUrl": "//lh6.googleusercontent.com/-QmspgRZUp3M/AAAAAAAAAAI/AAAAAAAAAN0/JZIoVZouLiM/s50-c-k-no/photo.jpg",
            "userId": "115281149458293297578"
          }
        }
      },
      "cell_type": "code",
      "source": [
        "unigram_tagger.tag(brown_sents[3000])"
      ],
      "execution_count": 117,
      "outputs": [
        {
          "output_type": "execute_result",
          "data": {
            "text/plain": [
              "[('The', 'AT'),\n",
              " ('first', 'OD'),\n",
              " ('step', 'NN'),\n",
              " ('is', 'BEZ'),\n",
              " ('a', 'AT'),\n",
              " ('comprehensive', 'JJ'),\n",
              " ('self', None),\n",
              " ('study', 'NN'),\n",
              " ('made', 'VBN'),\n",
              " ('by', 'IN'),\n",
              " ('faculty', None),\n",
              " (',', ','),\n",
              " ('by', 'IN'),\n",
              " ('outside', 'IN'),\n",
              " ('consultants', 'NNS'),\n",
              " (',', ','),\n",
              " ('or', 'CC'),\n",
              " ('by', 'IN'),\n",
              " ('a', 'AT'),\n",
              " ('combination', 'NN'),\n",
              " ('of', 'IN'),\n",
              " ('the', 'AT'),\n",
              " ('two', 'CD'),\n",
              " ('.', '.')]"
            ]
          },
          "metadata": {
            "tags": []
          },
          "execution_count": 117
        }
      ]
    },
    {
      "metadata": {
        "id": "E0ajtJ8gIu2s",
        "colab_type": "text"
      },
      "cell_type": "markdown",
      "source": [
        "## HandsOn\n",
        "\n",
        "Import the text corpus **brown**.\n",
        "\n",
        "Extract the list of **tagged words** from the corpus **brown**. Store the result in **brown_tagged_words**\n",
        "\n",
        "Generate **trigrams** of **brown_tagged_words** and store the result in **brown_tagged_trigrams**.\n",
        "\n",
        "For every trigram of **brown_tagged_trigrams**, determine the **tags** associated with **each word**. This results in a list of **tuples**, where each tuple contain pos tags of **3 consecutive words**, occurring in text. Store the result in **brown_trigram_pos_tags**.\n",
        "\n",
        "Determine the **frequency** distribution of **brown_trigram_pos_tags** and store the result in **brown_trigram_pos_tags_freq**.\n",
        "\n",
        "Print the number of occurrences of **trigram ('JJ','NN','IN')**"
      ]
    },
    {
      "metadata": {
        "id": "8f94Kl75JvcC",
        "colab_type": "code",
        "colab": {
          "autoexec": {
            "startup": false,
            "wait_interval": 0
          },
          "base_uri": "https://localhost:8080/",
          "height": 34
        },
        "outputId": "0c857138-04b8-4e9c-a4ef-06136c4cc54e",
        "executionInfo": {
          "status": "ok",
          "timestamp": 1527051255733,
          "user_tz": -330,
          "elapsed": 7423,
          "user": {
            "displayName": "Praveen Ganeshan",
            "photoUrl": "//lh6.googleusercontent.com/-QmspgRZUp3M/AAAAAAAAAAI/AAAAAAAAAN0/JZIoVZouLiM/s50-c-k-no/photo.jpg",
            "userId": "115281149458293297578"
          }
        }
      },
      "cell_type": "code",
      "source": [
        "from nltk.corpus import brown\n",
        "brown_tagged_words=brown.tagged_words()\n",
        "brown_tagged_trigrams=nltk.trigrams(brown_tagged_words)\n",
        "brown_trigram_pos_tags=[(t1,t2,t3)for ((w1,t1),(w2,t2),(w3,t3)) in brown_tagged_trigrams]\n",
        "brown_trigram_pos_tags_freq=nltk.FreqDist(brown_trigram_pos_tags)\n",
        "brown_trigram_pos_tags_freq[('JJ','NN','IN')]"
      ],
      "execution_count": 118,
      "outputs": [
        {
          "output_type": "execute_result",
          "data": {
            "text/plain": [
              "8424"
            ]
          },
          "metadata": {
            "tags": []
          },
          "execution_count": 118
        }
      ]
    },
    {
      "metadata": {
        "id": "-PBFInmvmiOv",
        "colab_type": "text"
      },
      "cell_type": "markdown",
      "source": [
        "Generate a list of tagged sentences from **brown** corpus. Store the result in **brown_tagged_sents**\n",
        "\n",
        "Compute the **number of sentences** present in  **brown_tagged_sents**. Store the result in **total_size**\n",
        "\n",
        "Compute the **training** set size, which is **80%** of **total_size**. Convert the result to an **integer** and Store the result in **train_size**.\n",
        "\n",
        "Split the list **brown_tagged_sents** into two parts namely **train_sents** and **test_sents**.\n",
        "\n",
        "Create an instance of **UnigramTagger** with **train_sents** as input. Name the instance as **unigram_tagger**.\n",
        "\n",
        "Evaluate the performance on **unigram_tagger** on **test_sents**. Store the result in **tag_performace** and **print** it."
      ]
    },
    {
      "metadata": {
        "id": "tghwA_wvnY0h",
        "colab_type": "code",
        "colab": {
          "autoexec": {
            "startup": false,
            "wait_interval": 0
          },
          "base_uri": "https://localhost:8080/",
          "height": 34
        },
        "outputId": "236915d7-ca4b-4a41-8dee-a7f7ccd183d0",
        "executionInfo": {
          "status": "ok",
          "timestamp": 1527051267962,
          "user_tz": -330,
          "elapsed": 12219,
          "user": {
            "displayName": "Praveen Ganeshan",
            "photoUrl": "//lh6.googleusercontent.com/-QmspgRZUp3M/AAAAAAAAAAI/AAAAAAAAAN0/JZIoVZouLiM/s50-c-k-no/photo.jpg",
            "userId": "115281149458293297578"
          }
        }
      },
      "cell_type": "code",
      "source": [
        "from nltk.corpus import brown\n",
        "brown_tagged_sents=brown.tagged_sents()\n",
        "total_size=len(brown_tagged_sents)\n",
        "train_size=int(total_size*0.8)\n",
        "train_sents = brown_tagged_sents[:train_size]\n",
        "test_sents = brown_tagged_sents[train_size:]\n",
        "unigram_tagger=nltk.UnigramTagger(train_sents)\n",
        "tag_performace=unigram_tagger.evaluate(test_sents)\n",
        "print(tag_performace)"
      ],
      "execution_count": 119,
      "outputs": [
        {
          "output_type": "stream",
          "text": [
            "0.8773754310202373\n"
          ],
          "name": "stdout"
        }
      ]
    },
    {
      "metadata": {
        "id": "8oG49jOUsYmc",
        "colab_type": "text"
      },
      "cell_type": "markdown",
      "source": [
        "## Other HandsOn\n",
        "\n",
        "Which tag occurs **maximum** in text collections associated with **news** genre of **brown** corpus?"
      ]
    },
    {
      "metadata": {
        "id": "ddwLMcVgsiyA",
        "colab_type": "code",
        "colab": {
          "autoexec": {
            "startup": false,
            "wait_interval": 0
          },
          "base_uri": "https://localhost:8080/",
          "height": 34
        },
        "outputId": "01d55901-bdf2-4b71-e561-d02aebe85657",
        "executionInfo": {
          "status": "ok",
          "timestamp": 1527051270224,
          "user_tz": -330,
          "elapsed": 1452,
          "user": {
            "displayName": "Praveen Ganeshan",
            "photoUrl": "//lh6.googleusercontent.com/-QmspgRZUp3M/AAAAAAAAAAI/AAAAAAAAAN0/JZIoVZouLiM/s50-c-k-no/photo.jpg",
            "userId": "115281149458293297578"
          }
        }
      },
      "cell_type": "code",
      "source": [
        "from nltk.corpus import brown\n",
        "brown_tagged_words=brown.tagged_words(categories='news')\n",
        "tags=[t for (w,t) in brown_tagged_words]\n",
        "cdf=nltk.FreqDist(tags)\n",
        "cdf.most_common(3)"
      ],
      "execution_count": 120,
      "outputs": [
        {
          "output_type": "execute_result",
          "data": {
            "text/plain": [
              "[('NN', 13162), ('IN', 10616), ('AT', 8893)]"
            ]
          },
          "metadata": {
            "tags": []
          },
          "execution_count": 120
        }
      ]
    },
    {
      "metadata": {
        "id": "qQO9Pzpa5Ito",
        "colab_type": "text"
      },
      "cell_type": "markdown",
      "source": [
        "How many words are ending with '**ly**' in text collection **text6**?"
      ]
    },
    {
      "metadata": {
        "id": "eWhaV2dG5SDT",
        "colab_type": "code",
        "colab": {
          "autoexec": {
            "startup": false,
            "wait_interval": 0
          },
          "base_uri": "https://localhost:8080/",
          "height": 34
        },
        "outputId": "8ec51a75-0ba4-4044-cb14-32c95ef5e7f3",
        "executionInfo": {
          "status": "ok",
          "timestamp": 1527051271573,
          "user_tz": -330,
          "elapsed": 1074,
          "user": {
            "displayName": "Praveen Ganeshan",
            "photoUrl": "//lh6.googleusercontent.com/-QmspgRZUp3M/AAAAAAAAAAI/AAAAAAAAAN0/JZIoVZouLiM/s50-c-k-no/photo.jpg",
            "userId": "115281149458293297578"
          }
        }
      },
      "cell_type": "code",
      "source": [
        "len([w for w in text6 if w.endswith('ly')])"
      ],
      "execution_count": 121,
      "outputs": [
        {
          "output_type": "execute_result",
          "data": {
            "text/plain": [
              "109"
            ]
          },
          "metadata": {
            "tags": []
          },
          "execution_count": 121
        }
      ]
    },
    {
      "metadata": {
        "id": "m3jhi5Ek6Dpc",
        "colab_type": "text"
      },
      "cell_type": "markdown",
      "source": [
        "Count the number of words in text collection, **text6**, ending with **ship**?"
      ]
    },
    {
      "metadata": {
        "id": "KClDabRv6JuS",
        "colab_type": "code",
        "colab": {
          "autoexec": {
            "startup": false,
            "wait_interval": 0
          },
          "base_uri": "https://localhost:8080/",
          "height": 34
        },
        "outputId": "f7b5763d-3564-4a4c-8b83-03cac0f563d8",
        "executionInfo": {
          "status": "ok",
          "timestamp": 1527051272908,
          "user_tz": -330,
          "elapsed": 955,
          "user": {
            "displayName": "Praveen Ganeshan",
            "photoUrl": "//lh6.googleusercontent.com/-QmspgRZUp3M/AAAAAAAAAAI/AAAAAAAAAN0/JZIoVZouLiM/s50-c-k-no/photo.jpg",
            "userId": "115281149458293297578"
          }
        }
      },
      "cell_type": "code",
      "source": [
        "len([w for w in text6 if w.endswith('ship')])"
      ],
      "execution_count": 122,
      "outputs": [
        {
          "output_type": "execute_result",
          "data": {
            "text/plain": [
              "1"
            ]
          },
          "metadata": {
            "tags": []
          },
          "execution_count": 122
        }
      ]
    },
    {
      "metadata": {
        "id": "UEeRQeBy6fsJ",
        "colab_type": "text"
      },
      "cell_type": "markdown",
      "source": [
        "How many words are ending with '**ing**' in text collection **text6**?"
      ]
    },
    {
      "metadata": {
        "id": "YzELwKBd6j50",
        "colab_type": "code",
        "colab": {
          "autoexec": {
            "startup": false,
            "wait_interval": 0
          },
          "base_uri": "https://localhost:8080/",
          "height": 34
        },
        "outputId": "96494407-5cff-4450-b091-3ac798a3ce33",
        "executionInfo": {
          "status": "ok",
          "timestamp": 1527051274130,
          "user_tz": -330,
          "elapsed": 935,
          "user": {
            "displayName": "Praveen Ganeshan",
            "photoUrl": "//lh6.googleusercontent.com/-QmspgRZUp3M/AAAAAAAAAAI/AAAAAAAAAN0/JZIoVZouLiM/s50-c-k-no/photo.jpg",
            "userId": "115281149458293297578"
          }
        }
      },
      "cell_type": "code",
      "source": [
        "len([w for w in text6 if w.endswith('ing')])"
      ],
      "execution_count": 123,
      "outputs": [
        {
          "output_type": "execute_result",
          "data": {
            "text/plain": [
              "281"
            ]
          },
          "metadata": {
            "tags": []
          },
          "execution_count": 123
        }
      ]
    },
    {
      "metadata": {
        "id": "KFoUT-yh7Cob",
        "colab_type": "text"
      },
      "cell_type": "markdown",
      "source": [
        "Which of the following is not a collocation, associated with **text6** ?"
      ]
    },
    {
      "metadata": {
        "id": "dG83gp9m7E-_",
        "colab_type": "code",
        "colab": {
          "autoexec": {
            "startup": false,
            "wait_interval": 0
          },
          "base_uri": "https://localhost:8080/",
          "height": 85
        },
        "outputId": "2236c528-4b3a-4233-b271-505cf51988c2",
        "executionInfo": {
          "status": "ok",
          "timestamp": 1527051275576,
          "user_tz": -330,
          "elapsed": 1161,
          "user": {
            "displayName": "Praveen Ganeshan",
            "photoUrl": "//lh6.googleusercontent.com/-QmspgRZUp3M/AAAAAAAAAAI/AAAAAAAAAN0/JZIoVZouLiM/s50-c-k-no/photo.jpg",
            "userId": "115281149458293297578"
          }
        }
      },
      "cell_type": "code",
      "source": [
        "text=nltk.Text(text6)\n",
        "text.collocations()"
      ],
      "execution_count": 124,
      "outputs": [
        {
          "output_type": "stream",
          "text": [
            "BLACK KNIGHT; clop clop; HEAD KNIGHT; mumble mumble; Holy Grail;\n",
            "squeak squeak; FRENCH GUARD; saw saw; Sir Robin; Run away; CARTOON\n",
            "CHARACTER; King Arthur; Iesu domine; Pie Iesu; DEAD PERSON; Round\n",
            "Table; clap clap; OLD MAN; dramatic chord; dona eis\n"
          ],
          "name": "stdout"
        }
      ]
    },
    {
      "metadata": {
        "id": "H6xm4zRT7vfE",
        "colab_type": "text"
      },
      "cell_type": "markdown",
      "source": [
        "How many times does the tag **AT** is associated with the word **The** in **brown** corpus?"
      ]
    },
    {
      "metadata": {
        "id": "fgTsz7AM7xfW",
        "colab_type": "code",
        "colab": {
          "autoexec": {
            "startup": false,
            "wait_interval": 0
          },
          "base_uri": "https://localhost:8080/",
          "height": 34
        },
        "outputId": "89b4ac93-953c-49ec-e782-78868f39714d",
        "executionInfo": {
          "status": "ok",
          "timestamp": 1527051282097,
          "user_tz": -330,
          "elapsed": 6296,
          "user": {
            "displayName": "Praveen Ganeshan",
            "photoUrl": "//lh6.googleusercontent.com/-QmspgRZUp3M/AAAAAAAAAAI/AAAAAAAAAN0/JZIoVZouLiM/s50-c-k-no/photo.jpg",
            "userId": "115281149458293297578"
          }
        }
      },
      "cell_type": "code",
      "source": [
        "from nltk.corpus import brown\n",
        "btw=brown.tagged_words()\n",
        "cfd=nltk.FreqDist(btw)\n",
        "cfd[('The','AT')]"
      ],
      "execution_count": 125,
      "outputs": [
        {
          "output_type": "execute_result",
          "data": {
            "text/plain": [
              "6725"
            ]
          },
          "metadata": {
            "tags": []
          },
          "execution_count": 125
        }
      ]
    },
    {
      "metadata": {
        "id": "WGsC-tfp9CkI",
        "colab_type": "text"
      },
      "cell_type": "markdown",
      "source": [
        "How many times does the word **gas** occur in text collections, grouped into genre '**gas**'? Consider reuters corpus."
      ]
    },
    {
      "metadata": {
        "id": "39xIOOKs9E7i",
        "colab_type": "code",
        "colab": {
          "autoexec": {
            "startup": false,
            "wait_interval": 0
          },
          "base_uri": "https://localhost:8080/",
          "height": 51
        },
        "outputId": "3803c76e-82eb-44e2-8188-dd3238a434a7",
        "executionInfo": {
          "status": "ok",
          "timestamp": 1527051283093,
          "user_tz": -330,
          "elapsed": 957,
          "user": {
            "displayName": "Praveen Ganeshan",
            "photoUrl": "//lh6.googleusercontent.com/-QmspgRZUp3M/AAAAAAAAAAI/AAAAAAAAAN0/JZIoVZouLiM/s50-c-k-no/photo.jpg",
            "userId": "115281149458293297578"
          }
        }
      },
      "cell_type": "code",
      "source": [
        "from nltk.corpus import reuters\n",
        "rcdf.tabulate(conditions=['gas'],samples=['gas'])"
      ],
      "execution_count": 126,
      "outputs": [
        {
          "output_type": "stream",
          "text": [
            "    gas \n",
            "gas  10 \n"
          ],
          "name": "stdout"
        }
      ]
    }
  ]
}
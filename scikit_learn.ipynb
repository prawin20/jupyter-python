{
  "nbformat": 4,
  "nbformat_minor": 0,
  "metadata": {
    "colab": {
      "name": "scikit-learn.ipynb",
      "version": "0.3.2",
      "views": {},
      "default_view": {},
      "provenance": [],
      "collapsed_sections": [],
      "toc_visible": true
    },
    "kernelspec": {
      "name": "python3",
      "display_name": "Python 3"
    }
  },
  "cells": [
    {
      "metadata": {
        "id": "x6PJpVNIhStm",
        "colab_type": "text"
      },
      "cell_type": "markdown",
      "source": [
        "# Introduction to Machine Learning\n",
        "\n",
        "According to **Arthur Samuel**,\n",
        "\n",
        "**Machine learning** is a field of computer science that gives computers the ability to learn without being explicitly programmed.\n",
        "\n",
        "A Machine learning project is typically classified into** two categories**, depending on its learning system.\n",
        "\n",
        "*   Supervised Learning\n",
        "*  Unsupervised Learning.\n",
        "\n",
        "\n",
        "\n"
      ]
    },
    {
      "metadata": {
        "id": "TRe3NBbtiIpQ",
        "colab_type": "text"
      },
      "cell_type": "markdown",
      "source": [
        "# Steps in a Machine Learning Project\n",
        "\n",
        "A Machine Learning Project involves the following steps:\n",
        "\n",
        "**Defining the Problem**:Define a problem statement, which addresses a business problem.\n",
        "\n",
        "**Obtaining the Source Data**:The raw data required to build a model can be presented in a single or multiple sources such as relational databases, and social networking sites.\n",
        "\n",
        "**Understanding Data Through Visualization**:Look into data and understand important features such as its mean, and spread.\n",
        "\n",
        "**Preparing Data for Machine Learning Algorithms**:Mostly, the captured raw data cannot be used to train using a Machine learning algorithm. The raw datasets have to be manipulated or transformed through one or more pre-processing steps.\n",
        "\n",
        "**Choosing an algorithm**:Based on features of data set, pick a suitable algorithm.\n",
        "\n",
        "**Building the Model**:Train the algorithm with considered training data set and verify its performance through a metric.\n",
        "\n",
        "**Fine-tuning the Model**:Identify values of vital parameters, associated with the chosen model for better performance.\n",
        "\n",
        "**Use the best model**:Use the model with better performance for addressing the defined problem"
      ]
    },
    {
      "metadata": {
        "id": "T8OF05SFi6xr",
        "colab_type": "text"
      },
      "cell_type": "markdown",
      "source": [
        "# Introduction to scikit-learn\n",
        "\n",
        "**scikit-learn** is a Machine learning** toolkit in Python**. The package contains efficient tools used for **Data Mining and Data Analysis**.\n",
        "\n",
        "It is built on **NumPy, SciPy, and matplotlib** packages. It is **opensource** and also commercially usable under **BSD license**."
      ]
    },
    {
      "metadata": {
        "id": "N4-r-ua5jsAJ",
        "colab_type": "text"
      },
      "cell_type": "markdown",
      "source": [
        "## scikit-learn Utilities\n",
        "\n",
        "scikit-learn library has many utilities that can be used to perform the following tasks involved in Machine Learning.\n",
        "\n",
        "*   Preprocessing\n",
        "*   Model Selection\n",
        "*   Classification\n",
        "*   Regression\n",
        "*   Clustering\n",
        "*   Dimensionality Reduction\n"
      ]
    },
    {
      "metadata": {
        "id": "WvvkTHHMkLVJ",
        "colab_type": "text"
      },
      "cell_type": "markdown",
      "source": [
        "## Steps with scikit-learn\n",
        "\n",
        "Mostly, one would perform the following steps while working on a Machine learning problem with** scikit-learn**:\n",
        "\n",
        "\n",
        "1.   Cleaning raw data set.\n",
        "2.   Further transforming with many scikit-learn pre-processing utilities.\n",
        "3.   Splitting data into train and test sets with train_test_split utility.\n",
        "4.   Creating a suitable model with default parameters.\n",
        "5.   Training the Model using fit function.\n",
        "6.   Evaluating the Model and fine-tuning it.\n",
        "\n"
      ]
    },
    {
      "metadata": {
        "id": "0-hjxMAakmOD",
        "colab_type": "text"
      },
      "cell_type": "markdown",
      "source": [
        "# Gathering Data from Multiple Sources"
      ]
    },
    {
      "metadata": {
        "id": "YyNrJ5Jv73cx",
        "colab_type": "text"
      },
      "cell_type": "markdown",
      "source": [
        "## Reading Data for ML\n",
        "\n",
        "Any Machine Learning Algorithm requires **data** for building a model.\n",
        "\n",
        "The data can be obtained from Multiple sources such as **http, ftp repositories, databases, local repositories, etc**.\n",
        "\n",
        "Many times raw data, read from a source, **cannot be used directly** by an ML algorithm for building a Model.\n",
        "\n",
        "So, raw data has to be **cleaned, processed, transformed (if required)** and then passed to an ML algorithm always."
      ]
    },
    {
      "metadata": {
        "id": "Sk2oOKzDD3Ww",
        "colab_type": "text"
      },
      "cell_type": "markdown",
      "source": [
        "## Example Data - Breast Cancer Dataset\n",
        "\n",
        "**Breast Cancer data** set is a popular one, which contains details of** 30** features obtained from** 569** cancer patients.\n",
        "\n",
        "We will be doing the following tasks and make cancer data set ready for ML.\n",
        "\n",
        "\n",
        "*   Reading raw data from UCI archive\n",
        "*   Extract features from Raw data.\n",
        "*   Naming or Labelling features\n",
        "*   Extract target values from Raw data\n",
        "*   Naming or Labelling target values\n",
        "\n",
        "\n",
        "\n",
        "\n",
        "\n",
        "\n"
      ]
    },
    {
      "metadata": {
        "id": "PcYcQR77ERLi",
        "colab_type": "text"
      },
      "cell_type": "markdown",
      "source": [
        "### Reading Data from UCI Archive\n",
        "\n",
        "The raw data set from UCI archive can be read with the following code snippet."
      ]
    },
    {
      "metadata": {
        "id": "a2O8jPOmEQb2",
        "colab_type": "code",
        "colab": {
          "autoexec": {
            "startup": false,
            "wait_interval": 0
          },
          "base_uri": "https://localhost:8080/",
          "height": 34
        },
        "outputId": "c38118a2-f30c-489f-a24c-519b7eaf7239",
        "executionInfo": {
          "status": "ok",
          "timestamp": 1528183498151,
          "user_tz": -330,
          "elapsed": 1153,
          "user": {
            "displayName": "Praveen Ganeshan",
            "photoUrl": "//lh6.googleusercontent.com/-QmspgRZUp3M/AAAAAAAAAAI/AAAAAAAAAN0/JZIoVZouLiM/s50-c-k-no/photo.jpg",
            "userId": "115281149458293297578"
          }
        }
      },
      "cell_type": "code",
      "source": [
        "import pandas as pd\n",
        "\n",
        "cancer_set = pd.read_csv('https://archive.ics.uci.edu/ml/machine-learning-databases/breast-cancer-wisconsin/wdbc.data', \n",
        "                        header = None)\n",
        "print(cancer_set.shape)"
      ],
      "execution_count": 77,
      "outputs": [
        {
          "output_type": "stream",
          "text": [
            "(569, 32)\n"
          ],
          "name": "stdout"
        }
      ]
    },
    {
      "metadata": {
        "id": "Z4_PDFReEhQm",
        "colab_type": "text"
      },
      "cell_type": "markdown",
      "source": [
        "Read raw dataset contains **32** columns.\n",
        "\n",
        "The** 1st column** has **patient ID** details, and the** 2nd** one has **tumor type, i.e. malignant or benign**.\n",
        "\n",
        "The rest **30** columns represent various features obtained from **each patient.**"
      ]
    },
    {
      "metadata": {
        "id": "xPAUpsXpEw9r",
        "colab_type": "text"
      },
      "cell_type": "markdown",
      "source": [
        "### Extracting Features from Raw Set\n",
        "\n",
        "All columns, representing features are extracted with the following code snippet."
      ]
    },
    {
      "metadata": {
        "id": "ygHDaHoabbB7",
        "colab_type": "code",
        "colab": {
          "autoexec": {
            "startup": false,
            "wait_interval": 0
          },
          "base_uri": "https://localhost:8080/",
          "height": 51
        },
        "outputId": "06c42483-9ebe-48b9-ad36-40f0175603e5",
        "executionInfo": {
          "status": "ok",
          "timestamp": 1528183499100,
          "user_tz": -330,
          "elapsed": 756,
          "user": {
            "displayName": "Praveen Ganeshan",
            "photoUrl": "//lh6.googleusercontent.com/-QmspgRZUp3M/AAAAAAAAAAI/AAAAAAAAAN0/JZIoVZouLiM/s50-c-k-no/photo.jpg",
            "userId": "115281149458293297578"
          }
        }
      },
      "cell_type": "code",
      "source": [
        "cancer_features = cancer_set.iloc[:,2:]\n",
        "\n",
        "print(cancer_features.shape)\n",
        "print(type(cancer_features))"
      ],
      "execution_count": 78,
      "outputs": [
        {
          "output_type": "stream",
          "text": [
            "(569, 30)\n",
            "<class 'pandas.core.frame.DataFrame'>\n"
          ],
          "name": "stdout"
        }
      ]
    },
    {
      "metadata": {
        "id": "JlhEZswoFEa-",
        "colab_type": "text"
      },
      "cell_type": "markdown",
      "source": [
        "**cancer_features** is a **dataframe**. It is converted to a **numpy array** with below code."
      ]
    },
    {
      "metadata": {
        "id": "IC0n5BHbFH_N",
        "colab_type": "code",
        "colab": {
          "autoexec": {
            "startup": false,
            "wait_interval": 0
          },
          "base_uri": "https://localhost:8080/",
          "height": 51
        },
        "outputId": "b89c888a-ae7e-4098-bf9e-30e6c8c9b622",
        "executionInfo": {
          "status": "ok",
          "timestamp": 1528183500061,
          "user_tz": -330,
          "elapsed": 781,
          "user": {
            "displayName": "Praveen Ganeshan",
            "photoUrl": "//lh6.googleusercontent.com/-QmspgRZUp3M/AAAAAAAAAAI/AAAAAAAAAN0/JZIoVZouLiM/s50-c-k-no/photo.jpg",
            "userId": "115281149458293297578"
          }
        }
      },
      "cell_type": "code",
      "source": [
        "cancer_features = cancer_features.values\n",
        "print(type(cancer_features))\n",
        "print(cancer_features.shape)"
      ],
      "execution_count": 79,
      "outputs": [
        {
          "output_type": "stream",
          "text": [
            "<class 'numpy.ndarray'>\n",
            "(569, 30)\n"
          ],
          "name": "stdout"
        }
      ]
    },
    {
      "metadata": {
        "id": "1EcdBKjkFdcx",
        "colab_type": "text"
      },
      "cell_type": "markdown",
      "source": [
        "### Naming features\n",
        "\n",
        "The **30** features used associated with **cancer_features** dataset are labeled with the following listed names."
      ]
    },
    {
      "metadata": {
        "id": "UIX4ax4oFLfG",
        "colab_type": "code",
        "colab": {
          "autoexec": {
            "startup": false,
            "wait_interval": 0
          }
        }
      },
      "cell_type": "code",
      "source": [
        "cancer_features_names = ['mean radius', \n",
        "'mean texture', 'mean perimeter', \n",
        "'mean area', 'mean smoothness', \n",
        "'mean compactness', 'mean concavity',\n",
        "'mean concave points', 'mean symmetry',\n",
        "'mean fractal dimension','radius error',\n",
        "'texture error','perimeter error',\n",
        "'area error', 'smoothness error',\n",
        "'compactness error','concavity error',\n",
        "'concave points error','symmetry error',\n",
        "'fractal dimension error','worst radius',\n",
        "'worst texture', 'worst perimeter', \n",
        "'worst area','worst smoothness', \n",
        "'worst compactness', 'worst concavity',\n",
        "'worst concave points','worst symmetry',\n",
        "'worst fractal dimension']"
      ],
      "execution_count": 0,
      "outputs": []
    },
    {
      "metadata": {
        "id": "1u2jXtbrFsTV",
        "colab_type": "text"
      },
      "cell_type": "markdown",
      "source": [
        "### Extracting target values from Raw data\n",
        "\n",
        "Target values of each patient are extracted with below code snippet."
      ]
    },
    {
      "metadata": {
        "id": "ToQbm2PLFx17",
        "colab_type": "code",
        "colab": {
          "autoexec": {
            "startup": false,
            "wait_interval": 0
          },
          "base_uri": "https://localhost:8080/",
          "height": 51
        },
        "outputId": "30c45a4e-2db1-49bf-9088-5f6afe325c40",
        "executionInfo": {
          "status": "ok",
          "timestamp": 1528183501817,
          "user_tz": -330,
          "elapsed": 849,
          "user": {
            "displayName": "Praveen Ganeshan",
            "photoUrl": "//lh6.googleusercontent.com/-QmspgRZUp3M/AAAAAAAAAAI/AAAAAAAAAN0/JZIoVZouLiM/s50-c-k-no/photo.jpg",
            "userId": "115281149458293297578"
          }
        }
      },
      "cell_type": "code",
      "source": [
        "cancer_target = cancer_set.iloc[:, 1]\n",
        "\n",
        "# Replacing 'M' with 0 and 'B' with 1\n",
        "cancer_target = cancer_target.replace(['M', 'B'], [0, 1])\n",
        "\n",
        "# Converting to numpy array\n",
        "cancer_target = cancer_target.values\n",
        "\n",
        "print(type(cancer_target))\n",
        "print(cancer_target.shape)"
      ],
      "execution_count": 81,
      "outputs": [
        {
          "output_type": "stream",
          "text": [
            "<class 'numpy.ndarray'>\n",
            "(569,)\n"
          ],
          "name": "stdout"
        }
      ]
    },
    {
      "metadata": {
        "id": "vtX93VeIGHCI",
        "colab_type": "text"
      },
      "cell_type": "markdown",
      "source": [
        "Thus obtained **cancer_features** and cancer_target can be used by a ML algorithm"
      ]
    },
    {
      "metadata": {
        "id": "PGoBcvTVGMQA",
        "colab_type": "text"
      },
      "cell_type": "markdown",
      "source": [
        "### scikit-learn Datasets\n",
        "\n",
        "**scikit-learn **by default comes with few popular datasets.\n",
        "\n",
        "They can be loaded into your working environment and used.\n",
        "\n",
        "You can know more about datasets from scikit-learn in the following"
      ]
    },
    {
      "metadata": {
        "id": "gw-ZaDOsGa-C",
        "colab_type": "text"
      },
      "cell_type": "markdown",
      "source": [
        "### Reading Cancer Data from scikit-learn\n",
        "\n",
        "Previously, you have read breast cancer data from **UCI archive** and derived **cancer_features** and **cancer_target arrays**.\n",
        "\n",
        "The **same processed data** is available in **scikit-learn**. The below code snippet illustrates accessing features and target arrays."
      ]
    },
    {
      "metadata": {
        "id": "MFBXaJGhGkxg",
        "colab_type": "code",
        "colab": {
          "autoexec": {
            "startup": false,
            "wait_interval": 0
          },
          "base_uri": "https://localhost:8080/",
          "height": 51
        },
        "outputId": "c1224cc1-0502-44cb-bf3e-e5b02d444f1a",
        "executionInfo": {
          "status": "ok",
          "timestamp": 1528183503156,
          "user_tz": -330,
          "elapsed": 1260,
          "user": {
            "displayName": "Praveen Ganeshan",
            "photoUrl": "//lh6.googleusercontent.com/-QmspgRZUp3M/AAAAAAAAAAI/AAAAAAAAAN0/JZIoVZouLiM/s50-c-k-no/photo.jpg",
            "userId": "115281149458293297578"
          }
        }
      },
      "cell_type": "code",
      "source": [
        "import sklearn.datasets as datasets\n",
        "\n",
        "cancer = datasets.load_breast_cancer()\n",
        "\n",
        "print(cancer.data.shape)\n",
        "print(cancer.target.shape)"
      ],
      "execution_count": 82,
      "outputs": [
        {
          "output_type": "stream",
          "text": [
            "(569, 30)\n",
            "(569,)\n"
          ],
          "name": "stdout"
        }
      ]
    },
    {
      "metadata": {
        "id": "h-53cYQbG-aL",
        "colab_type": "code",
        "colab": {
          "autoexec": {
            "startup": false,
            "wait_interval": 0
          },
          "base_uri": "https://localhost:8080/",
          "height": 34
        },
        "outputId": "2a6a686b-21fd-477a-89e1-d01ef5f5223e",
        "executionInfo": {
          "status": "ok",
          "timestamp": 1528183504077,
          "user_tz": -330,
          "elapsed": 829,
          "user": {
            "displayName": "Praveen Ganeshan",
            "photoUrl": "//lh6.googleusercontent.com/-QmspgRZUp3M/AAAAAAAAAAI/AAAAAAAAAN0/JZIoVZouLiM/s50-c-k-no/photo.jpg",
            "userId": "115281149458293297578"
          }
        }
      },
      "cell_type": "code",
      "source": [
        "from sklearn import datasets\n",
        "\n",
        "iris = datasets.load_iris()\n",
        "type(iris)"
      ],
      "execution_count": 83,
      "outputs": [
        {
          "output_type": "execute_result",
          "data": {
            "text/plain": [
              "sklearn.utils.Bunch"
            ]
          },
          "metadata": {
            "tags": []
          },
          "execution_count": 83
        }
      ]
    },
    {
      "metadata": {
        "id": "NqpFrhc2Gqvv",
        "colab_type": "text"
      },
      "cell_type": "markdown",
      "source": [
        "# Preprocessing with scikit-learn\n",
        "\n",
        "**Preprocessing** is a step, in which raw data is modified or transformed into a format, suitable for further downstream processing.\n",
        "\n",
        "scikit-learn provides many preprocessing utilities such as,\n",
        "\n",
        "\n",
        "*   Standardization mean removal\n",
        "*   Scaling\n",
        "*   Normalization\n",
        "*   Binarization\n",
        "*   One Hot Encoding\n",
        "*   Label Encoding\n",
        "*   Imputation\n"
      ]
    },
    {
      "metadata": {
        "id": "9Oon7ph9Mjgr",
        "colab_type": "text"
      },
      "cell_type": "markdown",
      "source": [
        "## Standardization\n",
        "\n",
        "**Standardization** or **Mean Removal **is the process of transforming each feature vector into a normal distribution with mean** 0** and variance **1**.\n",
        "\n",
        "This can be achieved using **StandardScaler**.\n",
        "\n",
        "An example with its output is shown "
      ]
    },
    {
      "metadata": {
        "id": "lp7rBKjsNap7",
        "colab_type": "code",
        "colab": {
          "autoexec": {
            "startup": false,
            "wait_interval": 0
          }
        }
      },
      "cell_type": "code",
      "source": [
        "import sklearn.preprocessing as preprocessing"
      ],
      "execution_count": 0,
      "outputs": []
    },
    {
      "metadata": {
        "id": "FccuKBmTNsA-",
        "colab_type": "code",
        "colab": {
          "autoexec": {
            "startup": false,
            "wait_interval": 0
          },
          "base_uri": "https://localhost:8080/",
          "height": 306
        },
        "outputId": "6732b8c0-d0c7-4b49-d42b-030e0de526d1",
        "executionInfo": {
          "status": "ok",
          "timestamp": 1528183505773,
          "user_tz": -330,
          "elapsed": 807,
          "user": {
            "displayName": "Praveen Ganeshan",
            "photoUrl": "//lh6.googleusercontent.com/-QmspgRZUp3M/AAAAAAAAAAI/AAAAAAAAAN0/JZIoVZouLiM/s50-c-k-no/photo.jpg",
            "userId": "115281149458293297578"
          }
        }
      },
      "cell_type": "code",
      "source": [
        "standardizer = preprocessing.StandardScaler()\n",
        "standardizer = standardizer.fit(cancer.data)\n",
        "breast_cancer_standardized = standardizer.transform(cancer.data)\n",
        "\n",
        "print('Mean of each feature after Standardization :\\n\\n')\n",
        "print(breast_cancer_standardized.mean(axis=0))\n",
        "print('\\nStd. of each feature after Standardization :\\n\\n')\n",
        "print(breast_cancer_standardized.std(axis=0))"
      ],
      "execution_count": 85,
      "outputs": [
        {
          "output_type": "stream",
          "text": [
            "Mean of each feature after Standardization :\n",
            "\n",
            "\n",
            "[-3.16286735e-15 -6.53060890e-15 -7.07889127e-16 -8.79983452e-16\n",
            "  6.13217737e-15 -1.12036918e-15 -4.42138027e-16  9.73249991e-16\n",
            " -1.97167024e-15 -1.45363120e-15 -9.07641468e-16 -8.85349205e-16\n",
            "  1.77367396e-15 -8.29155139e-16 -7.54180940e-16 -3.92187747e-16\n",
            "  7.91789988e-16 -2.73946068e-16 -3.10823423e-16 -3.36676596e-16\n",
            " -2.33322442e-15  1.76367415e-15 -1.19802625e-15  5.04966114e-16\n",
            " -5.21317026e-15 -2.17478837e-15  6.85645643e-16 -1.41265636e-16\n",
            " -2.28956670e-15  2.57517109e-15]\n",
            "\n",
            "Std. of each feature after Standardization :\n",
            "\n",
            "\n",
            "[1. 1. 1. 1. 1. 1. 1. 1. 1. 1. 1. 1. 1. 1. 1. 1. 1. 1. 1. 1. 1. 1. 1. 1.\n",
            " 1. 1. 1. 1. 1. 1.]\n"
          ],
          "name": "stdout"
        }
      ]
    },
    {
      "metadata": {
        "id": "bMasYgmlOFKa",
        "colab_type": "text"
      },
      "cell_type": "markdown",
      "source": [
        "## Scaling\n",
        "\n",
        "Scaling transforms existing data values to lie between a **minimum** and **maximum** value.\n",
        "\n",
        "**MinMaxScaler** transforms data to range** 0** and **1**.\n",
        "\n",
        "**MaxAbsScaler** transforms data to range **-1** and **1**.\n",
        "\n",
        "Transforming **breast_cancer** dataset through Scaling is shown "
      ]
    },
    {
      "metadata": {
        "id": "kq4ZKlm3OkeS",
        "colab_type": "text"
      },
      "cell_type": "markdown",
      "source": [
        "### Using MinMaxScaler\n",
        "\n",
        "**MinMaxScaler** with specified range\n",
        "\n",
        "Data is transformed to range **0** and **10**"
      ]
    },
    {
      "metadata": {
        "id": "rc3XRMpdORiK",
        "colab_type": "code",
        "colab": {
          "autoexec": {
            "startup": false,
            "wait_interval": 0
          }
        }
      },
      "cell_type": "code",
      "source": [
        "min_max_scaler = preprocessing.MinMaxScaler(feature_range=(0, 10)).fit(cancer.data)\n",
        "\n",
        "breast_cancer_minmaxscaled10 = min_max_scaler.transform(cancer.data)"
      ],
      "execution_count": 0,
      "outputs": []
    },
    {
      "metadata": {
        "id": "CLXorPEnvD9Q",
        "colab_type": "code",
        "colab": {
          "autoexec": {
            "startup": false,
            "wait_interval": 0
          },
          "base_uri": "https://localhost:8080/",
          "height": 238
        },
        "outputId": "07349be6-7fed-4c01-f81a-26d57c31ef74",
        "executionInfo": {
          "status": "ok",
          "timestamp": 1528183507805,
          "user_tz": -330,
          "elapsed": 1260,
          "user": {
            "displayName": "Praveen Ganeshan",
            "photoUrl": "//lh6.googleusercontent.com/-QmspgRZUp3M/AAAAAAAAAAI/AAAAAAAAAN0/JZIoVZouLiM/s50-c-k-no/photo.jpg",
            "userId": "115281149458293297578"
          }
        }
      },
      "cell_type": "code",
      "source": [
        "breast_cancer_minmaxscaled10"
      ],
      "execution_count": 87,
      "outputs": [
        {
          "output_type": "execute_result",
          "data": {
            "text/plain": [
              "array([[5.21037437, 0.22658099, 5.45988529, ..., 9.12027491, 5.98462448,\n",
              "        4.18863964],\n",
              "       [6.43144493, 2.72573554, 6.15783291, ..., 6.39175258, 2.33589592,\n",
              "        2.22878132],\n",
              "       [6.01495575, 3.90260399, 5.95743211, ..., 8.35051546, 4.03705894,\n",
              "        2.13433032],\n",
              "       ...,\n",
              "       [4.55251077, 6.21237741, 4.45788128, ..., 4.87285223, 1.28720678,\n",
              "        1.51908697],\n",
              "       [6.44564343, 6.63510315, 6.65537972, ..., 9.10652921, 4.97141731,\n",
              "        4.52315361],\n",
              "       [0.36868759, 5.01521813, 0.28539838, ..., 0.        , 2.57441356,\n",
              "        1.00682146]])"
            ]
          },
          "metadata": {
            "tags": []
          },
          "execution_count": 87
        }
      ]
    },
    {
      "metadata": {
        "id": "vzMsd4jZTHHW",
        "colab_type": "text"
      },
      "cell_type": "markdown",
      "source": [
        "By default, transformation occurs to a range of 0 and 1. It can also be customized with **feature_range** argument as shown "
      ]
    },
    {
      "metadata": {
        "id": "IqAojeS2TM52",
        "colab_type": "code",
        "colab": {
          "autoexec": {
            "startup": false,
            "wait_interval": 0
          }
        }
      },
      "cell_type": "code",
      "source": [
        "min_max_scaler = preprocessing.MinMaxScaler().fit(cancer.data)\n",
        "\n",
        "breast_cancer_minmaxscaled = min_max_scaler.transform(cancer.data)"
      ],
      "execution_count": 0,
      "outputs": []
    },
    {
      "metadata": {
        "id": "Q0zJ7aoPvGTz",
        "colab_type": "code",
        "colab": {
          "autoexec": {
            "startup": false,
            "wait_interval": 0
          },
          "base_uri": "https://localhost:8080/",
          "height": 238
        },
        "outputId": "22a9c4f5-0a7f-442f-a6e8-279b646197d8",
        "executionInfo": {
          "status": "ok",
          "timestamp": 1528183509699,
          "user_tz": -330,
          "elapsed": 1022,
          "user": {
            "displayName": "Praveen Ganeshan",
            "photoUrl": "//lh6.googleusercontent.com/-QmspgRZUp3M/AAAAAAAAAAI/AAAAAAAAAN0/JZIoVZouLiM/s50-c-k-no/photo.jpg",
            "userId": "115281149458293297578"
          }
        }
      },
      "cell_type": "code",
      "source": [
        "breast_cancer_minmaxscaled"
      ],
      "execution_count": 89,
      "outputs": [
        {
          "output_type": "execute_result",
          "data": {
            "text/plain": [
              "array([[0.52103744, 0.0226581 , 0.54598853, ..., 0.91202749, 0.59846245,\n",
              "        0.41886396],\n",
              "       [0.64314449, 0.27257355, 0.61578329, ..., 0.63917526, 0.23358959,\n",
              "        0.22287813],\n",
              "       [0.60149557, 0.3902604 , 0.59574321, ..., 0.83505155, 0.40370589,\n",
              "        0.21343303],\n",
              "       ...,\n",
              "       [0.45525108, 0.62123774, 0.44578813, ..., 0.48728522, 0.12872068,\n",
              "        0.1519087 ],\n",
              "       [0.64456434, 0.66351031, 0.66553797, ..., 0.91065292, 0.49714173,\n",
              "        0.45231536],\n",
              "       [0.03686876, 0.50152181, 0.02853984, ..., 0.        , 0.25744136,\n",
              "        0.10068215]])"
            ]
          },
          "metadata": {
            "tags": []
          },
          "execution_count": 89
        }
      ]
    },
    {
      "metadata": {
        "id": "xf8fs2l-OuGQ",
        "colab_type": "text"
      },
      "cell_type": "markdown",
      "source": [
        "### Using MaxAbsScaler\n",
        "\n",
        "Using **MaxAbsScaler**, the maximum absolute value of each feature is scaled to unit size, i.e., **1**. \n",
        "\n",
        "It is intended for data that is previously centered at **sparse or zero **data.\n",
        "\n",
        "By default, **MaxAbsScaler** transforms data to the range **-1** and **1**."
      ]
    },
    {
      "metadata": {
        "id": "4vwzElgQO5X-",
        "colab_type": "code",
        "colab": {
          "autoexec": {
            "startup": false,
            "wait_interval": 0
          }
        }
      },
      "cell_type": "code",
      "source": [
        "max_abs_scaler = preprocessing.MaxAbsScaler().fit(cancer.data)\n",
        "\n",
        "breast_cancer_maxabsscaled = max_abs_scaler.transform(cancer.data)"
      ],
      "execution_count": 0,
      "outputs": []
    },
    {
      "metadata": {
        "id": "fMPUUoSwvKCP",
        "colab_type": "code",
        "colab": {
          "autoexec": {
            "startup": false,
            "wait_interval": 0
          },
          "base_uri": "https://localhost:8080/",
          "height": 238
        },
        "outputId": "e98d7b4b-e2df-4186-a464-600a33d40b81",
        "executionInfo": {
          "status": "ok",
          "timestamp": 1528183511445,
          "user_tz": -330,
          "elapsed": 759,
          "user": {
            "displayName": "Praveen Ganeshan",
            "photoUrl": "//lh6.googleusercontent.com/-QmspgRZUp3M/AAAAAAAAAAI/AAAAAAAAAN0/JZIoVZouLiM/s50-c-k-no/photo.jpg",
            "userId": "115281149458293297578"
          }
        }
      },
      "cell_type": "code",
      "source": [
        "breast_cancer_maxabsscaled"
      ],
      "execution_count": 91,
      "outputs": [
        {
          "output_type": "execute_result",
          "data": {
            "text/plain": [
              "array([[0.63998577, 0.26425662, 0.65145889, ..., 0.91202749, 0.69313046,\n",
              "        0.57301205],\n",
              "       [0.73176805, 0.45239308, 0.70503979, ..., 0.63917526, 0.41428141,\n",
              "        0.42901205],\n",
              "       [0.70046247, 0.54098778, 0.68965517, ..., 0.83505155, 0.54429045,\n",
              "        0.42207229],\n",
              "       ...,\n",
              "       [0.59053718, 0.71486762, 0.57453581, ..., 0.48728522, 0.33413679,\n",
              "        0.37686747],\n",
              "       [0.73283529, 0.74669043, 0.74323607, ..., 0.91065292, 0.6156975 ,\n",
              "        0.59759036],\n",
              "       [0.27605834, 0.62474542, 0.25421751, ..., 0.        , 0.43250979,\n",
              "        0.33922892]])"
            ]
          },
          "metadata": {
            "tags": []
          },
          "execution_count": 91
        }
      ]
    },
    {
      "metadata": {
        "id": "9Sw4JzhXPI3Z",
        "colab_type": "text"
      },
      "cell_type": "markdown",
      "source": [
        "## Normalization\n",
        "\n",
        "**Normalization** scales each sample to have a unit norm.\n",
        "\n",
        "**Normalization** can be achieved with** 'l1', 'l2', and 'max'** norms.\n",
        "\n",
        "**'l1' **norm makes the **sum of absolute values** of each row as **1**, and **'l2'** norm makes the** sum of squares** of each row as **1**.\n",
        "\n",
        "**'l1'** norm is insensitive to **outliers**.\n",
        "\n",
        "**By default l2 **norm is considered. \n",
        "\n",
        "Hence, removing **outliers** is recommended before applying **l2** norm."
      ]
    },
    {
      "metadata": {
        "id": "Ns15yCi8PnuC",
        "colab_type": "code",
        "colab": {
          "autoexec": {
            "startup": false,
            "wait_interval": 0
          }
        }
      },
      "cell_type": "code",
      "source": [
        "normalizer = preprocessing.Normalizer(norm='l1').fit(cancer.data)\n",
        "\n",
        "breast_cancer_normalized = normalizer.transform(cancer.data)"
      ],
      "execution_count": 0,
      "outputs": []
    },
    {
      "metadata": {
        "id": "ACx_GosUuQPx",
        "colab_type": "code",
        "colab": {
          "autoexec": {
            "startup": false,
            "wait_interval": 0
          },
          "base_uri": "https://localhost:8080/",
          "height": 34
        },
        "outputId": "446b9340-eda3-421f-a87d-1394150f983d",
        "executionInfo": {
          "status": "ok",
          "timestamp": 1528183513696,
          "user_tz": -330,
          "elapsed": 900,
          "user": {
            "displayName": "Praveen Ganeshan",
            "photoUrl": "//lh6.googleusercontent.com/-QmspgRZUp3M/AAAAAAAAAAI/AAAAAAAAAN0/JZIoVZouLiM/s50-c-k-no/photo.jpg",
            "userId": "115281149458293297578"
          }
        }
      },
      "cell_type": "code",
      "source": [
        "sum(breast_cancer_normalized[3,:])"
      ],
      "execution_count": 93,
      "outputs": [
        {
          "output_type": "execute_result",
          "data": {
            "text/plain": [
              "0.9999999999999999"
            ]
          },
          "metadata": {
            "tags": []
          },
          "execution_count": 93
        }
      ]
    },
    {
      "metadata": {
        "id": "RLt3pECePwto",
        "colab_type": "text"
      },
      "cell_type": "markdown",
      "source": [
        "## Binarization\n",
        "\n",
        "**Binarization** is the process of transforming data points to **0** or **1** based on a given threshold.\n",
        "\n",
        "\n",
        "*   Any value above the threshold is transformed to **1**, and any value below the threshold is transformed to **0**.\n",
        "*   By **default**, a threshold of **0** is used.\n"
      ]
    },
    {
      "metadata": {
        "id": "PVXE8EUfQBc0",
        "colab_type": "code",
        "colab": {
          "autoexec": {
            "startup": false,
            "wait_interval": 0
          },
          "base_uri": "https://localhost:8080/",
          "height": 102
        },
        "outputId": "64ad1808-810b-4f16-ff0c-6f6e2ff80430",
        "executionInfo": {
          "status": "ok",
          "timestamp": 1528183514436,
          "user_tz": -330,
          "elapsed": 619,
          "user": {
            "displayName": "Praveen Ganeshan",
            "photoUrl": "//lh6.googleusercontent.com/-QmspgRZUp3M/AAAAAAAAAAI/AAAAAAAAAN0/JZIoVZouLiM/s50-c-k-no/photo.jpg",
            "userId": "115281149458293297578"
          }
        }
      },
      "cell_type": "code",
      "source": [
        "binarizer = preprocessing.Binarizer(threshold=3.0).fit(cancer.data)\n",
        "breast_cancer_binarized = binarizer.transform(cancer.data)\n",
        "print(breast_cancer_binarized[:5,:5])"
      ],
      "execution_count": 94,
      "outputs": [
        {
          "output_type": "stream",
          "text": [
            "[[1. 1. 1. 1. 0.]\n",
            " [1. 1. 1. 1. 0.]\n",
            " [1. 1. 1. 1. 0.]\n",
            " [1. 1. 1. 1. 0.]\n",
            " [1. 1. 1. 1. 0.]]\n"
          ],
          "name": "stdout"
        }
      ]
    },
    {
      "metadata": {
        "id": "4xfua2CJQwp6",
        "colab_type": "text"
      },
      "cell_type": "markdown",
      "source": [
        "## OneHotEncoder\n",
        "\n",
        "**OneHotEncoder** converts categorical integer values into one-hot vectors. \n",
        "\n",
        "In an **on-hot vector**, every category is transformed into a binary attribute having only **0 and 1 values**.\n",
        "\n",
        "An example creating two binary attributes for the categorical integers 1 and 2"
      ]
    },
    {
      "metadata": {
        "id": "DpJjxx0rQTpi",
        "colab_type": "code",
        "colab": {
          "autoexec": {
            "startup": false,
            "wait_interval": 0
          },
          "base_uri": "https://localhost:8080/",
          "height": 51
        },
        "outputId": "8910f824-5d4b-4bad-e828-6f94df0fc478",
        "executionInfo": {
          "status": "ok",
          "timestamp": 1528183515575,
          "user_tz": -330,
          "elapsed": 973,
          "user": {
            "displayName": "Praveen Ganeshan",
            "photoUrl": "//lh6.googleusercontent.com/-QmspgRZUp3M/AAAAAAAAAAI/AAAAAAAAAN0/JZIoVZouLiM/s50-c-k-no/photo.jpg",
            "userId": "115281149458293297578"
          }
        }
      },
      "cell_type": "code",
      "source": [
        "onehotencoder = preprocessing.OneHotEncoder()\n",
        "onehotencoder = onehotencoder.fit([[1], [1], [1], [2], [2], [1]])\n",
        "\n",
        "# Transforming category values 1 and 2 to one-hot vectors\n",
        "print(onehotencoder.transform([[1]]).toarray())\n",
        "print(onehotencoder.transform([[2]]).toarray())"
      ],
      "execution_count": 95,
      "outputs": [
        {
          "output_type": "stream",
          "text": [
            "[[1. 0.]]\n",
            "[[0. 1.]]\n"
          ],
          "name": "stdout"
        }
      ]
    },
    {
      "metadata": {
        "id": "UTKEb9SGRevX",
        "colab_type": "text"
      },
      "cell_type": "markdown",
      "source": [
        "## Imputation\n",
        "\n",
        "**Imputation** replaces **missing values** with either **median, mean, or the most common value **of the** column or row** in which the missing values exist.\n",
        "\n",
        "Below example replaces **missing** values, represented by **np.nan**, with the **mean** of respective column (**axis 0**)."
      ]
    },
    {
      "metadata": {
        "id": "1L3qDLZPRsZe",
        "colab_type": "code",
        "colab": {
          "autoexec": {
            "startup": false,
            "wait_interval": 0
          }
        }
      },
      "cell_type": "code",
      "source": [
        "imputer = preprocessing.Imputer(missing_values='NaN', strategy='mean')\n",
        "\n",
        "imputer = imputer.fit(cancer.data)\n",
        "breast_cancer_imputed = imputer.transform(cancer.data)"
      ],
      "execution_count": 0,
      "outputs": []
    },
    {
      "metadata": {
        "id": "WLo3sVQTvttY",
        "colab_type": "code",
        "colab": {
          "autoexec": {
            "startup": false,
            "wait_interval": 0
          },
          "base_uri": "https://localhost:8080/",
          "height": 238
        },
        "outputId": "7fba806f-83fc-4210-edbe-2061dac04621",
        "executionInfo": {
          "status": "ok",
          "timestamp": 1528183517558,
          "user_tz": -330,
          "elapsed": 779,
          "user": {
            "displayName": "Praveen Ganeshan",
            "photoUrl": "//lh6.googleusercontent.com/-QmspgRZUp3M/AAAAAAAAAAI/AAAAAAAAAN0/JZIoVZouLiM/s50-c-k-no/photo.jpg",
            "userId": "115281149458293297578"
          }
        }
      },
      "cell_type": "code",
      "source": [
        "breast_cancer_imputed"
      ],
      "execution_count": 97,
      "outputs": [
        {
          "output_type": "execute_result",
          "data": {
            "text/plain": [
              "array([[1.799e+01, 1.038e+01, 1.228e+02, ..., 2.654e-01, 4.601e-01,\n",
              "        1.189e-01],\n",
              "       [2.057e+01, 1.777e+01, 1.329e+02, ..., 1.860e-01, 2.750e-01,\n",
              "        8.902e-02],\n",
              "       [1.969e+01, 2.125e+01, 1.300e+02, ..., 2.430e-01, 3.613e-01,\n",
              "        8.758e-02],\n",
              "       ...,\n",
              "       [1.660e+01, 2.808e+01, 1.083e+02, ..., 1.418e-01, 2.218e-01,\n",
              "        7.820e-02],\n",
              "       [2.060e+01, 2.933e+01, 1.401e+02, ..., 2.650e-01, 4.087e-01,\n",
              "        1.240e-01],\n",
              "       [7.760e+00, 2.454e+01, 4.792e+01, ..., 0.000e+00, 2.871e-01,\n",
              "        7.039e-02]])"
            ]
          },
          "metadata": {
            "tags": []
          },
          "execution_count": 97
        }
      ]
    },
    {
      "metadata": {
        "id": "UF2kr1nRR8WC",
        "colab_type": "text"
      },
      "cell_type": "markdown",
      "source": [
        "## Label Encoding\n",
        "\n",
        "**Label Encoding **is a step in which, in which categorical features are represented as **categorical integers**. \n",
        "\n",
        "An example of transforming categorical values** [\"benign\",\"malignant\"]**into**[0, 1]** is shown below."
      ]
    },
    {
      "metadata": {
        "id": "hDO_h1IxSLdk",
        "colab_type": "code",
        "colab": {
          "autoexec": {
            "startup": false,
            "wait_interval": 0
          }
        }
      },
      "cell_type": "code",
      "source": [
        "labels = ['malignant', 'benign', 'malignant', 'benign']\n",
        "\n",
        "labelencoder = preprocessing.LabelEncoder()\n",
        "\n",
        "labelencoder = labelencoder.fit(labels)\n",
        "\n",
        "bc_labelencoded = labelencoder.transform(cancer.target_names)"
      ],
      "execution_count": 0,
      "outputs": []
    },
    {
      "metadata": {
        "id": "Pyw9fEWMvytb",
        "colab_type": "code",
        "colab": {
          "autoexec": {
            "startup": false,
            "wait_interval": 0
          },
          "base_uri": "https://localhost:8080/",
          "height": 34
        },
        "outputId": "115546e7-5bee-4e6d-d1d7-619881dae75a",
        "executionInfo": {
          "status": "ok",
          "timestamp": 1528183519402,
          "user_tz": -330,
          "elapsed": 838,
          "user": {
            "displayName": "Praveen Ganeshan",
            "photoUrl": "//lh6.googleusercontent.com/-QmspgRZUp3M/AAAAAAAAAAI/AAAAAAAAAN0/JZIoVZouLiM/s50-c-k-no/photo.jpg",
            "userId": "115281149458293297578"
          }
        }
      },
      "cell_type": "code",
      "source": [
        "bc_labelencoded"
      ],
      "execution_count": 99,
      "outputs": [
        {
          "output_type": "execute_result",
          "data": {
            "text/plain": [
              "array([1, 0])"
            ]
          },
          "metadata": {
            "tags": []
          },
          "execution_count": 99
        }
      ]
    },
    {
      "metadata": {
        "id": "W4sXkr15TZ5T",
        "colab_type": "text"
      },
      "cell_type": "markdown",
      "source": [
        "## HandsOn\n",
        "\n",
        "Import two modules **sklearn.datasets** and **sklearn.preprocessing**.\n",
        "\n",
        "Load popular** iris data set** from **sklearn.datasets** module and assign it to variable '**iris**'.\n",
        "\n",
        "Perform **Imputation** on '**iris.data**' and save the transformed data in variable '**iris_imputed**'. \n",
        "\n",
        "- ***Hint*** : use **Imputer API**, Replace **np.NaN** values with **mean** of corresponding data."
      ]
    },
    {
      "metadata": {
        "id": "tXwwH79daINp",
        "colab_type": "code",
        "colab": {
          "autoexec": {
            "startup": false,
            "wait_interval": 0
          }
        }
      },
      "cell_type": "code",
      "source": [
        "from sklearn import datasets\n",
        "import sklearn.preprocessing as preprocessing\n",
        "iris= datasets.load_iris()\n",
        "imputer=preprocessing.Imputer(missing_values='NaN',strategy='mean')\n",
        "imputer=imputer.fit(iris.data)\n",
        "iris_imputed=imputer.transform(iris.data)"
      ],
      "execution_count": 0,
      "outputs": []
    },
    {
      "metadata": {
        "id": "IRtOGrUQaHmK",
        "colab_type": "text"
      },
      "cell_type": "markdown",
      "source": [
        "Perform **Standardization** transformation on **iris.dat**a with **l2 norm **and save the transformed data in variable **iris_standarized**.\n",
        "\n",
        "***Hint***: Use **StandardScaler** API."
      ]
    },
    {
      "metadata": {
        "id": "nXrJxOYUaRas",
        "colab_type": "code",
        "colab": {
          "autoexec": {
            "startup": false,
            "wait_interval": 0
          }
        }
      },
      "cell_type": "code",
      "source": [
        "standardizer=preprocessing.StandardScaler()\n",
        "standardizer=standardizer.fit(iris.data)\n",
        "iris_standarized=standardizer.transform(iris.data)"
      ],
      "execution_count": 0,
      "outputs": []
    },
    {
      "metadata": {
        "id": "Q0SOvimeaR6t",
        "colab_type": "text"
      },
      "cell_type": "markdown",
      "source": [
        "Convert the **categorical integer** list** iris.target** into** three binary attribute** representation and store the result in variable **iris_target_onehot**.\n",
        "\n",
        "***Hint***: Use **reshape(-1,1)** on **iris.target **and **OneHotEncoder**.\n",
        "\n",
        "Transform **iris_target_onehot** to an **array** representation and display the** first five rows** of it.\n",
        "\n",
        "***Hint***: Use **toarray** method."
      ]
    },
    {
      "metadata": {
        "id": "tmYrGNEsa_Xh",
        "colab_type": "code",
        "colab": {
          "autoexec": {
            "startup": false,
            "wait_interval": 0
          },
          "base_uri": "https://localhost:8080/",
          "height": 102
        },
        "outputId": "1bf694d3-fd49-48ef-fcd1-f462b38143fd",
        "executionInfo": {
          "status": "ok",
          "timestamp": 1528183522968,
          "user_tz": -330,
          "elapsed": 814,
          "user": {
            "displayName": "Praveen Ganeshan",
            "photoUrl": "//lh6.googleusercontent.com/-QmspgRZUp3M/AAAAAAAAAAI/AAAAAAAAAN0/JZIoVZouLiM/s50-c-k-no/photo.jpg",
            "userId": "115281149458293297578"
          }
        }
      },
      "cell_type": "code",
      "source": [
        "reshape_iris_target=iris.target.reshape(-1,1)\n",
        "onhotencoder=preprocessing.OneHotEncoder()\n",
        "onehotencoder=onehotencoder.fit(reshape_iris_target)\n",
        "iris_target_onehot=onehotencoder.transform(reshape_iris_target).toarray()\n",
        "iris_target_onehot[:5]"
      ],
      "execution_count": 102,
      "outputs": [
        {
          "output_type": "execute_result",
          "data": {
            "text/plain": [
              "array([[1., 0., 0.],\n",
              "       [1., 0., 0.],\n",
              "       [1., 0., 0.],\n",
              "       [1., 0., 0.],\n",
              "       [1., 0., 0.]])"
            ]
          },
          "metadata": {
            "tags": []
          },
          "execution_count": 102
        }
      ]
    },
    {
      "metadata": {
        "id": "IqZC9IuZhNOs",
        "colab_type": "text"
      },
      "cell_type": "markdown",
      "source": [
        "## OtherHandsOn"
      ]
    },
    {
      "metadata": {
        "id": "-BGiWLmDiDNj",
        "colab_type": "code",
        "colab": {
          "autoexec": {
            "startup": false,
            "wait_interval": 0
          },
          "base_uri": "https://localhost:8080/",
          "height": 34
        },
        "outputId": "00df9431-10ba-4050-fd00-3ea572ff6776",
        "executionInfo": {
          "status": "ok",
          "timestamp": 1528183524134,
          "user_tz": -330,
          "elapsed": 887,
          "user": {
            "displayName": "Praveen Ganeshan",
            "photoUrl": "//lh6.googleusercontent.com/-QmspgRZUp3M/AAAAAAAAAAI/AAAAAAAAAN0/JZIoVZouLiM/s50-c-k-no/photo.jpg",
            "userId": "115281149458293297578"
          }
        }
      },
      "cell_type": "code",
      "source": [
        "regions = ['HYD', 'CHN', 'MUM', 'HYD', 'KOL', 'CHN']\n",
        "print(preprocessing.LabelEncoder().fit(regions).transform(regions))"
      ],
      "execution_count": 103,
      "outputs": [
        {
          "output_type": "stream",
          "text": [
            "[1 0 3 1 2 0]\n"
          ],
          "name": "stdout"
        }
      ]
    },
    {
      "metadata": {
        "id": "BY9eqrwPhS9o",
        "colab_type": "text"
      },
      "cell_type": "markdown",
      "source": [
        "# Nearest Neighbors Technique\n",
        "\n",
        "**Nearest neighbors** method is used to determine a predefined number of data points that are closer to a sample point and predict its label.\n",
        "\n",
        "**sklearn.neighbors** provides utilities for **unsupervised** and **supervised** neighbors-based learning methods.\n",
        "\n",
        "scikit-learn implements **two** different nearest neighbors classifiers:\n",
        "\n",
        "\n",
        "*   KNeighborsClassifier\n",
        "*   RadiusNeighborsClassifier\n",
        "\n",
        "\n"
      ]
    },
    {
      "metadata": {
        "id": "leFuAh5LhZKT",
        "colab_type": "text"
      },
      "cell_type": "markdown",
      "source": [
        "## Nearest Neighbor Classifiers\n",
        "\n",
        "\n",
        "*   **KNeighborsClassifier** classifies based on k nearest neighbors of every query point, where **k** is an **integer** value specified by the user.\n",
        "\n",
        "*  **RadiusNeighborsClassifier** classifies based on the number of neighbors present in a fixed radius **r** of every training point.\n",
        "\n"
      ]
    },
    {
      "metadata": {
        "id": "XCFpnTTSiNgj",
        "colab_type": "text"
      },
      "cell_type": "markdown",
      "source": [
        "## Nearest Neighbors Regression\n",
        "\n",
        "**scikit-learn** implements the following two regressors:\n",
        "\n",
        "*   **KNeighborsRegressor** predicts based on the **k** nearest neighbors of each query point.\n",
        "*   **RadiusNeighborsRegressor** predicts based on the neighbors present in a fixed radius **r** of the query point.\n"
      ]
    },
    {
      "metadata": {
        "id": "CeTrw-pQiY20",
        "colab_type": "text"
      },
      "cell_type": "markdown",
      "source": [
        "## Demo of KNeighborsClassifier"
      ]
    },
    {
      "metadata": {
        "id": "RQWQEEAKht4e",
        "colab_type": "code",
        "colab": {
          "autoexec": {
            "startup": false,
            "wait_interval": 0
          }
        }
      },
      "cell_type": "code",
      "source": [
        "import sklearn.datasets as datasets\n",
        "\n",
        "from sklearn.model_selection import train_test_split\n",
        "\n",
        "from sklearn.neighbors import KNeighborsClassifier\n",
        "\n",
        "cancer = datasets.load_breast_cancer()  # Loading the data set"
      ],
      "execution_count": 0,
      "outputs": []
    },
    {
      "metadata": {
        "id": "CrjA5LIYi6h1",
        "colab_type": "text"
      },
      "cell_type": "markdown",
      "source": [
        "### Building a Model of KNN classifier\n",
        "\n",
        "The following code creates **training and test data sets**, initializes a** KNN classifie**r, and fits it with training data."
      ]
    },
    {
      "metadata": {
        "id": "Bf6yp-86jDX9",
        "colab_type": "code",
        "colab": {
          "autoexec": {
            "startup": false,
            "wait_interval": 0
          }
        }
      },
      "cell_type": "code",
      "source": [
        "X_train, X_test, Y_train, Y_test = train_test_split(cancer.data, cancer.target,\n",
        "           stratify=cancer.target,                  random_state=42)\n",
        "\n",
        "knn_classifier = KNeighborsClassifier()   \n",
        "\n",
        "knn_classifier = knn_classifier.fit(X_train, Y_train) "
      ],
      "execution_count": 0,
      "outputs": []
    },
    {
      "metadata": {
        "id": "pW6pWMhKjLB4",
        "colab_type": "text"
      },
      "cell_type": "markdown",
      "source": [
        "### Determining Accuracy of the Model"
      ]
    },
    {
      "metadata": {
        "id": "EpFbdnOfjUx-",
        "colab_type": "code",
        "colab": {
          "autoexec": {
            "startup": false,
            "wait_interval": 0
          },
          "base_uri": "https://localhost:8080/",
          "height": 51
        },
        "outputId": "c9e77676-9c33-41e2-b000-5e75112a5c0f",
        "executionInfo": {
          "status": "ok",
          "timestamp": 1528183526940,
          "user_tz": -330,
          "elapsed": 479,
          "user": {
            "displayName": "Praveen Ganeshan",
            "photoUrl": "//lh6.googleusercontent.com/-QmspgRZUp3M/AAAAAAAAAAI/AAAAAAAAAN0/JZIoVZouLiM/s50-c-k-no/photo.jpg",
            "userId": "115281149458293297578"
          }
        }
      },
      "cell_type": "code",
      "source": [
        "print('Accuracy of Train Data :', knn_classifier.score(X_train,Y_train))\n",
        "print('Accuracy of Test Data :', knn_classifier.score(X_test,Y_test))"
      ],
      "execution_count": 106,
      "outputs": [
        {
          "output_type": "stream",
          "text": [
            "Accuracy of Train Data : 0.9460093896713615\n",
            "Accuracy of Test Data : 0.9300699300699301\n"
          ],
          "name": "stdout"
        }
      ]
    },
    {
      "metadata": {
        "id": "qE4e2_rDjdv0",
        "colab_type": "text"
      },
      "cell_type": "markdown",
      "source": [
        "## HandsOn\n",
        "\n",
        "Import the **three** modules **sklearn.datasets**, **sklearn.model_selection**, and **sklearn.neighbors**\n",
        "\n",
        "Load popular **iris** data set from **sklearn.datasets** module and assign it to **variable iris**.\n",
        "\n",
        "**Split iris.data** into two sets names **x_train** and **x_test**. Also,** split iris.target** into two sets **y_train** and **y_test**.\n",
        "\n",
        "***Hint***: Use **train_test_split** method from **sklearn.model_selection**; set **random_state** to **30** and perform stratified sampling."
      ]
    },
    {
      "metadata": {
        "id": "LBsP1JeNknKE",
        "colab_type": "code",
        "colab": {
          "autoexec": {
            "startup": false,
            "wait_interval": 0
          }
        }
      },
      "cell_type": "code",
      "source": [
        "import sklearn.datasets as datasets\n",
        "from sklearn.model_selection import train_test_split\n",
        "import sklearn.neighbors\n",
        "iris=datasets.load_iris()\n",
        "x_train,x_test,y_train,y_test=train_test_split(iris.data,iris.target,random_state=30)"
      ],
      "execution_count": 0,
      "outputs": []
    },
    {
      "metadata": {
        "id": "Usix7ya9lh2p",
        "colab_type": "text"
      },
      "cell_type": "markdown",
      "source": [
        "Fit** K nearest neighbors model** on **x_train data**, with **default parameters**. Name the model as **knn_clf**.\n",
        "\n",
        "Evaluate the model **accuracy on x_train and x_test sets**."
      ]
    },
    {
      "metadata": {
        "id": "2SzBdmiAls3q",
        "colab_type": "code",
        "colab": {
          "autoexec": {
            "startup": false,
            "wait_interval": 0
          },
          "base_uri": "https://localhost:8080/",
          "height": 51
        },
        "outputId": "b871a8c7-6e8b-4603-89ca-072804d00f79",
        "executionInfo": {
          "status": "ok",
          "timestamp": 1528183528607,
          "user_tz": -330,
          "elapsed": 757,
          "user": {
            "displayName": "Praveen Ganeshan",
            "photoUrl": "//lh6.googleusercontent.com/-QmspgRZUp3M/AAAAAAAAAAI/AAAAAAAAAN0/JZIoVZouLiM/s50-c-k-no/photo.jpg",
            "userId": "115281149458293297578"
          }
        }
      },
      "cell_type": "code",
      "source": [
        "knn_clf=KNeighborsClassifier()\n",
        "knn_clf=knn_clf.fit(x_train,y_train)\n",
        "print('Accuracy on train: ',knn_clf.score(x_train,y_train))\n",
        "print('Accuracy on test: ',knn_clf.score(x_test,y_test))"
      ],
      "execution_count": 108,
      "outputs": [
        {
          "output_type": "stream",
          "text": [
            "Accuracy on train:  0.9821428571428571\n",
            "Accuracy on test:  0.9210526315789473\n"
          ],
          "name": "stdout"
        }
      ]
    },
    {
      "metadata": {
        "id": "-CNu1YT4nCIc",
        "colab_type": "text"
      },
      "cell_type": "markdown",
      "source": [
        "Fit **multiple** K nearest neighbors models on x_train data with** n_neighbors** parameter value changing from **3 to 10**.\n",
        "\n",
        "Evaluate each model** accuracy on x_train and x_test sets**.\n",
        "\n",
        "***Hint***: Make use of **for loop**"
      ]
    },
    {
      "metadata": {
        "id": "tX2ejggmmkSZ",
        "colab_type": "code",
        "colab": {
          "autoexec": {
            "startup": false,
            "wait_interval": 0
          },
          "base_uri": "https://localhost:8080/",
          "height": 289
        },
        "outputId": "ff133733-a22d-4912-9ed5-13cd1ec6574b",
        "executionInfo": {
          "status": "ok",
          "timestamp": 1528183529512,
          "user_tz": -330,
          "elapsed": 833,
          "user": {
            "displayName": "Praveen Ganeshan",
            "photoUrl": "//lh6.googleusercontent.com/-QmspgRZUp3M/AAAAAAAAAAI/AAAAAAAAAN0/JZIoVZouLiM/s50-c-k-no/photo.jpg",
            "userId": "115281149458293297578"
          }
        }
      },
      "cell_type": "code",
      "source": [
        "for r in range(3,11):\n",
        "  knn_clf=KNeighborsClassifier(n_neighbors=r)\n",
        "  knn_clf=knn_clf.fit(x_train,y_train)\n",
        "  print('Accuracy on train for n_neighbors %s:%s ' %(r,knn_clf.score(x_train,y_train)))\n",
        "  print('Accuracy on test for n_neighbors %s:%s '%(r,knn_clf.score(x_test,y_test)))"
      ],
      "execution_count": 109,
      "outputs": [
        {
          "output_type": "stream",
          "text": [
            "Accuracy on train for n_neighbors 3:0.9732142857142857 \n",
            "Accuracy on test for n_neighbors 3:0.9210526315789473 \n",
            "Accuracy on train for n_neighbors 4:0.9732142857142857 \n",
            "Accuracy on test for n_neighbors 4:0.9473684210526315 \n",
            "Accuracy on train for n_neighbors 5:0.9821428571428571 \n",
            "Accuracy on test for n_neighbors 5:0.9210526315789473 \n",
            "Accuracy on train for n_neighbors 6:0.9732142857142857 \n",
            "Accuracy on test for n_neighbors 6:0.9473684210526315 \n",
            "Accuracy on train for n_neighbors 7:0.9732142857142857 \n",
            "Accuracy on test for n_neighbors 7:0.9736842105263158 \n",
            "Accuracy on train for n_neighbors 8:0.9642857142857143 \n",
            "Accuracy on test for n_neighbors 8:0.9473684210526315 \n",
            "Accuracy on train for n_neighbors 9:0.9642857142857143 \n",
            "Accuracy on test for n_neighbors 9:0.9473684210526315 \n",
            "Accuracy on train for n_neighbors 10:0.9642857142857143 \n",
            "Accuracy on test for n_neighbors 10:0.9473684210526315 \n"
          ],
          "name": "stdout"
        }
      ]
    },
    {
      "metadata": {
        "id": "uyrwagrFrLIo",
        "colab_type": "text"
      },
      "cell_type": "markdown",
      "source": [
        "# Decision Trees Technique"
      ]
    },
    {
      "metadata": {
        "id": "0NbS_qy4rqUY",
        "colab_type": "text"
      },
      "cell_type": "markdown",
      "source": [
        "## Decision Trees\n",
        "\n",
        "**Decision Trees** is another Supervised Learning method used for **Classification** and **Regression**.\n",
        "\n",
        "\n",
        "\n",
        "*   **Decision Trees** learn **simple decision rules** from **training data and build a Mode**l.\n",
        "*   **DecisionTreeClassifier** and **DecisionTreeRegressor** are the two utilities from **sklearn.tree**, which can be used for **classification** and **regression** respectively\n",
        "\n"
      ]
    },
    {
      "metadata": {
        "id": "IxLMbctksB9j",
        "colab_type": "text"
      },
      "cell_type": "markdown",
      "source": [
        "## Advantages of Decision Trees\n",
        "\n",
        "*   Decision Trees are **easy** to understand.\n",
        "*   They often do **not require any preprocessing**.\n",
        "*   Decision Trees can learn from both **numerical** and **categorical** data.\n",
        "\n",
        "\n",
        "\n",
        "\n"
      ]
    },
    {
      "metadata": {
        "id": "v4O0-n9TsVSy",
        "colab_type": "text"
      },
      "cell_type": "markdown",
      "source": [
        "## Disadvantages of Decision Trees\n",
        "\n",
        "\n",
        "*   **Decision trees** sometimes become **complex**, which do not **generalize** well and leads to **overfitting**. **Overfitting** can be addressed by placing the **least number of samples** needed at a **leaf node** or placing the **highest depth** of the tree.\n",
        "*   A **small variation** in data can result in a **completely different tree**. This problem can be **addressed** by using decision trees within an **ensemble**.\n",
        "\n"
      ]
    },
    {
      "metadata": {
        "id": "hN4oYW5EspFL",
        "colab_type": "text"
      },
      "cell_type": "markdown",
      "source": [
        "## Building a Decision Tree Classifier Model\n",
        "\n",
        "The subsequent code represents the building of a Decision Tree Classifier model.\n",
        "\n",
        "Before executing this code, perform importing required modules, load cancer dataset, and create train and test data sets as shown in Neighbors classifier example."
      ]
    },
    {
      "metadata": {
        "id": "HHzI6kX1swGp",
        "colab_type": "code",
        "colab": {
          "autoexec": {
            "startup": false,
            "wait_interval": 0
          }
        }
      },
      "cell_type": "code",
      "source": [
        "from sklearn.tree import DecisionTreeClassifier\n",
        "\n",
        "dt_classifier = DecisionTreeClassifier()   \n",
        "\n",
        "dt_classifier = dt_classifier.fit(X_train, Y_train) "
      ],
      "execution_count": 0,
      "outputs": []
    },
    {
      "metadata": {
        "id": "tvpzL7r1s2_8",
        "colab_type": "text"
      },
      "cell_type": "markdown",
      "source": [
        "## Determining Accuracy of the Model\n",
        "\n",
        "Further the below code determines the model accuracy. You can observe that the model is **overfitted**."
      ]
    },
    {
      "metadata": {
        "id": "JX08AisQs-2E",
        "colab_type": "code",
        "colab": {
          "autoexec": {
            "startup": false,
            "wait_interval": 0
          },
          "base_uri": "https://localhost:8080/",
          "height": 51
        },
        "outputId": "e54fa8c7-076d-48b2-c0e1-e740c7f14172",
        "executionInfo": {
          "status": "ok",
          "timestamp": 1528183531134,
          "user_tz": -330,
          "elapsed": 740,
          "user": {
            "displayName": "Praveen Ganeshan",
            "photoUrl": "//lh6.googleusercontent.com/-QmspgRZUp3M/AAAAAAAAAAI/AAAAAAAAAN0/JZIoVZouLiM/s50-c-k-no/photo.jpg",
            "userId": "115281149458293297578"
          }
        }
      },
      "cell_type": "code",
      "source": [
        "print('Accuracy of Train Data :', dt_classifier.score(X_train,Y_train))\n",
        "\n",
        "print('Accuracy of Test Data :', dt_classifier.score(X_test,Y_test))"
      ],
      "execution_count": 111,
      "outputs": [
        {
          "output_type": "stream",
          "text": [
            "Accuracy of Train Data : 1.0\n",
            "Accuracy of Test Data : 0.9090909090909091\n"
          ],
          "name": "stdout"
        }
      ]
    },
    {
      "metadata": {
        "id": "QZOE2I-2tDe4",
        "colab_type": "text"
      },
      "cell_type": "markdown",
      "source": [
        "## Fine Tuning the Model\n",
        "\n",
        "rther the model is improved with change in **max_depth** value to **2**."
      ]
    },
    {
      "metadata": {
        "id": "WFhED587tHTb",
        "colab_type": "code",
        "colab": {
          "autoexec": {
            "startup": false,
            "wait_interval": 0
          },
          "base_uri": "https://localhost:8080/",
          "height": 51
        },
        "outputId": "abe53fb7-870f-4b5c-e1ba-ed964985bf81",
        "executionInfo": {
          "status": "ok",
          "timestamp": 1528183531989,
          "user_tz": -330,
          "elapsed": 785,
          "user": {
            "displayName": "Praveen Ganeshan",
            "photoUrl": "//lh6.googleusercontent.com/-QmspgRZUp3M/AAAAAAAAAAI/AAAAAAAAAN0/JZIoVZouLiM/s50-c-k-no/photo.jpg",
            "userId": "115281149458293297578"
          }
        }
      },
      "cell_type": "code",
      "source": [
        "dt_classifier = DecisionTreeClassifier(max_depth=2)   \n",
        "\n",
        "dt_classifier = dt_classifier.fit(X_train, Y_train) \n",
        "\n",
        "print('Accuracy of Train Data :', dt_classifier.score(X_train,Y_train))\n",
        "\n",
        "print('Accuracy of Test Data :', dt_classifier.score(X_test,Y_test))"
      ],
      "execution_count": 112,
      "outputs": [
        {
          "output_type": "stream",
          "text": [
            "Accuracy of Train Data : 0.9577464788732394\n",
            "Accuracy of Test Data : 0.9090909090909091\n"
          ],
          "name": "stdout"
        }
      ]
    },
    {
      "metadata": {
        "id": "Y1J88n_PtRVP",
        "colab_type": "text"
      },
      "cell_type": "markdown",
      "source": [
        "## HandsOn\n",
        "\n",
        "Import the **three** modules **sklearn.datasets, sklearn.model_selection, and sklearn.tree**.\n",
        "\n",
        "Load popular **Boston** dataset from **sklearn.datasets** module and assign it to **variable boston**.\n",
        "\n",
        "**Split boston.data** into two sets names **x_train** and **x_test**. Also, **split boston.target** into two sets **y_train** and **y_test**.\n",
        "\n",
        "***Hint***: Use **train_test_split** method from **sklearn.model_selection**; set **random_state** to **30**."
      ]
    },
    {
      "metadata": {
        "id": "Ilwt0NwPuESo",
        "colab_type": "code",
        "colab": {
          "autoexec": {
            "startup": false,
            "wait_interval": 0
          }
        }
      },
      "cell_type": "code",
      "source": [
        "import sklearn.datasets as datasets\n",
        "from sklearn.model_selection import train_test_split\n",
        "from sklearn.tree import DecisionTreeRegressor\n",
        "boston=datasets.load_boston()\n",
        "x_train,x_test,y_train,y_test=train_test_split(boston.data,boston.target,random_state=30)"
      ],
      "execution_count": 0,
      "outputs": []
    },
    {
      "metadata": {
        "id": "3MQBaLnowMdo",
        "colab_type": "text"
      },
      "cell_type": "markdown",
      "source": [
        "Build a **Decision tree Regressor** model from **x_train set**, with **default** parameters. Name the model as **dt_reg**.\n",
        "\n",
        "Evaluate the model **accuracy on x_train** and **x_test** sets.\n",
        "\n",
        "Predict the** housing price for first two samples** of **x_test** set."
      ]
    },
    {
      "metadata": {
        "id": "H1qJvwvDwYhk",
        "colab_type": "code",
        "colab": {
          "autoexec": {
            "startup": false,
            "wait_interval": 0
          },
          "base_uri": "https://localhost:8080/",
          "height": 34
        },
        "outputId": "06979b79-149a-4a72-ff77-0bbb3457fe45",
        "executionInfo": {
          "status": "ok",
          "timestamp": 1528183533674,
          "user_tz": -330,
          "elapsed": 795,
          "user": {
            "displayName": "Praveen Ganeshan",
            "photoUrl": "//lh6.googleusercontent.com/-QmspgRZUp3M/AAAAAAAAAAI/AAAAAAAAAN0/JZIoVZouLiM/s50-c-k-no/photo.jpg",
            "userId": "115281149458293297578"
          }
        }
      },
      "cell_type": "code",
      "source": [
        "dt_reg=DecisionTreeRegressor()\n",
        "dt_reg=dt_reg.fit(x_train,y_train)\n",
        "dt_reg.predict(x_test[:2])"
      ],
      "execution_count": 114,
      "outputs": [
        {
          "output_type": "execute_result",
          "data": {
            "text/plain": [
              "array([18.2, 12.8])"
            ]
          },
          "metadata": {
            "tags": []
          },
          "execution_count": 114
        }
      ]
    },
    {
      "metadata": {
        "id": "J1x6dvyZxs05",
        "colab_type": "text"
      },
      "cell_type": "markdown",
      "source": [
        "Fit **multiple** Decision tree regressors on **x_train** data with **max_depth** parameter value changing from **2 to 5**.\n",
        "\n",
        "Evaluate each model** accuracy on x_train and x_test** sets."
      ]
    },
    {
      "metadata": {
        "id": "Iyiwo9x0x1FT",
        "colab_type": "code",
        "colab": {
          "autoexec": {
            "startup": false,
            "wait_interval": 0
          },
          "base_uri": "https://localhost:8080/",
          "height": 153
        },
        "outputId": "a7d30d4d-0197-429f-b299-4c8c4879b7c0",
        "executionInfo": {
          "status": "ok",
          "timestamp": 1528183534497,
          "user_tz": -330,
          "elapsed": 761,
          "user": {
            "displayName": "Praveen Ganeshan",
            "photoUrl": "//lh6.googleusercontent.com/-QmspgRZUp3M/AAAAAAAAAAI/AAAAAAAAAN0/JZIoVZouLiM/s50-c-k-no/photo.jpg",
            "userId": "115281149458293297578"
          }
        }
      },
      "cell_type": "code",
      "source": [
        "for m in range(2,6):\n",
        "  dt_reg=DecisionTreeRegressor(max_depth=m)\n",
        "  dt_reg=dt_reg.fit(x_train,y_train)\n",
        "  print('Accuracy on train for n_neighbors %s:%s '%(m,dt_reg.score(x_train,y_train)))\n",
        "  print('Accuracy on test for n_neighbors %s:%s '%(m,dt_reg.score(x_test,y_test)))"
      ],
      "execution_count": 115,
      "outputs": [
        {
          "output_type": "stream",
          "text": [
            "Accuracy on train for n_neighbors 2:0.6939571491936384 \n",
            "Accuracy on test for n_neighbors 2:0.6876109752166819 \n",
            "Accuracy on train for n_neighbors 3:0.8205778867160011 \n",
            "Accuracy on test for n_neighbors 3:0.6962264524668584 \n",
            "Accuracy on train for n_neighbors 4:0.8990286027546579 \n",
            "Accuracy on test for n_neighbors 4:0.7086640885662667 \n",
            "Accuracy on train for n_neighbors 5:0.9333783943749767 \n",
            "Accuracy on test for n_neighbors 5:0.5657838515086966 \n"
          ],
          "name": "stdout"
        }
      ]
    },
    {
      "metadata": {
        "id": "F8CLWTASzicw",
        "colab_type": "text"
      },
      "cell_type": "markdown",
      "source": [
        "# Ensemble Methods\n",
        "\n",
        "**Ensemble** methods **combine predictions** of **other learning algorithms**, to **improve** the **generalization**.\n",
        "\n",
        "Ensemble methods are **two** types:\n",
        "\n",
        "**Averaging Methods**: They build several base estimators **independently** and finally **average** their predictions.\n",
        "\n",
        "***E.g.***: Bagging Methods, Forests of randomised trees\n",
        "\n",
        "**Boosting Methods**: They build base estimators **sequentially** and tries to **reduce** the bias of the **combined** estimator.\n",
        "\n",
        "***E.g***.: Adaboost, Gradient Tree Boosting"
      ]
    },
    {
      "metadata": {
        "id": "WeluEzd-0CJC",
        "colab_type": "text"
      },
      "cell_type": "markdown",
      "source": [
        "## Bagging Methods\n",
        "\n",
        "**Bagging Methods** draw **random** subsets of the **original dataset**, build an **estimator** and **aggregate** individual results to form a **final one**.\n",
        "\n",
        "**BaggingClassifier** and **BaggingRegressor** are the utilities from **sklearn.ensemble** to deal with Bagging."
      ]
    },
    {
      "metadata": {
        "id": "ER_fx7OY0QKa",
        "colab_type": "text"
      },
      "cell_type": "markdown",
      "source": [
        "## Randomized Trees\n",
        "\n",
        "**sklearn.ensemble** offers **two** types of algorithms based on **randomized trees**:** Random Forest** and **Extra randomness** algorithms.\n",
        "\n",
        "\n",
        "*   **RandomForestClassifier** and **RandomForestRegressor** classes are used to deal with random forests.\n",
        "*   In random forests, each estimator is built from a sample drawn with replacement from the training set.\n",
        "*   **ExtraTreesClassifier** and **ExtraTreesRegressor** classes are used to deal with extremely randomized forests.\n",
        "*   In extremely randomized forests, more randomness is introduced, which further reduces the variance of the model.\n",
        "\n",
        "\n",
        "\n",
        "\n",
        "\n"
      ]
    },
    {
      "metadata": {
        "id": "x43Y6FzP1RPa",
        "colab_type": "text"
      },
      "cell_type": "markdown",
      "source": [
        "## Demo of Random Forest Classifier"
      ]
    },
    {
      "metadata": {
        "id": "H5Ld5On504Ty",
        "colab_type": "code",
        "colab": {
          "autoexec": {
            "startup": false,
            "wait_interval": 0
          },
          "base_uri": "https://localhost:8080/",
          "height": 51
        },
        "outputId": "dbdb3ef9-c743-48ef-9a55-0b5d8707c0fe",
        "executionInfo": {
          "status": "ok",
          "timestamp": 1528183535844,
          "user_tz": -330,
          "elapsed": 1277,
          "user": {
            "displayName": "Praveen Ganeshan",
            "photoUrl": "//lh6.googleusercontent.com/-QmspgRZUp3M/AAAAAAAAAAI/AAAAAAAAAN0/JZIoVZouLiM/s50-c-k-no/photo.jpg",
            "userId": "115281149458293297578"
          }
        }
      },
      "cell_type": "code",
      "source": [
        "from sklearn.ensemble import RandomForestClassifier\n",
        "\n",
        "rf_classifier = RandomForestClassifier()\n",
        "\n",
        "rf_classifier = rf_classifier.fit(X_train, Y_train) \n",
        "\n",
        "print('Accuracy of Train Data :', rf_classifier.score(X_train,Y_train))\n",
        "\n",
        "print('Accuracy of Test Data :', rf_classifier.score(X_test,Y_test))"
      ],
      "execution_count": 116,
      "outputs": [
        {
          "output_type": "stream",
          "text": [
            "Accuracy of Train Data : 0.9929577464788732\n",
            "Accuracy of Test Data : 0.951048951048951\n"
          ],
          "name": "stdout"
        }
      ]
    },
    {
      "metadata": {
        "id": "JH-miPNb05Qp",
        "colab_type": "text"
      },
      "cell_type": "markdown",
      "source": [
        "## Boosting Methods\n",
        "\n",
        "Boosting Methods** combine several weak models** to create a **improvised** ensemble.\n",
        "\n",
        "**sklearn.ensemble** also provides the following boosting algorithms:\n",
        "\n",
        "\n",
        "*   AdaBoostClassifier\n",
        "*   GradientBoostingClassifier\n",
        "\n"
      ]
    },
    {
      "metadata": {
        "id": "uaukEVQgMx-h",
        "colab_type": "text"
      },
      "cell_type": "markdown",
      "source": [
        "## HandsOn\n",
        "\n",
        "Import the **three** modules **sklearn.datasets, sklearn.model_selection, and sklearn.ensemble**.\n",
        "\n",
        "Load popular **boston** data set from **sklearn.datasets** module and assign it to **variable boston**.\n",
        "\n",
        "**Split boston.data** into two sets names **x_train** and **x_test**. Also **split boston.target** into two sets **y_train** and **y_test**.\n",
        "\n",
        "***Hint***: Use **train_test_split** method from **sklearn.model_selection**; set **random_state** to **30**."
      ]
    },
    {
      "metadata": {
        "id": "2prAxI-VNSmO",
        "colab_type": "code",
        "colab": {
          "autoexec": {
            "startup": false,
            "wait_interval": 0
          }
        }
      },
      "cell_type": "code",
      "source": [
        "import sklearn.datasets as datasets\n",
        "from sklearn.model_selection import train_test_split\n",
        "from sklearn.ensemble import RandomForestRegressor\n",
        "boston=datasets.load_boston()\n",
        "x_train,x_test,y_train,y_test=train_test_split(boston.data,boston.target,random_state=30)"
      ],
      "execution_count": 0,
      "outputs": []
    },
    {
      "metadata": {
        "id": "NTFR6g-XOC1B",
        "colab_type": "text"
      },
      "cell_type": "markdown",
      "source": [
        "Build a **Random Forest Regressor** model from **x_train** set, with **default** parameters. Name the model as **rf_reg**.\n",
        "\n",
        "Evaluate the model **accuracy** on **x_train** and **x_test** sets."
      ]
    },
    {
      "metadata": {
        "id": "F9jnRFqlOJ9m",
        "colab_type": "code",
        "colab": {
          "autoexec": {
            "startup": false,
            "wait_interval": 0
          },
          "base_uri": "https://localhost:8080/",
          "height": 51
        },
        "outputId": "eb184951-d7f1-447d-bd80-cd1d01e380ac",
        "executionInfo": {
          "status": "ok",
          "timestamp": 1528183537773,
          "user_tz": -330,
          "elapsed": 1021,
          "user": {
            "displayName": "Praveen Ganeshan",
            "photoUrl": "//lh6.googleusercontent.com/-QmspgRZUp3M/AAAAAAAAAAI/AAAAAAAAAN0/JZIoVZouLiM/s50-c-k-no/photo.jpg",
            "userId": "115281149458293297578"
          }
        }
      },
      "cell_type": "code",
      "source": [
        "rf_reg=RandomForestRegressor()\n",
        "rf_reg=rf_reg.fit(x_train,y_train)\n",
        "print('Accuracy of Train Data :', rf_reg.score(x_train,y_train))\n",
        "\n",
        "print('Accuracy of Test Data :', rf_reg.score(x_test,y_test))"
      ],
      "execution_count": 118,
      "outputs": [
        {
          "output_type": "stream",
          "text": [
            "Accuracy of Train Data : 0.9792263412328398\n",
            "Accuracy of Test Data : 0.8749645488648881\n"
          ],
          "name": "stdout"
        }
      ]
    },
    {
      "metadata": {
        "id": "zB7vBMW0PVTi",
        "colab_type": "text"
      },
      "cell_type": "markdown",
      "source": [
        "Build **multiple** Random forest regressor on **x_train** data with **max_depth** parameter value changing from** 3 to 5 **and also setting **n_estimators** to one of **50, 100, 200** values.\n",
        "\n",
        "Evaluate each model accuracy on **x_train** and **x_test** sets."
      ]
    },
    {
      "metadata": {
        "id": "V5MwuyRYPj0M",
        "colab_type": "code",
        "colab": {
          "autoexec": {
            "startup": false,
            "wait_interval": 0
          },
          "base_uri": "https://localhost:8080/",
          "height": 323
        },
        "outputId": "af180465-3e0c-4c12-980d-739b05763b98",
        "executionInfo": {
          "status": "ok",
          "timestamp": 1528183540263,
          "user_tz": -330,
          "elapsed": 2367,
          "user": {
            "displayName": "Praveen Ganeshan",
            "photoUrl": "//lh6.googleusercontent.com/-QmspgRZUp3M/AAAAAAAAAAI/AAAAAAAAAN0/JZIoVZouLiM/s50-c-k-no/photo.jpg",
            "userId": "115281149458293297578"
          }
        }
      },
      "cell_type": "code",
      "source": [
        "for m in range(3,6):\n",
        "  for ne in [50,100,200]:\n",
        "    rf_reg=RandomForestRegressor(max_depth=m,n_estimators=ne)\n",
        "    rf_reg=rf_reg.fit(x_train,y_train)\n",
        "    print('Accuracy of Train Data for max_depth:%s and n_estimators:%s is:%s'%(m,ne, rf_reg.score(x_train,y_train)))\n",
        "    print('Accuracy of Test Data for max_depth:%s and n_estimators:%s is:%s:' %(m,ne,rf_reg.score(x_test,y_test)))"
      ],
      "execution_count": 119,
      "outputs": [
        {
          "output_type": "stream",
          "text": [
            "Accuracy of Train Data for max_depth:3 and n_estimators:50 is:0.8825584651199202\n",
            "Accuracy of Test Data for max_depth:3 and n_estimators:50 is:0.8366357831878104:\n",
            "Accuracy of Train Data for max_depth:3 and n_estimators:100 is:0.8812826442500727\n",
            "Accuracy of Test Data for max_depth:3 and n_estimators:100 is:0.8359930752874545:\n",
            "Accuracy of Train Data for max_depth:3 and n_estimators:200 is:0.8751069140883474\n",
            "Accuracy of Test Data for max_depth:3 and n_estimators:200 is:0.8311704016002732:\n",
            "Accuracy of Train Data for max_depth:4 and n_estimators:50 is:0.9202654884394835\n",
            "Accuracy of Test Data for max_depth:4 and n_estimators:50 is:0.8567989885308496:\n",
            "Accuracy of Train Data for max_depth:4 and n_estimators:100 is:0.9204019581331715\n",
            "Accuracy of Test Data for max_depth:4 and n_estimators:100 is:0.8616681828203232:\n",
            "Accuracy of Train Data for max_depth:4 and n_estimators:200 is:0.920846952484561\n",
            "Accuracy of Test Data for max_depth:4 and n_estimators:200 is:0.8572532514231476:\n",
            "Accuracy of Train Data for max_depth:5 and n_estimators:50 is:0.9396618526004092\n",
            "Accuracy of Test Data for max_depth:5 and n_estimators:50 is:0.8560036386119174:\n",
            "Accuracy of Train Data for max_depth:5 and n_estimators:100 is:0.9403725044023076\n",
            "Accuracy of Test Data for max_depth:5 and n_estimators:100 is:0.8654241570635116:\n",
            "Accuracy of Train Data for max_depth:5 and n_estimators:200 is:0.941198040524557\n",
            "Accuracy of Test Data for max_depth:5 and n_estimators:200 is:0.872325416098517:\n"
          ],
          "name": "stdout"
        }
      ]
    },
    {
      "metadata": {
        "id": "xUQa7Umh0m14",
        "colab_type": "text"
      },
      "cell_type": "markdown",
      "source": [
        "# Support Vector Machines Technique\n",
        "\n",
        "**Support Vector Machines (SVMs)** separates data points based on **decision planes**, which **separates** objects belonging to different **classes** in a **higher dimensional space**.\n",
        "\n",
        "*   SVM algorithm uses the best suitable **kernel**, which is capable of **separating** data points into** two or more classes**.\n",
        "*   Commonly used kernels are: **linear**,**polynomial**,**rbf**,**sigmoid**\n",
        "\n",
        "\n"
      ]
    },
    {
      "metadata": {
        "id": "VNWWNm5S2cqD",
        "colab_type": "text"
      },
      "cell_type": "markdown",
      "source": [
        "## Support Vector Classification\n",
        "\n",
        "**scikit-learn** provides the following **three** utilities for performing Support Vector Classification.\n",
        "\n",
        "\n",
        "\n",
        "*   **SVC**\n",
        "*   **NuSVC**: Same as SVC but uses a **parameter** to control the **number of support vectors**.\n",
        "*   **LinearSVC**: Similar to SVC with parameter **kernel** taking **linear** value.\n",
        "\n",
        "\n",
        "\n",
        "\n",
        "\n"
      ]
    },
    {
      "metadata": {
        "id": "3mn_zh3c21n3",
        "colab_type": "text"
      },
      "cell_type": "markdown",
      "source": [
        "## Support Vector Regression\n",
        "\n",
        "**scikit-learn** provides the following **three** utilities for performing Support Vector Regression.\n",
        "\n",
        "\n",
        "*   **SVR**\n",
        "*   **NuSVR**\n",
        "*   **LinearSVR**\n",
        "\n",
        "\n",
        "\n",
        "\n"
      ]
    },
    {
      "metadata": {
        "id": "IaitO-SE3F31",
        "colab_type": "text"
      },
      "cell_type": "markdown",
      "source": [
        "## Advantages of SVMs\n",
        "\n",
        "*   SVM can distinguish the classes in a **higher dimensional space**.\n",
        "*   SVM algorithms are **memory efficient**.\n",
        "*   SVMs are **versatile**, and a **different kernel **can be used by a **decision function.**\n",
        "\n",
        "\n",
        "\n"
      ]
    },
    {
      "metadata": {
        "id": "gptfuQzu3Vyo",
        "colab_type": "text"
      },
      "cell_type": "markdown",
      "source": [
        "## Disadvantages of SVMs\n",
        "\n",
        "\n",
        "*   SVMs do **not perform** well on** high dimensional data** with **many samples**.\n",
        "*   SVMs **work** better only with** Preprocessed data**.\n",
        "*   They are **harder to visualize**.\n",
        "\n",
        "\n",
        "\n"
      ]
    },
    {
      "metadata": {
        "id": "qa2SFPyj3txH",
        "colab_type": "text"
      },
      "cell_type": "markdown",
      "source": [
        "## Demo of Support Vector Classification\n"
      ]
    },
    {
      "metadata": {
        "id": "6WYwCmz93zlr",
        "colab_type": "code",
        "colab": {
          "autoexec": {
            "startup": false,
            "wait_interval": 0
          },
          "base_uri": "https://localhost:8080/",
          "height": 51
        },
        "outputId": "5baebed7-756a-4834-b5ea-03f68777af8f",
        "executionInfo": {
          "status": "ok",
          "timestamp": 1528183541830,
          "user_tz": -330,
          "elapsed": 1519,
          "user": {
            "displayName": "Praveen Ganeshan",
            "photoUrl": "//lh6.googleusercontent.com/-QmspgRZUp3M/AAAAAAAAAAI/AAAAAAAAAN0/JZIoVZouLiM/s50-c-k-no/photo.jpg",
            "userId": "115281149458293297578"
          }
        }
      },
      "cell_type": "code",
      "source": [
        "from sklearn.svm import SVC\n",
        "\n",
        "svm_classifier = SVC()\n",
        "\n",
        "svm_classifier = svm_classifier.fit(X_train, Y_train) \n",
        "\n",
        "print('Accuracy of Train Data :', svm_classifier.score(X_train,Y_train))\n",
        "\n",
        "print('Accuracy of Test Data :', svm_classifier.score(X_test,Y_test))"
      ],
      "execution_count": 120,
      "outputs": [
        {
          "output_type": "stream",
          "text": [
            "Accuracy of Train Data : 1.0\n",
            "Accuracy of Test Data : 0.6293706293706294\n"
          ],
          "name": "stdout"
        }
      ]
    },
    {
      "metadata": {
        "id": "AIaEWI2X333L",
        "colab_type": "text"
      },
      "cell_type": "markdown",
      "source": [
        "## Improving Accuracy Using Scaled Data"
      ]
    },
    {
      "metadata": {
        "id": "vLLa74ts38Kl",
        "colab_type": "code",
        "colab": {
          "autoexec": {
            "startup": false,
            "wait_interval": 0
          }
        }
      },
      "cell_type": "code",
      "source": [
        "import sklearn.preprocessing as preprocessing\n",
        "\n",
        "standardizer = preprocessing.StandardScaler()\n",
        "standardizer = standardizer.fit(cancer.data)\n",
        "cancer_standardized = standardizer.transform(cancer.data)\n",
        "X_train,X_test,Y_train,Y_test=train_test_split(cancer_standardized,cancer.target,random_state=30)\n",
        "\n",
        "svm_classifier = SVC()\n",
        "\n",
        "svm_classifier = svm_classifier.fit(X_train, Y_train) "
      ],
      "execution_count": 0,
      "outputs": []
    },
    {
      "metadata": {
        "id": "jEqEDz6W4BCm",
        "colab_type": "text"
      },
      "cell_type": "markdown",
      "source": [
        "## Determining Accuracy of New Model"
      ]
    },
    {
      "metadata": {
        "id": "Ra9JlG6K4EWf",
        "colab_type": "code",
        "colab": {
          "autoexec": {
            "startup": false,
            "wait_interval": 0
          },
          "base_uri": "https://localhost:8080/",
          "height": 51
        },
        "outputId": "286c4015-1586-48f7-f670-664c495979e4",
        "executionInfo": {
          "status": "ok",
          "timestamp": 1528183543521,
          "user_tz": -330,
          "elapsed": 777,
          "user": {
            "displayName": "Praveen Ganeshan",
            "photoUrl": "//lh6.googleusercontent.com/-QmspgRZUp3M/AAAAAAAAAAI/AAAAAAAAAN0/JZIoVZouLiM/s50-c-k-no/photo.jpg",
            "userId": "115281149458293297578"
          }
        }
      },
      "cell_type": "code",
      "source": [
        "print('Accuracy of Train Data :', svm_classifier.score(X_train,Y_train))\n",
        "\n",
        "print('Accuracy of Test Data :', svm_classifier.score(X_test,Y_test))"
      ],
      "execution_count": 122,
      "outputs": [
        {
          "output_type": "stream",
          "text": [
            "Accuracy of Train Data : 0.9835680751173709\n",
            "Accuracy of Test Data : 0.9790209790209791\n"
          ],
          "name": "stdout"
        }
      ]
    },
    {
      "metadata": {
        "id": "pW-Kbjc-44uB",
        "colab_type": "text"
      },
      "cell_type": "markdown",
      "source": [
        "## Viewing the Classification Report"
      ]
    },
    {
      "metadata": {
        "id": "CIuO6JZR48N-",
        "colab_type": "code",
        "colab": {
          "autoexec": {
            "startup": false,
            "wait_interval": 0
          },
          "base_uri": "https://localhost:8080/",
          "height": 153
        },
        "outputId": "78e7595a-260b-499e-eb6a-e3d9ff98e37e",
        "executionInfo": {
          "status": "ok",
          "timestamp": 1528183544379,
          "user_tz": -330,
          "elapsed": 783,
          "user": {
            "displayName": "Praveen Ganeshan",
            "photoUrl": "//lh6.googleusercontent.com/-QmspgRZUp3M/AAAAAAAAAAI/AAAAAAAAAN0/JZIoVZouLiM/s50-c-k-no/photo.jpg",
            "userId": "115281149458293297578"
          }
        }
      },
      "cell_type": "code",
      "source": [
        "from sklearn import metrics\n",
        "\n",
        "Y_pred = svm_classifier.predict(X_test)\n",
        "\n",
        "print('Classification report : \\n',metrics.classification_report(Y_test, Y_pred))"
      ],
      "execution_count": 123,
      "outputs": [
        {
          "output_type": "stream",
          "text": [
            "Classification report : \n",
            "              precision    recall  f1-score   support\n",
            "\n",
            "          0       0.98      0.96      0.97        52\n",
            "          1       0.98      0.99      0.98        91\n",
            "\n",
            "avg / total       0.98      0.98      0.98       143\n",
            "\n"
          ],
          "name": "stdout"
        }
      ]
    },
    {
      "metadata": {
        "id": "-VeVa2OE5Fq1",
        "colab_type": "text"
      },
      "cell_type": "markdown",
      "source": [
        "## HandsOn\n",
        "\n",
        "Import the **three** modules **sklearn.datasets, sklearn.model_selection, and sklearn.svm**.\n",
        "\n",
        "Load popular **digits** dataset from **sklearn.datasets** module and assign it to **variable digits**.\n",
        "\n",
        "**Split digits.data** into two sets names **x_train** and **x_test**. Also **split digits.target** into two sets **y_train** and **y_test**.\n",
        "\n",
        "***Hint***: Use **train_test_split** method from **sklearn.model_selection**; set **random_state** to **30**."
      ]
    },
    {
      "metadata": {
        "id": "s-m9NhHv5KMK",
        "colab_type": "code",
        "colab": {
          "autoexec": {
            "startup": false,
            "wait_interval": 0
          }
        }
      },
      "cell_type": "code",
      "source": [
        "import sklearn.datasets as datasets\n",
        "from sklearn.model_selection import train_test_split\n",
        "from sklearn.svm import SVC\n",
        "digits=datasets.load_digits()\n",
        "x_train,x_test,y_train,y_test=train_test_split(digits.data,digits.target,random_state=30)"
      ],
      "execution_count": 0,
      "outputs": []
    },
    {
      "metadata": {
        "id": "5IEPHTcq5Max",
        "colab_type": "text"
      },
      "cell_type": "markdown",
      "source": [
        "Build an SVM classifier from **x_train** set, with **default** parameters. Name the model as **svm_clf**.\n",
        "\n",
        "Predict the class of samples in **x_test** set and get the **classification_report** of the prediction.\n"
      ]
    },
    {
      "metadata": {
        "id": "rkWgAGuh5OBm",
        "colab_type": "code",
        "colab": {
          "autoexec": {
            "startup": false,
            "wait_interval": 0
          },
          "base_uri": "https://localhost:8080/",
          "height": 289
        },
        "outputId": "44e672f9-97da-48b1-9783-5c0c9525fc5a",
        "executionInfo": {
          "status": "ok",
          "timestamp": 1528183546423,
          "user_tz": -330,
          "elapsed": 1080,
          "user": {
            "displayName": "Praveen Ganeshan",
            "photoUrl": "//lh6.googleusercontent.com/-QmspgRZUp3M/AAAAAAAAAAI/AAAAAAAAAN0/JZIoVZouLiM/s50-c-k-no/photo.jpg",
            "userId": "115281149458293297578"
          }
        }
      },
      "cell_type": "code",
      "source": [
        "from sklearn import metrics\n",
        "svm_clf=SVC()\n",
        "svm_clf=svm_clf.fit(x_train,y_train)\n",
        "y_pred=svm_clf.predict(x_test)\n",
        "print('Classification report : \\n',metrics.classification_report(y_test, y_pred))"
      ],
      "execution_count": 125,
      "outputs": [
        {
          "output_type": "stream",
          "text": [
            "Classification report : \n",
            "              precision    recall  f1-score   support\n",
            "\n",
            "          0       1.00      0.43      0.60        44\n",
            "          1       1.00      0.25      0.41        51\n",
            "          2       1.00      0.22      0.37        49\n",
            "          3       0.12      1.00      0.22        37\n",
            "          4       1.00      0.40      0.57        50\n",
            "          5       1.00      0.23      0.38        47\n",
            "          6       1.00      0.48      0.65        54\n",
            "          7       1.00      0.56      0.72        41\n",
            "          8       1.00      0.03      0.05        40\n",
            "          9       1.00      0.62      0.77        37\n",
            "\n",
            "avg / total       0.93      0.41      0.48       450\n",
            "\n"
          ],
          "name": "stdout"
        }
      ]
    },
    {
      "metadata": {
        "id": "r6pCnu015QDT",
        "colab_type": "text"
      },
      "cell_type": "markdown",
      "source": [
        "Build **multiple** SVM classifiers on **x_train** data with **C** parameter value setting to one of the values : **5, 100, 400**.\n",
        "\n",
        "For each model, Predict the class of samples in **x_test** set and get the **classification_report** of the prediction"
      ]
    },
    {
      "metadata": {
        "id": "DaNds13R5k9V",
        "colab_type": "code",
        "colab": {
          "autoexec": {
            "startup": false,
            "wait_interval": 0
          },
          "base_uri": "https://localhost:8080/",
          "height": 833
        },
        "outputId": "12a70d5a-58fe-4e2b-fe63-a01699c509f9",
        "executionInfo": {
          "status": "ok",
          "timestamp": 1528183549110,
          "user_tz": -330,
          "elapsed": 2509,
          "user": {
            "displayName": "Praveen Ganeshan",
            "photoUrl": "//lh6.googleusercontent.com/-QmspgRZUp3M/AAAAAAAAAAI/AAAAAAAAAN0/JZIoVZouLiM/s50-c-k-no/photo.jpg",
            "userId": "115281149458293297578"
          }
        }
      },
      "cell_type": "code",
      "source": [
        "for c in [5,100,400]:\n",
        "  svm_clf=SVC(C=c)\n",
        "  svm_clf=svm_clf.fit(x_train,y_train)\n",
        "  y_pred=svm_clf.predict(x_test)\n",
        "  print('Classification report with C parameter:%s :%s \\n'%(c,metrics.classification_report(y_test, y_pred)))\n",
        "  \n",
        "  "
      ],
      "execution_count": 126,
      "outputs": [
        {
          "output_type": "stream",
          "text": [
            "Classification report with C parameter:5 :             precision    recall  f1-score   support\n",
            "\n",
            "          0       1.00      0.48      0.65        44\n",
            "          1       1.00      0.25      0.41        51\n",
            "          2       1.00      0.37      0.54        49\n",
            "          3       0.14      1.00      0.24        37\n",
            "          4       1.00      0.52      0.68        50\n",
            "          5       1.00      0.30      0.46        47\n",
            "          6       1.00      0.57      0.73        54\n",
            "          7       1.00      0.63      0.78        41\n",
            "          8       1.00      0.12      0.22        40\n",
            "          9       1.00      0.62      0.77        37\n",
            "\n",
            "avg / total       0.93      0.48      0.55       450\n",
            " \n",
            "\n",
            "Classification report with C parameter:100 :             precision    recall  f1-score   support\n",
            "\n",
            "          0       1.00      0.48      0.65        44\n",
            "          1       1.00      0.25      0.41        51\n",
            "          2       1.00      0.37      0.54        49\n",
            "          3       0.14      1.00      0.24        37\n",
            "          4       1.00      0.52      0.68        50\n",
            "          5       1.00      0.30      0.46        47\n",
            "          6       1.00      0.57      0.73        54\n",
            "          7       1.00      0.63      0.78        41\n",
            "          8       1.00      0.12      0.22        40\n",
            "          9       1.00      0.62      0.77        37\n",
            "\n",
            "avg / total       0.93      0.48      0.55       450\n",
            " \n",
            "\n",
            "Classification report with C parameter:400 :             precision    recall  f1-score   support\n",
            "\n",
            "          0       1.00      0.48      0.65        44\n",
            "          1       1.00      0.25      0.41        51\n",
            "          2       1.00      0.37      0.54        49\n",
            "          3       0.14      1.00      0.24        37\n",
            "          4       1.00      0.52      0.68        50\n",
            "          5       1.00      0.30      0.46        47\n",
            "          6       1.00      0.57      0.73        54\n",
            "          7       1.00      0.63      0.78        41\n",
            "          8       1.00      0.12      0.22        40\n",
            "          9       1.00      0.62      0.77        37\n",
            "\n",
            "avg / total       0.93      0.48      0.55       450\n",
            " \n",
            "\n"
          ],
          "name": "stdout"
        }
      ]
    },
    {
      "metadata": {
        "id": "bk7atjivTKoS",
        "colab_type": "text"
      },
      "cell_type": "markdown",
      "source": [
        "# Clustering Technique"
      ]
    },
    {
      "metadata": {
        "id": "kS5U2a6hUZ_q",
        "colab_type": "text"
      },
      "cell_type": "markdown",
      "source": [
        "## Introduction to Clustering\n",
        "\n",
        "**Clustering** is one of the** unsupervised learning technique**.\n",
        "\n",
        "\n",
        "*   The technique is typically used to **group data points** into **clusters** based on a **specific algorithm**.\n",
        "*   Major clustering algorithms that can be implemented using scikit-learn are:    \n",
        "\n",
        "    *   K-means Clustering\n",
        "    *   Agglomerative clustering  \n",
        "    *   DBSCAN clustering\n",
        "    *   Mean-shift clustering  \n",
        "    *   Affinity propagation\n",
        "    *   Spectral clustering\n",
        "\n"
      ]
    },
    {
      "metadata": {
        "id": "fA9d7jo1VEMe",
        "colab_type": "text"
      },
      "cell_type": "markdown",
      "source": [
        "## K-Means Clustering\n",
        "\n",
        "In** K-means Clustering** entire data set is** grouped into k clusters**.\n",
        "\n",
        "Steps involved are:\n",
        "\n",
        "\n",
        "*   **k** centroids are chosen **randomly**.\n",
        "*   The distance of each data point from **k** centroids is calculated. A data point is assigned to the **nearest cluster**.\n",
        "*   Centroids of **k** clusters are recomputed.\n",
        "*   The above steps are **iterated** till the number of data points a **cluster reach convergence**.\n",
        "\n",
        "**KMeans** from **sklearn.cluster** can be used for **K-means clustering**."
      ]
    },
    {
      "metadata": {
        "id": "0jEqs5WvVuPK",
        "colab_type": "text"
      },
      "cell_type": "markdown",
      "source": [
        "## Agglomerative Hierarchical Clustering\n",
        "\n",
        "Agglomerative Hierarchical Clustering is a** bottom-up** approach.\n",
        "\n",
        "Steps involved are:\n",
        "\n",
        "*   **Each data point** is treated as a **single cluster** at the **beginning**.\n",
        "*   The distance between each cluster is **computed**, and the **two** nearest clusters are **merged** together.\n",
        "*   The above step is **iterated** till a **single cluster** is formed.\n",
        "*   **AgglomerativeClustering** from **sklearn.cluster** can be used for achieving this.\n",
        "*   **Merging of two clusters** can be any of the following linkage type: **ward**, **complete** or **average**.\n",
        "\n"
      ]
    },
    {
      "metadata": {
        "id": "-IIiIyQuWUTx",
        "colab_type": "text"
      },
      "cell_type": "markdown",
      "source": [
        "## Density Based Clustering\n",
        "\n",
        "**DBSCAN** from **sklearn.cluster** is used for this purpose.\n",
        "\n",
        "**DBSCAN** algorithm requires 2 parameters - **epsilon** and **minimum point**\n",
        "Three classification points:\n",
        "\n",
        "\n",
        "*   Core points\n",
        "*   Border points\n",
        "*   Outlier points\n",
        "\n",
        "Steps involved are:\n",
        "\n",
        "\n",
        "*   Pick **random point **that is **not assigned** to **cluster or outlier**. Determine if it is **core point** else label the point as **outlier**.\n",
        "*   Once core point is identified add **all directly reachable to cluster**. Then do **neighbor jumps** to each reachable point and add them to **cluster**. If **outlier** has been added, label it as a **border point.**\n",
        "*   The above step is **iterated** till** all points** to **cluster or outlier**.\n"
      ]
    },
    {
      "metadata": {
        "id": "XfE7DQUtmhz_",
        "colab_type": "text"
      },
      "cell_type": "markdown",
      "source": [
        "## Mean Shift Clustering\n",
        "\n",
        "**Mean Shift Clustering** aims at discovering **dense** areas.\n",
        "\n",
        "Steps Involved:\n",
        "\n",
        "\n",
        "*   Identify** blob areas** with **randomly guessed centroids**.\n",
        "*   Calculate the **centroid** of each **blob** area and **shift** to a new one, if there is a **difference**.\n",
        "*   **Repeat** the above step till the **centroids** converge.\n",
        "\n",
        "**make_blobs** from **sklearn.cluster** can be used to initialize the **blob** areas. **MeanShift** from **sklearn.cluster** can be used to perform **Mean Shift clustering**.\n",
        "\n"
      ]
    },
    {
      "metadata": {
        "id": "1OXY8-38nLvq",
        "colab_type": "text"
      },
      "cell_type": "markdown",
      "source": [
        "## Affinity Propagation\n",
        "\n",
        "**Affinity Propagation** generates clusters by **passing messages** between **pairs of data points**, until convergence.\n",
        "\n",
        "*   **AffinityPropagation** class from **sklearn.cluster** can be used.\n",
        "*   The above class can be controlled with **two** major parameters:\n",
        "    *   **preference**: It controls the **number of exemplars** to be chosen by the algorithm.\n",
        "    *   **damping**: It controls **numerical oscillations** while updating messages.\n",
        "\n"
      ]
    },
    {
      "metadata": {
        "id": "kUoz7YPVn3dp",
        "colab_type": "text"
      },
      "cell_type": "markdown",
      "source": [
        "## Spectral Clustering\n",
        "\n",
        "**Spectral Clustering **is ideal to cluster data that is connected, and may not be in a compact space.\n",
        "\n",
        "In general, the following steps are followed:\n",
        "\n",
        "\n",
        "*   Build an **affinity matrix **of data points.\n",
        "*   **Embed data points** in a **lower dimensional space**.\n",
        "*   Use a clustering method like **k-means** to partition the points on **lower dimensional space**.\n",
        "\n",
        "**spectral_clustering** from **sklearn.cluster** can be used for achieving this.\n",
        "\n"
      ]
    },
    {
      "metadata": {
        "id": "Wa98ClrpoiBb",
        "colab_type": "text"
      },
      "cell_type": "markdown",
      "source": [
        "## Demo of KMeans"
      ]
    },
    {
      "metadata": {
        "id": "4rd_ag22qUJ3",
        "colab_type": "code",
        "colab": {
          "autoexec": {
            "startup": false,
            "wait_interval": 0
          },
          "base_uri": "https://localhost:8080/",
          "height": 136
        },
        "outputId": "9784706f-8066-4883-a8bb-3bad9069face",
        "executionInfo": {
          "status": "ok",
          "timestamp": 1528183549970,
          "user_tz": -330,
          "elapsed": 807,
          "user": {
            "displayName": "Praveen Ganeshan",
            "photoUrl": "//lh6.googleusercontent.com/-QmspgRZUp3M/AAAAAAAAAAI/AAAAAAAAAN0/JZIoVZouLiM/s50-c-k-no/photo.jpg",
            "userId": "115281149458293297578"
          }
        }
      },
      "cell_type": "code",
      "source": [
        "from sklearn.cluster import KMeans\n",
        "kmeans_cluster = KMeans(n_clusters=2)\n",
        "kmeans_cluster = kmeans_cluster.fit(X_train) \n",
        "kmeans_cluster.predict(X_test)"
      ],
      "execution_count": 127,
      "outputs": [
        {
          "output_type": "execute_result",
          "data": {
            "text/plain": [
              "array([0, 0, 1, 0, 1, 0, 1, 1, 1, 1, 1, 0, 1, 1, 0, 1, 1, 0, 1, 1, 1, 1,\n",
              "       0, 1, 1, 0, 1, 1, 1, 0, 1, 1, 0, 0, 1, 1, 1, 1, 1, 1, 0, 1, 1, 1,\n",
              "       0, 1, 0, 0, 1, 1, 1, 1, 1, 0, 1, 1, 0, 1, 1, 0, 1, 1, 1, 0, 1, 0,\n",
              "       1, 0, 1, 0, 1, 0, 1, 1, 0, 0, 1, 1, 0, 0, 0, 1, 1, 1, 0, 1, 1, 1,\n",
              "       1, 0, 0, 1, 1, 1, 1, 0, 1, 1, 0, 1, 1, 0, 0, 0, 1, 1, 1, 1, 1, 0,\n",
              "       1, 1, 1, 0, 0, 1, 0, 1, 1, 1, 0, 1, 1, 1, 1, 1, 1, 1, 1, 0, 1, 0,\n",
              "       0, 1, 1, 1, 0, 1, 0, 1, 1, 0, 1], dtype=int32)"
            ]
          },
          "metadata": {
            "tags": []
          },
          "execution_count": 127
        }
      ]
    },
    {
      "metadata": {
        "id": "7UrePBeOqfoX",
        "colab_type": "text"
      },
      "cell_type": "markdown",
      "source": [
        "## Evaluating a Clustering algorithm\n",
        "\n",
        "A clustering algorithm is majorly evaluated using the following scores:\n",
        "\n",
        "\n",
        "*   **Homogeneity**: Evaluates if each cluster contains only members of a single class.\n",
        "*   **Completeness**: All members of a given class are assigned to the same cluster.\n",
        "*   **V-measure**: Harmonic mean of **Homogeneity** and **Completeness**.\n",
        "*   **Adjusted Rand index**: Measures **similarity** of two assignments."
      ]
    },
    {
      "metadata": {
        "id": "xtNPIH8HrjYY",
        "colab_type": "text"
      },
      "cell_type": "markdown",
      "source": [
        "## Evaluation with scikit-learn"
      ]
    },
    {
      "metadata": {
        "id": "NX8D3nV0ro80",
        "colab_type": "code",
        "colab": {
          "autoexec": {
            "startup": false,
            "wait_interval": 0
          },
          "base_uri": "https://localhost:8080/",
          "height": 85
        },
        "outputId": "80c5c400-feb1-485a-a791-1848079db107",
        "executionInfo": {
          "status": "ok",
          "timestamp": 1528183550860,
          "user_tz": -330,
          "elapsed": 822,
          "user": {
            "displayName": "Praveen Ganeshan",
            "photoUrl": "//lh6.googleusercontent.com/-QmspgRZUp3M/AAAAAAAAAAI/AAAAAAAAAN0/JZIoVZouLiM/s50-c-k-no/photo.jpg",
            "userId": "115281149458293297578"
          }
        }
      },
      "cell_type": "code",
      "source": [
        "from sklearn import metrics\n",
        "print(metrics.homogeneity_score(kmeans_cluster.predict(X_test), Y_test))\n",
        "print(metrics.completeness_score(kmeans_cluster.predict(X_test), Y_test))\n",
        "print(metrics.v_measure_score(kmeans_cluster.predict(X_test), Y_test))\n",
        "print(metrics.adjusted_rand_score(kmeans_cluster.predict(X_test), Y_test))"
      ],
      "execution_count": 128,
      "outputs": [
        {
          "output_type": "stream",
          "text": [
            "0.5252075430986379\n",
            "0.5112944931413127\n",
            "0.5181576401272907\n",
            "0.6417696880050958\n"
          ],
          "name": "stdout"
        }
      ]
    },
    {
      "metadata": {
        "id": "O9_nCM87r1a0",
        "colab_type": "text"
      },
      "cell_type": "markdown",
      "source": [
        "## HandsOn\n",
        "\n",
        "Import the **three** modules** sklearn.datasets, sklearn.model_selection, and sklearn.cluster**.\n",
        "\n",
        "Load popular **iris** data set from **sklearn.datasets** module and assign it to variable **iris**."
      ]
    },
    {
      "metadata": {
        "id": "I99mQNtAsatE",
        "colab_type": "code",
        "colab": {
          "autoexec": {
            "startup": false,
            "wait_interval": 0
          }
        }
      },
      "cell_type": "code",
      "source": [
        "import sklearn.datasets as datasets\n",
        "from sklearn.model_selection import train_test_split\n",
        "from sklearn.cluster import KMeans\n",
        "iris=datasets.load_iris()\n",
        "x_train,x_test,y_train,y_test=train_test_split(iris.data,iris.target,random_state=30)"
      ],
      "execution_count": 0,
      "outputs": []
    },
    {
      "metadata": {
        "id": "XhMBM_ZltsHX",
        "colab_type": "text"
      },
      "cell_type": "markdown",
      "source": [
        "Cluster **x_train** set into **3** clusters using **K-means** with **default** parameters. Name the model as **km_cls**.\n",
        "\n",
        "Predict the cluster of samples in **x_test** and determine the **homogeneity score **of the model."
      ]
    },
    {
      "metadata": {
        "id": "LVlOCEVet0hJ",
        "colab_type": "code",
        "colab": {
          "autoexec": {
            "startup": false,
            "wait_interval": 0
          },
          "base_uri": "https://localhost:8080/",
          "height": 34
        },
        "outputId": "30b95ebb-6193-486c-d5a7-57150a48085d",
        "executionInfo": {
          "status": "ok",
          "timestamp": 1528183552690,
          "user_tz": -330,
          "elapsed": 787,
          "user": {
            "displayName": "Praveen Ganeshan",
            "photoUrl": "//lh6.googleusercontent.com/-QmspgRZUp3M/AAAAAAAAAAI/AAAAAAAAAN0/JZIoVZouLiM/s50-c-k-no/photo.jpg",
            "userId": "115281149458293297578"
          }
        }
      },
      "cell_type": "code",
      "source": [
        "from sklearn import metrics\n",
        "km_cls=KMeans(n_clusters=3)\n",
        "km_cls=km_cls.fit(x_train)\n",
        "y_pred=km_cls.predict(x_test)\n",
        "print(\"Homegeneity Score:%s\"%(metrics.homogeneity_score(y_pred,y_test)))"
      ],
      "execution_count": 130,
      "outputs": [
        {
          "output_type": "stream",
          "text": [
            "Homegeneity Score:0.7899456437990248\n"
          ],
          "name": "stdout"
        }
      ]
    },
    {
      "metadata": {
        "id": "rSGtSBiXvY6m",
        "colab_type": "text"
      },
      "cell_type": "markdown",
      "source": [
        "Cluster **x_train** set using **Mean shift **with **default** parameters. Name the model as **ms_cls**.\n",
        "\n",
        "Predict the cluster of samples in **x_test** and determine the **homogeneity score** of the model."
      ]
    },
    {
      "metadata": {
        "id": "Hd0edIbsveYy",
        "colab_type": "code",
        "colab": {
          "autoexec": {
            "startup": false,
            "wait_interval": 0
          },
          "base_uri": "https://localhost:8080/",
          "height": 34
        },
        "outputId": "ceb7839b-a7c6-4f5e-d9d6-2ee84b4d5d7a",
        "executionInfo": {
          "status": "ok",
          "timestamp": 1528183553513,
          "user_tz": -330,
          "elapsed": 765,
          "user": {
            "displayName": "Praveen Ganeshan",
            "photoUrl": "//lh6.googleusercontent.com/-QmspgRZUp3M/AAAAAAAAAAI/AAAAAAAAAN0/JZIoVZouLiM/s50-c-k-no/photo.jpg",
            "userId": "115281149458293297578"
          }
        }
      },
      "cell_type": "code",
      "source": [
        "from sklearn import metrics\n",
        "from sklearn.cluster import MeanShift\n",
        "ms_cls=MeanShift()\n",
        "ms_cls=ms_cls.fit(x_train)\n",
        "y_pred=ms_cls.predict(x_test)\n",
        "print(\"Homegeneity Score:%s\"%(metrics.homogeneity_score(y_pred,y_test)))"
      ],
      "execution_count": 131,
      "outputs": [
        {
          "output_type": "stream",
          "text": [
            "Homegeneity Score:1.0000000000000004\n"
          ],
          "name": "stdout"
        }
      ]
    },
    {
      "metadata": {
        "id": "B1LZnJV3ySKQ",
        "colab_type": "text"
      },
      "cell_type": "markdown",
      "source": [
        "# OtherHandsOn"
      ]
    },
    {
      "metadata": {
        "id": "kchFQhNJyVe4",
        "colab_type": "code",
        "colab": {
          "autoexec": {
            "startup": false,
            "wait_interval": 0
          },
          "base_uri": "https://localhost:8080/",
          "height": 34
        },
        "outputId": "dbebbf43-1c56-4675-a41b-177ad675dc98",
        "executionInfo": {
          "status": "ok",
          "timestamp": 1528183554393,
          "user_tz": -330,
          "elapsed": 808,
          "user": {
            "displayName": "Praveen Ganeshan",
            "photoUrl": "//lh6.googleusercontent.com/-QmspgRZUp3M/AAAAAAAAAAI/AAAAAAAAAN0/JZIoVZouLiM/s50-c-k-no/photo.jpg",
            "userId": "115281149458293297578"
          }
        }
      },
      "cell_type": "code",
      "source": [
        "import sklearn.preprocessing as preprocessing\n",
        "\n",
        "x = [[7.8], [1.3], [4.5], [0.9]]\n",
        "print(preprocessing.Binarizer().fit(x).transform(x).shape)"
      ],
      "execution_count": 132,
      "outputs": [
        {
          "output_type": "stream",
          "text": [
            "(4, 1)\n"
          ],
          "name": "stdout"
        }
      ]
    },
    {
      "metadata": {
        "id": "ddYInETnzH_U",
        "colab_type": "code",
        "colab": {
          "autoexec": {
            "startup": false,
            "wait_interval": 0
          },
          "base_uri": "https://localhost:8080/",
          "height": 85
        },
        "outputId": "9f18bfce-4886-4918-c3eb-81508fc509ff",
        "executionInfo": {
          "status": "ok",
          "timestamp": 1528183555265,
          "user_tz": -330,
          "elapsed": 794,
          "user": {
            "displayName": "Praveen Ganeshan",
            "photoUrl": "//lh6.googleusercontent.com/-QmspgRZUp3M/AAAAAAAAAAI/AAAAAAAAAN0/JZIoVZouLiM/s50-c-k-no/photo.jpg",
            "userId": "115281149458293297578"
          }
        }
      },
      "cell_type": "code",
      "source": [
        "import sklearn.preprocessing as preprocessing\n",
        "\n",
        "x = [[7.8], [1.3], [4.5], [0.9]]\n",
        "print(preprocessing.Binarizer().fit(x).transform(x))"
      ],
      "execution_count": 133,
      "outputs": [
        {
          "output_type": "stream",
          "text": [
            "[[1.]\n",
            " [1.]\n",
            " [1.]\n",
            " [1.]]\n"
          ],
          "name": "stdout"
        }
      ]
    },
    {
      "metadata": {
        "id": "uyEgz7aW4F4M",
        "colab_type": "code",
        "colab": {
          "autoexec": {
            "startup": false,
            "wait_interval": 0
          },
          "base_uri": "https://localhost:8080/",
          "height": 34
        },
        "outputId": "fb2e522d-dfaa-4d37-97b2-aa6ee2cca218",
        "executionInfo": {
          "status": "ok",
          "timestamp": 1528184204113,
          "user_tz": -330,
          "elapsed": 1558,
          "user": {
            "displayName": "Praveen Ganeshan",
            "photoUrl": "//lh6.googleusercontent.com/-QmspgRZUp3M/AAAAAAAAAAI/AAAAAAAAAN0/JZIoVZouLiM/s50-c-k-no/photo.jpg",
            "userId": "115281149458293297578"
          }
        }
      },
      "cell_type": "code",
      "source": [
        "import sklearn.preprocessing as preprocessing\n",
        "\n",
        "x = [[0, 0], [0, 1], [2,0]]\n",
        "enc = preprocessing.OneHotEncoder()\n",
        "print(enc.fit(x).transform([[1, 1]]).toarray())"
      ],
      "execution_count": 134,
      "outputs": [
        {
          "output_type": "stream",
          "text": [
            "[[0. 0. 0. 1.]]\n"
          ],
          "name": "stdout"
        }
      ]
    }
  ]
}
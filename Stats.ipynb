{
  "nbformat": 4,
  "nbformat_minor": 0,
  "metadata": {
    "colab": {
      "name": "Stats.ipynb",
      "version": "0.3.2",
      "views": {},
      "default_view": {},
      "provenance": [],
      "toc_visible": true
    },
    "kernelspec": {
      "name": "python3",
      "display_name": "Python 3"
    }
  },
  "cells": [
    {
      "metadata": {
        "id": "gv_mpv-HKBS7",
        "colab_type": "text"
      },
      "cell_type": "markdown",
      "source": [
        "# Statistics\n",
        "\n",
        "**Statistics** is a branch of mathematics dealing with the **collection, analysis, interpretation, presentation, and organization of data**\n",
        "\n",
        "A statistic (singular) or sample statistic is a** single measure of some attribute** of a sample (e.g. its arithmetic mean value)."
      ]
    },
    {
      "metadata": {
        "id": "lqjlwW7eK569",
        "colab_type": "text"
      },
      "cell_type": "markdown",
      "source": [
        "# Descriptive Statistics\n",
        "\n",
        "**Descriptive Statistics** summaries a dataset, which helps in **gaining insights**, and making inferences about a dataset.\n",
        "\n",
        "In general, we compute statistical measures of **one or more samples**, related to a **population**, and draw conclusions about the population.\n",
        "\n",
        "**Descriptive Statistics** involves estimating **centrality measures** and **measures of dispersion**."
      ]
    },
    {
      "metadata": {
        "id": "JoWv13G7LdaX",
        "colab_type": "text"
      },
      "cell_type": "markdown",
      "source": [
        "# Centrality Measures\n",
        "\n",
        "Centrality measures determine the **center** of a dataset.\n",
        "\n",
        "The three major centrality measures are: **mean**, **median**, and **mode**."
      ]
    },
    {
      "metadata": {
        "id": "Ejx6DKaWLzje",
        "colab_type": "text"
      },
      "cell_type": "markdown",
      "source": [
        "## Mean\n",
        "\n",
        "Mean is the **sum of all values divided by a total number of values**, of a data set.\n",
        "\n",
        "**mean** function of **numpy** is used to compute mean marks obtained by **five** students in a subject **s1**."
      ]
    },
    {
      "metadata": {
        "id": "QpFi6inrJ_pi",
        "colab_type": "code",
        "colab": {
          "autoexec": {
            "startup": false,
            "wait_interval": 0
          },
          "base_uri": "https://localhost:8080/",
          "height": 34
        },
        "outputId": "46064f0f-788c-4088-cccc-b32ff8920542",
        "executionInfo": {
          "status": "ok",
          "timestamp": 1529409815374,
          "user_tz": -330,
          "elapsed": 1320,
          "user": {
            "displayName": "Praveen Ganeshan",
            "photoUrl": "//lh6.googleusercontent.com/-QmspgRZUp3M/AAAAAAAAAAI/AAAAAAAAAN0/JZIoVZouLiM/s50-c-k-no/photo.jpg",
            "userId": "115281149458293297578"
          }
        }
      },
      "cell_type": "code",
      "source": [
        "import numpy as np\n",
        "\n",
        "s1 = np.array([86, 47, 45, 47, 40])\n",
        "\n",
        "print(np.mean(s1))"
      ],
      "execution_count": 118,
      "outputs": [
        {
          "output_type": "stream",
          "text": [
            "53.0\n"
          ],
          "name": "stdout"
        }
      ]
    },
    {
      "metadata": {
        "id": "esIeAhA4NGvT",
        "colab_type": "text"
      },
      "cell_type": "markdown",
      "source": [
        "## Median\n",
        "\n",
        "Median is the value that **separates** the given data set into **two halves**.\n",
        "\n",
        "**median** function of **numpy** library can be used to compute median of a data set, as shown here,"
      ]
    },
    {
      "metadata": {
        "id": "tV_PK7VqNQh9",
        "colab_type": "code",
        "colab": {
          "autoexec": {
            "startup": false,
            "wait_interval": 0
          },
          "base_uri": "https://localhost:8080/",
          "height": 34
        },
        "outputId": "9ae15428-d0e1-459b-8b6b-37a339a77929",
        "executionInfo": {
          "status": "ok",
          "timestamp": 1529409816412,
          "user_tz": -330,
          "elapsed": 844,
          "user": {
            "displayName": "Praveen Ganeshan",
            "photoUrl": "//lh6.googleusercontent.com/-QmspgRZUp3M/AAAAAAAAAAI/AAAAAAAAAN0/JZIoVZouLiM/s50-c-k-no/photo.jpg",
            "userId": "115281149458293297578"
          }
        }
      },
      "cell_type": "code",
      "source": [
        "import numpy as np\n",
        "\n",
        "s1 = np.array([86, 47, 45, 47, 40])\n",
        "\n",
        "print(np.median(s1))"
      ],
      "execution_count": 119,
      "outputs": [
        {
          "output_type": "stream",
          "text": [
            "47.0\n"
          ],
          "name": "stdout"
        }
      ]
    },
    {
      "metadata": {
        "id": "3tGVXxkkPkuL",
        "colab_type": "text"
      },
      "cell_type": "markdown",
      "source": [
        "## Mode\n",
        "\n",
        "The value that occurs a **number of times** in a data set refers to **Mode** of the data set.\n",
        "\n",
        "**mode** function of **scipy.stats** module can be used for computing mode of a given data set."
      ]
    },
    {
      "metadata": {
        "id": "y50fLBvzPx1P",
        "colab_type": "code",
        "colab": {
          "autoexec": {
            "startup": false,
            "wait_interval": 0
          },
          "base_uri": "https://localhost:8080/",
          "height": 34
        },
        "outputId": "8bfbf488-296a-4d9b-80a4-686e1b1d6ed0",
        "executionInfo": {
          "status": "ok",
          "timestamp": 1529409818624,
          "user_tz": -330,
          "elapsed": 2033,
          "user": {
            "displayName": "Praveen Ganeshan",
            "photoUrl": "//lh6.googleusercontent.com/-QmspgRZUp3M/AAAAAAAAAAI/AAAAAAAAAN0/JZIoVZouLiM/s50-c-k-no/photo.jpg",
            "userId": "115281149458293297578"
          }
        }
      },
      "cell_type": "code",
      "source": [
        "from scipy import stats\n",
        "\n",
        "s1 = np.array([86, 47, 45, 47, 40])\n",
        "\n",
        "print(stats.mode(s1))"
      ],
      "execution_count": 120,
      "outputs": [
        {
          "output_type": "stream",
          "text": [
            "ModeResult(mode=array([47]), count=array([2]))\n"
          ],
          "name": "stdout"
        }
      ]
    },
    {
      "metadata": {
        "id": "0C12VauYNg2E",
        "colab_type": "code",
        "colab": {
          "autoexec": {
            "startup": false,
            "wait_interval": 0
          },
          "base_uri": "https://localhost:8080/",
          "height": 34
        },
        "outputId": "963dd906-5105-4a27-e759-b6b848e05838",
        "executionInfo": {
          "status": "ok",
          "timestamp": 1529409819507,
          "user_tz": -330,
          "elapsed": 780,
          "user": {
            "displayName": "Praveen Ganeshan",
            "photoUrl": "//lh6.googleusercontent.com/-QmspgRZUp3M/AAAAAAAAAAI/AAAAAAAAAN0/JZIoVZouLiM/s50-c-k-no/photo.jpg",
            "userId": "115281149458293297578"
          }
        }
      },
      "cell_type": "code",
      "source": [
        "from scipy import stats\n",
        "print(stats.mode([8, 9, 8, 7, 9, 6, 7, 6]))"
      ],
      "execution_count": 121,
      "outputs": [
        {
          "output_type": "stream",
          "text": [
            "ModeResult(mode=array([6]), count=array([2]))\n"
          ],
          "name": "stdout"
        }
      ]
    },
    {
      "metadata": {
        "id": "m7Bf-WnRP3UG",
        "colab_type": "text"
      },
      "cell_type": "markdown",
      "source": [
        "If there are **more than a single** value, then only the **first** one is returned by mode function."
      ]
    },
    {
      "metadata": {
        "id": "zXUbiPrnQHZe",
        "colab_type": "text"
      },
      "cell_type": "markdown",
      "source": [
        "## Measures of Dispersion\n",
        "\n",
        "**Measures of Dispersion** provide **insights on the spread** of given dataset.\n",
        "\n",
        "Major measures of dispersion are: **range, percentile, inter-quartile range, standard deviation, variance, skewness, and kurtosis**."
      ]
    },
    {
      "metadata": {
        "id": "TO7TQ1k6TyNF",
        "colab_type": "text"
      },
      "cell_type": "markdown",
      "source": [
        "### Range\n",
        "\n",
        "**Range** is the difference between **maximum** and **minimum** values of the dataset."
      ]
    },
    {
      "metadata": {
        "id": "MQlmVZYqXalX",
        "colab_type": "code",
        "colab": {
          "autoexec": {
            "startup": false,
            "wait_interval": 0
          },
          "base_uri": "https://localhost:8080/",
          "height": 34
        },
        "outputId": "fce5cd8c-3151-4684-d645-aef86580b317",
        "executionInfo": {
          "status": "ok",
          "timestamp": 1529409820941,
          "user_tz": -330,
          "elapsed": 1167,
          "user": {
            "displayName": "Praveen Ganeshan",
            "photoUrl": "//lh6.googleusercontent.com/-QmspgRZUp3M/AAAAAAAAAAI/AAAAAAAAAN0/JZIoVZouLiM/s50-c-k-no/photo.jpg",
            "userId": "115281149458293297578"
          }
        }
      },
      "cell_type": "code",
      "source": [
        "import numpy as np\n",
        "\n",
        "s1 = np.array([86, 47, 45, 47, 40])\n",
        "\n",
        "print(np.ptp(s1))"
      ],
      "execution_count": 122,
      "outputs": [
        {
          "output_type": "stream",
          "text": [
            "46\n"
          ],
          "name": "stdout"
        }
      ]
    },
    {
      "metadata": {
        "id": "eKgQSoHln-Tn",
        "colab_type": "text"
      },
      "cell_type": "markdown",
      "source": [
        "### Percentile\n",
        "\n",
        "**Percentile** refers to a value, below which **lies given the percentage** of data points.\n",
        "\n",
        "E.g., **45th** percentile refers to a value below which **45%** of data points are found.\n",
        "\n",
        "**percentile** function of **numpy** can be used to compute a **single** or **multiple** percentiles."
      ]
    },
    {
      "metadata": {
        "id": "Z5Oe9XxroU7Y",
        "colab_type": "code",
        "colab": {
          "autoexec": {
            "startup": false,
            "wait_interval": 0
          },
          "base_uri": "https://localhost:8080/",
          "height": 34
        },
        "outputId": "a8dfd8f2-e4fb-472b-edc8-a382fc9f6df8",
        "executionInfo": {
          "status": "ok",
          "timestamp": 1529409822059,
          "user_tz": -330,
          "elapsed": 971,
          "user": {
            "displayName": "Praveen Ganeshan",
            "photoUrl": "//lh6.googleusercontent.com/-QmspgRZUp3M/AAAAAAAAAAI/AAAAAAAAAN0/JZIoVZouLiM/s50-c-k-no/photo.jpg",
            "userId": "115281149458293297578"
          }
        }
      },
      "cell_type": "code",
      "source": [
        "import numpy as np\n",
        "\n",
        "s2 = np.array([86, 47, 45, 47, 40, 97, 98, 75, 65, 83])\n",
        "\n",
        "print(np.percentile(s2, 45, interpolation='lower'))"
      ],
      "execution_count": 123,
      "outputs": [
        {
          "output_type": "stream",
          "text": [
            "65\n"
          ],
          "name": "stdout"
        }
      ]
    },
    {
      "metadata": {
        "id": "s7m2v-IPpnlZ",
        "colab_type": "text"
      },
      "cell_type": "markdown",
      "source": [
        "### Quartiles\n",
        "\n",
        "Three **Quartiles** namely, **Q1** **Q2** and **Q3**, split the entire dataset into **four equal parts**.\n",
        "\n",
        "**Each part **contains **25%** of data."
      ]
    },
    {
      "metadata": {
        "id": "lB1NAdjfp-wx",
        "colab_type": "code",
        "colab": {
          "autoexec": {
            "startup": false,
            "wait_interval": 0
          },
          "base_uri": "https://localhost:8080/",
          "height": 34
        },
        "outputId": "2dc719ee-e18f-402c-b7ce-6d52380084aa",
        "executionInfo": {
          "status": "ok",
          "timestamp": 1529409823423,
          "user_tz": -330,
          "elapsed": 832,
          "user": {
            "displayName": "Praveen Ganeshan",
            "photoUrl": "//lh6.googleusercontent.com/-QmspgRZUp3M/AAAAAAAAAAI/AAAAAAAAAN0/JZIoVZouLiM/s50-c-k-no/photo.jpg",
            "userId": "115281149458293297578"
          }
        }
      },
      "cell_type": "code",
      "source": [
        "import numpy as np\n",
        "\n",
        "s2 = np.array([86, 47, 45, 47, 40, 97, 98, 75, 65, 83])\n",
        "\n",
        "print(np.percentile(s2, [25, 50, 75], interpolation='lower'))"
      ],
      "execution_count": 124,
      "outputs": [
        {
          "output_type": "stream",
          "text": [
            "[47 65 83]\n"
          ],
          "name": "stdout"
        }
      ]
    },
    {
      "metadata": {
        "id": "TUayjoO4qHsh",
        "colab_type": "text"
      },
      "cell_type": "markdown",
      "source": [
        "### Inter Quartile Range (IQR)\n",
        "\n",
        "**Inter quartile range **refers to difference between **third quartile (Q3)** and **first quartile (Q1).**\n",
        "\n",
        "**iqr** method from **scipy.stats** can be used for calculating it.\n"
      ]
    },
    {
      "metadata": {
        "id": "DfWQCP0vqfeA",
        "colab_type": "code",
        "colab": {
          "autoexec": {
            "startup": false,
            "wait_interval": 0
          },
          "base_uri": "https://localhost:8080/",
          "height": 34
        },
        "outputId": "bcf86016-c64b-4c74-df5c-1058948e6a5f",
        "executionInfo": {
          "status": "ok",
          "timestamp": 1529409824783,
          "user_tz": -330,
          "elapsed": 1297,
          "user": {
            "displayName": "Praveen Ganeshan",
            "photoUrl": "//lh6.googleusercontent.com/-QmspgRZUp3M/AAAAAAAAAAI/AAAAAAAAAN0/JZIoVZouLiM/s50-c-k-no/photo.jpg",
            "userId": "115281149458293297578"
          }
        }
      },
      "cell_type": "code",
      "source": [
        "import numpy as np\n",
        "from scipy import stats\n",
        "\n",
        "s2 = np.array([86, 47, 45, 47, 40, 97, 98, 75, 65, 83])\n",
        "\n",
        "print(stats.iqr(s2, rng=(25, 75), interpolation='lower'))"
      ],
      "execution_count": 125,
      "outputs": [
        {
          "output_type": "stream",
          "text": [
            "36\n"
          ],
          "name": "stdout"
        }
      ]
    },
    {
      "metadata": {
        "id": "TB0r8dcKq6OR",
        "colab_type": "text"
      },
      "cell_type": "markdown",
      "source": [
        "## Variance and Standard Deviation"
      ]
    },
    {
      "metadata": {
        "id": "duP5T2DJq9fW",
        "colab_type": "text"
      },
      "cell_type": "markdown",
      "source": [
        "### Variance\n",
        "\n",
        "**Variance** is defined as the **average of squared differences**, of each data point from dataset's mean."
      ]
    },
    {
      "metadata": {
        "id": "MHRL9hlvrFYt",
        "colab_type": "text"
      },
      "cell_type": "markdown",
      "source": [
        "### Standard Deviation\n",
        "\n",
        "**Standard Deviation** is **square root** of **variance**.\n",
        "\n",
        "**var** and **std** functions of **numpy** can be used for computing **variance** and **standard deviation** respectively.\n",
        "\n",
        "By default, the functions assume that the dataset represents entire population.\n",
        "\n",
        "To represent a sample, derived from a population, **ddof** parameter is set to 1."
      ]
    },
    {
      "metadata": {
        "id": "g5vDHQ-NrbRY",
        "colab_type": "code",
        "colab": {
          "autoexec": {
            "startup": false,
            "wait_interval": 0
          },
          "base_uri": "https://localhost:8080/",
          "height": 85
        },
        "outputId": "23f4fc34-8b14-435d-da3c-ee6eeaf3ffa4",
        "executionInfo": {
          "status": "ok",
          "timestamp": 1529409826336,
          "user_tz": -330,
          "elapsed": 1278,
          "user": {
            "displayName": "Praveen Ganeshan",
            "photoUrl": "//lh6.googleusercontent.com/-QmspgRZUp3M/AAAAAAAAAAI/AAAAAAAAAN0/JZIoVZouLiM/s50-c-k-no/photo.jpg",
            "userId": "115281149458293297578"
          }
        }
      },
      "cell_type": "code",
      "source": [
        "import numpy as np\n",
        "\n",
        "s2 = np.array([86, 47, 45, 47, 40, 97, 98, 75, 65, 83])\n",
        "\n",
        "\n",
        "print(np.var(s2))\n",
        "print(np.std(s2))\n",
        "\n",
        "# s2 representing a population's sample\n",
        "print(np.var(s2, ddof=1))\n",
        "print(np.std(s2, ddof=1))"
      ],
      "execution_count": 126,
      "outputs": [
        {
          "output_type": "stream",
          "text": [
            "454.21000000000004\n",
            "21.312203077110542\n",
            "504.6777777777778\n",
            "22.46503455990615\n"
          ],
          "name": "stdout"
        }
      ]
    },
    {
      "metadata": {
        "id": "L5rJvFljrj1e",
        "colab_type": "text"
      },
      "cell_type": "markdown",
      "source": [
        "## Skewness\n",
        "\n",
        "**skewness** determines whether the majority of data points are present on **one side of the distribution**.\n",
        "\n",
        "A **positive** value represents right **skewed distribution**; a **negative** value represents **left skewed one**, **zero** represent **unskewed distribution**."
      ]
    },
    {
      "metadata": {
        "id": "KfczYa4arxaI",
        "colab_type": "code",
        "colab": {
          "autoexec": {
            "startup": false,
            "wait_interval": 0
          },
          "base_uri": "https://localhost:8080/",
          "height": 34
        },
        "outputId": "3a3057de-3549-44e1-fadf-b8da0b6fe3f7",
        "executionInfo": {
          "status": "ok",
          "timestamp": 1529409827184,
          "user_tz": -330,
          "elapsed": 763,
          "user": {
            "displayName": "Praveen Ganeshan",
            "photoUrl": "//lh6.googleusercontent.com/-QmspgRZUp3M/AAAAAAAAAAI/AAAAAAAAAN0/JZIoVZouLiM/s50-c-k-no/photo.jpg",
            "userId": "115281149458293297578"
          }
        }
      },
      "cell_type": "code",
      "source": [
        "import numpy as np\n",
        "from scipy import stats\n",
        "\n",
        "s2 = np.array([86, 47, 45, 47, 40, 97, 98, 75, 65, 83])\n",
        "\n",
        "print(stats.skew(s2))"
      ],
      "execution_count": 127,
      "outputs": [
        {
          "output_type": "stream",
          "text": [
            "0.04321019390325423\n"
          ],
          "name": "stdout"
        }
      ]
    },
    {
      "metadata": {
        "id": "_ekz_Yzbr3YW",
        "colab_type": "text"
      },
      "cell_type": "markdown",
      "source": [
        "## Kurtosis\n",
        "\n",
        "**Kurtosis** indicates how much of data is **concentrated** around **mean** or **shape** of the **probability distribution**.\n",
        "\n",
        "It can be **estimated** using **kurtosis** function of **scipy.stats** module.\n",
        "\n",
        "By default, it uses **Fisher**’s definition. This can be changed to **Pearson** by setting **fisher parameter** to **False**."
      ]
    },
    {
      "metadata": {
        "id": "itpULMyPsOCk",
        "colab_type": "code",
        "colab": {
          "autoexec": {
            "startup": false,
            "wait_interval": 0
          },
          "base_uri": "https://localhost:8080/",
          "height": 34
        },
        "outputId": "bc9db5a9-afcb-4454-f937-6cdd79523f44",
        "executionInfo": {
          "status": "ok",
          "timestamp": 1529409828354,
          "user_tz": -330,
          "elapsed": 777,
          "user": {
            "displayName": "Praveen Ganeshan",
            "photoUrl": "//lh6.googleusercontent.com/-QmspgRZUp3M/AAAAAAAAAAI/AAAAAAAAAN0/JZIoVZouLiM/s50-c-k-no/photo.jpg",
            "userId": "115281149458293297578"
          }
        }
      },
      "cell_type": "code",
      "source": [
        "import numpy as np\n",
        "from scipy import stats\n",
        "\n",
        "s2 = np.array([86, 47, 45, 47, 40, 97, 98, 75, 65, 83])\n",
        "\n",
        "print(stats.kurtosis(s2))"
      ],
      "execution_count": 128,
      "outputs": [
        {
          "output_type": "stream",
          "text": [
            "-1.5694354898634155\n"
          ],
          "name": "stdout"
        }
      ]
    },
    {
      "metadata": {
        "id": "Ni0wKbZrf1iE",
        "colab_type": "text"
      },
      "cell_type": "markdown",
      "source": [
        "## HandsOn\n",
        "\n",
        "Compute the following statistical parameters, and display in separate lines, for the sample data set s = [26, 15, 8, 44, 26, 13, 38, 24, 17, 29].\n",
        "\n",
        "Mean,\n",
        "\n",
        "Median,\n",
        "\n",
        "Mode,\n",
        "\n",
        "25th and 75th percentile,\n",
        "\n",
        "Inter quartile range,\n",
        "\n",
        "Skewness,\n",
        "\n",
        "Kurtosis.\n",
        "\n",
        "***Hint***: Import **stats** from **scipy** and Set **interpolation parameter value** to **lower** for computing** inter quartile range**."
      ]
    },
    {
      "metadata": {
        "id": "69gT9SAfgXP2",
        "colab_type": "code",
        "colab": {
          "autoexec": {
            "startup": false,
            "wait_interval": 0
          },
          "base_uri": "https://localhost:8080/",
          "height": 136
        },
        "outputId": "40c96a3f-6233-43c8-cb50-5f1ff628d29e",
        "executionInfo": {
          "status": "ok",
          "timestamp": 1529409829195,
          "user_tz": -330,
          "elapsed": 786,
          "user": {
            "displayName": "Praveen Ganeshan",
            "photoUrl": "//lh6.googleusercontent.com/-QmspgRZUp3M/AAAAAAAAAAI/AAAAAAAAAN0/JZIoVZouLiM/s50-c-k-no/photo.jpg",
            "userId": "115281149458293297578"
          }
        }
      },
      "cell_type": "code",
      "source": [
        "import numpy as np\n",
        "from scipy import stats\n",
        "s = np.array([26, 15, 8, 44, 26, 13, 38, 24, 17, 29])\n",
        "print(np.mean(s))\n",
        "print(np.median(s))\n",
        "print(stats.mode(s))\n",
        "print(np.percentile(s,[25,75]))\n",
        "print(stats.iqr(s, rng=(25, 75), interpolation='lower'))\n",
        "print(stats.skew(s))\n",
        "print(stats.kurtosis(s))\n"
      ],
      "execution_count": 129,
      "outputs": [
        {
          "output_type": "stream",
          "text": [
            "24.0\n",
            "25.0\n",
            "ModeResult(mode=array([26]), count=array([2]))\n",
            "[15.5  28.25]\n",
            "11\n",
            "0.3622439411783622\n",
            "-0.7666571612775241\n"
          ],
          "name": "stdout"
        }
      ]
    },
    {
      "metadata": {
        "id": "ivIYZPCROKEk",
        "colab_type": "text"
      },
      "cell_type": "markdown",
      "source": [
        "# Random Numbers\n",
        "\n",
        "A **random number** is a number, **chosen by chance** from a distribution.\n",
        "\n",
        "Python provides a lot of modules, which deal with random numbers.\n",
        "\n",
        "\n",
        "*   **random** module of python standard library.\n",
        "*   **random** module of **Numpy**\n",
        "*   **stats** module of **Scipy**\n",
        "\n",
        "\n",
        "\n"
      ]
    },
    {
      "metadata": {
        "id": "efulYQt0Olau",
        "colab_type": "text"
      },
      "cell_type": "markdown",
      "source": [
        "## Numpy's Random Module\n",
        "\n",
        "\n",
        "*   **random** module of **numpy** has utilities, which generate arrays of random numbers.\n",
        "*   E.g.: **rand** function generates uniformly distributed numbers from **range [0, 1]**\n",
        "*   **rand** function with no arguments generate a **single** random value.\n",
        "*   By passing arguments, it generates a random array of **specified size**.\n",
        "\n",
        "\n",
        "\n"
      ]
    },
    {
      "metadata": {
        "id": "eM4ibxRSO86r",
        "colab_type": "code",
        "colab": {
          "autoexec": {
            "startup": false,
            "wait_interval": 0
          },
          "base_uri": "https://localhost:8080/",
          "height": 68
        },
        "outputId": "b34fb4ba-131f-49b2-a415-27b9529eb210",
        "executionInfo": {
          "status": "ok",
          "timestamp": 1529409829938,
          "user_tz": -330,
          "elapsed": 650,
          "user": {
            "displayName": "Praveen Ganeshan",
            "photoUrl": "//lh6.googleusercontent.com/-QmspgRZUp3M/AAAAAAAAAAI/AAAAAAAAAN0/JZIoVZouLiM/s50-c-k-no/photo.jpg",
            "userId": "115281149458293297578"
          }
        }
      },
      "cell_type": "code",
      "source": [
        "import numpy as np\n",
        "\n",
        "print(np.random.rand())\n",
        "\n",
        "# generates a 2*3 array\n",
        "print(np.random.rand(2,3))"
      ],
      "execution_count": 130,
      "outputs": [
        {
          "output_type": "stream",
          "text": [
            "0.38637572509456086\n",
            "[[0.6110893  0.52316933 0.3250568 ]\n",
            " [0.92979042 0.84820141 0.84112295]]\n"
          ],
          "name": "stdout"
        }
      ]
    },
    {
      "metadata": {
        "id": "d3XSYzmJPHwF",
        "colab_type": "text"
      },
      "cell_type": "markdown",
      "source": [
        "## Random Sampling\n",
        "\n",
        "In statistics, you select items **randomly** from a **population**, either **with or without** a **replacement**.\n",
        "\n",
        "This can be achieved with **choice** method as shown below. Two items are selected **randomly**, **without replacement**."
      ]
    },
    {
      "metadata": {
        "id": "fBUsVKADPS-D",
        "colab_type": "code",
        "colab": {
          "autoexec": {
            "startup": false,
            "wait_interval": 0
          },
          "base_uri": "https://localhost:8080/",
          "height": 34
        },
        "outputId": "710f43c1-9fac-4fd7-cd96-3d58414fafa1",
        "executionInfo": {
          "status": "ok",
          "timestamp": 1529409831596,
          "user_tz": -330,
          "elapsed": 1549,
          "user": {
            "displayName": "Praveen Ganeshan",
            "photoUrl": "//lh6.googleusercontent.com/-QmspgRZUp3M/AAAAAAAAAAI/AAAAAAAAAN0/JZIoVZouLiM/s50-c-k-no/photo.jpg",
            "userId": "115281149458293297578"
          }
        }
      },
      "cell_type": "code",
      "source": [
        "import numpy as np\n",
        "\n",
        "print(np.random.choice([11, 22, 33], 2, replace=False))"
      ],
      "execution_count": 131,
      "outputs": [
        {
          "output_type": "stream",
          "text": [
            "[11 33]\n"
          ],
          "name": "stdout"
        }
      ]
    },
    {
      "metadata": {
        "id": "VotbLrJQPjft",
        "colab_type": "text"
      },
      "cell_type": "markdown",
      "source": [
        "## Random Seeding\n",
        "\n",
        "**Seed** is an important concept when it comes to **reproducibility**. If you are working with random numbers and you would want to peers to validate your results, i.e., they should also get the **same random sequence** as you did, you can set the seed to a particular value and send the **seed value** to your **peers**.\n",
        "\n",
        "\n",
        "\n",
        "*   **seed** is a number that sets the initial state of random number generator.\n",
        "*   Setting a seed, helps in generating the** same sequence** of random numbers, **repeatedly**.\n",
        "*   **seed** method of a random module can be used to set a seed as shown in below example.\n",
        "\n",
        "\n",
        "\n"
      ]
    },
    {
      "metadata": {
        "id": "tm6qCa0AQCtT",
        "colab_type": "code",
        "colab": {
          "autoexec": {
            "startup": false,
            "wait_interval": 0
          },
          "base_uri": "https://localhost:8080/",
          "height": 51
        },
        "outputId": "0d88df5f-6e38-4b4d-f218-5472341cf106",
        "executionInfo": {
          "status": "ok",
          "timestamp": 1529409832450,
          "user_tz": -330,
          "elapsed": 760,
          "user": {
            "displayName": "Praveen Ganeshan",
            "photoUrl": "//lh6.googleusercontent.com/-QmspgRZUp3M/AAAAAAAAAAI/AAAAAAAAAN0/JZIoVZouLiM/s50-c-k-no/photo.jpg",
            "userId": "115281149458293297578"
          }
        }
      },
      "cell_type": "code",
      "source": [
        "import numpy as np\n",
        "\n",
        "np.random.seed(100)\n",
        "print(np.random.rand())\n",
        "\n",
        "np.random.seed(100)\n",
        "print(np.random.rand())"
      ],
      "execution_count": 132,
      "outputs": [
        {
          "output_type": "stream",
          "text": [
            "0.5434049417909654\n",
            "0.5434049417909654\n"
          ],
          "name": "stdout"
        }
      ]
    },
    {
      "metadata": {
        "id": "Fn_-TnNfQHJ5",
        "colab_type": "text"
      },
      "cell_type": "markdown",
      "source": [
        "## Random Variables\n",
        "\n",
        "\n",
        "\n",
        "*   In probability theory, the **set of all possible **outcomes of a** random experiment **is known as **sample space**.\n",
        "*   Probabilities of all outcomes of the experiment define the probability distribution.\n",
        "*   A **random variable** is a variable that takes **real numbers or integers** and map each value to one of the outcomes of sample space.\n",
        "*   E.g.: In an experiment of tossing a coin, the sample space is **{'Head', 'Tail'}** and a possible random variable takes the value **0 for head** and **1 for the tail**.\n",
        "\n"
      ]
    },
    {
      "metadata": {
        "id": "4gTnBoFZQni2",
        "colab_type": "text"
      },
      "cell_type": "markdown",
      "source": [
        "## Probability Distributions\n",
        "\n",
        "\n",
        "*   There are **two** types of probability distributions namely **discrete** and **continuous** that take **integer and real values**, respectively.\n",
        "*   **scipy.stats** module provides classes that represent random variables, corresponding to a large number of probability distributions.\n",
        "*   E.g: the class **norm** represent normal **continuous** random variable, and **binom** represent binomial **discrete** random variable.\n",
        "\n",
        "\n",
        "\n"
      ]
    },
    {
      "metadata": {
        "id": "II68b5uWQ9AC",
        "colab_type": "text"
      },
      "cell_type": "markdown",
      "source": [
        "## Random Distributions\n",
        "\n",
        "**scipy.stats** module provide a lot of methods for created **discrete** and **continuous** random variables.\n",
        "\n",
        "Commonly used methods are described below.\n",
        "\n",
        "\n",
        "*   **pdf / pmf** : Probability distribution function (continuous) or probability mass function (discrete).\n",
        "*   **cdf** : Cumulative distribution function.\n",
        "*   **sf** : Survival function (1 – cdf).\n",
        "*   **rvs** : Creating random samples from a distribution.\n",
        "\n",
        "The following example defines a normal continuous random variable of **mean 1.0** and **std 2.5**.\n",
        "\n",
        "It also **estimates probabilities** and **cumulative probabilities** at **-1, 0 and 1**.\n",
        "\n",
        "The example also generates **six** random numbers from defined normal distribution.\n",
        "\n"
      ]
    },
    {
      "metadata": {
        "id": "E3aFe196RyLO",
        "colab_type": "code",
        "colab": {
          "autoexec": {
            "startup": false,
            "wait_interval": 0
          },
          "base_uri": "https://localhost:8080/",
          "height": 85
        },
        "outputId": "e063ce91-e403-4215-9109-de434840552f",
        "executionInfo": {
          "status": "ok",
          "timestamp": 1529409833319,
          "user_tz": -330,
          "elapsed": 785,
          "user": {
            "displayName": "Praveen Ganeshan",
            "photoUrl": "//lh6.googleusercontent.com/-QmspgRZUp3M/AAAAAAAAAAI/AAAAAAAAAN0/JZIoVZouLiM/s50-c-k-no/photo.jpg",
            "userId": "115281149458293297578"
          }
        }
      },
      "cell_type": "code",
      "source": [
        "from scipy import stats\n",
        "\n",
        "x = stats.norm(loc=1.0, scale=2.5)\n",
        "\n",
        "print(x.pdf([-1, 0, 1]))\n",
        "\n",
        "print(x.cdf([-1, 0, 1]))\n",
        "\n",
        "print(x.rvs((2,3)))"
      ],
      "execution_count": 133,
      "outputs": [
        {
          "output_type": "stream",
          "text": [
            "[0.11587662 0.14730806 0.15957691]\n",
            "[0.2118554  0.34457826 0.5       ]\n",
            "[[-0.40409689 -3.12269376  1.88668613]\n",
            " [-0.96516083  0.42031951  1.5199392 ]]\n"
          ],
          "name": "stdout"
        }
      ]
    },
    {
      "metadata": {
        "id": "es8a5TjkbDiw",
        "colab_type": "text"
      },
      "cell_type": "markdown",
      "source": [
        "## HandsOn\n",
        "\n",
        "Create a normal distribution with **mean 32** and **standard deviation 4.5**.\n",
        "\n",
        "Set the random **seed** to **1**.\n",
        "\n",
        "Create a random sample of **100** elements, from defined distribution.\n",
        "\n",
        "Compute the absolute difference between the sample **mean**, and the distribution **mean**.\n",
        "\n",
        "***Hint***: Use functions available in **numpy** and **scipy**."
      ]
    },
    {
      "metadata": {
        "id": "ddwYoQF_bRNu",
        "colab_type": "code",
        "colab": {
          "autoexec": {
            "startup": false,
            "wait_interval": 0
          },
          "base_uri": "https://localhost:8080/",
          "height": 34
        },
        "outputId": "17eceaa2-d248-42ac-c6d4-1e0ee86a7a16",
        "executionInfo": {
          "status": "ok",
          "timestamp": 1529409834130,
          "user_tz": -330,
          "elapsed": 737,
          "user": {
            "displayName": "Praveen Ganeshan",
            "photoUrl": "//lh6.googleusercontent.com/-QmspgRZUp3M/AAAAAAAAAAI/AAAAAAAAAN0/JZIoVZouLiM/s50-c-k-no/photo.jpg",
            "userId": "115281149458293297578"
          }
        }
      },
      "cell_type": "code",
      "source": [
        "import numpy as np\n",
        "\n",
        "from scipy import stats\n",
        "\n",
        "np.random.seed(1)\n",
        "\n",
        "x = stats.norm(loc=32.0, scale=4.5)\n",
        "\n",
        "sample=x.rvs(100)\n",
        "\n",
        "print(sample.mean()-x.mean())"
      ],
      "execution_count": 134,
      "outputs": [
        {
          "output_type": "stream",
          "text": [
            "0.2726228343406518\n"
          ],
          "name": "stdout"
        }
      ]
    },
    {
      "metadata": {
        "id": "yOcvVBBIeFXG",
        "colab_type": "text"
      },
      "cell_type": "markdown",
      "source": [
        "Simulate a random experiment of tossing a coin **10000** times and determine the **count of Heads**.\n",
        "\n",
        "***Hint***: Define a binomial distribution with **n = 1** and **p = 0.5**.\n",
        "\n",
        "Use **binom** function from **scipy.stats**.\n",
        "\n",
        "Set the random **seed** to **1**.\n",
        "\n",
        "Draw a sample of **10000** elements from defined distribution. Assume the values **0** and **1** represent **Heads** and **Tails** respectively.\n",
        "\n",
        "Count the **number of heads** and **display it**. Make used of '**bincount**' method, available in '**numpy**'."
      ]
    },
    {
      "metadata": {
        "id": "d7u0ZqV7ecdj",
        "colab_type": "code",
        "colab": {
          "autoexec": {
            "startup": false,
            "wait_interval": 0
          },
          "base_uri": "https://localhost:8080/",
          "height": 34
        },
        "outputId": "28ca67e2-a2df-4f61-d30b-852975d3b2e6",
        "executionInfo": {
          "status": "ok",
          "timestamp": 1529409834946,
          "user_tz": -330,
          "elapsed": 757,
          "user": {
            "displayName": "Praveen Ganeshan",
            "photoUrl": "//lh6.googleusercontent.com/-QmspgRZUp3M/AAAAAAAAAAI/AAAAAAAAAN0/JZIoVZouLiM/s50-c-k-no/photo.jpg",
            "userId": "115281149458293297578"
          }
        }
      },
      "cell_type": "code",
      "source": [
        "import numpy as np\n",
        "\n",
        "from scipy import stats\n",
        "\n",
        "np.random.seed(1)\n",
        "\n",
        "x = stats.binom(n=1,p=0.5)\n",
        "\n",
        "sample=x.rvs(10000)\n",
        "\n",
        "print(np.bincount(sample)[0])"
      ],
      "execution_count": 135,
      "outputs": [
        {
          "output_type": "stream",
          "text": [
            "4990\n"
          ],
          "name": "stdout"
        }
      ]
    },
    {
      "metadata": {
        "id": "AtXnOT1ch8QQ",
        "colab_type": "text"
      },
      "cell_type": "markdown",
      "source": [
        "# Hypothesis Testing Using scipy"
      ]
    },
    {
      "metadata": {
        "id": "4cp6wiQ1iCMA",
        "colab_type": "text"
      },
      "cell_type": "markdown",
      "source": [
        "## Hypothesis Testing\n",
        "\n",
        "**Hypothesis Testing** is a methodology for evaluating if a **claim** is **acceptable** or **not**, based on data.\n",
        "\n",
        "In a Hypothesis Testing, a **Null Hypothesis (Ho)** represents currently **accepted** the **state of knowledge**, and an **Alternative Hypothesis (Ha)** represents a new claim which **challenges** the currently** accepted state of knowledge**.\n",
        "\n",
        "The **null hypothesis** and the **alternative hypothesis** are **mutually exclusive**."
      ]
    },
    {
      "metadata": {
        "id": "E9V8NDC4pq8r",
        "colab_type": "text"
      },
      "cell_type": "markdown",
      "source": [
        "## Steps Involved in Hypothesis Testing\n",
        "\n",
        "The following steps are involved in a Hypothesis Testing:\n",
        "\n",
        "\n",
        "*   Define the null hypothesis and the alternative hypothesis.\n",
        "*   Select a test statistics whose probability distribution function can be found under the null hypothesis.\n",
        "*   Collect data.\n",
        "*   Compute the test statistics from the data and calculate its p-value under the null hypothesis.\n",
        "*   Null hypothesis is rejected if the p-value is lower than predetermined significance value.\n"
      ]
    },
    {
      "metadata": {
        "id": "J9LtgeuCqDHs",
        "colab_type": "text"
      },
      "cell_type": "markdown",
      "source": [
        "## Choosing Test Statistics\n",
        "\n",
        "In hypothesis testing, selecting a test statistics is the most difficult part.\n",
        "\n",
        "The methods used for performing t-test are shown below.\n",
        "\n",
        "*   **stats.ttest_1samp**: Tests if the mean of a population is a given value.\n",
        "*   **stats.ttest_ind**: Tests if the means of two independent samples are equal.\n",
        "*   **stats.ttest_rel**: Tests if the means of two paired samples are equal.\n"
      ]
    },
    {
      "metadata": {
        "id": "e1-YKuZNqYuW",
        "colab_type": "text"
      },
      "cell_type": "markdown",
      "source": [
        "### Example 1\n",
        "\n",
        "\n",
        "\n",
        "*   Let's consider a common hypothesis: Mean of a population is equal to certain value.\n",
        "*   In reality, we estimate mean and variance of a sample and calculate the test statistic.\n",
        "*   If population variance is identified, then it is reasonable to consider that test statistic is normally distributed.\n",
        "*   If population variance is unknown, sample variance is used, and test statistic follows t distribution.\n"
      ]
    },
    {
      "metadata": {
        "id": "XTVeSulQzmCX",
        "colab_type": "text"
      },
      "cell_type": "markdown",
      "source": [
        "Consider a normal population with **mean 0.8** and **standard deviation 0.5.**\n",
        "\n",
        "Define the **null hypothesis** as **Mean** of the population is **1.0**.\n",
        "\n",
        "Let's calculate t-statistic and p-value"
      ]
    },
    {
      "metadata": {
        "id": "dYw8GNoVqtRC",
        "colab_type": "code",
        "colab": {
          "autoexec": {
            "startup": false,
            "wait_interval": 0
          },
          "base_uri": "https://localhost:8080/",
          "height": 34
        },
        "outputId": "1a04aafb-1d29-4e04-ff46-49d9fca3792b",
        "executionInfo": {
          "status": "ok",
          "timestamp": 1529409835817,
          "user_tz": -330,
          "elapsed": 764,
          "user": {
            "displayName": "Praveen Ganeshan",
            "photoUrl": "//lh6.googleusercontent.com/-QmspgRZUp3M/AAAAAAAAAAI/AAAAAAAAAN0/JZIoVZouLiM/s50-c-k-no/photo.jpg",
            "userId": "115281149458293297578"
          }
        }
      },
      "cell_type": "code",
      "source": [
        "from scipy import stats\n",
        "import numpy as np\n",
        "\n",
        "np.random.seed(1)\n",
        "mu, sigma = 0.8, 0.5\n",
        "X = stats.norm(mu, sigma)\n",
        "\n",
        "# Deriving a sample\n",
        "n = 100\n",
        "X_sample = X.rvs(n)\n",
        "\n",
        "# Computing test statistic\n",
        "t, p = stats.ttest_1samp(X_sample, 1.0)\n",
        "print(t, p)"
      ],
      "execution_count": 136,
      "outputs": [
        {
          "output_type": "stream",
          "text": [
            "-3.81532426532222 0.00023686273495632666\n"
          ],
          "name": "stdout"
        }
      ]
    },
    {
      "metadata": {
        "id": "p-xMPoLR008g",
        "colab_type": "text"
      },
      "cell_type": "markdown",
      "source": [
        "In previous example, the obtained **t-statistic** value is **-3.81** and **p-value** is **0.00023686**.\n",
        "\n",
        "Since **p-value** is very **low** and less than the significance level **0.05**, you can **reject** the null hypothesis and infer that the mean of the population is **not 1**."
      ]
    },
    {
      "metadata": {
        "id": "GcHyta1X1MBG",
        "colab_type": "text"
      },
      "cell_type": "markdown",
      "source": [
        "### Example 2\n",
        "\n",
        "Let's consider another problem, where the **null hypothesis** states that the population means of **two random variables are equal**.\n",
        "\n",
        "The below example derives two samples from different populations and verifies the claim that their population means are equal."
      ]
    },
    {
      "metadata": {
        "id": "OjM8dj8h1V0x",
        "colab_type": "code",
        "colab": {
          "autoexec": {
            "startup": false,
            "wait_interval": 0
          },
          "base_uri": "https://localhost:8080/",
          "height": 34
        },
        "outputId": "d256976a-1969-4d8e-ce82-fd975f4e5d85",
        "executionInfo": {
          "status": "ok",
          "timestamp": 1529409836864,
          "user_tz": -330,
          "elapsed": 976,
          "user": {
            "displayName": "Praveen Ganeshan",
            "photoUrl": "//lh6.googleusercontent.com/-QmspgRZUp3M/AAAAAAAAAAI/AAAAAAAAAN0/JZIoVZouLiM/s50-c-k-no/photo.jpg",
            "userId": "115281149458293297578"
          }
        }
      },
      "cell_type": "code",
      "source": [
        "np.random.seed(2)\n",
        "X1 = stats.norm(0.25, 1.0)\n",
        "X2 = stats.norm(0.50, 1.0)\n",
        "\n",
        "X1_sample = X1.rvs(100)\n",
        "X2_sample = X2.rvs(100)\n",
        "\n",
        "t, p = stats.ttest_ind(X1_sample, X2_sample)\n",
        "print(t, p)"
      ],
      "execution_count": 137,
      "outputs": [
        {
          "output_type": "stream",
          "text": [
            "-3.157999488552839 0.0018371853479071398\n"
          ],
          "name": "stdout"
        }
      ]
    },
    {
      "metadata": {
        "id": "0EQGp8iM3WkG",
        "colab_type": "text"
      },
      "cell_type": "markdown",
      "source": [
        "In previous example, the obtained **t-statistic** value is **-3.157** and **p-value** is **0.0018**.\n",
        "\n",
        "Since **p-value** is very low and less than the significance level **0.05**, you can **reject** the null hypothesis and state that population means of both **samples differ**."
      ]
    },
    {
      "metadata": {
        "id": "e6aEqEWceGs4",
        "colab_type": "text"
      },
      "cell_type": "markdown",
      "source": [
        "## HandsOn\n",
        "\n",
        "Consider the two independent samples s1 and s2 given below.\n",
        "\n",
        "s1 = [45, 38, 52, 48, 25, 39, 51, 46, 55, 46]\n",
        "\n",
        "s2 = [34, 22, 15, 27, 37, 41, 24, 19, 26, 36]\n",
        "\n",
        "The samples represent **life satisfaction score**, computed through a **methodology**, of **older adults and younger adults** respectively.\n",
        "\n",
        "Compute **t-statistic** for the above **two groups** and **display the t-score and the p value** in separate lines.\n",
        "\n",
        "***Hint***: Use **ttest_ind** function available in **scipy**"
      ]
    },
    {
      "metadata": {
        "id": "kqWra8kl4Aui",
        "colab_type": "code",
        "colab": {
          "autoexec": {
            "startup": false,
            "wait_interval": 0
          },
          "base_uri": "https://localhost:8080/",
          "height": 51
        },
        "outputId": "f7bbf8e7-64be-4e12-9394-64ed88de1d97",
        "executionInfo": {
          "status": "ok",
          "timestamp": 1529409837688,
          "user_tz": -330,
          "elapsed": 744,
          "user": {
            "displayName": "Praveen Ganeshan",
            "photoUrl": "//lh6.googleusercontent.com/-QmspgRZUp3M/AAAAAAAAAAI/AAAAAAAAAN0/JZIoVZouLiM/s50-c-k-no/photo.jpg",
            "userId": "115281149458293297578"
          }
        }
      },
      "cell_type": "code",
      "source": [
        "import numpy as np\n",
        "from scipy import stats\n",
        "s1 = np.array([45, 38, 52, 48, 25, 39, 51, 46, 55, 46])\n",
        "s2 = np.array([34, 22, 15, 27, 37, 41, 24, 19, 26, 36])\n",
        "t,p=stats.ttest_ind(s1,s2)\n",
        "print(t)\n",
        "print(p)"
      ],
      "execution_count": 138,
      "outputs": [
        {
          "output_type": "stream",
          "text": [
            "4.257546665558161\n",
            "0.0004736633119019225\n"
          ],
          "name": "stdout"
        }
      ]
    },
    {
      "metadata": {
        "id": "fSZB2Tktfm1D",
        "colab_type": "text"
      },
      "cell_type": "markdown",
      "source": [
        "A researcher noted the number of chocolate chips consumed by 10 rats, with and without electrical stimulation.\n",
        "\n",
        "The data sets s1 represents consumption with stimulation and s2 without simulation.\n",
        "\n",
        "s1 = [12, 7, 3, 11, 8, 5, 14, 7, 9, 10]\n",
        "\n",
        "s2 = [8, 7, 4, 14, 6, 7, 12, 5, 5, 8]\n",
        "\n",
        "Compute** t-statistic** for above considered two samples and **display** the **t-score and p-value** in separate lines\n",
        "\n",
        "***Hint*** : Use **ttest_rel** function available in **scipy**"
      ]
    },
    {
      "metadata": {
        "id": "vAXwdKt0fxlB",
        "colab_type": "code",
        "colab": {
          "autoexec": {
            "startup": false,
            "wait_interval": 0
          },
          "base_uri": "https://localhost:8080/",
          "height": 51
        },
        "outputId": "fbb2aeb7-a597-4de3-e15d-95b91a1896f6",
        "executionInfo": {
          "status": "ok",
          "timestamp": 1529409838528,
          "user_tz": -330,
          "elapsed": 770,
          "user": {
            "displayName": "Praveen Ganeshan",
            "photoUrl": "//lh6.googleusercontent.com/-QmspgRZUp3M/AAAAAAAAAAI/AAAAAAAAAN0/JZIoVZouLiM/s50-c-k-no/photo.jpg",
            "userId": "115281149458293297578"
          }
        }
      },
      "cell_type": "code",
      "source": [
        "import numpy as np\n",
        "from scipy import stats\n",
        "s1 = np.array([12, 7, 3, 11, 8, 5, 14, 7, 9, 10])\n",
        "s2 = np.array([8, 7, 4, 14, 6, 7, 12, 5, 5, 8])\n",
        "t,p=stats.ttest_rel(s1,s2)\n",
        "print(t)\n",
        "print(p)"
      ],
      "execution_count": 139,
      "outputs": [
        {
          "output_type": "stream",
          "text": [
            "1.315587028960544\n",
            "0.2208380130273219\n"
          ],
          "name": "stdout"
        }
      ]
    },
    {
      "metadata": {
        "id": "XIl5DwVY4-tG",
        "colab_type": "text"
      },
      "cell_type": "markdown",
      "source": [
        "# Introduction to Statistical Modelling"
      ]
    },
    {
      "metadata": {
        "id": "TlxPTWIJ5Boy",
        "colab_type": "text"
      },
      "cell_type": "markdown",
      "source": [
        "## Statistical Model\n",
        "\n",
        "A **Statistical Model **is a mathematical equation, which explains the relationship between** dependent variables** (Y) and** independent variables** (X).\n",
        "\n",
        "In general, a model is written as\n",
        "\n",
        "**Y = f(X)**\n",
        "\n",
        "However, in reality, an element of **uncertainty** is expected **due** to factors such as measurement **noise**. Hence the aforementioned equation can be rewritten as\n",
        "\n",
        "**Y = f(X) + e**   '**e**' is residual error\n",
        "\n",
        "\n",
        "\n",
        "*   Statistical Modelling deals with creating models that attempt to explain the data best.\n",
        "*   The simplest model is a linear model represented as  **Y = B0 + B1*X + e**,  where the coefficients, **B0** and **B1** are the parameters of the model and **e** is normally distributed residual error.\n",
        "*   A linear regression model assumes that residuals are independent and normally distributed.\n",
        "*   The model is fitted to data using ordinary least squares approach.\n",
        "\n"
      ]
    },
    {
      "metadata": {
        "id": "JZfeM5Za5mMc",
        "colab_type": "text"
      },
      "cell_type": "markdown",
      "source": [
        "## Linear Models\n",
        "\n",
        "In most of the linear regression models, a dependent variable Y is written as :\n",
        "\n",
        "*   a linear combination of the response variables X i.e  **Y = B0 + B1*X1 + ... + Bn*Xn**, or\n",
        "*   functions of the response variables i.e  **Y = B0 + B1*X + B2*x^2 + ... + Bn*X^n**, or\n",
        "*   models that have a linear component i.e  **Y = B0 + B1*sin(X1) + B2*cos(X2)**\n",
        "\n",
        "\n"
      ]
    },
    {
      "metadata": {
        "id": "Qqcbtw1--4jI",
        "colab_type": "text"
      },
      "cell_type": "markdown",
      "source": [
        "## Non-Linear Models\n",
        "\n",
        "*   Other than linear regression models, statistical modeling can be used to build non-linear models.\n",
        "*   Errors of dependent variable follow a distribution other than normal distribution.\n",
        "*   Examples of non-linear models are: **Binomial Regression and Poisson Regression.**\n",
        "*   In most of the cases, the non-linear models are generalized to linear models.\n",
        "\n"
      ]
    },
    {
      "metadata": {
        "id": "Mm4lcu7V_Xx2",
        "colab_type": "text"
      },
      "cell_type": "markdown",
      "source": [
        "## Design Matrices\n",
        "\n",
        "\n",
        "*   In reality, you choose a model and fit the available data to it.\n",
        "*   Once a model is chosen, design matrices **y** and **X** are constructed, and the regression problem is written, in matrix form, as **y = XB + e.**\n",
        "    *   where **y** is the vector of **observations**, **X** is the vector of **dependent** variables, **B** is a vector of **coefficients**, and **e** is the **residual (error)**.\n",
        "*   Thus obtained design matrices are passed as inputs to the chosen model.\n",
        "\n"
      ]
    },
    {
      "metadata": {
        "id": "mL9ypdJGAGHI",
        "colab_type": "text"
      },
      "cell_type": "markdown",
      "source": [
        "## Statistical Modelling with StatsModels\n",
        "\n",
        "\n",
        "\n",
        "*   **statsmodels** library supports several types of statistical models.\n",
        "*   All of them follow a similar usage pattern.\n",
        "*   A Statistical model is represented by a model class.\n",
        "*   A model can be initiated with,\n",
        "    *   given design matrices of dependent and independent variables, or with\n",
        "    *   given patsy formula and data frame or dictionary-like object.\n",
        "\n",
        "\n",
        "\n"
      ]
    },
    {
      "metadata": {
        "id": "tGKSESbtAgB0",
        "colab_type": "text"
      },
      "cell_type": "markdown",
      "source": [
        "### Step 1: Creating a Model\n",
        "\n",
        "An instance of a model class is created in either of the following ways.\n",
        "\n",
        "**model = sm.MODEL(y, X)** or\n",
        "\n",
        "**model = smf.model(patsy_formula, data)**\n",
        "\n",
        "where **MODEL** and **model** refer to **model names** such as **OLS, GLM, ols, glm, etc**.\n",
        "\n",
        "**Uppercase** names take **design matrices** as arguments, and **lowercase** names take **Patsy formulas** and **data frames** as arguments."
      ]
    },
    {
      "metadata": {
        "id": "8sa9nHG3A6K3",
        "colab_type": "text"
      },
      "cell_type": "markdown",
      "source": [
        "### Step 2: Fitting a Model\n",
        "\n",
        "In order to fit the model with data, fit method is invoked on the created model, as shown below.\n",
        "\n",
        "**result = model.fit()**\n",
        "\n",
        "The **fit** method returns a result object, which has methods and attributes for further analysis."
      ]
    },
    {
      "metadata": {
        "id": "BvGX71QMBCxS",
        "colab_type": "text"
      },
      "cell_type": "markdown",
      "source": [
        "### Step 3: Viewing Model Summary\n",
        "\n",
        "The **summary** method of result object produces a summary text that describes the result of the fit, as shown below.\n",
        "\n",
        "**print(result.summary())**\n",
        "\n",
        "The displayed summary text varies for each statistical model and provides information of various statistical parameters."
      ]
    },
    {
      "metadata": {
        "id": "7qvixuQeBOPG",
        "colab_type": "text"
      },
      "cell_type": "markdown",
      "source": [
        "### Step 4: Analyzing the Model Further\n",
        "\n",
        "Other than viewing summary statistics, you can perform activities like,\n",
        "\n",
        "\n",
        "*   Determining fitted values,\n",
        "*   Predicting the dependent variable values for new independent variable values.\n",
        "*   Checking if residuals of fitted models follow a normal distribution or not.\n",
        "\n"
      ]
    },
    {
      "metadata": {
        "id": "RPRp4-6DgCfe",
        "colab_type": "text"
      },
      "cell_type": "markdown",
      "source": [
        "# Defining Statistical Models with patsy"
      ]
    },
    {
      "metadata": {
        "id": "mEwmiX4lgw5r",
        "colab_type": "text"
      },
      "cell_type": "markdown",
      "source": [
        "## Constructing Design Matrices\n",
        "\n",
        "The below example shows calculation of design matrices, **y**, and **X**, for the considered linear model  **Y = B0 + B1*X1 + B2*X2 + B3*X1*X2**"
      ]
    },
    {
      "metadata": {
        "id": "lts-3gTDg4eI",
        "colab_type": "code",
        "colab": {
          "autoexec": {
            "startup": false,
            "wait_interval": 0
          },
          "base_uri": "https://localhost:8080/",
          "height": 119
        },
        "outputId": "40ffb699-89f8-4ada-ad67-e8c3040bea6e",
        "executionInfo": {
          "status": "ok",
          "timestamp": 1529409839350,
          "user_tz": -330,
          "elapsed": 760,
          "user": {
            "displayName": "Praveen Ganeshan",
            "photoUrl": "//lh6.googleusercontent.com/-QmspgRZUp3M/AAAAAAAAAAI/AAAAAAAAAN0/JZIoVZouLiM/s50-c-k-no/photo.jpg",
            "userId": "115281149458293297578"
          }
        }
      },
      "cell_type": "code",
      "source": [
        "import numpy as np\n",
        "\n",
        "y = np.array([1, 2, 3, 4, 5])\n",
        "x1 = np.array([6, 7, 8, 9, 10])\n",
        "x2 = np.array([11, 12, 13, 14, 15])\n",
        "X = np.vstack([np.ones(5), x1, x2, x1*x2]).T\n",
        "\n",
        "print(y)\n",
        "print(X)"
      ],
      "execution_count": 140,
      "outputs": [
        {
          "output_type": "stream",
          "text": [
            "[1 2 3 4 5]\n",
            "[[  1.   6.  11.  66.]\n",
            " [  1.   7.  12.  84.]\n",
            " [  1.   8.  13. 104.]\n",
            " [  1.   9.  14. 126.]\n",
            " [  1.  10.  15. 150.]]\n"
          ],
          "name": "stdout"
        }
      ]
    },
    {
      "metadata": {
        "id": "2wZAGzUPhTXa",
        "colab_type": "text"
      },
      "cell_type": "markdown",
      "source": [
        "Thus obtained design matrices **(y and X)** can be passed to **regression methods** for obtaining the **coefficient vector**."
      ]
    },
    {
      "metadata": {
        "id": "95owglYYhYox",
        "colab_type": "text"
      },
      "cell_type": "markdown",
      "source": [
        "## Design Matrices with patsy\n",
        "\n",
        "**patsy**, a python library, allows defining a model in simpler easily.\n",
        "\n",
        "It also constructs relevant design matrices, automatically, using** patsy.dmatrices** function.\n",
        "\n",
        "**patsy.dmatrices** takes a formula (in string form) as a first argument, and a dictionary-like object with data arrays for the response variables as second arguments."
      ]
    },
    {
      "metadata": {
        "id": "nWjNJBvphpKJ",
        "colab_type": "text"
      },
      "cell_type": "markdown",
      "source": [
        "## Patsy Design Matrices\n",
        "\n",
        "An example of using** patsy.dmatrices** function is shown below."
      ]
    },
    {
      "metadata": {
        "id": "2sAUL9FghtgC",
        "colab_type": "code",
        "colab": {
          "autoexec": {
            "startup": false,
            "wait_interval": 0
          },
          "base_uri": "https://localhost:8080/",
          "height": 187
        },
        "outputId": "6405498e-ce34-4e32-f0b2-ffbccfb13bd3",
        "executionInfo": {
          "status": "ok",
          "timestamp": 1529409840408,
          "user_tz": -330,
          "elapsed": 982,
          "user": {
            "displayName": "Praveen Ganeshan",
            "photoUrl": "//lh6.googleusercontent.com/-QmspgRZUp3M/AAAAAAAAAAI/AAAAAAAAAN0/JZIoVZouLiM/s50-c-k-no/photo.jpg",
            "userId": "115281149458293297578"
          }
        }
      },
      "cell_type": "code",
      "source": [
        "import patsy\n",
        "import numpy as np\n",
        "\n",
        "y = np.array([1, 2, 3, 4, 5])\n",
        "x1 = np.array([6, 7, 8, 9, 10])\n",
        "x2 = np.array([11, 12, 13, 14, 15])\n",
        "data = {'y':y, 'x1':x1, 'x2':x2}\n",
        "\n",
        "y, X = patsy.dmatrices('y ~ 1 + x1 + x2 + x1*x2', data)\n",
        "\n",
        "print(y)\n",
        "print(X)"
      ],
      "execution_count": 141,
      "outputs": [
        {
          "output_type": "stream",
          "text": [
            "[[1.]\n",
            " [2.]\n",
            " [3.]\n",
            " [4.]\n",
            " [5.]]\n",
            "[[  1.   6.  11.  66.]\n",
            " [  1.   7.  12.  84.]\n",
            " [  1.   8.  13. 104.]\n",
            " [  1.   9.  14. 126.]\n",
            " [  1.  10.  15. 150.]]\n"
          ],
          "name": "stdout"
        }
      ]
    },
    {
      "metadata": {
        "id": "9f0FonuJiBxD",
        "colab_type": "text"
      },
      "cell_type": "markdown",
      "source": [
        "## Understanding patsy Formulae\n",
        "\n",
        "Let's understand few patsy formulae provided below.\n",
        "\n",
        "**'y ~ x'** : **y** is linearly dependent on **x**. **~** symbol **separates** **dependent** variable from **independent** variable terms. It is also equivalent to '**y ~ 1 + x**'.\n",
        "\n",
        "**'y ~ x1 + x2'** : **y** is a linear combination of **x1** and **x2**. **+** sign is used to denote the **union** of terms.\n",
        "\n",
        " **y ~ x1*x2 : x1*x2** is an interaction term that includes** all lower order terms**. Hence formula is equivalent to  **y ~ 1 + x1 + x2 + x1*x2**.\n",
        " \n",
        "** 'y ~ np.log(x1)'**: Often **numpy** functions can be used to transform terms in the expression.\n",
        "\n",
        "**'y ~ I(x1 + x2)'**: **I** is the **identify** function, used to** escape arithmetic expressions** and are evaluated.\n",
        "\n",
        "**'y ~ C(x1)'**: Treats the variable **x1** as a **categorical** variable."
      ]
    },
    {
      "metadata": {
        "id": "6sg2EdjZmMGv",
        "colab_type": "text"
      },
      "cell_type": "markdown",
      "source": [
        "# Example Datasets\n",
        "\n",
        "\n",
        "*   **statsmodels** contain few popular example datasets, which can be used to explore various utilities of the package.\n",
        "*  The example data sets are available in **datasets** module.\n",
        "*   Each dataset is associated with special variables like **SOURCE**, **DESCSHORT**, **DESCLONG**, that provide more info about the dataset.\n",
        "*   A dataset can be loaded using **load** function, and its data can be accessed using **data** attribute in the form of **Numpy**'s recarray.\n",
        "\n"
      ]
    },
    {
      "metadata": {
        "id": "ZFoWKPyAmjNV",
        "colab_type": "text"
      },
      "cell_type": "markdown",
      "source": [
        "## Loading Example Datasets\n",
        "\n",
        "The below example shows loading of popular **breast cancer dataset** and accessing its data as **numpy** array."
      ]
    },
    {
      "metadata": {
        "id": "HivySIFQmow7",
        "colab_type": "code",
        "colab": {
          "autoexec": {
            "startup": false,
            "wait_interval": 0
          },
          "base_uri": "https://localhost:8080/",
          "height": 34
        },
        "outputId": "6a80bfd2-24bb-40ee-f623-67fb08da7ce9",
        "executionInfo": {
          "status": "ok",
          "timestamp": 1529409841624,
          "user_tz": -330,
          "elapsed": 1161,
          "user": {
            "displayName": "Praveen Ganeshan",
            "photoUrl": "//lh6.googleusercontent.com/-QmspgRZUp3M/AAAAAAAAAAI/AAAAAAAAAN0/JZIoVZouLiM/s50-c-k-no/photo.jpg",
            "userId": "115281149458293297578"
          }
        }
      },
      "cell_type": "code",
      "source": [
        "import statsmodels.api as sm\n",
        "\n",
        "bc_cancer_set = sm.datasets.cancer\n",
        "\n",
        "bc_cancer = bc_cancer_set.load()\n",
        "\n",
        "bc_cancer_data = bc_cancer.data\n",
        "\n",
        "print(type(bc_cancer_data))"
      ],
      "execution_count": 142,
      "outputs": [
        {
          "output_type": "stream",
          "text": [
            "<class 'numpy.recarray'>\n"
          ],
          "name": "stdout"
        }
      ]
    },
    {
      "metadata": {
        "id": "xRGWvepWmw2m",
        "colab_type": "text"
      },
      "cell_type": "markdown",
      "source": [
        "The data can be accessed in from of pandas data frame, if it is loaded with function load_pandas."
      ]
    },
    {
      "metadata": {
        "id": "dW8en54Pnc6z",
        "colab_type": "text"
      },
      "cell_type": "markdown",
      "source": [
        "## Loading R Datasets\n",
        "\n",
        "**statsmodels** package provides access to many example datasets of **R**, listed at [R Datasets repository](http://vincentarelbundock.github.io/Rdatasets/datasets.html)\n",
        "\n",
        "The below example loads **Icecream** dataset from **Ecdat** package."
      ]
    },
    {
      "metadata": {
        "id": "5bFw4cW_ntd3",
        "colab_type": "code",
        "colab": {
          "autoexec": {
            "startup": false,
            "wait_interval": 0
          },
          "base_uri": "https://localhost:8080/",
          "height": 34
        },
        "outputId": "de75bd2b-6e9d-4092-ab81-bd55d517c323",
        "executionInfo": {
          "status": "ok",
          "timestamp": 1529409842859,
          "user_tz": -330,
          "elapsed": 1168,
          "user": {
            "displayName": "Praveen Ganeshan",
            "photoUrl": "//lh6.googleusercontent.com/-QmspgRZUp3M/AAAAAAAAAAI/AAAAAAAAAN0/JZIoVZouLiM/s50-c-k-no/photo.jpg",
            "userId": "115281149458293297578"
          }
        }
      },
      "cell_type": "code",
      "source": [
        "import statsmodels.api as sm\n",
        "\n",
        "icecream_data = sm.datasets.get_rdataset('Icecream', 'Ecdat')\n",
        "data = icecream_data.data\n",
        "\n",
        "print(icecream_data.data.shape)"
      ],
      "execution_count": 143,
      "outputs": [
        {
          "output_type": "stream",
          "text": [
            "(30, 4)\n"
          ],
          "name": "stdout"
        }
      ]
    },
    {
      "metadata": {
        "id": "4X69rujxn3kl",
        "colab_type": "text"
      },
      "cell_type": "markdown",
      "source": [
        "# Linear Regression with statsmodels"
      ]
    },
    {
      "metadata": {
        "id": "SmHlo1qPoOgf",
        "colab_type": "text"
      },
      "cell_type": "markdown",
      "source": [
        "## Linear Regression Example\n",
        "\n",
        "Let's understand how to fit a linear regression model for Icecream dataset available from R Data Repository."
      ]
    },
    {
      "metadata": {
        "id": "RvnZm2bDwiI8",
        "colab_type": "code",
        "colab": {
          "autoexec": {
            "startup": false,
            "wait_interval": 0
          },
          "base_uri": "https://localhost:8080/",
          "height": 34
        },
        "outputId": "ae223986-d1b6-4be2-b781-967ec8bf8750",
        "executionInfo": {
          "status": "ok",
          "timestamp": 1529409844030,
          "user_tz": -330,
          "elapsed": 1109,
          "user": {
            "displayName": "Praveen Ganeshan",
            "photoUrl": "//lh6.googleusercontent.com/-QmspgRZUp3M/AAAAAAAAAAI/AAAAAAAAAN0/JZIoVZouLiM/s50-c-k-no/photo.jpg",
            "userId": "115281149458293297578"
          }
        }
      },
      "cell_type": "code",
      "source": [
        "import statsmodels.api as sm\n",
        "\n",
        "icecream = sm.datasets.get_rdataset(\"Icecream\", \"Ecdat\")\n",
        "\n",
        "icecream_data = icecream.data\n",
        "\n",
        "print(icecream_data.columns)"
      ],
      "execution_count": 144,
      "outputs": [
        {
          "output_type": "stream",
          "text": [
            "Index(['cons', 'income', 'price', 'temp'], dtype='object')\n"
          ],
          "name": "stdout"
        }
      ]
    },
    {
      "metadata": {
        "id": "mUev-boewoVL",
        "colab_type": "text"
      },
      "cell_type": "markdown",
      "source": [
        "The **icecream_data** dataset is a **pandas** data frame. It contains four variables: **cons (consumption), income, price, and temp (temperature)**."
      ]
    },
    {
      "metadata": {
        "id": "Y8ywkuHfwuar",
        "colab_type": "text"
      },
      "cell_type": "markdown",
      "source": [
        "### Model Creation\n",
        "\n",
        "**Choosing a Model**\n",
        "\n",
        "Initially, let's model consumption with price and temperature, as a linear model.\n",
        "\n",
        "The patsy formula for assumed model is: **cons ~ price + temp**\n",
        "\n",
        "**Creating a Model**"
      ]
    },
    {
      "metadata": {
        "id": "Rlej5X2Hw_rE",
        "colab_type": "code",
        "colab": {
          "autoexec": {
            "startup": false,
            "wait_interval": 0
          }
        }
      },
      "cell_type": "code",
      "source": [
        "import statsmodels.formula.api as smf\n",
        "\n",
        "linear_model1 = smf.ols('cons ~ price + temp', icecream_data)"
      ],
      "execution_count": 0,
      "outputs": []
    },
    {
      "metadata": {
        "id": "ygEsi4VQxDrH",
        "colab_type": "text"
      },
      "cell_type": "markdown",
      "source": [
        "**Fitting the Model**"
      ]
    },
    {
      "metadata": {
        "id": "JNRw1IgwxGrK",
        "colab_type": "code",
        "colab": {
          "autoexec": {
            "startup": false,
            "wait_interval": 0
          }
        }
      },
      "cell_type": "code",
      "source": [
        "linear_result1 = linear_model1.fit()"
      ],
      "execution_count": 0,
      "outputs": []
    },
    {
      "metadata": {
        "id": "OFIBSlUIxJ6Q",
        "colab_type": "text"
      },
      "cell_type": "markdown",
      "source": [
        "### Viewing Model Summary\n",
        "\n",
        "Model summary can be viewed using the command"
      ]
    },
    {
      "metadata": {
        "id": "5J0LbNdGxPLw",
        "colab_type": "code",
        "colab": {
          "autoexec": {
            "startup": false,
            "wait_interval": 0
          },
          "base_uri": "https://localhost:8080/",
          "height": 493
        },
        "outputId": "47342fe4-5d48-4a66-86b6-7df74702878e",
        "executionInfo": {
          "status": "ok",
          "timestamp": 1529409847785,
          "user_tz": -330,
          "elapsed": 761,
          "user": {
            "displayName": "Praveen Ganeshan",
            "photoUrl": "//lh6.googleusercontent.com/-QmspgRZUp3M/AAAAAAAAAAI/AAAAAAAAAN0/JZIoVZouLiM/s50-c-k-no/photo.jpg",
            "userId": "115281149458293297578"
          }
        }
      },
      "cell_type": "code",
      "source": [
        "print(linear_result1.summary())"
      ],
      "execution_count": 147,
      "outputs": [
        {
          "output_type": "stream",
          "text": [
            "                            OLS Regression Results                            \n",
            "==============================================================================\n",
            "Dep. Variable:                   cons   R-squared:                       0.633\n",
            "Model:                            OLS   Adj. R-squared:                  0.606\n",
            "Method:                 Least Squares   F-statistic:                     23.27\n",
            "Date:                Tue, 19 Jun 2018   Prob (F-statistic):           1.34e-06\n",
            "Time:                        12:04:07   Log-Likelihood:                 54.607\n",
            "No. Observations:                  30   AIC:                            -103.2\n",
            "Df Residuals:                      27   BIC:                            -99.01\n",
            "Df Model:                           2                                         \n",
            "Covariance Type:            nonrobust                                         \n",
            "==============================================================================\n",
            "                 coef    std err          t      P>|t|      [0.025      0.975]\n",
            "------------------------------------------------------------------------------\n",
            "Intercept      0.5966      0.258      2.309      0.029       0.067       1.127\n",
            "price         -1.4018      0.925     -1.515      0.141      -3.300       0.496\n",
            "temp           0.0030      0.000      6.448      0.000       0.002       0.004\n",
            "==============================================================================\n",
            "Omnibus:                        0.991   Durbin-Watson:                   0.656\n",
            "Prob(Omnibus):                  0.609   Jarque-Bera (JB):                0.220\n",
            "Skew:                          -0.107   Prob(JB):                        0.896\n",
            "Kurtosis:                       3.361   Cond. No.                     6.58e+03\n",
            "==============================================================================\n",
            "\n",
            "Warnings:\n",
            "[1] Standard Errors assume that the covariance matrix of the errors is correctly specified.\n",
            "[2] The condition number is large, 6.58e+03. This might indicate that there are\n",
            "strong multicollinearity or other numerical problems.\n"
          ],
          "name": "stdout"
        }
      ]
    },
    {
      "metadata": {
        "id": "wX14fNFXxU0F",
        "colab_type": "text"
      },
      "cell_type": "markdown",
      "source": [
        "### Analyzing the Model\n",
        "\n",
        "The R-squared value of **0.633** suggests that model is not a proper fit.\n",
        "\n",
        "The probability value of coefficient **price** is high, i.e., **0.141**. This accepts the null-hypothesis: the value of **price** coefficient is equal to zero.\n",
        "\n",
        "Hence, the variable **price** does not affect **cons** variable."
      ]
    },
    {
      "metadata": {
        "id": "cINsojOJxnl1",
        "colab_type": "text"
      },
      "cell_type": "markdown",
      "source": [
        "### Model Recreation 1\n",
        "\n",
        "Now let's create a new model by considered **income** and **temp** dependent variables."
      ]
    },
    {
      "metadata": {
        "id": "0wfRZu4zxxCV",
        "colab_type": "code",
        "colab": {
          "autoexec": {
            "startup": false,
            "wait_interval": 0
          }
        }
      },
      "cell_type": "code",
      "source": [
        "linear_model2 = smf.ols('cons ~ income + temp', icecream_data)\n",
        "\n",
        "linear_result2 = linear_model2.fit()\n"
      ],
      "execution_count": 0,
      "outputs": []
    },
    {
      "metadata": {
        "id": "gwL0VKZfx5xa",
        "colab_type": "text"
      },
      "cell_type": "markdown",
      "source": [
        "### Viewing Recreated Model Summary 1"
      ]
    },
    {
      "metadata": {
        "id": "VaVKREBMyBO_",
        "colab_type": "code",
        "colab": {
          "autoexec": {
            "startup": false,
            "wait_interval": 0
          },
          "base_uri": "https://localhost:8080/",
          "height": 493
        },
        "outputId": "31ced6d3-b138-45ee-aef7-cc45ba1dbbb0",
        "executionInfo": {
          "status": "ok",
          "timestamp": 1529409849636,
          "user_tz": -330,
          "elapsed": 794,
          "user": {
            "displayName": "Praveen Ganeshan",
            "photoUrl": "//lh6.googleusercontent.com/-QmspgRZUp3M/AAAAAAAAAAI/AAAAAAAAAN0/JZIoVZouLiM/s50-c-k-no/photo.jpg",
            "userId": "115281149458293297578"
          }
        }
      },
      "cell_type": "code",
      "source": [
        "print(linear_result2.summary())"
      ],
      "execution_count": 149,
      "outputs": [
        {
          "output_type": "stream",
          "text": [
            "                            OLS Regression Results                            \n",
            "==============================================================================\n",
            "Dep. Variable:                   cons   R-squared:                       0.702\n",
            "Model:                            OLS   Adj. R-squared:                  0.680\n",
            "Method:                 Least Squares   F-statistic:                     31.81\n",
            "Date:                Tue, 19 Jun 2018   Prob (F-statistic):           7.96e-08\n",
            "Time:                        12:04:09   Log-Likelihood:                 57.742\n",
            "No. Observations:                  30   AIC:                            -109.5\n",
            "Df Residuals:                      27   BIC:                            -105.3\n",
            "Df Model:                           2                                         \n",
            "Covariance Type:            nonrobust                                         \n",
            "==============================================================================\n",
            "                 coef    std err          t      P>|t|      [0.025      0.975]\n",
            "------------------------------------------------------------------------------\n",
            "Intercept     -0.1132      0.108     -1.045      0.305      -0.335       0.109\n",
            "income         0.0035      0.001      3.017      0.006       0.001       0.006\n",
            "temp           0.0035      0.000      7.963      0.000       0.003       0.004\n",
            "==============================================================================\n",
            "Omnibus:                        2.264   Durbin-Watson:                   1.003\n",
            "Prob(Omnibus):                  0.322   Jarque-Bera (JB):                1.094\n",
            "Skew:                           0.386   Prob(JB):                        0.579\n",
            "Kurtosis:                       3.528   Cond. No.                     1.56e+03\n",
            "==============================================================================\n",
            "\n",
            "Warnings:\n",
            "[1] Standard Errors assume that the covariance matrix of the errors is correctly specified.\n",
            "[2] The condition number is large, 1.56e+03. This might indicate that there are\n",
            "strong multicollinearity or other numerical problems.\n"
          ],
          "name": "stdout"
        }
      ]
    },
    {
      "metadata": {
        "id": "ws8dR0r4yGHe",
        "colab_type": "text"
      },
      "cell_type": "markdown",
      "source": [
        "### Analyzing Model 1\n",
        "\n",
        "R-squared value improved to **0.702**, suggesting this is a better model than previous one.\n",
        "\n",
        "Probability values of **income** and **temp** are low, indicating they are highly significant to **cons**.\n",
        "\n",
        "The probability value of **Intercept** is too **high**."
      ]
    },
    {
      "metadata": {
        "id": "1M69b7VyzWTV",
        "colab_type": "text"
      },
      "cell_type": "markdown",
      "source": [
        "### Model Recreation 2\n"
      ]
    },
    {
      "metadata": {
        "id": "7zregyv1zeUM",
        "colab_type": "code",
        "colab": {
          "autoexec": {
            "startup": false,
            "wait_interval": 0
          }
        }
      },
      "cell_type": "code",
      "source": [
        "linear_model3 = smf.ols('cons ~ -1 + income + temp', icecream_data)\n",
        "\n",
        "linear_result3 = linear_model3.fit()\n"
      ],
      "execution_count": 0,
      "outputs": []
    },
    {
      "metadata": {
        "id": "ymIO1dnVzfmk",
        "colab_type": "text"
      },
      "cell_type": "markdown",
      "source": [
        "### Viewing Recreated Model Summary 2"
      ]
    },
    {
      "metadata": {
        "id": "E_mdNpgDzkY9",
        "colab_type": "code",
        "colab": {
          "autoexec": {
            "startup": false,
            "wait_interval": 0
          },
          "base_uri": "https://localhost:8080/",
          "height": 442
        },
        "outputId": "78c0840c-705a-4fe1-f07f-de625b9f7a47",
        "executionInfo": {
          "status": "ok",
          "timestamp": 1529409851445,
          "user_tz": -330,
          "elapsed": 921,
          "user": {
            "displayName": "Praveen Ganeshan",
            "photoUrl": "//lh6.googleusercontent.com/-QmspgRZUp3M/AAAAAAAAAAI/AAAAAAAAAN0/JZIoVZouLiM/s50-c-k-no/photo.jpg",
            "userId": "115281149458293297578"
          }
        }
      },
      "cell_type": "code",
      "source": [
        "print(linear_result3.summary())"
      ],
      "execution_count": 151,
      "outputs": [
        {
          "output_type": "stream",
          "text": [
            "                            OLS Regression Results                            \n",
            "==============================================================================\n",
            "Dep. Variable:                   cons   R-squared:                       0.990\n",
            "Model:                            OLS   Adj. R-squared:                  0.990\n",
            "Method:                 Least Squares   F-statistic:                     1426.\n",
            "Date:                Tue, 19 Jun 2018   Prob (F-statistic):           6.77e-29\n",
            "Time:                        12:04:10   Log-Likelihood:                 57.146\n",
            "No. Observations:                  30   AIC:                            -110.3\n",
            "Df Residuals:                      28   BIC:                            -107.5\n",
            "Df Model:                           2                                         \n",
            "Covariance Type:            nonrobust                                         \n",
            "==============================================================================\n",
            "                 coef    std err          t      P>|t|      [0.025      0.975]\n",
            "------------------------------------------------------------------------------\n",
            "income         0.0023      0.000      9.906      0.000       0.002       0.003\n",
            "temp           0.0033      0.000      8.571      0.000       0.003       0.004\n",
            "==============================================================================\n",
            "Omnibus:                        3.584   Durbin-Watson:                   0.887\n",
            "Prob(Omnibus):                  0.167   Jarque-Bera (JB):                2.089\n",
            "Skew:                           0.508   Prob(JB):                        0.352\n",
            "Kurtosis:                       3.798   Cond. No.                         6.45\n",
            "==============================================================================\n",
            "\n",
            "Warnings:\n",
            "[1] Standard Errors assume that the covariance matrix of the errors is correctly specified.\n"
          ],
          "name": "stdout"
        }
      ]
    },
    {
      "metadata": {
        "id": "ODE5CGYU5T3H",
        "colab_type": "text"
      },
      "cell_type": "markdown",
      "source": [
        "### Analyzing Model 2\n",
        "\n",
        "R-squared value increased to **0.990**, which suggests the model could best describe the relationship of **cons** with **income** and **temp** variables."
      ]
    },
    {
      "metadata": {
        "id": "PLRzUf8c6kFa",
        "colab_type": "text"
      },
      "cell_type": "markdown",
      "source": [
        "## HandsOn\n",
        "\n",
        "Perform the following tasks:\n",
        "\n",
        "Load the R data set **mtcars**.\n",
        "\n",
        "Capture the data as **pandas data frame**.\n",
        "\n",
        "Build a linear regression model with independent variable **wt** and dependent variable **mpg**.\n",
        "\n",
        "**Fit** the model with **data** and display **R-squared** value."
      ]
    },
    {
      "metadata": {
        "id": "TdnP4cAe7BJJ",
        "colab_type": "code",
        "colab": {
          "autoexec": {
            "startup": false,
            "wait_interval": 0
          },
          "base_uri": "https://localhost:8080/",
          "height": 34
        },
        "outputId": "177b23c0-b156-4349-a7d6-1256001c1266",
        "executionInfo": {
          "status": "ok",
          "timestamp": 1529409852793,
          "user_tz": -330,
          "elapsed": 1190,
          "user": {
            "displayName": "Praveen Ganeshan",
            "photoUrl": "//lh6.googleusercontent.com/-QmspgRZUp3M/AAAAAAAAAAI/AAAAAAAAAN0/JZIoVZouLiM/s50-c-k-no/photo.jpg",
            "userId": "115281149458293297578"
          }
        }
      },
      "cell_type": "code",
      "source": [
        "import statsmodels.api as sm\n",
        "import pandas as pd\n",
        "import statsmodels.formula.api as smf\n",
        "\n",
        "mtcars=sm.datasets.get_rdataset('mtcars')\n",
        "data=pd.DataFrame(mtcars.data)\n",
        "liner_model=smf.ols('wt ~  mpg',data)\n",
        "liner_result=liner_model.fit()\n",
        "print(liner_result.rsquared)"
      ],
      "execution_count": 152,
      "outputs": [
        {
          "output_type": "stream",
          "text": [
            "0.7528327936582647\n"
          ],
          "name": "stdout"
        }
      ]
    },
    {
      "metadata": {
        "id": "8z6ADRYdEMk1",
        "colab_type": "text"
      },
      "cell_type": "markdown",
      "source": [
        "Load the R data set **mtcars** as pandas dataframe.\n",
        "\n",
        "Build another linear regression model by considering **log** of independent variable **wt** and **log** of dependent variable **mpg**.\n",
        "\n",
        "**Fit** the model with data and display **R-squared** value."
      ]
    },
    {
      "metadata": {
        "id": "Kuh7E7TVEN6U",
        "colab_type": "code",
        "colab": {
          "autoexec": {
            "startup": false,
            "wait_interval": 0
          },
          "base_uri": "https://localhost:8080/",
          "height": 34
        },
        "outputId": "8e6be303-7ea7-44ae-8a55-b5f79bae7f96",
        "executionInfo": {
          "status": "ok",
          "timestamp": 1529409853968,
          "user_tz": -330,
          "elapsed": 1106,
          "user": {
            "displayName": "Praveen Ganeshan",
            "photoUrl": "//lh6.googleusercontent.com/-QmspgRZUp3M/AAAAAAAAAAI/AAAAAAAAAN0/JZIoVZouLiM/s50-c-k-no/photo.jpg",
            "userId": "115281149458293297578"
          }
        }
      },
      "cell_type": "code",
      "source": [
        "import statsmodels.api as sm\n",
        "import pandas as pd\n",
        "import numpy as np\n",
        "import statsmodels.formula.api as smf\n",
        "\n",
        "mtcars=sm.datasets.get_rdataset('mtcars')\n",
        "data=pd.DataFrame(mtcars.data)\n",
        "liner_model=smf.ols('np.log(wt) ~  np.log(mpg)',data)\n",
        "liner_result=liner_model.fit()\n",
        "print(liner_result.rsquared)"
      ],
      "execution_count": 153,
      "outputs": [
        {
          "output_type": "stream",
          "text": [
            "0.8056486518918404\n"
          ],
          "name": "stdout"
        }
      ]
    },
    {
      "metadata": {
        "id": "4PX1ZOLFENIG",
        "colab_type": "text"
      },
      "cell_type": "markdown",
      "source": [
        "# Logistic Regression with statsmodels"
      ]
    },
    {
      "metadata": {
        "id": "fORWT-gNEYGj",
        "colab_type": "text"
      },
      "cell_type": "markdown",
      "source": [
        "## Discrete Regression - Introduction\n",
        "\n",
        "A discrete dependent variable takes **few possible outcome** values and is **not normally distributed**.\n",
        "\n",
        "Hence,** linear regression** cannot be applied to a **discrete variable**."
      ]
    },
    {
      "metadata": {
        "id": "99SPPp65EmDg",
        "colab_type": "text"
      },
      "cell_type": "markdown",
      "source": [
        "## Discrete Regression models\n",
        "\n",
        "\n",
        "*   **statsmodels** provide the following classes to work with discrete regression problems.\n",
        "    *  **Logit**: for Logistic Regression\n",
        "    *   **MNLogit**: for Multinomial Logistic Regression\n",
        "    *   **Poisson**: for Poisson Regression\n",
        "*   you will see an example of performing Logistic regression and Poisson regression.\n",
        "\n",
        "\n"
      ]
    },
    {
      "metadata": {
        "id": "RJhl1qzEE9wt",
        "colab_type": "text"
      },
      "cell_type": "markdown",
      "source": [
        "## Logistic Regression\n",
        "\n",
        "Now, let's understand how to perform logistic regression using statsmodels with the following steps:\n",
        "\n",
        "\n",
        "*   Download the popular **iris** data set (containing data of 3 species) from **R repository**.\n",
        "*   **Subset** the data of only two species.\n",
        "*   Perform **transformations**, if required.\n",
        "*   Define a **patsy** formula and **create a model **using logit.\n",
        "*   **Fit** the model with supplied data.\n",
        "*   **View summary** of the model.\n",
        "\n"
      ]
    },
    {
      "metadata": {
        "id": "ht6kUxwIFfm7",
        "colab_type": "text"
      },
      "cell_type": "markdown",
      "source": [
        "### Loading iris Dataset\n"
      ]
    },
    {
      "metadata": {
        "id": "CptsbzSLFiQo",
        "colab_type": "code",
        "colab": {
          "autoexec": {
            "startup": false,
            "wait_interval": 0
          },
          "base_uri": "https://localhost:8080/",
          "height": 34
        },
        "outputId": "2eecb765-1e45-4995-bb0c-68c1beb06067",
        "executionInfo": {
          "status": "ok",
          "timestamp": 1529409855067,
          "user_tz": -330,
          "elapsed": 1028,
          "user": {
            "displayName": "Praveen Ganeshan",
            "photoUrl": "//lh6.googleusercontent.com/-QmspgRZUp3M/AAAAAAAAAAI/AAAAAAAAAN0/JZIoVZouLiM/s50-c-k-no/photo.jpg",
            "userId": "115281149458293297578"
          }
        }
      },
      "cell_type": "code",
      "source": [
        "import statsmodels.formula.api as smf\n",
        "\n",
        "#Retrieving dataset as pandas data frame.\n",
        "iris = sm.datasets.get_rdataset(\"iris\").data\n",
        "\n",
        "#Viewing no. of species\n",
        "print(iris.Species.unique())"
      ],
      "execution_count": 154,
      "outputs": [
        {
          "output_type": "stream",
          "text": [
            "['setosa' 'versicolor' 'virginica']\n"
          ],
          "name": "stdout"
        }
      ]
    },
    {
      "metadata": {
        "id": "lY3K5H-FFp3v",
        "colab_type": "text"
      },
      "cell_type": "markdown",
      "source": [
        "### Selecting Required Data\n",
        "\n",
        "As seen in the previous example, **iris** dataset contains details of three types of species.\n",
        "\n",
        "In a logistic regression, the response variable refers to **only two type** of categories. Hence, data of **two species is filtered** and considered in further steps."
      ]
    },
    {
      "metadata": {
        "id": "deafNQTHFzwj",
        "colab_type": "code",
        "colab": {
          "autoexec": {
            "startup": false,
            "wait_interval": 0
          },
          "base_uri": "https://localhost:8080/",
          "height": 34
        },
        "outputId": "b7eb4606-fdfb-4bca-b232-ebbe94849b25",
        "executionInfo": {
          "status": "ok",
          "timestamp": 1529409855827,
          "user_tz": -330,
          "elapsed": 721,
          "user": {
            "displayName": "Praveen Ganeshan",
            "photoUrl": "//lh6.googleusercontent.com/-QmspgRZUp3M/AAAAAAAAAAI/AAAAAAAAAN0/JZIoVZouLiM/s50-c-k-no/photo.jpg",
            "userId": "115281149458293297578"
          }
        }
      },
      "cell_type": "code",
      "source": [
        "iris_subset = iris[(iris.Species == \"versicolor\") | (iris.Species == \"virginica\")].copy()\n",
        "\n",
        "print(iris_subset.Species.unique())"
      ],
      "execution_count": 155,
      "outputs": [
        {
          "output_type": "stream",
          "text": [
            "['versicolor' 'virginica']\n"
          ],
          "name": "stdout"
        }
      ]
    },
    {
      "metadata": {
        "id": "AMFDGAu_F5QC",
        "colab_type": "text"
      },
      "cell_type": "markdown",
      "source": [
        "### Applying Transformations\n",
        "\n",
        "A binary variable corresponding to two species is created using map function as shown below."
      ]
    },
    {
      "metadata": {
        "id": "RD5Y6lMaF9XR",
        "colab_type": "code",
        "colab": {
          "autoexec": {
            "startup": false,
            "wait_interval": 0
          }
        }
      },
      "cell_type": "code",
      "source": [
        "iris_subset.Species = iris_subset.Species.map({\"versicolor\": 1, \"virginica\": 0})"
      ],
      "execution_count": 0,
      "outputs": []
    },
    {
      "metadata": {
        "id": "bXNI7RyZGAhU",
        "colab_type": "text"
      },
      "cell_type": "markdown",
      "source": [
        "**period** characters, present in column names are replaced with **underscore** characters."
      ]
    },
    {
      "metadata": {
        "id": "35dvSf9gGDim",
        "colab_type": "code",
        "colab": {
          "autoexec": {
            "startup": false,
            "wait_interval": 0
          }
        }
      },
      "cell_type": "code",
      "source": [
        "iris_subset.rename(columns={\"Sepal.Length\": \"Sepal_Length\",\n",
        "    \"Sepal.Width\": \"Sepal_Width\",\n",
        "    \"Petal.Length\": \"Petal_Length\",\n",
        "    \"Petal.Width\": \"Petal_Width\"}, \n",
        "    inplace=True)"
      ],
      "execution_count": 0,
      "outputs": []
    },
    {
      "metadata": {
        "id": "Y0Q4hL_DGKuF",
        "colab_type": "text"
      },
      "cell_type": "markdown",
      "source": [
        "### Creating the Model\n",
        "\n",
        "A logistic regression model, explaining relationship of **Species** variable with **Petal_Length** and **Petal_width** is generated using logit function.\n",
        "\n",
        "The appropriate patsy formula is passed as argument to **logit** function."
      ]
    },
    {
      "metadata": {
        "id": "ZJRVydBoGViv",
        "colab_type": "code",
        "colab": {
          "autoexec": {
            "startup": false,
            "wait_interval": 0
          }
        }
      },
      "cell_type": "code",
      "source": [
        "logit_model = smf.logit('Species ~ Petal_Length + Petal_Width', iris_subset)"
      ],
      "execution_count": 0,
      "outputs": []
    },
    {
      "metadata": {
        "id": "va51XpskGbnP",
        "colab_type": "text"
      },
      "cell_type": "markdown",
      "source": [
        "Model is then fit with supplied data using **fit** function"
      ]
    },
    {
      "metadata": {
        "id": "Q-1k4YnZGeld",
        "colab_type": "code",
        "colab": {
          "autoexec": {
            "startup": false,
            "wait_interval": 0
          },
          "base_uri": "https://localhost:8080/",
          "height": 68
        },
        "outputId": "1b7b5321-7db5-4297-9eb1-89b45fa8ce51",
        "executionInfo": {
          "status": "ok",
          "timestamp": 1529409860347,
          "user_tz": -330,
          "elapsed": 1552,
          "user": {
            "displayName": "Praveen Ganeshan",
            "photoUrl": "//lh6.googleusercontent.com/-QmspgRZUp3M/AAAAAAAAAAI/AAAAAAAAAN0/JZIoVZouLiM/s50-c-k-no/photo.jpg",
            "userId": "115281149458293297578"
          }
        }
      },
      "cell_type": "code",
      "source": [
        "logit_result = logit_model.fit()"
      ],
      "execution_count": 159,
      "outputs": [
        {
          "output_type": "stream",
          "text": [
            "Optimization terminated successfully.\n",
            "         Current function value: 0.102818\n",
            "         Iterations 10\n"
          ],
          "name": "stdout"
        }
      ]
    },
    {
      "metadata": {
        "id": "-miI_IcbGjQg",
        "colab_type": "text"
      },
      "cell_type": "markdown",
      "source": [
        "### Viewing the Summary"
      ]
    },
    {
      "metadata": {
        "id": "rvaU90K_GkNd",
        "colab_type": "code",
        "colab": {
          "autoexec": {
            "startup": false,
            "wait_interval": 0
          },
          "base_uri": "https://localhost:8080/",
          "height": 357
        },
        "outputId": "770728c6-0c11-4d7c-cda5-98d48f5cee33",
        "executionInfo": {
          "status": "ok",
          "timestamp": 1529409862302,
          "user_tz": -330,
          "elapsed": 1890,
          "user": {
            "displayName": "Praveen Ganeshan",
            "photoUrl": "//lh6.googleusercontent.com/-QmspgRZUp3M/AAAAAAAAAAI/AAAAAAAAAN0/JZIoVZouLiM/s50-c-k-no/photo.jpg",
            "userId": "115281149458293297578"
          }
        }
      },
      "cell_type": "code",
      "source": [
        "print(logit_result.summary())"
      ],
      "execution_count": 160,
      "outputs": [
        {
          "output_type": "stream",
          "text": [
            "                           Logit Regression Results                           \n",
            "==============================================================================\n",
            "Dep. Variable:                Species   No. Observations:                  100\n",
            "Model:                          Logit   Df Residuals:                       97\n",
            "Method:                           MLE   Df Model:                            2\n",
            "Date:                Tue, 19 Jun 2018   Pseudo R-squ.:                  0.8517\n",
            "Time:                        12:04:20   Log-Likelihood:                -10.282\n",
            "converged:                       True   LL-Null:                       -69.315\n",
            "                                        LLR p-value:                 2.303e-26\n",
            "================================================================================\n",
            "                   coef    std err          z      P>|z|      [0.025      0.975]\n",
            "--------------------------------------------------------------------------------\n",
            "Intercept       45.2723     13.612      3.326      0.001      18.594      71.951\n",
            "Petal_Length    -5.7545      2.306     -2.496      0.013     -10.274      -1.235\n",
            "Petal_Width    -10.4467      3.756     -2.782      0.005     -17.808      -3.086\n",
            "================================================================================\n",
            "\n",
            "Possibly complete quasi-separation: A fraction 0.34 of observations can be\n",
            "perfectly predicted. This might indicate that there is complete\n",
            "quasi-separation. In this case some parameters will not be identified.\n"
          ],
          "name": "stdout"
        }
      ]
    },
    {
      "metadata": {
        "id": "xAVEW0L2Gy4z",
        "colab_type": "text"
      },
      "cell_type": "markdown",
      "source": [
        "### Analyzing the Model\n",
        "\n",
        "The model summary indicates that both **Petal_Length** and **Petal_Width** are statistically significant.\n",
        "\n",
        "For every unit change in **Petal_Length**, the log odds of being **versicolor** decreases by **5.75**.\n",
        "\n",
        "For every unit change in **Petal_Length**, the log odds of being **versicolor** decreases by **10.44**.\n",
        "\n",
        "Once satisfied with the model, it can be used to predict response variable value for new values of independent variables."
      ]
    },
    {
      "metadata": {
        "id": "8EnHYy5QHPNB",
        "colab_type": "text"
      },
      "cell_type": "markdown",
      "source": [
        "### Predicting Response Variable\n",
        "\n",
        "Now, let's create **20** observations having **random** values of **Petal_Length** and **Petal_Width**.\n",
        "\n",
        "Use these 20 observations to predict values for **Species**."
      ]
    },
    {
      "metadata": {
        "id": "QTQx1lsJHY49",
        "colab_type": "code",
        "colab": {
          "autoexec": {
            "startup": false,
            "wait_interval": 0
          },
          "base_uri": "https://localhost:8080/",
          "height": 119
        },
        "outputId": "58d0c641-3e9f-4410-e685-99080e596684",
        "executionInfo": {
          "status": "ok",
          "timestamp": 1529409863117,
          "user_tz": -330,
          "elapsed": 745,
          "user": {
            "displayName": "Praveen Ganeshan",
            "photoUrl": "//lh6.googleusercontent.com/-QmspgRZUp3M/AAAAAAAAAAI/AAAAAAAAAN0/JZIoVZouLiM/s50-c-k-no/photo.jpg",
            "userId": "115281149458293297578"
          }
        }
      },
      "cell_type": "code",
      "source": [
        "import pandas as pd\n",
        "import numpy as np\n",
        "\n",
        "new = pd.DataFrame({\"Petal_Length\": np.random.randn(20)*0.5 + 5, \"Petal_Width\": np.random.randn(20)*0.5 + 1.7})\n",
        "\n",
        "new[\"P-Species\"] = logit_result.predict(new)\n",
        "\n",
        "print(new[\"P-Species\"].head())"
      ],
      "execution_count": 161,
      "outputs": [
        {
          "output_type": "stream",
          "text": [
            "0    0.975473\n",
            "1    0.000013\n",
            "2    0.187547\n",
            "3    0.239311\n",
            "4    0.016666\n",
            "Name: P-Species, dtype: float64\n"
          ],
          "name": "stdout"
        }
      ]
    },
    {
      "metadata": {
        "id": "J3bxoY2vHner",
        "colab_type": "text"
      },
      "cell_type": "markdown",
      "source": [
        "The result is an array of probabilities of response variable being 1."
      ]
    },
    {
      "metadata": {
        "id": "vIT9O3e_IAmg",
        "colab_type": "text"
      },
      "cell_type": "markdown",
      "source": [
        "## HandsOn\n",
        "\n",
        "Perform the following tasks:\n",
        "\n",
        "Load the R dataset **biopsy** from **MASS** package.\n",
        "\n",
        "Capture the data as **pandas data frame**.\n",
        "\n",
        "Rename the column name **class** to **Class**.\n",
        "\n",
        "Transform Class column values **benign** and  **malignant** to **0 and 1** respectively.\n",
        "\n",
        "Build a **logistic regression mode**l with independent variable** V1** and dependent variable **Class**.\n",
        "\n",
        "**Fit** the model with data and **display Pseudo R-squared** value."
      ]
    },
    {
      "metadata": {
        "id": "g6dYGAL7IYjW",
        "colab_type": "code",
        "colab": {
          "autoexec": {
            "startup": false,
            "wait_interval": 0
          },
          "base_uri": "https://localhost:8080/",
          "height": 85
        },
        "outputId": "8d99f85b-e2db-435e-8bea-0fe7de60b4af",
        "executionInfo": {
          "status": "ok",
          "timestamp": 1529409864407,
          "user_tz": -330,
          "elapsed": 1242,
          "user": {
            "displayName": "Praveen Ganeshan",
            "photoUrl": "//lh6.googleusercontent.com/-QmspgRZUp3M/AAAAAAAAAAI/AAAAAAAAAN0/JZIoVZouLiM/s50-c-k-no/photo.jpg",
            "userId": "115281149458293297578"
          }
        }
      },
      "cell_type": "code",
      "source": [
        "import statsmodels.api as sm\n",
        "import pandas as pd\n",
        "import statsmodels.formula.api as smf\n",
        "\n",
        "biopsy=sm.datasets.get_rdataset('biopsy','MASS')\n",
        "data=pd.DataFrame(biopsy.data)\n",
        "data.rename(columns={\"class\": \"Class\"}, \n",
        "    inplace=True)\n",
        "data.Class=data.Class.map({'benign':0,'malignant':1})\n",
        "log_model=smf.logit('Class ~ V1',data)\n",
        "log_result=log_model.fit()\n",
        "print(log_result.prsquared)"
      ],
      "execution_count": 162,
      "outputs": [
        {
          "output_type": "stream",
          "text": [
            "Optimization terminated successfully.\n",
            "         Current function value: 0.331941\n",
            "         Iterations 7\n",
            "0.48468648480416887\n"
          ],
          "name": "stdout"
        }
      ]
    },
    {
      "metadata": {
        "id": "Ffp36d2gWsDD",
        "colab_type": "text"
      },
      "cell_type": "markdown",
      "source": [
        "# Poisson Regression with StatsModels"
      ]
    },
    {
      "metadata": {
        "id": "IFeS2OEKO1xf",
        "colab_type": "text"
      },
      "cell_type": "markdown",
      "source": [
        "## Poisson Model Example\n",
        "\n",
        "**Poisson Model** describes a process where dependent variable refers to success count of many attempts and each attempt has a very low probability of success.\n",
        "\n",
        "Let's understand how to fit a Poisson regression model for a data set available at UCLA repository.\n",
        "\n",
        "The dataset contains details of a number of awards earned, type of program enrolled, and score obtained in final math exam by students at a high school."
      ]
    },
    {
      "metadata": {
        "id": "4MSCNjK0Xi56",
        "colab_type": "text"
      },
      "cell_type": "markdown",
      "source": [
        "### Loading the Dataset"
      ]
    },
    {
      "metadata": {
        "id": "7OqQREVBX6rH",
        "colab_type": "code",
        "colab": {
          "autoexec": {
            "startup": false,
            "wait_interval": 0
          },
          "base_uri": "https://localhost:8080/",
          "height": 85
        },
        "outputId": "89394057-72a3-4054-9a25-e38793e26453",
        "executionInfo": {
          "status": "ok",
          "timestamp": 1529409865617,
          "user_tz": -330,
          "elapsed": 1150,
          "user": {
            "displayName": "Praveen Ganeshan",
            "photoUrl": "//lh6.googleusercontent.com/-QmspgRZUp3M/AAAAAAAAAAI/AAAAAAAAAN0/JZIoVZouLiM/s50-c-k-no/photo.jpg",
            "userId": "115281149458293297578"
          }
        }
      },
      "cell_type": "code",
      "source": [
        "import pandas as pd\n",
        "\n",
        "awards_df = pd.read_csv(\"https://stats.idre.ucla.edu/stat/data/poisson_sim.csv\")\n",
        "\n",
        "print(awards_df.head(3))"
      ],
      "execution_count": 163,
      "outputs": [
        {
          "output_type": "stream",
          "text": [
            "    id  num_awards  prog  math\n",
            "0   45           0     3    41\n",
            "1  108           0     1    41\n",
            "2   15           0     3    44\n"
          ],
          "name": "stdout"
        }
      ]
    },
    {
      "metadata": {
        "id": "TRRnqvuVYWoT",
        "colab_type": "text"
      },
      "cell_type": "markdown",
      "source": [
        "There are three type of programs enrolled by a student : **1 - \"General\", 2 - \"Academic\", 3 - \"Vocational\"**"
      ]
    },
    {
      "metadata": {
        "id": "QgNBVgOrYsYa",
        "colab_type": "text"
      },
      "cell_type": "markdown",
      "source": [
        "### Creating the Model\n",
        "\n",
        "Now let's create a Poisson model with the patsy formula **num_awards ~ math + C(prog).**"
      ]
    },
    {
      "metadata": {
        "id": "CwZHQedCZGsC",
        "colab_type": "code",
        "colab": {
          "autoexec": {
            "startup": false,
            "wait_interval": 0
          }
        }
      },
      "cell_type": "code",
      "source": [
        "import statsmodels.formula.api as smf\n",
        "\n",
        "poisson_model = smf.poisson('num_awards ~ math + C(prog)', awards_df)"
      ],
      "execution_count": 0,
      "outputs": []
    },
    {
      "metadata": {
        "id": "cPqg60ouZH_2",
        "colab_type": "text"
      },
      "cell_type": "markdown",
      "source": [
        "**Fitting the Model**"
      ]
    },
    {
      "metadata": {
        "id": "WnZNfIc5ZLCQ",
        "colab_type": "code",
        "colab": {
          "autoexec": {
            "startup": false,
            "wait_interval": 0
          },
          "base_uri": "https://localhost:8080/",
          "height": 68
        },
        "outputId": "9a61ac16-bf98-4c53-a0ab-a69d01ba76ce",
        "executionInfo": {
          "status": "ok",
          "timestamp": 1529409867285,
          "user_tz": -330,
          "elapsed": 785,
          "user": {
            "displayName": "Praveen Ganeshan",
            "photoUrl": "//lh6.googleusercontent.com/-QmspgRZUp3M/AAAAAAAAAAI/AAAAAAAAAN0/JZIoVZouLiM/s50-c-k-no/photo.jpg",
            "userId": "115281149458293297578"
          }
        }
      },
      "cell_type": "code",
      "source": [
        "poisson_model_result = poisson_model.fit()"
      ],
      "execution_count": 165,
      "outputs": [
        {
          "output_type": "stream",
          "text": [
            "Optimization terminated successfully.\n",
            "         Current function value: 0.913761\n",
            "         Iterations 7\n"
          ],
          "name": "stdout"
        }
      ]
    },
    {
      "metadata": {
        "id": "b5hrElNfZRNX",
        "colab_type": "text"
      },
      "cell_type": "markdown",
      "source": [
        "### Viewing Model Summary"
      ]
    },
    {
      "metadata": {
        "id": "23Cvhj-xZUye",
        "colab_type": "code",
        "colab": {
          "autoexec": {
            "startup": false,
            "wait_interval": 0
          },
          "base_uri": "https://localhost:8080/",
          "height": 306
        },
        "outputId": "77103f45-40e6-4e2d-e7c8-a72ba88a0e4c",
        "executionInfo": {
          "status": "ok",
          "timestamp": 1529409868113,
          "user_tz": -330,
          "elapsed": 757,
          "user": {
            "displayName": "Praveen Ganeshan",
            "photoUrl": "//lh6.googleusercontent.com/-QmspgRZUp3M/AAAAAAAAAAI/AAAAAAAAAN0/JZIoVZouLiM/s50-c-k-no/photo.jpg",
            "userId": "115281149458293297578"
          }
        }
      },
      "cell_type": "code",
      "source": [
        "print(poisson_model_result.summary())"
      ],
      "execution_count": 166,
      "outputs": [
        {
          "output_type": "stream",
          "text": [
            "                          Poisson Regression Results                          \n",
            "==============================================================================\n",
            "Dep. Variable:             num_awards   No. Observations:                  200\n",
            "Model:                        Poisson   Df Residuals:                      196\n",
            "Method:                           MLE   Df Model:                            3\n",
            "Date:                Tue, 19 Jun 2018   Pseudo R-squ.:                  0.2118\n",
            "Time:                        12:04:27   Log-Likelihood:                -182.75\n",
            "converged:                       True   LL-Null:                       -231.86\n",
            "                                        LLR p-value:                 3.747e-21\n",
            "================================================================================\n",
            "                   coef    std err          z      P>|z|      [0.025      0.975]\n",
            "--------------------------------------------------------------------------------\n",
            "Intercept       -5.2471      0.658     -7.969      0.000      -6.538      -3.957\n",
            "C(prog)[T.2]     1.0839      0.358      3.025      0.002       0.382       1.786\n",
            "C(prog)[T.3]     0.3698      0.441      0.838      0.402      -0.495       1.234\n",
            "math             0.0702      0.011      6.619      0.000       0.049       0.091\n",
            "================================================================================\n"
          ],
          "name": "stdout"
        }
      ]
    },
    {
      "metadata": {
        "id": "XwyMgc-cZawH",
        "colab_type": "text"
      },
      "cell_type": "markdown",
      "source": [
        "### Analyzing Model Summary\n",
        "\n",
        "The coefficient for **math** variable is** 0.07**, which means for every one unit increase in **math**, the log count increases by 0.07.\n",
        "\n",
        "Having enrolled for** prog=2, i.e., \"Academic\"**, instead of \"Generic\" program, changes the log count by 1.08.\n",
        "\n",
        "Having enrolled for **prog=3, i.e., \"Vocational\"**, instead of \"Generic\" program, changes the log count by 0.37."
      ]
    },
    {
      "metadata": {
        "id": "XCx2xFa-hPSf",
        "colab_type": "text"
      },
      "cell_type": "markdown",
      "source": [
        "## HandsOn\n",
        "\n",
        "Perform the following tasks:\n",
        "\n",
        "Load the R data set **Insurance** from **MASS** package.\n",
        "\n",
        "Capture the data as **pandas data frame**.\n",
        "\n",
        "Build a Poisson regression model with a **log** of an independent variable, **Holders** and dependent variable **Claims**.\n",
        "\n",
        "**Fit** the model with data and find the **sum of residuals**."
      ]
    },
    {
      "metadata": {
        "id": "C-YGxKVUiA9Y",
        "colab_type": "code",
        "colab": {
          "autoexec": {
            "startup": false,
            "wait_interval": 0
          },
          "base_uri": "https://localhost:8080/",
          "height": 139
        },
        "outputId": "fd47ffb2-f05a-4531-e33e-8a8863e582e2",
        "executionInfo": {
          "status": "ok",
          "timestamp": 1529409869299,
          "user_tz": -330,
          "elapsed": 1127,
          "user": {
            "displayName": "Praveen Ganeshan",
            "photoUrl": "//lh6.googleusercontent.com/-QmspgRZUp3M/AAAAAAAAAAI/AAAAAAAAAN0/JZIoVZouLiM/s50-c-k-no/photo.jpg",
            "userId": "115281149458293297578"
          }
        }
      },
      "cell_type": "code",
      "source": [
        "import statsmodels.api as sm\n",
        "import pandas as pd\n",
        "import numpy as np\n",
        "import statsmodels.formula.api as smf\n",
        "\n",
        "insurance=sm.datasets.get_rdataset('Insurance','MASS')\n",
        "data=pd.DataFrame(insurance.data)\n",
        "pos_model=smf.poisson(' Claims ~ np.log(Holders)',data)\n",
        "pos_result=pos_model.fit()\n",
        "print(sum(pos_result.resid))"
      ],
      "execution_count": 167,
      "outputs": [
        {
          "output_type": "stream",
          "text": [
            "Warning: Maximum number of iterations has been exceeded.\n",
            "         Current function value: 2438780692723310424842348299382319651840164623859046154240.000000\n",
            "         Iterations: 35\n",
            "-1.5608196433429187e+59\n"
          ],
          "name": "stdout"
        },
        {
          "output_type": "stream",
          "text": [
            "/usr/local/lib/python3.6/dist-packages/statsmodels/base/model.py:496: ConvergenceWarning: Maximum Likelihood optimization failed to converge. Check mle_retvals\n",
            "  \"Check mle_retvals\", ConvergenceWarning)\n"
          ],
          "name": "stderr"
        }
      ]
    },
    {
      "metadata": {
        "id": "h6tuQVS-bDcl",
        "colab_type": "text"
      },
      "cell_type": "markdown",
      "source": [
        "# ANOVA with statsmodels\n",
        "\n",
        "Let's now understand how to perform ANOVA of a fitted regression model.\n",
        "\n",
        "For this example, let's once again consider popular **Icecream** dataset, used in **linear regression** section."
      ]
    },
    {
      "metadata": {
        "id": "yxFGnEFWbWAy",
        "colab_type": "text"
      },
      "cell_type": "markdown",
      "source": [
        "## Loading the Dataset"
      ]
    },
    {
      "metadata": {
        "id": "bN5nDI6JbbHN",
        "colab_type": "code",
        "colab": {
          "autoexec": {
            "startup": false,
            "wait_interval": 0
          }
        }
      },
      "cell_type": "code",
      "source": [
        "import statsmodels.api as sm\n",
        "\n",
        "icecream = sm.datasets.get_rdataset(\"Icecream\", \"Ecdat\")\n",
        "icecream_data = icecream.data"
      ],
      "execution_count": 0,
      "outputs": []
    },
    {
      "metadata": {
        "id": "5aKR_Egdbj7l",
        "colab_type": "text"
      },
      "cell_type": "markdown",
      "source": [
        "## Building the Model"
      ]
    },
    {
      "metadata": {
        "id": "rH9or_95bmtF",
        "colab_type": "code",
        "colab": {
          "autoexec": {
            "startup": false,
            "wait_interval": 0
          }
        }
      },
      "cell_type": "code",
      "source": [
        "import statsmodels.formula.api as smf\n",
        "\n",
        "model1 = smf.ols('cons ~ temp', icecream_data).fit()"
      ],
      "execution_count": 0,
      "outputs": []
    },
    {
      "metadata": {
        "id": "Q2a53HUTbr02",
        "colab_type": "text"
      },
      "cell_type": "markdown",
      "source": [
        "A **linear regression model **of icecream consumption with temperature is built using **ols** method.\n",
        "\n",
        "Now let's frame a null hypothesis: Value of **B1**, i.e., the coefficient of temp variable is zero."
      ]
    },
    {
      "metadata": {
        "id": "Vf72_C9hbzvT",
        "colab_type": "text"
      },
      "cell_type": "markdown",
      "source": [
        "## Creating ANOVA Table\n",
        "\n",
        "**anova_lm** method from **anova** module of **statsmodels** library can be used for performing **ANOVA**."
      ]
    },
    {
      "metadata": {
        "id": "e7yOHCEjb8WR",
        "colab_type": "code",
        "colab": {
          "autoexec": {
            "startup": false,
            "wait_interval": 0
          },
          "base_uri": "https://localhost:8080/",
          "height": 190
        },
        "outputId": "9f0d6d35-7ff7-4312-cd16-6f7410a958d9",
        "executionInfo": {
          "status": "ok",
          "timestamp": 1529409873463,
          "user_tz": -330,
          "elapsed": 1518,
          "user": {
            "displayName": "Praveen Ganeshan",
            "photoUrl": "//lh6.googleusercontent.com/-QmspgRZUp3M/AAAAAAAAAAI/AAAAAAAAAN0/JZIoVZouLiM/s50-c-k-no/photo.jpg",
            "userId": "115281149458293297578"
          }
        }
      },
      "cell_type": "code",
      "source": [
        "from statsmodels.stats import anova\n",
        "print(anova.anova_lm(model1))"
      ],
      "execution_count": 170,
      "outputs": [
        {
          "output_type": "stream",
          "text": [
            "            df    sum_sq   mean_sq         F        PR(>F)\n",
            "temp       1.0  0.075514  0.075514  42.27997  4.789215e-07\n",
            "Residual  28.0  0.050009  0.001786       NaN           NaN\n"
          ],
          "name": "stdout"
        },
        {
          "output_type": "stream",
          "text": [
            "/usr/local/lib/python3.6/dist-packages/scipy/stats/_distn_infrastructure.py:879: RuntimeWarning: invalid value encountered in greater\n",
            "  return (self.a < x) & (x < self.b)\n",
            "/usr/local/lib/python3.6/dist-packages/scipy/stats/_distn_infrastructure.py:879: RuntimeWarning: invalid value encountered in less\n",
            "  return (self.a < x) & (x < self.b)\n",
            "/usr/local/lib/python3.6/dist-packages/scipy/stats/_distn_infrastructure.py:1818: RuntimeWarning: invalid value encountered in less_equal\n",
            "  cond2 = cond0 & (x <= self.a)\n"
          ],
          "name": "stderr"
        }
      ]
    },
    {
      "metadata": {
        "id": "B87IXN_acGIW",
        "colab_type": "text"
      },
      "cell_type": "markdown",
      "source": [
        "The obtained **F-statistic **is **42.27** and has a **very low probability.**\n",
        "\n",
        "Hence, the null hypothesis can be rejected. i.e., B1 is not equal to zero"
      ]
    },
    {
      "metadata": {
        "id": "8E9AMYRHcVmF",
        "colab_type": "text"
      },
      "cell_type": "markdown",
      "source": [
        "## Building New Model\n",
        "\n",
        "Now let's create a new model with two independent variables and one response variable.\n",
        "\n",
        "With more that one independent variable, the null hypothesis is stated as Coefficients of all independent variables are zero. i.e** B1 = 0, and B2 = 0.**\n",
        "\n",
        "The alternative hypothesis will be that atleast one of the parameters** Bj != 0** where **j takes the values 1, 2, ..**."
      ]
    },
    {
      "metadata": {
        "id": "AkzojAwncqlf",
        "colab_type": "code",
        "colab": {
          "autoexec": {
            "startup": false,
            "wait_interval": 0
          }
        }
      },
      "cell_type": "code",
      "source": [
        "model2 = smf.ols('cons ~ income + temp', icecream_data).fit()"
      ],
      "execution_count": 0,
      "outputs": []
    },
    {
      "metadata": {
        "id": "n9iyvD65cjLt",
        "colab_type": "text"
      },
      "cell_type": "markdown",
      "source": [
        "## Creating ANOVA Table 1"
      ]
    },
    {
      "metadata": {
        "id": "e2a3lvdKcwN8",
        "colab_type": "code",
        "colab": {
          "autoexec": {
            "startup": false,
            "wait_interval": 0
          },
          "base_uri": "https://localhost:8080/",
          "height": 207
        },
        "outputId": "de964fff-4a43-402d-a41f-4dfc01fb0ebe",
        "executionInfo": {
          "status": "ok",
          "timestamp": 1529409875528,
          "user_tz": -330,
          "elapsed": 1139,
          "user": {
            "displayName": "Praveen Ganeshan",
            "photoUrl": "//lh6.googleusercontent.com/-QmspgRZUp3M/AAAAAAAAAAI/AAAAAAAAAN0/JZIoVZouLiM/s50-c-k-no/photo.jpg",
            "userId": "115281149458293297578"
          }
        }
      },
      "cell_type": "code",
      "source": [
        "print(anova.anova_lm(model2))"
      ],
      "execution_count": 172,
      "outputs": [
        {
          "output_type": "stream",
          "text": [
            "            df    sum_sq   mean_sq          F        PR(>F)\n",
            "income     1.0  0.000288  0.000288   0.208231  6.518069e-01\n",
            "temp       1.0  0.087836  0.087836  63.413711  1.470071e-08\n",
            "Residual  27.0  0.037399  0.001385        NaN           NaN\n"
          ],
          "name": "stdout"
        },
        {
          "output_type": "stream",
          "text": [
            "/usr/local/lib/python3.6/dist-packages/scipy/stats/_distn_infrastructure.py:879: RuntimeWarning: invalid value encountered in greater\n",
            "  return (self.a < x) & (x < self.b)\n",
            "/usr/local/lib/python3.6/dist-packages/scipy/stats/_distn_infrastructure.py:879: RuntimeWarning: invalid value encountered in less\n",
            "  return (self.a < x) & (x < self.b)\n",
            "/usr/local/lib/python3.6/dist-packages/scipy/stats/_distn_infrastructure.py:1818: RuntimeWarning: invalid value encountered in less_equal\n",
            "  cond2 = cond0 & (x <= self.a)\n"
          ],
          "name": "stderr"
        }
      ]
    },
    {
      "metadata": {
        "id": "C8x7bbh9c3Id",
        "colab_type": "text"
      },
      "cell_type": "markdown",
      "source": [
        "The above table shows **F-statistic** corresponding to each independent variable."
      ]
    },
    {
      "metadata": {
        "id": "bvpTL_NUc6ft",
        "colab_type": "text"
      },
      "cell_type": "markdown",
      "source": [
        "## Determining F-Value\n",
        "\n",
        "**F-statistic** is defined as **Mean square of model/Mean square of residuals**.\n",
        "\n",
        "Mean square of model is** sum of squares values of all variables/degrees of freedom** i.e (0.000288 + 0.087836)/2 = 0.044062.\n",
        "\n",
        "Hence, the** F-statistic** of model is **(0.044062 / 0.001385) = 31.813.**\n",
        "\n",
        "The probability of obtained F-statistic is 7.96*e-08 and is computed as shown below:"
      ]
    },
    {
      "metadata": {
        "id": "QJ3ixnVkdakG",
        "colab_type": "code",
        "colab": {
          "autoexec": {
            "startup": false,
            "wait_interval": 0
          },
          "base_uri": "https://localhost:8080/",
          "height": 34
        },
        "outputId": "e1002b17-26e3-495d-bc6c-ea8d2da0b700",
        "executionInfo": {
          "status": "ok",
          "timestamp": 1529409876342,
          "user_tz": -330,
          "elapsed": 742,
          "user": {
            "displayName": "Praveen Ganeshan",
            "photoUrl": "//lh6.googleusercontent.com/-QmspgRZUp3M/AAAAAAAAAAI/AAAAAAAAAN0/JZIoVZouLiM/s50-c-k-no/photo.jpg",
            "userId": "115281149458293297578"
          }
        }
      },
      "cell_type": "code",
      "source": [
        "print(stats.f.sf(31.81, 2, 27))"
      ],
      "execution_count": 173,
      "outputs": [
        {
          "output_type": "stream",
          "text": [
            "7.959504548627583e-08\n"
          ],
          "name": "stdout"
        }
      ]
    },
    {
      "metadata": {
        "id": "TMabRAdqdlc7",
        "colab_type": "text"
      },
      "cell_type": "markdown",
      "source": [
        "Since the **p-value** is **low**,** null hypothesis is rejected**."
      ]
    },
    {
      "metadata": {
        "id": "n4cIYSPOd44a",
        "colab_type": "text"
      },
      "cell_type": "markdown",
      "source": [
        "## Comparing Two Models\n",
        "\n",
        "ANOVA can also be used to compare two nested or related models.\n",
        "\n",
        "**model1** regresses consumption with temperature and **model2** with temperature and income.\n",
        "\n",
        "Below code verifies if the decrease in residuals sum of squares is significant or not."
      ]
    },
    {
      "metadata": {
        "id": "CMU1gVqNd-mP",
        "colab_type": "code",
        "colab": {
          "autoexec": {
            "startup": false,
            "wait_interval": 0
          },
          "base_uri": "https://localhost:8080/",
          "height": 190
        },
        "outputId": "70ce0aed-c2bb-4237-9b1d-ce5746dde8cf",
        "executionInfo": {
          "status": "ok",
          "timestamp": 1529409877392,
          "user_tz": -330,
          "elapsed": 971,
          "user": {
            "displayName": "Praveen Ganeshan",
            "photoUrl": "//lh6.googleusercontent.com/-QmspgRZUp3M/AAAAAAAAAAI/AAAAAAAAAN0/JZIoVZouLiM/s50-c-k-no/photo.jpg",
            "userId": "115281149458293297578"
          }
        }
      },
      "cell_type": "code",
      "source": [
        "print(anova.anova_lm(model1, model2))"
      ],
      "execution_count": 174,
      "outputs": [
        {
          "output_type": "stream",
          "text": [
            "   df_resid       ssr  df_diff   ss_diff         F    Pr(>F)\n",
            "0      28.0  0.050009      0.0       NaN       NaN       NaN\n",
            "1      27.0  0.037399      1.0  0.012611  9.104375  0.005506\n"
          ],
          "name": "stdout"
        },
        {
          "output_type": "stream",
          "text": [
            "/usr/local/lib/python3.6/dist-packages/scipy/stats/_distn_infrastructure.py:879: RuntimeWarning: invalid value encountered in greater\n",
            "  return (self.a < x) & (x < self.b)\n",
            "/usr/local/lib/python3.6/dist-packages/scipy/stats/_distn_infrastructure.py:879: RuntimeWarning: invalid value encountered in less\n",
            "  return (self.a < x) & (x < self.b)\n",
            "/usr/local/lib/python3.6/dist-packages/scipy/stats/_distn_infrastructure.py:1818: RuntimeWarning: invalid value encountered in less_equal\n",
            "  cond2 = cond0 & (x <= self.a)\n"
          ],
          "name": "stderr"
        }
      ]
    },
    {
      "metadata": {
        "id": "VKdWGunjeJs7",
        "colab_type": "text"
      },
      "cell_type": "markdown",
      "source": [
        "**p-value i.e 0.005** from above table suggests the decrease in residual sum of squares in **model2**, compared to **model1** is significant."
      ]
    },
    {
      "metadata": {
        "id": "0TKDqpZceReP",
        "colab_type": "text"
      },
      "cell_type": "markdown",
      "source": [
        "## HansOn\n",
        "\n",
        "Perform **ANOVA** on the **first linear model** obtained while working with **mtcars** data set.\n",
        "\n",
        "Display the **F-statistic** value."
      ]
    },
    {
      "metadata": {
        "id": "6Mxn6gcyumrz",
        "colab_type": "code",
        "colab": {
          "autoexec": {
            "startup": false,
            "wait_interval": 0
          },
          "base_uri": "https://localhost:8080/",
          "height": 156
        },
        "outputId": "6c64c939-928d-4eb0-fa52-18770cc5a35e",
        "executionInfo": {
          "status": "ok",
          "timestamp": 1529409878443,
          "user_tz": -330,
          "elapsed": 931,
          "user": {
            "displayName": "Praveen Ganeshan",
            "photoUrl": "//lh6.googleusercontent.com/-QmspgRZUp3M/AAAAAAAAAAI/AAAAAAAAAN0/JZIoVZouLiM/s50-c-k-no/photo.jpg",
            "userId": "115281149458293297578"
          }
        }
      },
      "cell_type": "code",
      "source": [
        "import statsmodels.api as sm\n",
        "import pandas as pd\n",
        "import statsmodels.formula.api as smf\n",
        "from statsmodels.stats import anova\n",
        "\n",
        "mtcars=sm.datasets.get_rdataset('mtcars')\n",
        "data=pd.DataFrame(mtcars.data)\n",
        "liner_model=smf.ols('wt ~  mpg',data)\n",
        "liner_result=liner_model.fit()\n",
        "ano=anova.anova_lm(liner_result)\n",
        "print(ano.F[0])\n",
        "#print(stats.f.sf(91.375325, 1, 30))"
      ],
      "execution_count": 175,
      "outputs": [
        {
          "output_type": "stream",
          "text": [
            "91.37532500376184\n"
          ],
          "name": "stdout"
        },
        {
          "output_type": "stream",
          "text": [
            "/usr/local/lib/python3.6/dist-packages/scipy/stats/_distn_infrastructure.py:879: RuntimeWarning: invalid value encountered in greater\n",
            "  return (self.a < x) & (x < self.b)\n",
            "/usr/local/lib/python3.6/dist-packages/scipy/stats/_distn_infrastructure.py:879: RuntimeWarning: invalid value encountered in less\n",
            "  return (self.a < x) & (x < self.b)\n",
            "/usr/local/lib/python3.6/dist-packages/scipy/stats/_distn_infrastructure.py:1818: RuntimeWarning: invalid value encountered in less_equal\n",
            "  cond2 = cond0 & (x <= self.a)\n"
          ],
          "name": "stderr"
        }
      ]
    },
    {
      "metadata": {
        "id": "sFofauHP247U",
        "colab_type": "text"
      },
      "cell_type": "markdown",
      "source": [
        "Perform **ANOVA** on the **second linear model** obtained while working with **mtcars** data set.\n",
        "\n",
        "Display the **F-statistic** value."
      ]
    },
    {
      "metadata": {
        "id": "tyk7Re_V3dfB",
        "colab_type": "code",
        "colab": {
          "autoexec": {
            "startup": false,
            "wait_interval": 0
          },
          "base_uri": "https://localhost:8080/",
          "height": 156
        },
        "outputId": "f64207bb-0e9b-4e42-c895-b27fe128b9e1",
        "executionInfo": {
          "status": "ok",
          "timestamp": 1529409879672,
          "user_tz": -330,
          "elapsed": 1154,
          "user": {
            "displayName": "Praveen Ganeshan",
            "photoUrl": "//lh6.googleusercontent.com/-QmspgRZUp3M/AAAAAAAAAAI/AAAAAAAAAN0/JZIoVZouLiM/s50-c-k-no/photo.jpg",
            "userId": "115281149458293297578"
          }
        }
      },
      "cell_type": "code",
      "source": [
        "import statsmodels.api as sm\n",
        "import pandas as pd\n",
        "import numpy as np\n",
        "import statsmodels.formula.api as smf\n",
        "from statsmodels.stats import anova\n",
        "\n",
        "mtcars=sm.datasets.get_rdataset('mtcars')\n",
        "data=pd.DataFrame(mtcars.data)\n",
        "liner_model=smf.ols('np.log(wt) ~  np.log(mpg)',data)\n",
        "liner_result=liner_model.fit()\n",
        "ano=anova.anova_lm(liner_result)\n",
        "print(ano.F[0])"
      ],
      "execution_count": 176,
      "outputs": [
        {
          "output_type": "stream",
          "text": [
            "124.35961876273966\n"
          ],
          "name": "stdout"
        },
        {
          "output_type": "stream",
          "text": [
            "/usr/local/lib/python3.6/dist-packages/scipy/stats/_distn_infrastructure.py:879: RuntimeWarning: invalid value encountered in greater\n",
            "  return (self.a < x) & (x < self.b)\n",
            "/usr/local/lib/python3.6/dist-packages/scipy/stats/_distn_infrastructure.py:879: RuntimeWarning: invalid value encountered in less\n",
            "  return (self.a < x) & (x < self.b)\n",
            "/usr/local/lib/python3.6/dist-packages/scipy/stats/_distn_infrastructure.py:1818: RuntimeWarning: invalid value encountered in less_equal\n",
            "  cond2 = cond0 & (x <= self.a)\n"
          ],
          "name": "stderr"
        }
      ]
    }
  ]
}